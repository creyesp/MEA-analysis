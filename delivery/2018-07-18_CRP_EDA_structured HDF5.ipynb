{
 "cells": [
  {
   "cell_type": "markdown",
   "metadata": {},
   "source": [
    "# Exploratory Data Analysis for structured HDF5 files \n",
    "This notebook show us how to access HDF5 data from Python.  \n",
    "\n",
    "In this case we going to use a structured HDF5 file to access to timestamps for an experiment. We going to explore Groups, Attributes and Dataset in the file and also we going to look at three examples to plot data."
   ]
  },
  {
   "cell_type": "code",
   "execution_count": 7,
   "metadata": {},
   "outputs": [],
   "source": [
    "import numpy as np\n",
    "import h5py\n",
    "import matplotlib.pyplot as plt\n",
    "\n",
    "from ipywidgets import interact, interactive, fixed, interact_manual\n",
    "import ipywidgets as widgets\n",
    "\n",
    "%matplotlib inline"
   ]
  },
  {
   "cell_type": "markdown",
   "metadata": {},
   "source": [
    "# Load Data"
   ]
  },
  {
   "cell_type": "code",
   "execution_count": 4,
   "metadata": {},
   "outputs": [],
   "source": [
    "filename = '../data/structured_data/structured_data_2018-01-25.hdf5'\n",
    "# filename = '../data/structured_data/structured_data_2018-04-18.hdf5'\n",
    "hdf_file = h5py.File(filename, 'r')"
   ]
  },
  {
   "cell_type": "markdown",
   "metadata": {},
   "source": [
    "# Groups\n",
    "Groups are the HDF5 container object, analogous to folders in a filesystem. They can hold dataset or other groups.     \n",
    "\n",
    "We can get information about the  groups using iterators of Python."
   ]
  },
  {
   "cell_type": "code",
   "execution_count": 3,
   "metadata": {
    "inputHidden": false,
    "outputHidden": false
   },
   "outputs": [
    {
     "name": "stdout",
     "output_type": "stream",
     "text": [
      "GROUP                      DESCRIPTION\n",
      "response                 : <HDF5 group \"/response\" (11 members)>\n",
      "stimulus                 : <HDF5 group \"/stimulus\" (2 members)>\n",
      "sync                     : <HDF5 group \"/sync\" (11 members)>\n"
     ]
    }
   ],
   "source": [
    "print('{:<25s}  {}'.format('GROUP','DESCRIPTION'))\n",
    "\n",
    "for name, group in hdf_file.items():\n",
    "    print('{:<25s}: {}'.format(name,group))"
   ]
  },
  {
   "cell_type": "markdown",
   "metadata": {},
   "source": [
    "File has two principal groups, **'/response'** and **'/stimulus'**. We can get information about the  subgroups usinig Dict style, hdf_file\\['response'\\].\n",
    "\n",
    "Below we get information about all subgrop in '/response' group, each subgrup in this case is a protocol."
   ]
  },
  {
   "cell_type": "code",
   "execution_count": 4,
   "metadata": {},
   "outputs": [
    {
     "name": "stdout",
     "output_type": "stream",
     "text": [
      "GROUP                      DESCRIPTION\n",
      "checkerboard             : <HDF5 group \"/response/checkerboard\" (329 members)>\n",
      "chirp                    : <HDF5 group \"/response/chirp\" (329 members)>\n",
      "natural_image            : <HDF5 group \"/response/natural_image\" (329 members)>\n",
      "natural_image_BGA        : <HDF5 group \"/response/natural_image_BGA\" (329 members)>\n",
      "natural_image_inv        : <HDF5 group \"/response/natural_image_inv\" (329 members)>\n",
      "natural_image_inv_BGA    : <HDF5 group \"/response/natural_image_inv_BGA\" (329 members)>\n",
      "natural_image_shuffle    : <HDF5 group \"/response/natural_image_shuffle\" (329 members)>\n",
      "natural_image_shuffle_BGA: <HDF5 group \"/response/natural_image_shuffle_BGA\" (329 members)>\n",
      "photopic                 : <HDF5 group \"/response/photopic\" (329 members)>\n",
      "scotopic                 : <HDF5 group \"/response/scotopic\" (329 members)>\n",
      "tail                     : <HDF5 group \"/response/tail\" (329 members)>\n"
     ]
    }
   ],
   "source": [
    "print('{:<25s}  {}'.format('GROUP','DESCRIPTION'))\n",
    "for name, group in hdf_file['/response/'].items():\n",
    "    print('{:<25s}: {}'.format(name,group))"
   ]
  },
  {
   "cell_type": "markdown",
   "metadata": {},
   "source": [
    "## Attriubutes\n",
    "Attributes describe Groups and Dataset and with this  we can get information about our data.\n",
    "\n",
    "In this example we will show the attributes of a particular protocols."
   ]
  },
  {
   "cell_type": "code",
   "execution_count": 5,
   "metadata": {},
   "outputs": [
    {
     "name": "stdout",
     "output_type": "stream",
     "text": [
      "end_time            : 66049493\n",
      "start_time          : 65447011\n",
      "duration            : 30.1241\n",
      "sample_rate         : 20000\n",
      "presentation_number : 4\n"
     ]
    }
   ],
   "source": [
    "protocol_name = '/response/natural_image'\n",
    "attrs = hdf_file[protocol_name].attrs\n",
    "for name, value in attrs.items():\n",
    "    print('{:<20}: {}'.format(name,value))"
   ]
  },
  {
   "cell_type": "markdown",
   "metadata": {},
   "source": [
    "Above we can see different attributes of the selected protocol, in this case we will choose **'duration'** and **'sample_rate'**."
   ]
  },
  {
   "cell_type": "code",
   "execution_count": 6,
   "metadata": {},
   "outputs": [],
   "source": [
    "time_stim = attrs['duration']\n",
    "sample = attrs['sample_rate']"
   ]
  },
  {
   "cell_type": "markdown",
   "metadata": {},
   "source": [
    "# Data sets\n",
    "A dataset is similar to Numpy Array and we can use 'slicing', and 'steps' using the same way \\[star:end:step\\].    \n",
    "\n",
    "Dataset and Numpy array are objets with atributs as f.size, f.shape, f.dtype.\n",
    "\n",
    "For example we can take all timestamp in a single template for the checkerboar protocol. \n"
   ]
  },
  {
   "cell_type": "code",
   "execution_count": 7,
   "metadata": {},
   "outputs": [
    {
     "name": "stdout",
     "output_type": "stream",
     "text": [
      "Some units in the protocol: \n",
      "    ['temp_0', 'temp_1', 'temp_10', 'temp_100', 'temp_101']\n",
      "\n",
      "Dataset object: \n",
      " <HDF5 dataset \"temp_0\": shape (1521,), type \"<i4\">\n",
      "Dataset values: \n",
      " [    5288    18430    19035 ... 24149634 24224862 24228015]\n"
     ]
    }
   ],
   "source": [
    "units = [unit for unit in hdf_file['/response/checkerboard']]\n",
    "\n",
    "print('Some units in the protocol: \\n    {}\\n'.format(units[:5]))\n",
    "\n",
    "dataset_path = '/response/checkerboard/temp_0'\n",
    "\n",
    "print('Dataset object: \\n '+str(hdf_file[dataset_path]))\n",
    "print('Dataset values: \\n '+str(hdf_file[dataset_path][...]))\n"
   ]
  },
  {
   "cell_type": "markdown",
   "metadata": {},
   "source": [
    "Above we can show that 'temp_0' and how we can get the array quickly."
   ]
  },
  {
   "cell_type": "markdown",
   "metadata": {},
   "source": [
    "# Examples\n",
    "\n",
    "Examples has a slider to change the unit to analize. It's a nice way to interact easyly with the data."
   ]
  },
  {
   "cell_type": "code",
   "execution_count": 6,
   "metadata": {},
   "outputs": [],
   "source": [
    "# protocol_name = '/response/chirp'\n",
    "protocol_name = '/response/natural_image'\n",
    "protocol = hdf_file[protocol_name]\n",
    "nunits = len(protocol)"
   ]
  },
  {
   "cell_type": "markdown",
   "metadata": {},
   "source": [
    "## Plot raster for a single unit"
   ]
  },
  {
   "cell_type": "code",
   "execution_count": 9,
   "metadata": {},
   "outputs": [],
   "source": [
    "def singleRaster(number_unit=0):\n",
    "    time_stim = protocol.attrs['duration']\n",
    "    sample = protocol.attrs['sample_rate']\n",
    "    \n",
    "    unit = 'temp_{}'.format(number_unit)\n",
    "    repetitions = protocol[unit]\n",
    "\n",
    "    \n",
    "    plt.figure(figsize=(10,5))\n",
    "    for kidx,krep in enumerate(repetitions):\n",
    "        data_plot = repetitions[krep][...]/sample\n",
    "        plt.plot(data_plot,kidx*np.ones_like(data_plot),marker='|',linestyle='')\n",
    "    plt.xlim([-1,time_stim+1])\n",
    "    plt.title(unit)\n",
    "    plt.xlabel('Time [s]')\n",
    "    plt.ylabel('Trials')\n",
    "    plt.show()"
   ]
  },
  {
   "cell_type": "code",
   "execution_count": 10,
   "metadata": {},
   "outputs": [
    {
     "data": {
      "image/png": "[encoded data removed]",
      "text/plain": [
       "<matplotlib.figure.Figure at 0x7f2491d585c0>"
      ]
     },
     "metadata": {},
     "output_type": "display_data"
    }
   ],
   "source": [
    "interact(singleRaster, number_unit=(0,nunits-1,1));"
   ]
  },
  {
   "cell_type": "markdown",
   "metadata": {},
   "source": [
    "## Plot psth for a single unit"
   ]
  },
  {
   "cell_type": "code",
   "execution_count": 72,
   "metadata": {},
   "outputs": [],
   "source": [
    "def singlePSTH(number_unit=0):\n",
    "    time_stim = protocol.attrs['duration']\n",
    "    sample = protocol.attrs['sample_rate']\n",
    "    \n",
    "    unit = 'temp_{}'.format(number_unit)\n",
    "    repetitions = protocol[unit]\n",
    "    \n",
    "    spikes = []\n",
    "    for ktrial,kvalues in repetitions.items():\n",
    "        spikes += list(kvalues/sample)\n",
    "\n",
    "    plt.figure(figsize=(10,5))\n",
    "    ncount,bins = np.histogram(spikes,bins=int(time_stim*100),range=(0,time_stim))\n",
    "    plt.step(bins[:-1],ncount)\n",
    "    plt.xlim([-1,time_stim+1])\n",
    "    plt.xlabel('Time [s]')\n",
    "    plt.ylabel('Firing Rate [spk/10ms]')\n",
    "    plt.show()   "
   ]
  },
  {
   "cell_type": "code",
   "execution_count": 73,
   "metadata": {},
   "outputs": [
    {
     "name": "stdout",
     "output_type": "stream",
     "text": [
      "Use the slidebar to change the unit.\n"
     ]
    },
    {
     "data": {
      "application/vnd.jupyter.widget-view+json": {
       "model_id": "6b91980b08b746079ea333c83bf881ac",
       "version_major": 2,
       "version_minor": 0
      },
      "text/html": [
       "<p>Failed to display Jupyter Widget of type <code>interactive</code>.</p>\n",
       "<p>\n",
       "  If you're reading this message in the Jupyter Notebook or JupyterLab Notebook, it may mean\n",
       "  that the widgets JavaScript is still loading. If this message persists, it\n",
       "  likely means that the widgets JavaScript library is either not installed or\n",
       "  not enabled. See the <a href=\"https://ipywidgets.readthedocs.io/en/stable/user_install.html\">Jupyter\n",
       "  Widgets Documentation</a> for setup instructions.\n",
       "</p>\n",
       "<p>\n",
       "  If you're reading this message in another frontend (for example, a static\n",
       "  rendering on GitHub or <a href=\"https://nbviewer.jupyter.org/\">NBViewer</a>),\n",
       "  it may mean that your frontend doesn't currently support widgets.\n",
       "</p>\n"
      ],
      "text/plain": [
       "interactive(children=(IntSlider(value=0, description='number_unit', max=328), Output()), _dom_classes=('widget-interact',))"
      ]
     },
     "metadata": {},
     "output_type": "display_data"
    }
   ],
   "source": [
    "print('Use the slidebar to change the unit.')\n",
    "interact(singlePSTH, number_unit=(0,nunits-1,1));"
   ]
  },
  {
   "cell_type": "markdown",
   "metadata": {},
   "source": [
    "# Response and stimulus together\n",
    "Finally we can merge the response with the stimulus to show them together.\n",
    "## Example Chirp protocol"
   ]
  },
  {
   "cell_type": "code",
   "execution_count": 5,
   "metadata": {},
   "outputs": [],
   "source": [
    "# stimulus\n",
    "stim = hdf_file['/stimulus/chirp'][...]\n",
    "stim_amp  = stim/255.0\n",
    "sr = hdf_file['/response/chirp'].attrs['sample_rate']\n",
    "stim_time = hdf_file['/sync/chirp/rep_01']\n",
    "stim_time_real = np.concatenate((stim_time[:,0],stim_time[-1:,1]))/sr\n",
    "stim_time_theor = np.linspace(0,2101/60,2101)\n",
    "\n",
    "# response\n",
    "protocol_name = '/response/chirp'\n",
    "protocol = hdf_file[protocol_name]\n",
    "nunits = len(protocol)\n",
    "sample = protocol.attrs['sample_rate']\n",
    "\n",
    "time_stim = protocol.attrs['duration']\n",
    "sample_stim = protocol.attrs['sample_rate']\n",
    "\n",
    "def plotChirp(number_unit=221):\n",
    "    unit = 'temp_{}'.format(number_unit)\n",
    "    repetitions = protocol[unit]\n",
    "    \n",
    "    # get the all timistamps from all repetitions\n",
    "    spikes = []\n",
    "    for ktrial,kvalues in repetitions.items():\n",
    "        spikes += list(kvalues/sample)\n",
    "    \n",
    "    # Plot figure\n",
    "    plt.figure(figsize=(10,5))\n",
    "    ncount,bins = np.histogram(spikes,bins=int(time_stim*100),range=(0,time_stim))\n",
    "    plt.step(bins[:-1],ncount,'g',label='Response')\n",
    "    plt.step(stim_time_real,stim_amp*15,alpha=0.5,color='b',label='Real fps')\n",
    "    plt.step(stim_time_theor,stim_amp*15,alpha=0.5,color='r',label='Theoretic fps')\n",
    "    plt.xlim([-1,time_stim+1])\n",
    "    plt.ylim([0,30])\n",
    "    plt.xlabel('Time [s]')\n",
    "    plt.ylabel('Firing Rate [spk/10ms]')\n",
    "    plt.legend()\n",
    "    plt.show()   "
   ]
  },
  {
   "cell_type": "code",
   "execution_count": 6,
   "metadata": {},
   "outputs": [
    {
     "data": {
      "application/vnd.jupyter.widget-view+json": {
       "model_id": "828c115523b6477180f7169f0013a520",
       "version_major": 2,
       "version_minor": 0
      },
      "text/html": [
       "<p>Failed to display Jupyter Widget of type <code>interactive</code>.</p>\n",
       "<p>\n",
       "  If you're reading this message in the Jupyter Notebook or JupyterLab Notebook, it may mean\n",
       "  that the widgets JavaScript is still loading. If this message persists, it\n",
       "  likely means that the widgets JavaScript library is either not installed or\n",
       "  not enabled. See the <a href=\"https://ipywidgets.readthedocs.io/en/stable/user_install.html\">Jupyter\n",
       "  Widgets Documentation</a> for setup instructions.\n",
       "</p>\n",
       "<p>\n",
       "  If you're reading this message in another frontend (for example, a static\n",
       "  rendering on GitHub or <a href=\"https://nbviewer.jupyter.org/\">NBViewer</a>),\n",
       "  it may mean that your frontend doesn't currently support widgets.\n",
       "</p>\n"
      ],
      "text/plain": [
       "interactive(children=(IntSlider(value=221, description='number_unit', max=328), Output()), _dom_classes=('widget-interact',))"
      ]
     },
     "metadata": {},
     "output_type": "display_data"
    },
    {
     "data": {
      "text/plain": [
       "<function __main__.plotChirp>"
      ]
     },
     "execution_count": 6,
     "metadata": {},
     "output_type": "execute_result"
    }
   ],
   "source": [
    "interact(plotChirp, number_unit=(0,nunits-1,1))"
   ]
  },
  {
   "cell_type": "code",
   "execution_count": 76,
   "metadata": {},
   "outputs": [],
   "source": [
    "# hdf_file.close()"
   ]
  }
 ],
 "metadata": {
  "kernel_info": {
   "name": "python3"
  },
  "kernelspec": {
   "display_name": "Python [default]",
   "language": "python",
   "name": "python3"
  },
  "language_info": {
   "codemirror_mode": {
    "name": "ipython",
    "version": 3
   },
   "file_extension": ".py",
   "mimetype": "text/x-python",
   "name": "python",
   "nbconvert_exporter": "python",
   "pygments_lexer": "ipython3",
   "version": "3.6.4"
  },
  "nteract": {
   "version": "0.9.1"
  }
 },
 "nbformat": 4,
 "nbformat_minor": 2
}
