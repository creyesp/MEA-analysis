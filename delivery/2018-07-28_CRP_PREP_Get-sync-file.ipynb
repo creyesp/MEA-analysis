{
 "cells": [
  {
   "cell_type": "markdown",
   "metadata": {},
   "source": [
    "# Preprocessing \n",
    "# Get synchronization times\n",
    "\n",
    "This notebook takes a MCD file that include the analog signal to recovery the synchronization time of all stimuli. This is very important step to analyze with pressition the response of the recording cells. \n",
    "\n",
    "This codes create some file as all synchrinization time, repeated frame time and a csv file with all relevante information about the stimuli. This last file has a list of events, a event is a sequence of together images. Each event has a field of start and end time, number of frames, total time of the event, repeted frames and time inter event."
   ]
  },
  {
   "cell_type": "code",
   "execution_count": 1,
   "metadata": {
    "nbpresent": {
     "id": "df34cfce-4fbb-462a-95b5-9ff4ec5739aa"
    }
   },
   "outputs": [],
   "source": [
    "import sys\n",
    "sys.path.append('../src')\n",
    "from lib.utils import checkDirectory\n",
    "\n",
    "from os import path, mkdir\n",
    "import numpy as np\n",
    "import pandas as pd\n",
    "import matplotlib.pyplot as plt"
   ]
  },
  {
   "cell_type": "code",
   "execution_count": 2,
   "metadata": {
    "nbpresent": {
     "id": "df34cfce-4fbb-462a-95b5-9ff4ec5739aa"
    }
   },
   "outputs": [],
   "source": [
    "\n",
    "# experiment_name = '2018-01-25'\n",
    "experiment_name = '2018-04-18'\n",
    "# experiment_name = '2016-08-11'\n",
    "# experiment_name = '2016-04-11'\n",
    "# experiment_name = '2016-09-14'\n",
    "# experiment_name = 'nn'"
   ]
  },
  {
   "cell_type": "markdown",
   "metadata": {
    "nbpresent": {
     "id": "1cc42797-c7b7-49aa-b339-b598547619c2"
    }
   },
   "source": [
    "## Get synchronization signal\n",
    "The MCD file is read from a Matlab script. There are 5 fields to run the code:   \n",
    "mcd_file: path of MCD source file \n",
    "* **output_folder**: directory to put ourputs\n",
    "* **mcd_channel**: number of analog channel in MCD file\n",
    "* **sampling_rate**: sampling rate for the recording \n",
    "* **real_fps**: the real number of frame per second on screen (look at log file)\n",
    "\n",
    "Analog signal only register the start of frame, so the finidh time in a secuence of images is extrapolate to have the correct time in the output file.\n",
    "\n",
    "Add image of analog signal...\n",
    "\n",
    "For more information look at [here](#)"
   ]
  },
  {
   "cell_type": "code",
   "execution_count": 3,
   "metadata": {
    "nbpresent": {
     "id": "ac521222-93ea-4a8e-8d4a-c3112ea2feb3"
    }
   },
   "outputs": [
    {
     "name": "stdout",
     "output_type": "stream",
     "text": [
      "ranning...\n",
      " \"cd ../src/syncAnalyzer/; syncAnalyzer('../../data/raw_data/2018-04-18/2018-04-18_analog.mcd','2018-04-18','../../data/sync/2018-04-18/',1,20000,59.7596); quit\"\n",
      "\u001b[?1h\u001b=\n",
      "                            < M A T L A B (R) >\n",
      "                  Copyright 1984-2017 The MathWorks, Inc.\n",
      "                   R2017a (9.2.0.538062) 64-bit (glnxa64)\n",
      "                             February 23, 2017\n",
      "\n",
      " \n",
      "To get started, type one of these: helpwin, helpdesk, or demo.\n",
      "For product information, visit www.mathworks.com.\n",
      " \n",
      "Neuroshare information:\n",
      "\n",
      "entity = \n",
      "\n",
      "  struct with fields:\n",
      "\n",
      "    EntityLabel: 'anlg0001 0254 0000       A3'\n",
      "     EntityType: 2\n",
      "      ItemCount: 128182000\n",
      "\n",
      "\n",
      "total_duration =\n",
      "\n",
      "   128182000\n",
      "\n",
      "../../data/sync/2018-04-18/start_end_frames_2018-04-18.txt   saved.\n",
      "../../data/sync/2018-04-18/repeated_frames_2018-04-18.txt   saved\n",
      "../../data/sync/2018-04-18/total_duration_2018-04-18.txt    saved\n",
      "OK\n",
      "\u001b[?1l\u001b>"
     ]
    }
   ],
   "source": [
    "mcd_file = '../data/raw_data/'+experiment_name+'/'+experiment_name+'_analog.mcd'\n",
    "output_folder = '../data/sync/'+experiment_name+'/'\n",
    "mcd_channel = 1\n",
    "sampling_rate = 20000\n",
    "real_fps = 59.7596\n",
    "checkDirectory(output_folder)\n",
    "\n",
    "command_matlab = \"\\\"cd ../src/syncAnalyzer/; syncAnalyzer('../{}','{}','../{}',{},{},{}); quit\\\"\"\\\n",
    "                .format( mcd_file, experiment_name, output_folder, mcd_channel,\n",
    "                        sampling_rate,real_fps)\n",
    "print('ranning...\\n ' + command_matlab)\n",
    "!matlab -nodesktop -nodisplay -nosplash -r $command_matlab"
   ]
  },
  {
   "cell_type": "markdown",
   "metadata": {
    "nbpresent": {
     "id": "5e907554-3b25-498b-b4cd-68af1fd0946c"
    }
   },
   "source": [
    "## Create event list\n",
    "From sync start_end file created above we can compute the difference between all frames and get only frames with a difference more than one frame to create a event.\n",
    "\n",
    "![Events](https://raw.githubusercontent.com/creyesp/SamplingInterface/master/Doc/img/img%20examples/analog_signal_sequence_img.png)"
   ]
  },
  {
   "cell_type": "code",
   "execution_count": 4,
   "metadata": {
    "nbpresent": {
     "id": "4f617082-09ec-495f-951e-40fc7fb9c737"
    }
   },
   "outputs": [],
   "source": [
    "# load data\n",
    "source_folder = '../data/sync/'+experiment_name+'/'\n",
    "start_end_file = source_folder+'start_end_frames_'+experiment_name+'.txt' \n",
    "total_duration_file = source_folder+'total_duration_'+experiment_name+'.txt' \n",
    "\n",
    "start_end = np.loadtxt( start_end_file , dtype='int32')-1\n",
    "total_duration = np.loadtxt( total_duration_file , dtype='int32')-1\n",
    "\n",
    "start_frame, end_frame = start_end[:,0], start_end[:,1]\n",
    "diff_time = np.diff( np.concatenate(\n",
    "            ( np.array([0]), start_frame, np.array([total_duration]) ) ))\n",
    "\n",
    "dis_frame = np.ceil(sampling_rate/real_fps) #max dist between frames\n",
    "filter_event = diff_time > dis_frame\n",
    "end_event_pos = np.where( filter_event == True )[0]\n",
    "\n",
    "# Select start and end time for each event\n",
    "start_event = start_frame[ end_event_pos[:-1] ]\n",
    "end_event = end_frame[ end_event_pos[1:] - 1 ]\n",
    "n_frames = end_event_pos[1:] - end_event_pos[:-1]\n",
    "\n",
    "# Add bound condition \n",
    "start_event_full = np.concatenate(( np.array([0]), start_event, end_event[-1:] ))\n",
    "end_event_full = np.concatenate(( start_event[:1], end_event, np.array([total_duration]) ))\n",
    "n_frames_full = np.concatenate(( np.array([0]), n_frames, np.array([0]) ))\n",
    "\n",
    "# Create a DataFrame to create a list of event\n",
    "event_list = pd.DataFrame({'start_event': start_event_full,'end_event':end_event_full,\n",
    "                               'n_frames':n_frames_full})\n",
    "\n",
    "event_list['event_duration'] = (event_list['end_event']-\n",
    "                                    event_list['start_event'])/sampling_rate\n",
    "\n",
    "inter_event_duration = event_list[['start_event','end_event']].values / sampling_rate\n",
    "event_list['inter_event_duration'] = pd.Series(inter_event_duration[1:,0] - inter_event_duration[:-1,1])\n",
    "event_list.loc[len(event_list)-1,'inter_event_duration'] = 0"
   ]
  },
  {
   "cell_type": "markdown",
   "metadata": {
    "nbpresent": {
     "id": "41bda88d-1e91-418a-b06d-01ea4a668f94"
    }
   },
   "source": [
    "## Add repeated frame in the event lists\n",
    "Some time the screen repeat one frame because the time to prepare the next frame wasn't reached and the screen show again the last frame. It should be critic in some case because the sincronization is lost in this case. If you know exactly the repeated frame you can correct the stimlulus or discart this event.\n",
    "\n",
    "<img src=\"https://raw.githubusercontent.com/creyesp/SamplingInterface/master/Doc/img/img%20examples/repeated_frame.png\" alt=\"drawing\" width=\"400px\"/>"
   ]
  },
  {
   "cell_type": "code",
   "execution_count": 5,
   "metadata": {
    "nbpresent": {
     "id": "cd2c6f13-558b-48b9-b1ca-62ee584178f3"
    }
   },
   "outputs": [],
   "source": [
    "# Load data\n",
    "repeated_file = source_folder+'repeated_frames_'+experiment_name+'.txt' \n",
    "repeated_frame_time = np.loadtxt(repeated_file, dtype='int32')\n",
    "\n",
    "event_list['repeated_frames'] = ''\n",
    "event_list['#repeated_frames'] = 0\n",
    "events = event_list[['start_event','end_event']].values\n",
    "for kidx, (kstart, kend) in enumerate(events):\n",
    "    filter_rep = (repeated_frame_time >= kstart) * (repeated_frame_time <= kend)\n",
    "    event_list.loc[kidx,'repeated_frames'] = str(repeated_frame_time[filter_rep])\n",
    "    event_list.loc[kidx,['#repeated_frames']] = len(repeated_frame_time[filter_rep])\n",
    "\n",
    "# sorted columns\n",
    "event_list = event_list[['n_frames','start_event','end_event',\n",
    "                                 'event_duration','inter_event_duration',\n",
    "\n",
    "                                 '#repeated_frames','repeated_frames']]"
   ]
  },
  {
   "cell_type": "code",
   "execution_count": 6,
   "metadata": {
    "nbpresent": {
     "id": "f7591ae6-bb74-42f6-9ccc-0c050f4716fc"
    }
   },
   "outputs": [
    {
     "data": {
      "text/html": [
       "<div>\n",
       "<style scoped>\n",
       "    .dataframe tbody tr th:only-of-type {\n",
       "        vertical-align: middle;\n",
       "    }\n",
       "\n",
       "    .dataframe tbody tr th {\n",
       "        vertical-align: top;\n",
       "    }\n",
       "\n",
       "    .dataframe thead th {\n",
       "        text-align: right;\n",
       "    }\n",
       "</style>\n",
       "<table border=\"1\" class=\"dataframe\">\n",
       "  <thead>\n",
       "    <tr style=\"text-align: right;\">\n",
       "      <th></th>\n",
       "      <th>n_frames</th>\n",
       "      <th>start_event</th>\n",
       "      <th>end_event</th>\n",
       "      <th>event_duration</th>\n",
       "      <th>inter_event_duration</th>\n",
       "      <th>#repeated_frames</th>\n",
       "      <th>repeated_frames</th>\n",
       "    </tr>\n",
       "  </thead>\n",
       "  <tbody>\n",
       "    <tr>\n",
       "      <th>0</th>\n",
       "      <td>0</td>\n",
       "      <td>0</td>\n",
       "      <td>7632254</td>\n",
       "      <td>381.61270</td>\n",
       "      <td>0.00000</td>\n",
       "      <td>0</td>\n",
       "      <td>[]</td>\n",
       "    </tr>\n",
       "    <tr>\n",
       "      <th>1</th>\n",
       "      <td>17800</td>\n",
       "      <td>7632254</td>\n",
       "      <td>13590110</td>\n",
       "      <td>297.89280</td>\n",
       "      <td>6.59590</td>\n",
       "      <td>8900</td>\n",
       "      <td>[ 7632255  7632925  7633594 ... 13588104 13588...</td>\n",
       "    </tr>\n",
       "    <tr>\n",
       "      <th>2</th>\n",
       "      <td>2100</td>\n",
       "      <td>13722028</td>\n",
       "      <td>14424921</td>\n",
       "      <td>35.14465</td>\n",
       "      <td>3.99985</td>\n",
       "      <td>0</td>\n",
       "      <td>[]</td>\n",
       "    </tr>\n",
       "    <tr>\n",
       "      <th>3</th>\n",
       "      <td>2100</td>\n",
       "      <td>14504918</td>\n",
       "      <td>15207810</td>\n",
       "      <td>35.14460</td>\n",
       "      <td>3.99985</td>\n",
       "      <td>0</td>\n",
       "      <td>[]</td>\n",
       "    </tr>\n",
       "    <tr>\n",
       "      <th>4</th>\n",
       "      <td>2100</td>\n",
       "      <td>15287807</td>\n",
       "      <td>15990700</td>\n",
       "      <td>35.14465</td>\n",
       "      <td>3.99980</td>\n",
       "      <td>0</td>\n",
       "      <td>[]</td>\n",
       "    </tr>\n",
       "    <tr>\n",
       "      <th>5</th>\n",
       "      <td>2100</td>\n",
       "      <td>16070696</td>\n",
       "      <td>16773589</td>\n",
       "      <td>35.14465</td>\n",
       "      <td>3.99985</td>\n",
       "      <td>0</td>\n",
       "      <td>[]</td>\n",
       "    </tr>\n",
       "    <tr>\n",
       "      <th>6</th>\n",
       "      <td>2100</td>\n",
       "      <td>16853586</td>\n",
       "      <td>17556478</td>\n",
       "      <td>35.14460</td>\n",
       "      <td>3.99985</td>\n",
       "      <td>0</td>\n",
       "      <td>[]</td>\n",
       "    </tr>\n",
       "    <tr>\n",
       "      <th>7</th>\n",
       "      <td>2101</td>\n",
       "      <td>17636475</td>\n",
       "      <td>18339702</td>\n",
       "      <td>35.16135</td>\n",
       "      <td>3.99985</td>\n",
       "      <td>1</td>\n",
       "      <td>[17673294]</td>\n",
       "    </tr>\n",
       "    <tr>\n",
       "      <th>8</th>\n",
       "      <td>2100</td>\n",
       "      <td>18419699</td>\n",
       "      <td>19122592</td>\n",
       "      <td>35.14465</td>\n",
       "      <td>3.99980</td>\n",
       "      <td>0</td>\n",
       "      <td>[]</td>\n",
       "    </tr>\n",
       "    <tr>\n",
       "      <th>9</th>\n",
       "      <td>2100</td>\n",
       "      <td>19202588</td>\n",
       "      <td>19905481</td>\n",
       "      <td>35.14465</td>\n",
       "      <td>3.99980</td>\n",
       "      <td>0</td>\n",
       "      <td>[]</td>\n",
       "    </tr>\n",
       "    <tr>\n",
       "      <th>10</th>\n",
       "      <td>2103</td>\n",
       "      <td>19985477</td>\n",
       "      <td>20689374</td>\n",
       "      <td>35.19485</td>\n",
       "      <td>3.99985</td>\n",
       "      <td>3</td>\n",
       "      <td>[20386797 20387132 20387467]</td>\n",
       "    </tr>\n",
       "    <tr>\n",
       "      <th>11</th>\n",
       "      <td>2100</td>\n",
       "      <td>20769371</td>\n",
       "      <td>21472264</td>\n",
       "      <td>35.14465</td>\n",
       "      <td>3.99980</td>\n",
       "      <td>0</td>\n",
       "      <td>[]</td>\n",
       "    </tr>\n",
       "    <tr>\n",
       "      <th>12</th>\n",
       "      <td>2100</td>\n",
       "      <td>21552260</td>\n",
       "      <td>22255153</td>\n",
       "      <td>35.14465</td>\n",
       "      <td>3.99980</td>\n",
       "      <td>0</td>\n",
       "      <td>[]</td>\n",
       "    </tr>\n",
       "    <tr>\n",
       "      <th>13</th>\n",
       "      <td>2100</td>\n",
       "      <td>22335149</td>\n",
       "      <td>23038042</td>\n",
       "      <td>35.14465</td>\n",
       "      <td>3.99985</td>\n",
       "      <td>0</td>\n",
       "      <td>[]</td>\n",
       "    </tr>\n",
       "    <tr>\n",
       "      <th>14</th>\n",
       "      <td>2100</td>\n",
       "      <td>23118039</td>\n",
       "      <td>23820932</td>\n",
       "      <td>35.14465</td>\n",
       "      <td>3.99980</td>\n",
       "      <td>0</td>\n",
       "      <td>[]</td>\n",
       "    </tr>\n",
       "    <tr>\n",
       "      <th>15</th>\n",
       "      <td>2100</td>\n",
       "      <td>23900928</td>\n",
       "      <td>24603821</td>\n",
       "      <td>35.14465</td>\n",
       "      <td>3.99980</td>\n",
       "      <td>0</td>\n",
       "      <td>[]</td>\n",
       "    </tr>\n",
       "    <tr>\n",
       "      <th>16</th>\n",
       "      <td>2100</td>\n",
       "      <td>24683817</td>\n",
       "      <td>25386710</td>\n",
       "      <td>35.14465</td>\n",
       "      <td>3.99985</td>\n",
       "      <td>0</td>\n",
       "      <td>[]</td>\n",
       "    </tr>\n",
       "    <tr>\n",
       "      <th>17</th>\n",
       "      <td>2100</td>\n",
       "      <td>25466707</td>\n",
       "      <td>26169599</td>\n",
       "      <td>35.14460</td>\n",
       "      <td>3.99985</td>\n",
       "      <td>0</td>\n",
       "      <td>[]</td>\n",
       "    </tr>\n",
       "    <tr>\n",
       "      <th>18</th>\n",
       "      <td>2100</td>\n",
       "      <td>26249596</td>\n",
       "      <td>26952489</td>\n",
       "      <td>35.14465</td>\n",
       "      <td>3.99980</td>\n",
       "      <td>0</td>\n",
       "      <td>[]</td>\n",
       "    </tr>\n",
       "    <tr>\n",
       "      <th>19</th>\n",
       "      <td>2100</td>\n",
       "      <td>27032485</td>\n",
       "      <td>27735378</td>\n",
       "      <td>35.14465</td>\n",
       "      <td>3.99985</td>\n",
       "      <td>0</td>\n",
       "      <td>[]</td>\n",
       "    </tr>\n",
       "    <tr>\n",
       "      <th>20</th>\n",
       "      <td>2100</td>\n",
       "      <td>27815375</td>\n",
       "      <td>28518267</td>\n",
       "      <td>35.14460</td>\n",
       "      <td>3.99985</td>\n",
       "      <td>0</td>\n",
       "      <td>[]</td>\n",
       "    </tr>\n",
       "    <tr>\n",
       "      <th>21</th>\n",
       "      <td>2100</td>\n",
       "      <td>28598264</td>\n",
       "      <td>29301157</td>\n",
       "      <td>35.14465</td>\n",
       "      <td>3.99980</td>\n",
       "      <td>0</td>\n",
       "      <td>[]</td>\n",
       "    </tr>\n",
       "    <tr>\n",
       "      <th>22</th>\n",
       "      <td>2100</td>\n",
       "      <td>29381153</td>\n",
       "      <td>30084046</td>\n",
       "      <td>35.14465</td>\n",
       "      <td>6.19490</td>\n",
       "      <td>0</td>\n",
       "      <td>[]</td>\n",
       "    </tr>\n",
       "    <tr>\n",
       "      <th>23</th>\n",
       "      <td>72002</td>\n",
       "      <td>30207944</td>\n",
       "      <td>54307821</td>\n",
       "      <td>1204.99385</td>\n",
       "      <td>6.63630</td>\n",
       "      <td>2</td>\n",
       "      <td>[34877500 39657176]</td>\n",
       "    </tr>\n",
       "    <tr>\n",
       "      <th>24</th>\n",
       "      <td>37803</td>\n",
       "      <td>54440547</td>\n",
       "      <td>67093635</td>\n",
       "      <td>632.65440</td>\n",
       "      <td>3.83255</td>\n",
       "      <td>3</td>\n",
       "      <td>[58042376 62221245 62221580]</td>\n",
       "    </tr>\n",
       "    <tr>\n",
       "      <th>25</th>\n",
       "      <td>37804</td>\n",
       "      <td>67170286</td>\n",
       "      <td>79823707</td>\n",
       "      <td>632.67105</td>\n",
       "      <td>3.17435</td>\n",
       "      <td>4</td>\n",
       "      <td>[73470556 73470890 73471225 73471560]</td>\n",
       "    </tr>\n",
       "    <tr>\n",
       "      <th>26</th>\n",
       "      <td>37803</td>\n",
       "      <td>79887194</td>\n",
       "      <td>92540280</td>\n",
       "      <td>632.65430</td>\n",
       "      <td>4.10900</td>\n",
       "      <td>3</td>\n",
       "      <td>[84901168 84901503 84901838]</td>\n",
       "    </tr>\n",
       "    <tr>\n",
       "      <th>27</th>\n",
       "      <td>6300</td>\n",
       "      <td>92622460</td>\n",
       "      <td>94731140</td>\n",
       "      <td>105.43400</td>\n",
       "      <td>4.20365</td>\n",
       "      <td>0</td>\n",
       "      <td>[]</td>\n",
       "    </tr>\n",
       "    <tr>\n",
       "      <th>28</th>\n",
       "      <td>6301</td>\n",
       "      <td>94815213</td>\n",
       "      <td>96924228</td>\n",
       "      <td>105.45075</td>\n",
       "      <td>4.15360</td>\n",
       "      <td>1</td>\n",
       "      <td>[95146913]</td>\n",
       "    </tr>\n",
       "    <tr>\n",
       "      <th>29</th>\n",
       "      <td>6300</td>\n",
       "      <td>97007300</td>\n",
       "      <td>99115980</td>\n",
       "      <td>105.43400</td>\n",
       "      <td>6.97030</td>\n",
       "      <td>0</td>\n",
       "      <td>[]</td>\n",
       "    </tr>\n",
       "    <tr>\n",
       "      <th>30</th>\n",
       "      <td>6300</td>\n",
       "      <td>99255386</td>\n",
       "      <td>101364065</td>\n",
       "      <td>105.43395</td>\n",
       "      <td>8.77230</td>\n",
       "      <td>0</td>\n",
       "      <td>[]</td>\n",
       "    </tr>\n",
       "    <tr>\n",
       "      <th>31</th>\n",
       "      <td>6300</td>\n",
       "      <td>101539511</td>\n",
       "      <td>103648191</td>\n",
       "      <td>105.43400</td>\n",
       "      <td>4.02725</td>\n",
       "      <td>0</td>\n",
       "      <td>[]</td>\n",
       "    </tr>\n",
       "    <tr>\n",
       "      <th>32</th>\n",
       "      <td>6300</td>\n",
       "      <td>103728736</td>\n",
       "      <td>105837416</td>\n",
       "      <td>105.43400</td>\n",
       "      <td>10.40415</td>\n",
       "      <td>0</td>\n",
       "      <td>[]</td>\n",
       "    </tr>\n",
       "    <tr>\n",
       "      <th>33</th>\n",
       "      <td>6300</td>\n",
       "      <td>106045499</td>\n",
       "      <td>108154179</td>\n",
       "      <td>105.43400</td>\n",
       "      <td>7.44565</td>\n",
       "      <td>0</td>\n",
       "      <td>[]</td>\n",
       "    </tr>\n",
       "    <tr>\n",
       "      <th>34</th>\n",
       "      <td>6300</td>\n",
       "      <td>108303092</td>\n",
       "      <td>110411772</td>\n",
       "      <td>105.43400</td>\n",
       "      <td>6.59980</td>\n",
       "      <td>0</td>\n",
       "      <td>[]</td>\n",
       "    </tr>\n",
       "    <tr>\n",
       "      <th>35</th>\n",
       "      <td>6300</td>\n",
       "      <td>110543768</td>\n",
       "      <td>112652448</td>\n",
       "      <td>105.43400</td>\n",
       "      <td>3.53910</td>\n",
       "      <td>0</td>\n",
       "      <td>[]</td>\n",
       "    </tr>\n",
       "    <tr>\n",
       "      <th>36</th>\n",
       "      <td>6300</td>\n",
       "      <td>112723230</td>\n",
       "      <td>114831910</td>\n",
       "      <td>105.43400</td>\n",
       "      <td>5.83515</td>\n",
       "      <td>0</td>\n",
       "      <td>[]</td>\n",
       "    </tr>\n",
       "    <tr>\n",
       "      <th>37</th>\n",
       "      <td>6301</td>\n",
       "      <td>114948613</td>\n",
       "      <td>117057628</td>\n",
       "      <td>105.45075</td>\n",
       "      <td>9.64290</td>\n",
       "      <td>1</td>\n",
       "      <td>[117020142]</td>\n",
       "    </tr>\n",
       "    <tr>\n",
       "      <th>38</th>\n",
       "      <td>6300</td>\n",
       "      <td>117250486</td>\n",
       "      <td>119359166</td>\n",
       "      <td>105.43400</td>\n",
       "      <td>3.74980</td>\n",
       "      <td>0</td>\n",
       "      <td>[]</td>\n",
       "    </tr>\n",
       "    <tr>\n",
       "      <th>39</th>\n",
       "      <td>6300</td>\n",
       "      <td>119434162</td>\n",
       "      <td>121542842</td>\n",
       "      <td>105.43400</td>\n",
       "      <td>5.25785</td>\n",
       "      <td>0</td>\n",
       "      <td>[]</td>\n",
       "    </tr>\n",
       "    <tr>\n",
       "      <th>40</th>\n",
       "      <td>1</td>\n",
       "      <td>121647999</td>\n",
       "      <td>121648333</td>\n",
       "      <td>0.01670</td>\n",
       "      <td>1.94010</td>\n",
       "      <td>0</td>\n",
       "      <td>[]</td>\n",
       "    </tr>\n",
       "    <tr>\n",
       "      <th>41</th>\n",
       "      <td>6300</td>\n",
       "      <td>121687135</td>\n",
       "      <td>123795815</td>\n",
       "      <td>105.43400</td>\n",
       "      <td>3.69420</td>\n",
       "      <td>0</td>\n",
       "      <td>[]</td>\n",
       "    </tr>\n",
       "    <tr>\n",
       "      <th>42</th>\n",
       "      <td>6300</td>\n",
       "      <td>123869699</td>\n",
       "      <td>125978378</td>\n",
       "      <td>105.43395</td>\n",
       "      <td>3.67345</td>\n",
       "      <td>0</td>\n",
       "      <td>[]</td>\n",
       "    </tr>\n",
       "    <tr>\n",
       "      <th>43</th>\n",
       "      <td>6301</td>\n",
       "      <td>126051847</td>\n",
       "      <td>128160862</td>\n",
       "      <td>105.45075</td>\n",
       "      <td>0.00000</td>\n",
       "      <td>1</td>\n",
       "      <td>[127444581]</td>\n",
       "    </tr>\n",
       "    <tr>\n",
       "      <th>44</th>\n",
       "      <td>0</td>\n",
       "      <td>128160862</td>\n",
       "      <td>128181999</td>\n",
       "      <td>1.05685</td>\n",
       "      <td>0.00000</td>\n",
       "      <td>0</td>\n",
       "      <td>[]</td>\n",
       "    </tr>\n",
       "  </tbody>\n",
       "</table>\n",
       "</div>"
      ],
      "text/plain": [
       "    n_frames  start_event  end_event  event_duration  inter_event_duration  \\\n",
       "0          0            0    7632254       381.61270               0.00000   \n",
       "1      17800      7632254   13590110       297.89280               6.59590   \n",
       "2       2100     13722028   14424921        35.14465               3.99985   \n",
       "3       2100     14504918   15207810        35.14460               3.99985   \n",
       "4       2100     15287807   15990700        35.14465               3.99980   \n",
       "5       2100     16070696   16773589        35.14465               3.99985   \n",
       "6       2100     16853586   17556478        35.14460               3.99985   \n",
       "7       2101     17636475   18339702        35.16135               3.99985   \n",
       "8       2100     18419699   19122592        35.14465               3.99980   \n",
       "9       2100     19202588   19905481        35.14465               3.99980   \n",
       "10      2103     19985477   20689374        35.19485               3.99985   \n",
       "11      2100     20769371   21472264        35.14465               3.99980   \n",
       "12      2100     21552260   22255153        35.14465               3.99980   \n",
       "13      2100     22335149   23038042        35.14465               3.99985   \n",
       "14      2100     23118039   23820932        35.14465               3.99980   \n",
       "15      2100     23900928   24603821        35.14465               3.99980   \n",
       "16      2100     24683817   25386710        35.14465               3.99985   \n",
       "17      2100     25466707   26169599        35.14460               3.99985   \n",
       "18      2100     26249596   26952489        35.14465               3.99980   \n",
       "19      2100     27032485   27735378        35.14465               3.99985   \n",
       "20      2100     27815375   28518267        35.14460               3.99985   \n",
       "21      2100     28598264   29301157        35.14465               3.99980   \n",
       "22      2100     29381153   30084046        35.14465               6.19490   \n",
       "23     72002     30207944   54307821      1204.99385               6.63630   \n",
       "24     37803     54440547   67093635       632.65440               3.83255   \n",
       "25     37804     67170286   79823707       632.67105               3.17435   \n",
       "26     37803     79887194   92540280       632.65430               4.10900   \n",
       "27      6300     92622460   94731140       105.43400               4.20365   \n",
       "28      6301     94815213   96924228       105.45075               4.15360   \n",
       "29      6300     97007300   99115980       105.43400               6.97030   \n",
       "30      6300     99255386  101364065       105.43395               8.77230   \n",
       "31      6300    101539511  103648191       105.43400               4.02725   \n",
       "32      6300    103728736  105837416       105.43400              10.40415   \n",
       "33      6300    106045499  108154179       105.43400               7.44565   \n",
       "34      6300    108303092  110411772       105.43400               6.59980   \n",
       "35      6300    110543768  112652448       105.43400               3.53910   \n",
       "36      6300    112723230  114831910       105.43400               5.83515   \n",
       "37      6301    114948613  117057628       105.45075               9.64290   \n",
       "38      6300    117250486  119359166       105.43400               3.74980   \n",
       "39      6300    119434162  121542842       105.43400               5.25785   \n",
       "40         1    121647999  121648333         0.01670               1.94010   \n",
       "41      6300    121687135  123795815       105.43400               3.69420   \n",
       "42      6300    123869699  125978378       105.43395               3.67345   \n",
       "43      6301    126051847  128160862       105.45075               0.00000   \n",
       "44         0    128160862  128181999         1.05685               0.00000   \n",
       "\n",
       "    #repeated_frames                                    repeated_frames  \n",
       "0                  0                                                 []  \n",
       "1               8900  [ 7632255  7632925  7633594 ... 13588104 13588...  \n",
       "2                  0                                                 []  \n",
       "3                  0                                                 []  \n",
       "4                  0                                                 []  \n",
       "5                  0                                                 []  \n",
       "6                  0                                                 []  \n",
       "7                  1                                         [17673294]  \n",
       "8                  0                                                 []  \n",
       "9                  0                                                 []  \n",
       "10                 3                       [20386797 20387132 20387467]  \n",
       "11                 0                                                 []  \n",
       "12                 0                                                 []  \n",
       "13                 0                                                 []  \n",
       "14                 0                                                 []  \n",
       "15                 0                                                 []  \n",
       "16                 0                                                 []  \n",
       "17                 0                                                 []  \n",
       "18                 0                                                 []  \n",
       "19                 0                                                 []  \n",
       "20                 0                                                 []  \n",
       "21                 0                                                 []  \n",
       "22                 0                                                 []  \n",
       "23                 2                                [34877500 39657176]  \n",
       "24                 3                       [58042376 62221245 62221580]  \n",
       "25                 4              [73470556 73470890 73471225 73471560]  \n",
       "26                 3                       [84901168 84901503 84901838]  \n",
       "27                 0                                                 []  \n",
       "28                 1                                         [95146913]  \n",
       "29                 0                                                 []  \n",
       "30                 0                                                 []  \n",
       "31                 0                                                 []  \n",
       "32                 0                                                 []  \n",
       "33                 0                                                 []  \n",
       "34                 0                                                 []  \n",
       "35                 0                                                 []  \n",
       "36                 0                                                 []  \n",
       "37                 1                                        [117020142]  \n",
       "38                 0                                                 []  \n",
       "39                 0                                                 []  \n",
       "40                 0                                                 []  \n",
       "41                 0                                                 []  \n",
       "42                 0                                                 []  \n",
       "43                 1                                        [127444581]  \n",
       "44                 0                                                 []  "
      ]
     },
     "execution_count": 6,
     "metadata": {},
     "output_type": "execute_result"
    }
   ],
   "source": [
    "filter_frame = event_list['n_frames'] > -1\n",
    "event_list[filter_frame]"
   ]
  },
  {
   "cell_type": "markdown",
   "metadata": {
    "nbpresent": {
     "id": "388da3c6-1946-4911-b343-1e90f7146663"
    }
   },
   "source": [
    "**Note:** The times in event_duration have small differences with the theoric times, it's because the theorical FPS of the projector is different to the real FPS.   \n",
    "\n",
    "For example, projector show theorically 60 FPS but the real FPS is 59.7523. Please ckeck it in the log file. \n",
    "* 2100 images to 60 [fps] = 35 [s]\n",
    "* 2100 images to 59.7523 [fps] = 35.145 [s]\n",
    "The differences could be significant!"
   ]
  },
  {
   "cell_type": "markdown",
   "metadata": {
    "nbpresent": {
     "id": "905c51ce-b7fc-42a2-815e-67f73a5fcce4"
    }
   },
   "source": [
    "## Save to csv file"
   ]
  },
  {
   "cell_type": "code",
   "execution_count": 7,
   "metadata": {
    "nbpresent": {
     "id": "ba993558-2913-411f-9703-a6263efe7453"
    }
   },
   "outputs": [],
   "source": [
    "output_folder = '../data/sync/'+experiment_name+'/event_list/'\n",
    "checkDirectory(output_folder)\n",
    "event_list['protocol_name']= ''\n",
    "event_list['repetition_name']= ''\n",
    "event_list.to_csv(output_folder+'event_list_'+experiment_name+'_.csv',index=False)"
   ]
  },
  {
   "cell_type": "markdown",
   "metadata": {
    "nbpresent": {
     "id": "e5ba239a-4260-412c-84c7-f021d8607ac0"
    }
   },
   "source": [
    "## Create separated sync files\n",
    "For each event we can create a separated sync file using event information in csv. Before you have check the csv file and remove all false positive and all you should write the name of events to do more easy understand them. \n",
    "\n",
    "Create a definitive version removing the last underscore name. '*_.csv' -> '*.csv'"
   ]
  },
  {
   "cell_type": "code",
   "execution_count": 70,
   "metadata": {
    "nbpresent": {
     "id": "db739b01-c18b-4e98-a437-d562b7392b66"
    }
   },
   "outputs": [
    {
     "name": "stdout",
     "output_type": "stream",
     "text": [
      "../data/sync/2018-01-25/event_list/times/000.txt\n",
      "../data/sync/2018-01-25/event_list/times/001.txt\n",
      "../data/sync/2018-01-25/event_list/times/002.txt\n",
      "../data/sync/2018-01-25/event_list/times/003.txt\n",
      "../data/sync/2018-01-25/event_list/times/004.txt\n",
      "../data/sync/2018-01-25/event_list/times/005.txt\n",
      "../data/sync/2018-01-25/event_list/times/006.txt\n",
      "../data/sync/2018-01-25/event_list/times/007.txt\n",
      "../data/sync/2018-01-25/event_list/times/008.txt\n",
      "../data/sync/2018-01-25/event_list/times/009.txt\n",
      "../data/sync/2018-01-25/event_list/times/010.txt\n",
      "../data/sync/2018-01-25/event_list/times/011.txt\n",
      "../data/sync/2018-01-25/event_list/times/012.txt\n",
      "../data/sync/2018-01-25/event_list/times/013.txt\n",
      "../data/sync/2018-01-25/event_list/times/014.txt\n",
      "../data/sync/2018-01-25/event_list/times/015.txt\n",
      "../data/sync/2018-01-25/event_list/times/016.txt\n",
      "../data/sync/2018-01-25/event_list/times/017.txt\n",
      "../data/sync/2018-01-25/event_list/times/018.txt\n",
      "../data/sync/2018-01-25/event_list/times/019.txt\n",
      "../data/sync/2018-01-25/event_list/times/020.txt\n",
      "../data/sync/2018-01-25/event_list/times/021.txt\n",
      "../data/sync/2018-01-25/event_list/times/022.txt\n",
      "../data/sync/2018-01-25/event_list/times/023.txt\n",
      "../data/sync/2018-01-25/event_list/times/024.txt\n",
      "../data/sync/2018-01-25/event_list/times/025.txt\n",
      "../data/sync/2018-01-25/event_list/times/026.txt\n",
      "../data/sync/2018-01-25/event_list/times/027.txt\n",
      "../data/sync/2018-01-25/event_list/times/028.txt\n",
      "../data/sync/2018-01-25/event_list/times/029.txt\n",
      "../data/sync/2018-01-25/event_list/times/030.txt\n",
      "../data/sync/2018-01-25/event_list/times/031.txt\n",
      "../data/sync/2018-01-25/event_list/times/032.txt\n",
      "../data/sync/2018-01-25/event_list/times/033.txt\n",
      "../data/sync/2018-01-25/event_list/times/034.txt\n",
      "../data/sync/2018-01-25/event_list/times/035.txt\n",
      "../data/sync/2018-01-25/event_list/times/036.txt\n",
      "../data/sync/2018-01-25/event_list/times/037.txt\n",
      "../data/sync/2018-01-25/event_list/times/038.txt\n",
      "../data/sync/2018-01-25/event_list/times/039.txt\n",
      "../data/sync/2018-01-25/event_list/times/040.txt\n",
      "../data/sync/2018-01-25/event_list/times/041.txt\n",
      "../data/sync/2018-01-25/event_list/times/042.txt\n",
      "../data/sync/2018-01-25/event_list/times/043.txt\n",
      "../data/sync/2018-01-25/event_list/times/044.txt\n",
      "../data/sync/2018-01-25/event_list/times/045.txt\n",
      "../data/sync/2018-01-25/event_list/times/046.txt\n",
      "../data/sync/2018-01-25/event_list/times/047.txt\n",
      "../data/sync/2018-01-25/event_list/times/048.txt\n",
      "../data/sync/2018-01-25/event_list/times/049.txt\n",
      "../data/sync/2018-01-25/event_list/times/050.txt\n",
      "../data/sync/2018-01-25/event_list/times/051.txt\n",
      "../data/sync/2018-01-25/event_list/times/052.txt\n",
      "../data/sync/2018-01-25/event_list/times/053.txt\n",
      "../data/sync/2018-01-25/event_list/times/054.txt\n",
      "../data/sync/2018-01-25/event_list/times/055.txt\n",
      "../data/sync/2018-01-25/event_list/times/056.txt\n",
      "../data/sync/2018-01-25/event_list/times/057.txt\n",
      "../data/sync/2018-01-25/event_list/times/058.txt\n",
      "../data/sync/2018-01-25/event_list/times/059.txt\n",
      "../data/sync/2018-01-25/event_list/times/060.txt\n",
      "../data/sync/2018-01-25/event_list/times/061.txt\n",
      "../data/sync/2018-01-25/event_list/times/062.txt\n",
      "../data/sync/2018-01-25/event_list/times/063.txt\n",
      "../data/sync/2018-01-25/event_list/times/064.txt\n",
      "../data/sync/2018-01-25/event_list/times/065.txt\n",
      "../data/sync/2018-01-25/event_list/times/066.txt\n",
      "../data/sync/2018-01-25/event_list/times/067.txt\n",
      "../data/sync/2018-01-25/event_list/times/068.txt\n",
      "../data/sync/2018-01-25/event_list/times/069.txt\n",
      "../data/sync/2018-01-25/event_list/times/070.txt\n",
      "../data/sync/2018-01-25/event_list/times/071.txt\n",
      "../data/sync/2018-01-25/event_list/times/072.txt\n",
      "../data/sync/2018-01-25/event_list/times/073.txt\n",
      "../data/sync/2018-01-25/event_list/times/074.txt\n",
      "../data/sync/2018-01-25/event_list/times/075.txt\n",
      "../data/sync/2018-01-25/event_list/times/076.txt\n",
      "../data/sync/2018-01-25/event_list/times/077.txt\n",
      "../data/sync/2018-01-25/event_list/times/078.txt\n",
      "../data/sync/2018-01-25/event_list/times/079.txt\n",
      "../data/sync/2018-01-25/event_list/times/080.txt\n",
      "../data/sync/2018-01-25/event_list/times/081.txt\n",
      "../data/sync/2018-01-25/event_list/times/082.txt\n",
      "../data/sync/2018-01-25/event_list/times/083.txt\n",
      "../data/sync/2018-01-25/event_list/times/084.txt\n",
      "../data/sync/2018-01-25/event_list/times/085.txt\n",
      "../data/sync/2018-01-25/event_list/times/086.txt\n",
      "../data/sync/2018-01-25/event_list/times/087.txt\n",
      "../data/sync/2018-01-25/event_list/times/088.txt\n",
      "../data/sync/2018-01-25/event_list/times/089.txt\n",
      "../data/sync/2018-01-25/event_list/times/090.txt\n",
      "../data/sync/2018-01-25/event_list/times/091.txt\n",
      "../data/sync/2018-01-25/event_list/times/092.txt\n",
      "../data/sync/2018-01-25/event_list/times/093.txt\n",
      "../data/sync/2018-01-25/event_list/times/094.txt\n",
      "../data/sync/2018-01-25/event_list/times/095.txt\n",
      "../data/sync/2018-01-25/event_list/times/096.txt\n",
      "../data/sync/2018-01-25/event_list/times/097.txt\n",
      "../data/sync/2018-01-25/event_list/times/098.txt\n",
      "../data/sync/2018-01-25/event_list/times/099.txt\n",
      "../data/sync/2018-01-25/event_list/times/100.txt\n",
      "../data/sync/2018-01-25/event_list/times/101.txt\n",
      "../data/sync/2018-01-25/event_list/times/102.txt\n",
      "../data/sync/2018-01-25/event_list/times/103.txt\n",
      "../data/sync/2018-01-25/event_list/times/104.txt\n",
      "../data/sync/2018-01-25/event_list/times/105.txt\n",
      "../data/sync/2018-01-25/event_list/times/106.txt\n",
      "../data/sync/2018-01-25/event_list/times/107.txt\n",
      "../data/sync/2018-01-25/event_list/times/108.txt\n",
      "../data/sync/2018-01-25/event_list/times/109.txt\n",
      "../data/sync/2018-01-25/event_list/times/110.txt\n",
      "../data/sync/2018-01-25/event_list/times/111.txt\n",
      "../data/sync/2018-01-25/event_list/times/112.txt\n",
      "../data/sync/2018-01-25/event_list/times/113.txt\n",
      "../data/sync/2018-01-25/event_list/times/114.txt\n",
      "../data/sync/2018-01-25/event_list/times/115.txt\n",
      "../data/sync/2018-01-25/event_list/times/116.txt\n",
      "../data/sync/2018-01-25/event_list/times/117.txt\n",
      "../data/sync/2018-01-25/event_list/times/118.txt\n",
      "../data/sync/2018-01-25/event_list/times/119.txt\n",
      "../data/sync/2018-01-25/event_list/times/120.txt\n",
      "../data/sync/2018-01-25/event_list/times/121.txt\n",
      "../data/sync/2018-01-25/event_list/times/122.txt\n",
      "../data/sync/2018-01-25/event_list/times/123.txt\n",
      "../data/sync/2018-01-25/event_list/times/124.txt\n",
      "../data/sync/2018-01-25/event_list/times/125.txt\n",
      "../data/sync/2018-01-25/event_list/times/126.txt\n",
      "../data/sync/2018-01-25/event_list/times/127.txt\n",
      "../data/sync/2018-01-25/event_list/times/128.txt\n",
      "../data/sync/2018-01-25/event_list/times/129.txt\n",
      "../data/sync/2018-01-25/event_list/times/130.txt\n",
      "../data/sync/2018-01-25/event_list/times/131.txt\n",
      "../data/sync/2018-01-25/event_list/times/132.txt\n",
      "../data/sync/2018-01-25/event_list/times/133.txt\n",
      "../data/sync/2018-01-25/event_list/times/134.txt\n",
      "../data/sync/2018-01-25/event_list/times/135.txt\n",
      "../data/sync/2018-01-25/event_list/times/136.txt\n",
      "../data/sync/2018-01-25/event_list/times/137.txt\n",
      "../data/sync/2018-01-25/event_list/times/138.txt\n",
      "../data/sync/2018-01-25/event_list/times/139.txt\n",
      "../data/sync/2018-01-25/event_list/times/140.txt\n",
      "../data/sync/2018-01-25/event_list/times/141.txt\n",
      "../data/sync/2018-01-25/event_list/times/142.txt\n",
      "../data/sync/2018-01-25/event_list/times/143.txt\n",
      "../data/sync/2018-01-25/event_list/times/144.txt\n",
      "../data/sync/2018-01-25/event_list/times/145.txt\n",
      "../data/sync/2018-01-25/event_list/times/146.txt\n",
      "../data/sync/2018-01-25/event_list/times/147.txt\n",
      "../data/sync/2018-01-25/event_list/times/148.txt\n",
      "../data/sync/2018-01-25/event_list/times/149.txt\n",
      "../data/sync/2018-01-25/event_list/times/150.txt\n"
     ]
    }
   ],
   "source": [
    "source_folder = '../data/sync/'+experiment_name+'/'\n",
    "output_folder = '../data/sync/'+experiment_name+'/event_list/times/'\n",
    "checkDirectory(output_folder)\n",
    "\n",
    "event_file = source_folder+'event_list/event_list_'+experiment_name+'.csv'\n",
    "start_end_file = source_folder+'start_end_frames_'+experiment_name+'.txt' \n",
    "\n",
    "# Load data\n",
    "event_list_def = pd.read_csv(event_file)\n",
    "start_end = np.loadtxt( start_end_file , dtype='int32')-1\n",
    "\n",
    "pointer = start_end\n",
    "for kidx, (kstart,kend) in enumerate(event_list_def[['start_event','end_event']].values):\n",
    "    filter_frame = (pointer[:,0] >= kstart) * (pointer[:,0] < kend) \n",
    "    start_end_event = pointer[filter_frame]\n",
    "    np.savetxt(output_folder+'{:03d}.txt'.format(kidx),start_end_event,fmt='%d')\n",
    "    print(output_folder+'{:03d}.txt'.format(kidx))\n",
    "    pointer = pointer[~filter_frame]\n",
    "    "
   ]
  }
 ],
 "metadata": {
  "kernelspec": {
   "display_name": "Python [conda env:anaconda3]",
   "language": "python",
   "name": "conda-env-anaconda3-py"
  },
  "language_info": {
   "codemirror_mode": {
    "name": "ipython",
    "version": 3
   },
   "file_extension": ".py",
   "mimetype": "text/x-python",
   "name": "python",
   "nbconvert_exporter": "python",
   "pygments_lexer": "ipython3",
   "version": "3.6.4"
  },
  "nbpresent": {
   "slides": {
    "1141a327-2300-4de4-9baf-8970b1afed98": {
     "id": "1141a327-2300-4de4-9baf-8970b1afed98",
     "prev": "b71e4610-2f36-4dd1-86df-7f010908c437",
     "regions": {
      "4e522dd4-f269-4bbd-9a6d-a609ba8ec423": {
       "attrs": {
        "height": 0.8,
        "width": 0.8,
        "x": 0.1,
        "y": 0.1
       },
       "content": {
        "cell": "10293e9d-a8bc-4ed8-a900-767a4a1fa0d3",
        "part": "whole"
       },
       "id": "4e522dd4-f269-4bbd-9a6d-a609ba8ec423"
      }
     }
    },
    "1fffe9fb-914f-4510-ab88-db8ff331bfea": {
     "id": "1fffe9fb-914f-4510-ab88-db8ff331bfea",
     "prev": "b5944355-ed1a-438f-b3e4-a04b5d5c4c6f",
     "regions": {
      "8228da2c-522e-438b-a3b2-147b5294e7eb": {
       "attrs": {
        "height": 0.8,
        "width": 0.8,
        "x": 0.1,
        "y": 0.1
       },
       "content": {
        "cell": "ac521222-93ea-4a8e-8d4a-c3112ea2feb3",
        "part": "whole"
       },
       "id": "8228da2c-522e-438b-a3b2-147b5294e7eb"
      }
     }
    },
    "29ee7641-e306-4246-b16f-3ae6361d9dd6": {
     "id": "29ee7641-e306-4246-b16f-3ae6361d9dd6",
     "prev": "e551858e-8222-4359-bf85-d30423b7987e",
     "regions": {
      "48f91d29-27a9-4043-a2c6-45ce1379877b": {
       "attrs": {
        "height": 0.8,
        "width": 0.8,
        "x": 0.1,
        "y": 0.1
       },
       "content": {
        "cell": "5584ee43-56ff-4c51-9b5d-ac885f2db2dc",
        "part": "whole"
       },
       "id": "48f91d29-27a9-4043-a2c6-45ce1379877b"
      }
     }
    },
    "40242b1e-16a0-4f8e-95f6-e2112a16f2e4": {
     "id": "40242b1e-16a0-4f8e-95f6-e2112a16f2e4",
     "prev": null,
     "regions": {}
    },
    "567052ca-c7b1-46c6-a8b0-41ee5cae0a9c": {
     "id": "567052ca-c7b1-46c6-a8b0-41ee5cae0a9c",
     "prev": "1fffe9fb-914f-4510-ab88-db8ff331bfea",
     "regions": {
      "2aa0e521-86e3-4229-91d7-ede3c759ce30": {
       "attrs": {
        "height": 0.8,
        "width": 0.8,
        "x": 0.1,
        "y": 0.1
       },
       "content": null,
       "id": "2aa0e521-86e3-4229-91d7-ede3c759ce30"
      }
     }
    },
    "705cd611-7e1e-4f4a-b276-919c315e8c66": {
     "id": "705cd611-7e1e-4f4a-b276-919c315e8c66",
     "prev": "aa4c76d4-b69a-4d13-bdab-6227028bbf9b",
     "regions": {
      "4a75d6c4-4d47-49b8-8b43-7da216ed82a2": {
       "attrs": {
        "height": 0.8,
        "width": 0.8,
        "x": 0.1,
        "y": 0.1
       },
       "content": {
        "cell": "e5ba239a-4260-412c-84c7-f021d8607ac0",
        "part": "whole"
       },
       "id": "4a75d6c4-4d47-49b8-8b43-7da216ed82a2"
      }
     }
    },
    "a6cb9c5f-6aee-4a6e-955b-f386abc5629b": {
     "id": "a6cb9c5f-6aee-4a6e-955b-f386abc5629b",
     "prev": "baa1a5e5-8314-44dd-9cfa-5f843ced5ee9",
     "regions": {
      "1747036e-7dea-4dfe-aff6-d77022dba13c": {
       "attrs": {
        "height": 0.8,
        "width": 0.8,
        "x": 0.1,
        "y": 0.1
       },
       "content": {
        "cell": "cd2c6f13-558b-48b9-b1ca-62ee584178f3",
        "part": "whole"
       },
       "id": "1747036e-7dea-4dfe-aff6-d77022dba13c"
      }
     }
    },
    "aa4c76d4-b69a-4d13-bdab-6227028bbf9b": {
     "id": "aa4c76d4-b69a-4d13-bdab-6227028bbf9b",
     "prev": "b81e2039-4afe-44f7-b70b-e47eba34e510",
     "regions": {
      "88d7ef01-01b8-486f-b589-bc4b10ac06f9": {
       "attrs": {
        "height": 0.8,
        "width": 0.8,
        "x": 0.1,
        "y": 0.1
       },
       "content": {
        "cell": "388da3c6-1946-4911-b343-1e90f7146663",
        "part": "whole"
       },
       "id": "88d7ef01-01b8-486f-b589-bc4b10ac06f9"
      }
     }
    },
    "b5944355-ed1a-438f-b3e4-a04b5d5c4c6f": {
     "id": "b5944355-ed1a-438f-b3e4-a04b5d5c4c6f",
     "prev": "40242b1e-16a0-4f8e-95f6-e2112a16f2e4",
     "regions": {
      "127eec25-6152-4f53-8895-274161b965e4": {
       "attrs": {
        "height": 0.8,
        "width": 0.8,
        "x": 0.1,
        "y": 0.1
       },
       "content": {
        "cell": "1cc42797-c7b7-49aa-b339-b598547619c2",
        "part": "whole"
       },
       "id": "127eec25-6152-4f53-8895-274161b965e4"
      }
     }
    },
    "b71e4610-2f36-4dd1-86df-7f010908c437": {
     "id": "b71e4610-2f36-4dd1-86df-7f010908c437",
     "prev": "ca680496-49f9-4d28-a612-53c9ee5d9a82",
     "regions": {
      "960d7449-3647-400c-a606-f1c380a6a814": {
       "attrs": {
        "height": 0.8,
        "width": 0.8,
        "x": 0.1,
        "y": 0.1
       },
       "content": {
        "cell": "929b0d74-f4b8-4227-a9b4-29daa2adc4d1",
        "part": "whole"
       },
       "id": "960d7449-3647-400c-a606-f1c380a6a814"
      }
     }
    },
    "b81e2039-4afe-44f7-b70b-e47eba34e510": {
     "id": "b81e2039-4afe-44f7-b70b-e47eba34e510",
     "prev": "e1ea1c1d-e69a-4a66-89b1-c636c6e55ab3",
     "regions": {
      "273de47b-7a2e-440f-94af-8c40a734ec26": {
       "attrs": {
        "height": 0.8,
        "width": 0.8,
        "x": 0.1,
        "y": 0.1
       },
       "content": {
        "cell": "ba993558-2913-411f-9703-a6263efe7453",
        "part": "whole"
       },
       "id": "273de47b-7a2e-440f-94af-8c40a734ec26"
      }
     }
    },
    "baa1a5e5-8314-44dd-9cfa-5f843ced5ee9": {
     "id": "baa1a5e5-8314-44dd-9cfa-5f843ced5ee9",
     "prev": "f98728cd-4ce4-4ac8-9dbd-5d36a694eb9c",
     "regions": {
      "65909c35-33dc-4e98-85b1-a9b7220cb455": {
       "attrs": {
        "height": 0.8,
        "width": 0.8,
        "x": 0.1,
        "y": 0.1
       },
       "content": {
        "cell": "41bda88d-1e91-418a-b06d-01ea4a668f94",
        "part": "whole"
       },
       "id": "65909c35-33dc-4e98-85b1-a9b7220cb455"
      }
     }
    },
    "bdbdcec2-117a-44e3-a1c0-2b177bac3ea2": {
     "id": "bdbdcec2-117a-44e3-a1c0-2b177bac3ea2",
     "prev": "705cd611-7e1e-4f4a-b276-919c315e8c66",
     "regions": {
      "98e28b1c-4628-4b37-8618-04016f9ab6d9": {
       "attrs": {
        "height": 0.8,
        "width": 0.8,
        "x": 0.1,
        "y": 0.1
       },
       "content": {
        "cell": "db739b01-c18b-4e98-a437-d562b7392b66",
        "part": "whole"
       },
       "id": "98e28b1c-4628-4b37-8618-04016f9ab6d9"
      }
     }
    },
    "bf894d2d-ea40-455b-99bb-2e1b3428f43d": {
     "id": "bf894d2d-ea40-455b-99bb-2e1b3428f43d",
     "prev": "567052ca-c7b1-46c6-a8b0-41ee5cae0a9c",
     "regions": {
      "a4f02053-bca2-4fe4-b990-24d1faa168ef": {
       "attrs": {
        "height": 0.8,
        "width": 0.8,
        "x": 0.1,
        "y": 0.1
       },
       "content": {
        "cell": "5e907554-3b25-498b-b4cd-68af1fd0946c",
        "part": "whole"
       },
       "id": "a4f02053-bca2-4fe4-b990-24d1faa168ef"
      }
     }
    },
    "ca680496-49f9-4d28-a612-53c9ee5d9a82": {
     "id": "ca680496-49f9-4d28-a612-53c9ee5d9a82",
     "prev": "db62692a-8a48-4687-8fb2-456b078ddb42",
     "regions": {
      "cfea3221-62c3-4795-a8d4-14e2f1d20cf9": {
       "attrs": {
        "height": 0.8,
        "width": 0.8,
        "x": 0.1,
        "y": 0.1
       },
       "content": {
        "cell": "7f015a80-04dc-4543-804c-f92caf9f9d25",
        "part": "whole"
       },
       "id": "cfea3221-62c3-4795-a8d4-14e2f1d20cf9"
      }
     }
    },
    "db62692a-8a48-4687-8fb2-456b078ddb42": {
     "id": "db62692a-8a48-4687-8fb2-456b078ddb42",
     "prev": "29ee7641-e306-4246-b16f-3ae6361d9dd6",
     "regions": {
      "e32217be-2bfd-4e16-a506-78a748ad182c": {
       "attrs": {
        "height": 0.8,
        "width": 0.8,
        "x": 0.1,
        "y": 0.1
       },
       "content": {
        "cell": "bc05d0c1-aa6e-4150-b114-c139a2345e69",
        "part": "whole"
       },
       "id": "e32217be-2bfd-4e16-a506-78a748ad182c"
      }
     }
    },
    "e1ea1c1d-e69a-4a66-89b1-c636c6e55ab3": {
     "id": "e1ea1c1d-e69a-4a66-89b1-c636c6e55ab3",
     "prev": "e8fe0cd1-9c38-4977-85e8-0bfce535ddbe",
     "regions": {
      "65246fa1-470d-4d38-b799-53267130a848": {
       "attrs": {
        "height": 0.8,
        "width": 0.8,
        "x": 0.1,
        "y": 0.1
       },
       "content": {
        "cell": "905c51ce-b7fc-42a2-815e-67f73a5fcce4",
        "part": "whole"
       },
       "id": "65246fa1-470d-4d38-b799-53267130a848"
      }
     }
    },
    "e551858e-8222-4359-bf85-d30423b7987e": {
     "id": "e551858e-8222-4359-bf85-d30423b7987e",
     "prev": "bdbdcec2-117a-44e3-a1c0-2b177bac3ea2",
     "regions": {
      "cf26bc08-ccbc-4e35-bda1-2e3c5191dda5": {
       "attrs": {
        "height": 0.8,
        "width": 0.8,
        "x": 0.1,
        "y": 0.1
       },
       "content": {
        "cell": "bcca384f-c40f-49c8-88e0-20827d897605",
        "part": "whole"
       },
       "id": "cf26bc08-ccbc-4e35-bda1-2e3c5191dda5"
      }
     }
    },
    "e8fe0cd1-9c38-4977-85e8-0bfce535ddbe": {
     "id": "e8fe0cd1-9c38-4977-85e8-0bfce535ddbe",
     "prev": "a6cb9c5f-6aee-4a6e-955b-f386abc5629b",
     "regions": {
      "2b1b3394-02dd-4ff0-8af2-7af755580ec0": {
       "attrs": {
        "height": 0.8,
        "width": 0.8,
        "x": 0.1,
        "y": 0.1
       },
       "content": {
        "cell": "f7591ae6-bb74-42f6-9ccc-0c050f4716fc",
        "part": "whole"
       },
       "id": "2b1b3394-02dd-4ff0-8af2-7af755580ec0"
      }
     }
    },
    "f98728cd-4ce4-4ac8-9dbd-5d36a694eb9c": {
     "id": "f98728cd-4ce4-4ac8-9dbd-5d36a694eb9c",
     "prev": "bf894d2d-ea40-455b-99bb-2e1b3428f43d",
     "regions": {
      "1fa88d51-c72e-4b7f-8af9-c6d934e9870f": {
       "attrs": {
        "height": 0.8,
        "width": 0.8,
        "x": 0.1,
        "y": 0.1
       },
       "content": {
        "cell": "4f617082-09ec-495f-951e-40fc7fb9c737",
        "part": "whole"
       },
       "id": "1fa88d51-c72e-4b7f-8af9-c6d934e9870f"
      }
     }
    }
   },
   "themes": {}
  }
 },
 "nbformat": 4,
 "nbformat_minor": 2
}
