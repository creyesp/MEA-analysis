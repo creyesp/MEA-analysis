{
 "cells": [
  {
   "cell_type": "markdown",
   "metadata": {},
   "source": [
    "# Convert .mat file to hdf5 python format\n",
    "\n",
    "This notebook take original stim file of the checkerboard, add repeated frame for a particular experiment and create a hdf5 file. The output axis are (frame, y, x, channel).\n",
    "\n",
    "Note:\n",
    "\n",
    " * HDF5 describes data set dimensions in **row-major order**; MATLAB stores data in **column-major order**.For example, if Matlab (Fortran) writes a 35x31x3x100 four-dimensional dataset to the file, a Python (wrote in C) program will read it as a 100x3x31x35 four-dimensional dataset from memory. \n",
    " * Scipy.io.loadmat only soppourt version of mat file less than 7.3. To read version 7.3 we need to read as hdf5 file.   \n",
    " * Scipy.io.loadmat transfor data to **row-major order** but keep the same axis orden that MATLAB\n"
   ]
  },
  {
   "cell_type": "code",
   "execution_count": 2,
   "metadata": {},
   "outputs": [],
   "source": [
    "import sys\n",
    "\n",
    "import h5py\n",
    "import matplotlib.pyplot as plt\n",
    "from scipy.io import loadmat\n",
    "\n",
    "sys.path.append('../src')\n",
    "from mealib.stimulus import correct_checkerboard\n",
    "from mealib.utils import check_directory\n",
    "\n",
    "%matplotlib notebook"
   ]
  },
  {
   "cell_type": "markdown",
   "metadata": {},
   "source": [
    "\n",
    "inputs:   \n",
    "* **stim_file** : stim in .mat format\n",
    "* **sync_file** : txt file to checkerboar_file with start and end time. To generate this file use [Get-sync notebook](./2018-07-28_CRP_PREP_Get-sync-file.ipynb)\n",
    "* **repeated_file** : txt file with all repeated frame To generate this file use [Get-sync notebook](./2018-07-28_CRP_PREP_Get-sync-file.ipynb)\n",
    "* **outputfile** : full path to save converted stimulus\n"
   ]
  },
  {
   "cell_type": "code",
   "execution_count": 5,
   "metadata": {},
   "outputs": [],
   "source": [
    "exp_name = 'MR-0242'\n",
    "checkerboar_file = '023.txt'\n",
    "\n",
    "stim_file = '../data/stim/checkerboard/' + exp_name + '.mat'    \n",
    "sync_file = '../data/sync/' + exp_name + '/event_list/' + checkerboar_file\n",
    "repeated_file  =  '../data/sync/' + exp_name + '/repeated_frames_' + exp_name + '.txt'\n",
    "outputfolder = '../data/stim/checkerboard/'\n",
    "outputfile = outputfolder+'stim_mini_' + exp_name + '_.hdf5'\n",
    "check_directory(outputfolder)"
   ]
  },
  {
   "cell_type": "code",
   "execution_count": 4,
   "metadata": {},
   "outputs": [
    {
     "name": "stdout",
     "output_type": "stream",
     "text": [
      "Shape for checkerboar file: (72000, 35, 35, 3)\n",
      "Repeated frame [13951, 28231]\n"
     ]
    }
   ],
   "source": [
    "correct_checkerboard(sync_file, repeated_file, outputfile, stim_file)"
   ]
  },
  {
   "cell_type": "markdown",
   "metadata": {},
   "source": [
    "# Check the correct convertion "
   ]
  },
  {
   "cell_type": "markdown",
   "metadata": {},
   "source": [
    "## Load Data from log file and new stim file"
   ]
  },
  {
   "cell_type": "code",
   "execution_count": 4,
   "metadata": {},
   "outputs": [
    {
     "name": "stdout",
     "output_type": "stream",
     "text": [
      "('First Image: ', dtype('uint8'), (420, 420, 3, 3))\n",
      "('Stim Image: ', dtype('uint8'), (72002, 35, 35, 3))\n"
     ]
    }
   ],
   "source": [
    "# Load First image from log file\n",
    "first_img_file = '../data/raw_data/MR-0242/log/Exp__2018_04_18-13.31.24-Whitenoise_35x35_20min/FirstImages_1.mat'\n",
    "corrected_file = outputfile\n",
    "\n",
    "first_img = loadmat(first_img_file)['fi']\n",
    "print('First Image: ',first_img.dtype,first_img.shape)\n",
    "\n",
    "# Load corrected stim file\n",
    "with h5py.File(corrected_file,'r') as stim:\n",
    "    print('Stim Image: ',stim['checkerboard'].dtype, stim['checkerboard'].shape)\n",
    "    corrected_stim = stim['checkerboard'][:3]"
   ]
  },
  {
   "cell_type": "markdown",
   "metadata": {},
   "source": [
    "## Plot first images"
   ]
  },
  {
   "cell_type": "code",
   "execution_count": 21,
   "metadata": {},
   "outputs": [
    {
     "data": {
      "image/png": "[encoded data removed]",
      "text/plain": [
       "<Figure size 432x288 with 2 Axes>"
      ]
     },
     "metadata": {
      "needs_background": "light"
     },
     "output_type": "display_data"
    }
   ],
   "source": [
    "idx_img = 0\n",
    "\n",
    "plt.figure()\n",
    "plt.subplot(1,2,1).set_title('Matlab image {}'.format(idx_img))\n",
    "plt.imshow(first_img[...,idx_img])\n",
    "plt.xlabel('pixels')\n",
    "plt.ylabel('pixels')\n",
    "plt.subplot(1,2,2).set_title('HDF5 image {}'.format(idx_img))\n",
    "plt.imshow(corrected_stim[idx_img])\n",
    "plt.xlabel('blocks')\n",
    "plt.ylabel('blocks')\n",
    "plt.tight_layout()\n",
    "# plt.savefig('../figures/first_image_checkerboar.png')"
   ]
  }
 ],
 "metadata": {
  "kernelspec": {
   "display_name": "Python [conda env:sync]",
   "language": "python",
   "name": "conda-env-sync-py"
  },
  "language_info": {
   "codemirror_mode": {
    "name": "ipython",
    "version": 2
   },
   "file_extension": ".py",
   "mimetype": "text/x-python",
   "name": "python",
   "nbconvert_exporter": "python",
   "pygments_lexer": "ipython2",
   "version": "2.7.15"
  },
  "toc": {
   "base_numbering": 1,
   "nav_menu": {},
   "number_sections": true,
   "sideBar": true,
   "skip_h1_title": false,
   "title_cell": "Table of Contents",
   "title_sidebar": "Contents",
   "toc_cell": false,
   "toc_position": {},
   "toc_section_display": true,
   "toc_window_display": false
  },
  "varInspector": {
   "cols": {
    "lenName": 16,
    "lenType": 16,
    "lenVar": 40
   },
   "kernels_config": {
    "python": {
     "delete_cmd_postfix": "",
     "delete_cmd_prefix": "del ",
     "library": "var_list.py",
     "varRefreshCmd": "print(var_dic_list())"
    },
    "r": {
     "delete_cmd_postfix": ") ",
     "delete_cmd_prefix": "rm(",
     "library": "var_list.r",
     "varRefreshCmd": "cat(var_dic_list()) "
    }
   },
   "position": {
    "height": "145px",
    "left": "1198.25px",
    "right": "143px",
    "top": "126px",
    "width": "350px"
   },
   "types_to_exclude": [
    "module",
    "function",
    "builtin_function_or_method",
    "instance",
    "_Feature"
   ],
   "window_display": false
  }
 },
 "nbformat": 4,
 "nbformat_minor": 2
}
