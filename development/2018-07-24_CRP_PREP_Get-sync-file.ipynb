{
 "cells": [
  {
   "cell_type": "markdown",
   "metadata": {},
   "source": [
    "# Pre-processing - Get synchronization times\n",
    "\n",
    "This notebook create a file with times of the stimuli for a particular record."
   ]
  },
  {
   "cell_type": "code",
   "execution_count": 1,
   "metadata": {},
   "outputs": [],
   "source": [
    "# import sys\n",
    "# sys.path.append('../src')\n",
    "from mealib.utils import checkDirectory\n",
    "from mealib.preprocessing import Sync\n",
    "\n",
    "import numpy as np\n",
    "import pandas as pd\n",
    "import matplotlib.pyplot as plt\n",
    "%matplotlib notebook \n",
    "\n",
    "# experiment_name = '0007ABC032_264DR'\n",
    "# experiment_name = 'MR-0262'\n",
    "experiment_name = 'uerg'\n",
    "\n",
    "mcd_file = '../data/raw_data/'+experiment_name+'/'+experiment_name+'_analog.mcd'\n",
    "# mcd_file = '../data/raw_data/chirp_droga/'+experiment_name+'_analog.mcd'\n",
    "output_folder = '../data/sync/'+experiment_name+'/'\n",
    "checkDirectory(output_folder)\n",
    "\n",
    "real_fps = 59.7694\n",
    "\n"
   ]
  },
  {
   "cell_type": "markdown",
   "metadata": {
    "nbpresent": {
     "id": "1cc42797-c7b7-49aa-b339-b598547619c2"
    }
   },
   "source": [
    "# Get synchronization signal\n",
    "## Matlab script"
   ]
  },
  {
   "cell_type": "raw",
   "metadata": {},
   "source": [
    "mcd_file = '../data/raw_data/'+experiment_name+'/'+experiment_name+'_analog.mcd'\n",
    "output_folder = '../data/sync/'+experiment_name+'/'\n",
    "mcd_channel = 1\n",
    "sampling_rate = 20000.0\n",
    "real_fps = 59.7694\n",
    "checkDirectory(output_folder)\n",
    "\n",
    "command_matlab = \"\\\"cd ../src/syncAnalyzer/; syncAnalyzer('../{}','{}','../{}',{},{},{}); quit\\\"\"\\\n",
    "                .format( mcd_file, experiment_name, output_folder, mcd_channel,\n",
    "                        sampling_rate,real_fps)\n",
    "print(command_matlab)\n",
    "!matlab -nodesktop -nodisplay -nosplash -r $command_matlab"
   ]
  },
  {
   "cell_type": "markdown",
   "metadata": {},
   "source": [
    "## python function"
   ]
  },
  {
   "cell_type": "code",
   "execution_count": 2,
   "metadata": {},
   "outputs": [
    {
     "name": "stdout",
     "output_type": "stream",
     "text": [
      "Entities in MCD file.\n",
      "index:  \t label:  \t entity_type: \n",
      "0000: elec0001 0000 0000      R12 type: 2\n",
      "0001: elec0001 0001 0001      L10 type: 2\n",
      "0002: elec0001 0002 0002      O10 type: 2\n",
      "0003: elec0001 0003 0003      P11 type: 2\n",
      "0004: elec0001 0004 0004       L9 type: 2\n",
      "0005: elec0001 0005 0005       N9 type: 2\n",
      "0006: elec0001 0006 0006       M8 type: 2\n",
      "0007: elec0001 0007 0007       R8 type: 2\n",
      "0008: elec0001 0008 0008       O6 type: 2\n",
      "0009: elec0001 0009 0009       N7 type: 2\n",
      "0010: elec0001 0010 0010       R4 type: 2\n",
      "0011: elec0001 0011 0011       P5 type: 2\n",
      "0012: elec0001 0012 0012       R2 type: 2\n",
      "0013: elec0001 0013 0013       M5 type: 2\n",
      "0014: elec0001 0014 0014       K6 type: 2\n",
      "0015: elec0001 0015 0015       I8 type: 2\n",
      "0016: elec0001 0016 0016       L2 type: 2\n",
      "0017: elec0001 0017 0017       M1 type: 2\n",
      "0018: elec0001 0018 0018       I4 type: 2\n",
      "0019: elec0001 0019 0019       K3 type: 2\n",
      "0020: elec0001 0020 0020       H1 type: 2\n",
      "0021: elec0001 0021 0021       I6 type: 2\n",
      "0022: elec0001 0022 0022       G4 type: 2\n",
      "0023: elec0001 0023 0023       H5 type: 2\n",
      "0024: elec0001 0024 0024       E2 type: 2\n",
      "0025: elec0001 0025 0025       F3 type: 2\n",
      "0026: elec0001 0026 0026      N13 type: 2\n",
      "0027: elec0001 0027 0027      O14 type: 2\n",
      "0028: elec0001 0028 0028      R13 type: 2\n",
      "0029: elec0001 0029 0029      L11 type: 2\n",
      "0030: elec0001 0030 0030      O11 type: 2\n",
      "0031: elec0001 0031 0031      P12 type: 2\n",
      "0032: elec0001 0032 0032       M9 type: 2\n",
      "0033: elec0001 0033 0033      N10 type: 2\n",
      "0034: elec0001 0034 0034       L8 type: 2\n",
      "0035: elec0001 0035 0035       R9 type: 2\n",
      "0036: elec0001 0036 0036       O7 type: 2\n",
      "0037: elec0001 0037 0037       N8 type: 2\n",
      "0038: elec0001 0038 0038       R5 type: 2\n",
      "0039: elec0001 0039 0039       P6 type: 2\n",
      "0040: elec0001 0040 0040       K7 type: 2\n",
      "0041: elec0001 0041 0041       L7 type: 2\n",
      "0042: elec0001 0042 0042       N4 type: 2\n",
      "0043: elec0001 0043 0043       O3 type: 2\n",
      "0044: elec0001 0044 0044       N1 type: 2\n",
      "0045: elec0001 0045 0045       L6 type: 2\n",
      "0046: elec0001 0046 0046       L3 type: 2\n",
      "0047: elec0001 0047 0047       M2 type: 2\n",
      "0048: elec0001 0048 0048       I5 type: 2\n",
      "0049: elec0001 0049 0049       K4 type: 2\n",
      "0050: elec0001 0050 0050       H6 type: 2\n",
      "0051: elec0001 0051 0051       I1 type: 2\n",
      "0052: elec0001 0052 0052       G3 type: 2\n",
      "0053: elec0001 0053 0053       H4 type: 2\n",
      "0054: elec0001 0054 0054       E1 type: 2\n",
      "0055: elec0001 0055 0055       F2 type: 2\n",
      "0056: elec0001 0056 0056      K13 type: 2\n",
      "0057: elec0001 0057 0057      L16 type: 2\n",
      "0058: elec0001 0058 0058      I12 type: 2\n",
      "0059: elec0001 0059 0059      K15 type: 2\n",
      "0060: elec0001 0060 0060      I16 type: 2\n",
      "0061: elec0001 0061 0061      I14 type: 2\n",
      "0062: elec0001 0062 0062      K10 type: 2\n",
      "0063: elec0001 0063 0063      O16 type: 2\n",
      "0064: elec0001 0064 0064      R14 type: 2\n",
      "0065: elec0001 0065 0065      R15 type: 2\n",
      "0066: elec0001 0066 0066      O12 type: 2\n",
      "0067: elec0001 0067 0067      P13 type: 2\n",
      "0068: elec0001 0068 0068      M10 type: 2\n",
      "0069: elec0001 0069 0069      N11 type: 2\n",
      "0070: elec0001 0070 0070       P9 type: 2\n",
      "0071: elec0001 0071 0071      R10 type: 2\n",
      "0072: elec0001 0072 0072       O8 type: 2\n",
      "0073: elec0001 0073 0073       K8 type: 2\n",
      "0074: elec0001 0074 0074       R6 type: 2\n",
      "0075: elec0001 0075 0075       P7 type: 2\n",
      "0076: elec0001 0076 0076       N5 type: 2\n",
      "0077: elec0001 0077 0077       M6 type: 2\n",
      "0078: elec0001 0078 0078       P3 type: 2\n",
      "0079: elec0001 0079 0079       O4 type: 2\n",
      "0080: elec0001 0080 0080       O1 type: 2\n",
      "0081: elec0001 0081 0081       P1 type: 2\n",
      "0082: elec0001 0082 0082       M3 type: 2\n",
      "0083: elec0001 0083 0083       N2 type: 2\n",
      "0084: elec0001 0084 0084       K5 type: 2\n",
      "0085: elec0001 0085 0085       L4 type: 2\n",
      "0086: elec0001 0086 0086       I2 type: 2\n",
      "0087: elec0001 0087 0087       K1 type: 2\n",
      "0088: elec0001 0088 0088       H3 type: 2\n",
      "0089: elec0001 0089 0089       H7 type: 2\n",
      "0090: elec0001 0090 0090       F1 type: 2\n",
      "0091: elec0001 0091 0091       G2 type: 2\n",
      "0092: elec0001 0092 0092       E4 type: 2\n",
      "0093: elec0001 0093 0093       F5 type: 2\n",
      "0094: elec0001 0094 0094      P14 type: 2\n",
      "0095: elec0001 0095 0095      P15 type: 2\n",
      "0096: elec0001 0096 0096      N12 type: 2\n",
      "0097: elec0001 0097 0097      O13 type: 2\n",
      "0098: elec0001 0098 0098      R11 type: 2\n",
      "0099: elec0001 0099 0099      M11 type: 2\n",
      "0100: elec0001 0100 0100       O9 type: 2\n",
      "0101: elec0001 0101 0101      P10 type: 2\n",
      "0102: elec0001 0102 0102       P8 type: 2\n",
      "0103: elec0001 0103 0103       K9 type: 2\n",
      "0104: elec0001 0104 0104       M7 type: 2\n",
      "0105: elec0001 0105 0105       R7 type: 2\n",
      "0106: elec0001 0106 0106       O5 type: 2\n",
      "0107: elec0001 0107 0107       N6 type: 2\n",
      "0108: elec0001 0108 0108       R3 type: 2\n",
      "0109: elec0001 0109 0109       P4 type: 2\n",
      "0110: elec0001 0110 0110       O2 type: 2\n",
      "0111: elec0001 0111 0111       P2 type: 2\n",
      "0112: elec0001 0112 0112       M4 type: 2\n",
      "0113: elec0001 0113 0113       N3 type: 2\n",
      "0114: elec0001 0114 0114       L1 type: 2\n",
      "0115: elec0001 0115 0115       L5 type: 2\n",
      "0116: elec0001 0116 0116       I3 type: 2\n",
      "0117: elec0001 0117 0117       K2 type: 2\n",
      "0118: elec0001 0118 0118       H2 type: 2\n",
      "0119: elec0001 0119 0119       I7 type: 2\n",
      "0120: elec0001 0120 0120       G5 type: 2\n",
      "0121: elec0001 0121 0121       G1 type: 2\n",
      "0122: elec0001 0122 0122       E3 type: 2\n",
      "0123: elec0001 0123 0123       F4 type: 2\n",
      "0124: elec0001 0124 0124       I9 type: 2\n",
      "0125: elec0001 0125 0125      P16 type: 2\n",
      "0126: elec0001 0128 0126       H8 type: 2\n",
      "0127: elec0001 0129 0127       B1 type: 2\n",
      "0128: elec0001 0130 0128       A5 type: 2\n",
      "0129: elec0001 0131 0129       F7 type: 2\n",
      "0130: elec0001 0132 0130       C7 type: 2\n",
      "0131: elec0001 0133 0131       B6 type: 2\n",
      "0132: elec0001 0134 0132       F8 type: 2\n",
      "0133: elec0001 0135 0133       D8 type: 2\n",
      "0134: elec0001 0136 0134       E9 type: 2\n",
      "0135: elec0001 0137 0135       A9 type: 2\n",
      "0136: elec0001 0138 0136      C11 type: 2\n",
      "0137: elec0001 0139 0137      D10 type: 2\n",
      "0138: elec0001 0140 0138      A15 type: 2\n",
      "0139: elec0001 0141 0139      E12 type: 2\n",
      "0140: elec0001 0142 0140      A13 type: 2\n",
      "0141: elec0001 0143 0141      B12 type: 2\n",
      "0142: elec0001 0144 0142      F13 type: 2\n",
      "0143: elec0001 0145 0143      K16 type: 2\n",
      "0144: elec0001 0146 0144      E16 type: 2\n",
      "0145: elec0001 0147 0145      I15 type: 2\n",
      "0146: elec0001 0148 0146      I13 type: 2\n",
      "0147: elec0001 0149 0147      H10 type: 2\n",
      "0148: elec0001 0150 0148      I11 type: 2\n",
      "0149: elec0001 0151 0149      H14 type: 2\n",
      "0150: elec0001 0152 0150      H12 type: 2\n",
      "0151: elec0001 0153 0151      H16 type: 2\n",
      "0152: elec0001 0154 0152       G7 type: 2\n",
      "0153: elec0001 0155 0153       G6 type: 2\n",
      "0154: elec0001 0156 0154       D4 type: 2\n",
      "0155: elec0001 0157 0155       C3 type: 2\n",
      "0156: elec0001 0158 0156       A4 type: 2\n",
      "0157: elec0001 0159 0157       F6 type: 2\n",
      "0158: elec0001 0160 0158       C6 type: 2\n",
      "0159: elec0001 0161 0159       B5 type: 2\n",
      "0160: elec0001 0162 0160       E8 type: 2\n",
      "0161: elec0001 0163 0161       D7 type: 2\n",
      "0162: elec0001 0164 0162       F9 type: 2\n",
      "0163: elec0001 0165 0163       A8 type: 2\n",
      "0164: elec0001 0166 0164      C10 type: 2\n",
      "0165: elec0001 0167 0165       D9 type: 2\n",
      "0166: elec0001 0168 0166      A12 type: 2\n",
      "0167: elec0001 0169 0167      B11 type: 2\n",
      "0168: elec0001 0170 0168      D13 type: 2\n",
      "0169: elec0001 0171 0169      C14 type: 2\n",
      "0170: elec0001 0172 0170      G10 type: 2\n",
      "0171: elec0001 0173 0171      F10 type: 2\n",
      "0172: elec0001 0174 0172      G13 type: 2\n",
      "0173: elec0001 0175 0173      G15 type: 2\n",
      "0174: elec0001 0176 0174      F14 type: 2\n",
      "0175: elec0001 0177 0175      F16 type: 2\n",
      "0176: elec0001 0178 0176      E15 type: 2\n",
      "0177: elec0001 0179 0177      F12 type: 2\n",
      "0178: elec0001 0180 0178      D16 type: 2\n",
      "0179: elec0001 0181 0179      E13 type: 2\n",
      "0180: elec0001 0182 0180      F11 type: 2\n",
      "0181: elec0001 0183 0181      D14 type: 2\n",
      "0182: elec0001 0184 0182      H11 type: 2\n",
      "0183: elec0001 0185 0183      I10 type: 2\n",
      "0184: elec0001 0186 0184      H13 type: 2\n",
      "0185: elec0001 0187 0185      H15 type: 2\n",
      "0186: elec0001 0188 0186      G14 type: 2\n",
      "0187: elec0001 0189 0187      G16 type: 2\n",
      "0188: elec0001 0190 0188      F15 type: 2\n",
      "0189: elec0001 0191 0189      G12 type: 2\n",
      "0190: elec0001 0192 0190       C2 type: 2\n",
      "0191: elec0001 0193 0191       D3 type: 2\n",
      "0192: elec0001 0194 0192       A3 type: 2\n",
      "0193: elec0001 0195 0193       A2 type: 2\n",
      "0194: elec0001 0196 0194       C5 type: 2\n",
      "0195: elec0001 0197 0195       B4 type: 2\n",
      "0196: elec0001 0198 0196       E7 type: 2\n",
      "0197: elec0001 0199 0197       D6 type: 2\n",
      "0198: elec0001 0200 0198       B8 type: 2\n",
      "0199: elec0001 0201 0199       A7 type: 2\n",
      "0200: elec0001 0202 0200       C9 type: 2\n",
      "0201: elec0001 0203 0201       G9 type: 2\n",
      "0202: elec0001 0204 0202      A11 type: 2\n",
      "0203: elec0001 0205 0203      B10 type: 2\n",
      "0204: elec0001 0206 0204      D12 type: 2\n",
      "0205: elec0001 0207 0205      E11 type: 2\n",
      "0206: elec0001 0208 0206      C16 type: 2\n",
      "0207: elec0001 0209 0207      B16 type: 2\n",
      "0208: elec0001 0210 0208      B14 type: 2\n",
      "0209: elec0001 0211 0209      C13 type: 2\n",
      "0210: elec0001 0212 0210      D15 type: 2\n",
      "0211: elec0001 0213 0211      O15 type: 2\n",
      "0212: elec0001 0214 0212       H9 type: 2\n",
      "0213: elec0001 0215 0213      N14 type: 2\n",
      "0214: elec0001 0216 0214      M12 type: 2\n",
      "0215: elec0001 0217 0215      M13 type: 2\n",
      "0216: elec0001 0218 0216      N16 type: 2\n",
      "0217: elec0001 0219 0217      L12 type: 2\n",
      "0218: elec0001 0220 0218      L14 type: 2\n",
      "0219: elec0001 0221 0219      M15 type: 2\n",
      "0220: elec0001 0222 0220       C1 type: 2\n",
      "0221: elec0001 0223 0221       D2 type: 2\n",
      "0222: elec0001 0224 0222       B3 type: 2\n",
      "0223: elec0001 0225 0223       B2 type: 2\n",
      "0224: elec0001 0226 0224       D5 type: 2\n",
      "0225: elec0001 0227 0225       C4 type: 2\n",
      "0226: elec0001 0228 0226       A6 type: 2\n",
      "0227: elec0001 0229 0227       E6 type: 2\n",
      "0228: elec0001 0230 0228       C8 type: 2\n",
      "0229: elec0001 0231 0229       B7 type: 2\n",
      "0230: elec0001 0232 0230       B9 type: 2\n",
      "0231: elec0001 0233 0231       G8 type: 2\n",
      "0232: elec0001 0234 0232      E10 type: 2\n",
      "0233: elec0001 0235 0233      A10 type: 2\n",
      "0234: elec0001 0236 0234      C12 type: 2\n",
      "0235: elec0001 0237 0235      D11 type: 2\n",
      "0236: elec0001 0238 0236      C15 type: 2\n",
      "0237: elec0001 0239 0237      B15 type: 2\n",
      "0238: elec0001 0240 0238      A14 type: 2\n",
      "0239: elec0001 0241 0239      B13 type: 2\n",
      "0240: elec0001 0242 0240      E14 type: 2\n",
      "0241: elec0001 0243 0241      N15 type: 2\n",
      "0242: elec0001 0244 0242      G11 type: 2\n",
      "0243: elec0001 0245 0243      M14 type: 2\n",
      "0244: elec0001 0246 0244      K11 type: 2\n",
      "0245: elec0001 0247 0245      L13 type: 2\n",
      "0246: elec0001 0248 0246      M16 type: 2\n",
      "0247: elec0001 0249 0247      K12 type: 2\n",
      "0248: elec0001 0250 0248      K14 type: 2\n",
      "0249: elec0001 0251 0249      L15 type: 2\n",
      "0250: elec0001 0252 0250       E5 type: 2\n",
      "0251: elec0001 0253 0251       D1 type: 2\n",
      "0252: anlg0001 0126 0000       A1 type: 2\n",
      "0253: anlg0001 0127 0001       A2 type: 2\n",
      "0254: anlg0001 0254 0002       A3 type: 2\n",
      "0255: anlg0001 0255 0003       A4 type: 2\n"
     ]
    }
   ],
   "source": [
    "sync_data = Sync(experiment_name,real_fps)\n",
    "sync_data.read_mcd(mcd_file)\n",
    "sync_data.showEntities()"
   ]
  },
  {
   "cell_type": "code",
   "execution_count": 3,
   "metadata": {},
   "outputs": [
    {
     "data": {
      "text/plain": [
       "{'AppName': 'MC_Rack 4.6.2.0',\n",
       " 'EntityCount': 256,\n",
       " 'FileComment': '',\n",
       " 'FileType': 'Conf cont El,An',\n",
       " 'TimeSpan': 831.1,\n",
       " 'TimeStampResolution': 5e-05,\n",
       " 'Time_Day': 17,\n",
       " 'Time_Hour': 16,\n",
       " 'Time_MilliSec': 958,\n",
       " 'Time_Min': 43,\n",
       " 'Time_Month': 5,\n",
       " 'Time_Sec': 28,\n",
       " 'Time_Year': 2018}"
      ]
     },
     "execution_count": 3,
     "metadata": {},
     "output_type": "execute_result"
    }
   ],
   "source": [
    "sync_data.data.metadata_raw"
   ]
  },
  {
   "cell_type": "code",
   "execution_count": null,
   "metadata": {},
   "outputs": [],
   "source": [
    "mcd_channel = 254\n",
    "\n",
    "sync_data.analyzer(mcd_channel)"
   ]
  },
  {
   "cell_type": "markdown",
   "metadata": {
    "nbpresent": {
     "id": "5e907554-3b25-498b-b4cd-68af1fd0946c"
    }
   },
   "source": [
    "## Read start-end file and create event list\n",
    "From sync file created above we compute the difference between all frames and we only take the frames with a difference more than one frame to create a event."
   ]
  },
  {
   "cell_type": "code",
   "execution_count": 9,
   "metadata": {
    "nbpresent": {
     "id": "4f617082-09ec-495f-951e-40fc7fb9c737"
    }
   },
   "outputs": [
    {
     "data": {
      "text/html": [
       "<div>\n",
       "<style scoped>\n",
       "    .dataframe tbody tr th:only-of-type {\n",
       "        vertical-align: middle;\n",
       "    }\n",
       "\n",
       "    .dataframe tbody tr th {\n",
       "        vertical-align: top;\n",
       "    }\n",
       "\n",
       "    .dataframe thead th {\n",
       "        text-align: right;\n",
       "    }\n",
       "</style>\n",
       "<table border=\"1\" class=\"dataframe\">\n",
       "  <thead>\n",
       "    <tr style=\"text-align: right;\">\n",
       "      <th></th>\n",
       "      <th>n_frames</th>\n",
       "      <th>start_event</th>\n",
       "      <th>end_event</th>\n",
       "      <th>start_next_event</th>\n",
       "      <th>event_duration</th>\n",
       "      <th>event_duration_seg</th>\n",
       "      <th>inter_event_duration</th>\n",
       "      <th>inter_event_duration_seg</th>\n",
       "      <th>protocol_name</th>\n",
       "      <th>repetition_name</th>\n",
       "    </tr>\n",
       "  </thead>\n",
       "  <tbody>\n",
       "    <tr>\n",
       "      <th>0</th>\n",
       "      <td>0</td>\n",
       "      <td>0.0</td>\n",
       "      <td>154360.0</td>\n",
       "      <td>154360.0</td>\n",
       "      <td>154360.0</td>\n",
       "      <td>7.71800</td>\n",
       "      <td>0.0</td>\n",
       "      <td>0.00000</td>\n",
       "      <td></td>\n",
       "      <td></td>\n",
       "    </tr>\n",
       "    <tr>\n",
       "      <th>1</th>\n",
       "      <td>2102</td>\n",
       "      <td>154360.0</td>\n",
       "      <td>857923.0</td>\n",
       "      <td>937919.0</td>\n",
       "      <td>703563.0</td>\n",
       "      <td>35.17815</td>\n",
       "      <td>79996.0</td>\n",
       "      <td>3.99980</td>\n",
       "      <td></td>\n",
       "      <td></td>\n",
       "    </tr>\n",
       "    <tr>\n",
       "      <th>2</th>\n",
       "      <td>2100</td>\n",
       "      <td>937919.0</td>\n",
       "      <td>1640813.0</td>\n",
       "      <td>1720808.0</td>\n",
       "      <td>702894.0</td>\n",
       "      <td>35.14470</td>\n",
       "      <td>79995.0</td>\n",
       "      <td>3.99975</td>\n",
       "      <td></td>\n",
       "      <td></td>\n",
       "    </tr>\n",
       "    <tr>\n",
       "      <th>3</th>\n",
       "      <td>2100</td>\n",
       "      <td>1720808.0</td>\n",
       "      <td>2423702.0</td>\n",
       "      <td>2503698.0</td>\n",
       "      <td>702894.0</td>\n",
       "      <td>35.14470</td>\n",
       "      <td>79996.0</td>\n",
       "      <td>3.99980</td>\n",
       "      <td></td>\n",
       "      <td></td>\n",
       "    </tr>\n",
       "    <tr>\n",
       "      <th>4</th>\n",
       "      <td>2100</td>\n",
       "      <td>2503698.0</td>\n",
       "      <td>3206591.0</td>\n",
       "      <td>3286587.0</td>\n",
       "      <td>702893.0</td>\n",
       "      <td>35.14465</td>\n",
       "      <td>79996.0</td>\n",
       "      <td>3.99980</td>\n",
       "      <td></td>\n",
       "      <td></td>\n",
       "    </tr>\n",
       "  </tbody>\n",
       "</table>\n",
       "</div>"
      ],
      "text/plain": [
       "   n_frames  start_event  end_event  start_next_event  event_duration  \\\n",
       "0         0          0.0   154360.0          154360.0        154360.0   \n",
       "1      2102     154360.0   857923.0          937919.0        703563.0   \n",
       "2      2100     937919.0  1640813.0         1720808.0        702894.0   \n",
       "3      2100    1720808.0  2423702.0         2503698.0        702894.0   \n",
       "4      2100    2503698.0  3206591.0         3286587.0        702893.0   \n",
       "\n",
       "   event_duration_seg  inter_event_duration  inter_event_duration_seg  \\\n",
       "0             7.71800                   0.0                   0.00000   \n",
       "1            35.17815               79996.0                   3.99980   \n",
       "2            35.14470               79995.0                   3.99975   \n",
       "3            35.14470               79996.0                   3.99980   \n",
       "4            35.14465               79996.0                   3.99980   \n",
       "\n",
       "  protocol_name repetition_name  \n",
       "0                                \n",
       "1                                \n",
       "2                                \n",
       "3                                \n",
       "4                                "
      ]
     },
     "execution_count": 9,
     "metadata": {},
     "output_type": "execute_result"
    }
   ],
   "source": [
    "sync_data.create_events()\n",
    "sync_data.event_list.head()"
   ]
  },
  {
   "cell_type": "markdown",
   "metadata": {
    "nbpresent": {
     "id": "41bda88d-1e91-418a-b06d-01ea4a668f94"
    }
   },
   "source": [
    "### Add repetition frame time  in csv file"
   ]
  },
  {
   "cell_type": "code",
   "execution_count": null,
   "metadata": {
    "nbpresent": {
     "id": "cd2c6f13-558b-48b9-b1ca-62ee584178f3"
    }
   },
   "outputs": [],
   "source": [
    "sync_data.add_repeated()\n",
    "sync_data.event_list.head()"
   ]
  },
  {
   "cell_type": "code",
   "execution_count": null,
   "metadata": {
    "nbpresent": {
     "id": "f7591ae6-bb74-42f6-9ccc-0c050f4716fc"
    }
   },
   "outputs": [],
   "source": [
    "event_list = sync_data.event_list\n",
    "filter_frame = event_list['n_frames'] > -1\n",
    "event_list[filter_frame].head()"
   ]
  },
  {
   "cell_type": "markdown",
   "metadata": {},
   "source": [
    "### Check repeated\n"
   ]
  },
  {
   "cell_type": "code",
   "execution_count": null,
   "metadata": {},
   "outputs": [],
   "source": [
    "mcd_channel = 2\n",
    "start_point = 100000-1000\n",
    "window = 20000\n",
    "sync_data.plotWindow( mcd_channel, start_point, window )"
   ]
  },
  {
   "cell_type": "markdown",
   "metadata": {
    "nbpresent": {
     "id": "905c51ce-b7fc-42a2-815e-67f73a5fcce4"
    }
   },
   "source": [
    "## Save csv file"
   ]
  },
  {
   "cell_type": "code",
   "execution_count": 5,
   "metadata": {},
   "outputs": [],
   "source": [
    "sync_data.save_analyzed(output_folder)"
   ]
  },
  {
   "cell_type": "code",
   "execution_count": 6,
   "metadata": {
    "nbpresent": {
     "id": "ba993558-2913-411f-9703-a6263efe7453"
    }
   },
   "outputs": [],
   "source": [
    "sync_data.save_events(output_folder)"
   ]
  },
  {
   "cell_type": "code",
   "execution_count": null,
   "metadata": {},
   "outputs": [],
   "source": [
    "sync_data.close_file()"
   ]
  },
  {
   "cell_type": "markdown",
   "metadata": {
    "nbpresent": {
     "id": "388da3c6-1946-4911-b343-1e90f7146663"
    }
   },
   "source": [
    "**Note:** The times in event_duration have small differences with the theoric times, it's because the theorical FPS of the projector is different to the real FPS.   \n",
    "\n",
    "For example, projector show theoricly 60 FPS but the real FPS is 59.7523. Please ckeck it in the log file.\n",
    "* 2100 images to 60 [fps] = 35 [s]\n",
    "* 2100 images to 59.7523 [fps] = 35.145 [s]\n",
    "The differences could be significant!"
   ]
  },
  {
   "cell_type": "markdown",
   "metadata": {
    "nbpresent": {
     "id": "e5ba239a-4260-412c-84c7-f021d8607ac0"
    }
   },
   "source": [
    "## Create separated sync files for each event\n"
   ]
  },
  {
   "cell_type": "code",
   "execution_count": 4,
   "metadata": {
    "nbpresent": {
     "id": "db739b01-c18b-4e98-a437-d562b7392b66"
    }
   },
   "outputs": [],
   "source": [
    "source_folder = '../data/sync/'+experiment_name+'/'\n",
    "output_folder = '../data/sync/'+experiment_name+'/event_list/'\n",
    "checkDirectory(output_folder)\n",
    "\n",
    "sync_data.load_analyzed(source_folder)\n",
    "sync_data.load_events(source_folder + 'event_list_' + sync_data.exp_name + '.csv')\n",
    "sync_data.create_separated_sync(output_folder)\n"
   ]
  },
  {
   "cell_type": "code",
   "execution_count": null,
   "metadata": {},
   "outputs": [],
   "source": []
  },
  {
   "cell_type": "code",
   "execution_count": null,
   "metadata": {},
   "outputs": [],
   "source": []
  },
  {
   "cell_type": "code",
   "execution_count": null,
   "metadata": {},
   "outputs": [],
   "source": []
  },
  {
   "cell_type": "code",
   "execution_count": null,
   "metadata": {
    "nbpresent": {
     "id": "bc05d0c1-aa6e-4150-b114-c139a2345e69"
    }
   },
   "outputs": [],
   "source": [
    "# exp = {'MR-0117' : 0,'MR-0118' : 0,'MR-0119' : 0,'MR-0120' : 0,'MR-0121' : 0,'MR-0122' : 0,'MR-0123' : 0,'MR-0124' : 0,\n",
    "#        'MR-0125' : 0,'MR-0126' : 0,'MR-0127' : 0,'MR-0128' : 0,'MR-0129' : 0,'MR-0130' : 0,'MR-0131' : 0,'MR-0133' : 0,\n",
    "#        'MR-0135' : 0,'MR-0145' : 0,'MR-0146' : 0,'MR-0147' : 0,'MR-0148' : 0,'MR-0149' : 0,'MR-0174' : 0,'MR-0227' : 0,\n",
    "#        'MR-0228':1,'MR-0242':0}\n",
    "exp = {'MR-0261':0,'MR-0261-2':1,'MR-0262':0,'MR-0263':0,\n",
    "        'MR-0263-2':0,'MR-0264':0}\n",
    "\n",
    "for kexp in exp:\n",
    "    source_folder = '../data/sync/'+kexp+'/'\n",
    "    print('\\n'+kexp)\n",
    "    sync_data = Sync(kexp,real_fps)\n",
    "    sync_data.read_mcd('../data/raw_data/'+kexp+'/'+kexp+'_analog.mcd')\n",
    "    sync_data.showEntities()\n",
    "    sync_data.plotWindow(2,5*60*20000,20000)"
   ]
  },
  {
   "cell_type": "code",
   "execution_count": null,
   "metadata": {},
   "outputs": [],
   "source": []
  },
  {
   "cell_type": "code",
   "execution_count": null,
   "metadata": {},
   "outputs": [],
   "source": []
  },
  {
   "cell_type": "code",
   "execution_count": null,
   "metadata": {},
   "outputs": [],
   "source": []
  },
  {
   "cell_type": "code",
   "execution_count": 10,
   "metadata": {},
   "outputs": [
    {
     "data": {
      "image/png": "[encoded data removed]",
      "text/plain": [
       "<Figure size 432x288 with 1 Axes>"
      ]
     },
     "metadata": {},
     "output_type": "display_data"
    },
    {
     "data": {
      "image/png": "[encoded data removed]",
      "text/plain": [
       "<Figure size 432x288 with 1 Axes>"
      ]
     },
     "metadata": {},
     "output_type": "display_data"
    },
    {
     "data": {
      "image/png": "[encoded data removed]",
      "text/plain": [
       "<Figure size 432x288 with 1 Axes>"
      ]
     },
     "metadata": {},
     "output_type": "display_data"
    },
    {
     "data": {
      "image/png": "[encoded data removed]",
      "text/plain": [
       "<Figure size 432x288 with 1 Axes>"
      ]
     },
     "metadata": {},
     "output_type": "display_data"
    }
   ],
   "source": [
    "start_point = 154360-335\n",
    "duration_points = 335*5\n",
    "# for kchannel in range(252,256):\n",
    "for kchannel in range(4):\n",
    "    sync_data.plotWindow(kchannel,start_point,duration_points)"
   ]
  },
  {
   "cell_type": "code",
   "execution_count": 11,
   "metadata": {},
   "outputs": [
    {
     "data": {
      "image/png": "[encoded data removed]",
      "text/plain": [
       "<Figure size 720x360 with 2 Axes>"
      ]
     },
     "metadata": {},
     "output_type": "display_data"
    }
   ],
   "source": [
    "def getTimes(start_point, duration_points = 335*7):\n",
    "    ss,nada,nada = sync_data.data.entities[254].get_data(start_point,duration_points)\n",
    "    ss = ss/np.amax(ss)\n",
    "    ld,nada,nada = sync_data.data.entities[253].get_data(start_point,duration_points)\n",
    "    ld = ld/np.amax(ld)\n",
    "    plt.plot(ss,alpha=0.9,label='Sync signal',lw=0.3)\n",
    "    plt.plot(ld,alpha=0.9,label='Photodiode',lw=0.3)\n",
    "    plt.xlabel('Time [samples]')\n",
    "    plt.ylabel('Normalized amplituded [V]')\n",
    "    plt.legend()\n",
    "\n",
    "\n",
    "plt.figure(figsize=(10,5))\n",
    "plt.subplot(1,2,1).set_title('Start of a sequence of imgenes')\n",
    "getTimes(start_point = 154360-335*2)\n",
    "plt.subplot(1,2,2).set_title('End of a sequence of imgenes')\n",
    "getTimes(start_point = 857923-335*5)\n",
    "# plt.savefig('../figures/Photodiode_record.png')"
   ]
  },
  {
   "cell_type": "code",
   "execution_count": null,
   "metadata": {},
   "outputs": [],
   "source": [
    "import pyMCStream as mc\n",
    "pd_data = b'/home/cesar/exp/MEA-analysis/data/raw_data/test/test_analog.mcd'\n",
    "data = mc.open_stream(pd_data,b'anlg0001')\n",
    "\n"
   ]
  },
  {
   "cell_type": "code",
   "execution_count": null,
   "metadata": {},
   "outputs": [],
   "source": [
    "data.shape"
   ]
  },
  {
   "cell_type": "code",
   "execution_count": null,
   "metadata": {},
   "outputs": [],
   "source": [
    "data, time, dur = sync_data.get_raw_data(131)"
   ]
  },
  {
   "cell_type": "code",
   "execution_count": null,
   "metadata": {},
   "outputs": [],
   "source": [
    "data.shape\n",
    "plt.figure()\n",
    "plt.plot(data[154360:857923])"
   ]
  }
 ],
 "metadata": {
  "kernelspec": {
   "display_name": "Python [conda env:py27]",
   "language": "python",
   "name": "conda-env-py27-py"
  },
  "language_info": {
   "codemirror_mode": {
    "name": "ipython",
    "version": 2
   },
   "file_extension": ".py",
   "mimetype": "text/x-python",
   "name": "python",
   "nbconvert_exporter": "python",
   "pygments_lexer": "ipython2",
   "version": "2.7.14"
  },
  "nbpresent": {
   "slides": {
    "1141a327-2300-4de4-9baf-8970b1afed98": {
     "id": "1141a327-2300-4de4-9baf-8970b1afed98",
     "prev": "b71e4610-2f36-4dd1-86df-7f010908c437",
     "regions": {
      "4e522dd4-f269-4bbd-9a6d-a609ba8ec423": {
       "attrs": {
        "height": 0.8,
        "width": 0.8,
        "x": 0.1,
        "y": 0.1
       },
       "content": {
        "cell": "10293e9d-a8bc-4ed8-a900-767a4a1fa0d3",
        "part": "whole"
       },
       "id": "4e522dd4-f269-4bbd-9a6d-a609ba8ec423"
      }
     }
    },
    "1fffe9fb-914f-4510-ab88-db8ff331bfea": {
     "id": "1fffe9fb-914f-4510-ab88-db8ff331bfea",
     "prev": "b5944355-ed1a-438f-b3e4-a04b5d5c4c6f",
     "regions": {
      "8228da2c-522e-438b-a3b2-147b5294e7eb": {
       "attrs": {
        "height": 0.8,
        "width": 0.8,
        "x": 0.1,
        "y": 0.1
       },
       "content": {
        "cell": "ac521222-93ea-4a8e-8d4a-c3112ea2feb3",
        "part": "whole"
       },
       "id": "8228da2c-522e-438b-a3b2-147b5294e7eb"
      }
     }
    },
    "29ee7641-e306-4246-b16f-3ae6361d9dd6": {
     "id": "29ee7641-e306-4246-b16f-3ae6361d9dd6",
     "prev": "e551858e-8222-4359-bf85-d30423b7987e",
     "regions": {
      "48f91d29-27a9-4043-a2c6-45ce1379877b": {
       "attrs": {
        "height": 0.8,
        "width": 0.8,
        "x": 0.1,
        "y": 0.1
       },
       "content": {
        "cell": "5584ee43-56ff-4c51-9b5d-ac885f2db2dc",
        "part": "whole"
       },
       "id": "48f91d29-27a9-4043-a2c6-45ce1379877b"
      }
     }
    },
    "40242b1e-16a0-4f8e-95f6-e2112a16f2e4": {
     "id": "40242b1e-16a0-4f8e-95f6-e2112a16f2e4",
     "prev": null,
     "regions": {}
    },
    "567052ca-c7b1-46c6-a8b0-41ee5cae0a9c": {
     "id": "567052ca-c7b1-46c6-a8b0-41ee5cae0a9c",
     "prev": "1fffe9fb-914f-4510-ab88-db8ff331bfea",
     "regions": {
      "2aa0e521-86e3-4229-91d7-ede3c759ce30": {
       "attrs": {
        "height": 0.8,
        "width": 0.8,
        "x": 0.1,
        "y": 0.1
       },
       "content": null,
       "id": "2aa0e521-86e3-4229-91d7-ede3c759ce30"
      }
     }
    },
    "705cd611-7e1e-4f4a-b276-919c315e8c66": {
     "id": "705cd611-7e1e-4f4a-b276-919c315e8c66",
     "prev": "aa4c76d4-b69a-4d13-bdab-6227028bbf9b",
     "regions": {
      "4a75d6c4-4d47-49b8-8b43-7da216ed82a2": {
       "attrs": {
        "height": 0.8,
        "width": 0.8,
        "x": 0.1,
        "y": 0.1
       },
       "content": {
        "cell": "e5ba239a-4260-412c-84c7-f021d8607ac0",
        "part": "whole"
       },
       "id": "4a75d6c4-4d47-49b8-8b43-7da216ed82a2"
      }
     }
    },
    "a6cb9c5f-6aee-4a6e-955b-f386abc5629b": {
     "id": "a6cb9c5f-6aee-4a6e-955b-f386abc5629b",
     "prev": "baa1a5e5-8314-44dd-9cfa-5f843ced5ee9",
     "regions": {
      "1747036e-7dea-4dfe-aff6-d77022dba13c": {
       "attrs": {
        "height": 0.8,
        "width": 0.8,
        "x": 0.1,
        "y": 0.1
       },
       "content": {
        "cell": "cd2c6f13-558b-48b9-b1ca-62ee584178f3",
        "part": "whole"
       },
       "id": "1747036e-7dea-4dfe-aff6-d77022dba13c"
      }
     }
    },
    "aa4c76d4-b69a-4d13-bdab-6227028bbf9b": {
     "id": "aa4c76d4-b69a-4d13-bdab-6227028bbf9b",
     "prev": "b81e2039-4afe-44f7-b70b-e47eba34e510",
     "regions": {
      "88d7ef01-01b8-486f-b589-bc4b10ac06f9": {
       "attrs": {
        "height": 0.8,
        "width": 0.8,
        "x": 0.1,
        "y": 0.1
       },
       "content": {
        "cell": "388da3c6-1946-4911-b343-1e90f7146663",
        "part": "whole"
       },
       "id": "88d7ef01-01b8-486f-b589-bc4b10ac06f9"
      }
     }
    },
    "b5944355-ed1a-438f-b3e4-a04b5d5c4c6f": {
     "id": "b5944355-ed1a-438f-b3e4-a04b5d5c4c6f",
     "prev": "40242b1e-16a0-4f8e-95f6-e2112a16f2e4",
     "regions": {
      "127eec25-6152-4f53-8895-274161b965e4": {
       "attrs": {
        "height": 0.8,
        "width": 0.8,
        "x": 0.1,
        "y": 0.1
       },
       "content": {
        "cell": "1cc42797-c7b7-49aa-b339-b598547619c2",
        "part": "whole"
       },
       "id": "127eec25-6152-4f53-8895-274161b965e4"
      }
     }
    },
    "b71e4610-2f36-4dd1-86df-7f010908c437": {
     "id": "b71e4610-2f36-4dd1-86df-7f010908c437",
     "prev": "ca680496-49f9-4d28-a612-53c9ee5d9a82",
     "regions": {
      "960d7449-3647-400c-a606-f1c380a6a814": {
       "attrs": {
        "height": 0.8,
        "width": 0.8,
        "x": 0.1,
        "y": 0.1
       },
       "content": {
        "cell": "929b0d74-f4b8-4227-a9b4-29daa2adc4d1",
        "part": "whole"
       },
       "id": "960d7449-3647-400c-a606-f1c380a6a814"
      }
     }
    },
    "b81e2039-4afe-44f7-b70b-e47eba34e510": {
     "id": "b81e2039-4afe-44f7-b70b-e47eba34e510",
     "prev": "e1ea1c1d-e69a-4a66-89b1-c636c6e55ab3",
     "regions": {
      "273de47b-7a2e-440f-94af-8c40a734ec26": {
       "attrs": {
        "height": 0.8,
        "width": 0.8,
        "x": 0.1,
        "y": 0.1
       },
       "content": {
        "cell": "ba993558-2913-411f-9703-a6263efe7453",
        "part": "whole"
       },
       "id": "273de47b-7a2e-440f-94af-8c40a734ec26"
      }
     }
    },
    "baa1a5e5-8314-44dd-9cfa-5f843ced5ee9": {
     "id": "baa1a5e5-8314-44dd-9cfa-5f843ced5ee9",
     "prev": "f98728cd-4ce4-4ac8-9dbd-5d36a694eb9c",
     "regions": {
      "65909c35-33dc-4e98-85b1-a9b7220cb455": {
       "attrs": {
        "height": 0.8,
        "width": 0.8,
        "x": 0.1,
        "y": 0.1
       },
       "content": {
        "cell": "41bda88d-1e91-418a-b06d-01ea4a668f94",
        "part": "whole"
       },
       "id": "65909c35-33dc-4e98-85b1-a9b7220cb455"
      }
     }
    },
    "bdbdcec2-117a-44e3-a1c0-2b177bac3ea2": {
     "id": "bdbdcec2-117a-44e3-a1c0-2b177bac3ea2",
     "prev": "705cd611-7e1e-4f4a-b276-919c315e8c66",
     "regions": {
      "98e28b1c-4628-4b37-8618-04016f9ab6d9": {
       "attrs": {
        "height": 0.8,
        "width": 0.8,
        "x": 0.1,
        "y": 0.1
       },
       "content": {
        "cell": "db739b01-c18b-4e98-a437-d562b7392b66",
        "part": "whole"
       },
       "id": "98e28b1c-4628-4b37-8618-04016f9ab6d9"
      }
     }
    },
    "bf894d2d-ea40-455b-99bb-2e1b3428f43d": {
     "id": "bf894d2d-ea40-455b-99bb-2e1b3428f43d",
     "prev": "567052ca-c7b1-46c6-a8b0-41ee5cae0a9c",
     "regions": {
      "a4f02053-bca2-4fe4-b990-24d1faa168ef": {
       "attrs": {
        "height": 0.8,
        "width": 0.8,
        "x": 0.1,
        "y": 0.1
       },
       "content": {
        "cell": "5e907554-3b25-498b-b4cd-68af1fd0946c",
        "part": "whole"
       },
       "id": "a4f02053-bca2-4fe4-b990-24d1faa168ef"
      }
     }
    },
    "ca680496-49f9-4d28-a612-53c9ee5d9a82": {
     "id": "ca680496-49f9-4d28-a612-53c9ee5d9a82",
     "prev": "db62692a-8a48-4687-8fb2-456b078ddb42",
     "regions": {
      "cfea3221-62c3-4795-a8d4-14e2f1d20cf9": {
       "attrs": {
        "height": 0.8,
        "width": 0.8,
        "x": 0.1,
        "y": 0.1
       },
       "content": {
        "cell": "7f015a80-04dc-4543-804c-f92caf9f9d25",
        "part": "whole"
       },
       "id": "cfea3221-62c3-4795-a8d4-14e2f1d20cf9"
      }
     }
    },
    "db62692a-8a48-4687-8fb2-456b078ddb42": {
     "id": "db62692a-8a48-4687-8fb2-456b078ddb42",
     "prev": "29ee7641-e306-4246-b16f-3ae6361d9dd6",
     "regions": {
      "e32217be-2bfd-4e16-a506-78a748ad182c": {
       "attrs": {
        "height": 0.8,
        "width": 0.8,
        "x": 0.1,
        "y": 0.1
       },
       "content": {
        "cell": "bc05d0c1-aa6e-4150-b114-c139a2345e69",
        "part": "whole"
       },
       "id": "e32217be-2bfd-4e16-a506-78a748ad182c"
      }
     }
    },
    "e1ea1c1d-e69a-4a66-89b1-c636c6e55ab3": {
     "id": "e1ea1c1d-e69a-4a66-89b1-c636c6e55ab3",
     "prev": "e8fe0cd1-9c38-4977-85e8-0bfce535ddbe",
     "regions": {
      "65246fa1-470d-4d38-b799-53267130a848": {
       "attrs": {
        "height": 0.8,
        "width": 0.8,
        "x": 0.1,
        "y": 0.1
       },
       "content": {
        "cell": "905c51ce-b7fc-42a2-815e-67f73a5fcce4",
        "part": "whole"
       },
       "id": "65246fa1-470d-4d38-b799-53267130a848"
      }
     }
    },
    "e551858e-8222-4359-bf85-d30423b7987e": {
     "id": "e551858e-8222-4359-bf85-d30423b7987e",
     "prev": "bdbdcec2-117a-44e3-a1c0-2b177bac3ea2",
     "regions": {
      "cf26bc08-ccbc-4e35-bda1-2e3c5191dda5": {
       "attrs": {
        "height": 0.8,
        "width": 0.8,
        "x": 0.1,
        "y": 0.1
       },
       "content": {
        "cell": "bcca384f-c40f-49c8-88e0-20827d897605",
        "part": "whole"
       },
       "id": "cf26bc08-ccbc-4e35-bda1-2e3c5191dda5"
      }
     }
    },
    "e8fe0cd1-9c38-4977-85e8-0bfce535ddbe": {
     "id": "e8fe0cd1-9c38-4977-85e8-0bfce535ddbe",
     "prev": "a6cb9c5f-6aee-4a6e-955b-f386abc5629b",
     "regions": {
      "2b1b3394-02dd-4ff0-8af2-7af755580ec0": {
       "attrs": {
        "height": 0.8,
        "width": 0.8,
        "x": 0.1,
        "y": 0.1
       },
       "content": {
        "cell": "f7591ae6-bb74-42f6-9ccc-0c050f4716fc",
        "part": "whole"
       },
       "id": "2b1b3394-02dd-4ff0-8af2-7af755580ec0"
      }
     }
    },
    "f98728cd-4ce4-4ac8-9dbd-5d36a694eb9c": {
     "id": "f98728cd-4ce4-4ac8-9dbd-5d36a694eb9c",
     "prev": "bf894d2d-ea40-455b-99bb-2e1b3428f43d",
     "regions": {
      "1fa88d51-c72e-4b7f-8af9-c6d934e9870f": {
       "attrs": {
        "height": 0.8,
        "width": 0.8,
        "x": 0.1,
        "y": 0.1
       },
       "content": {
        "cell": "4f617082-09ec-495f-951e-40fc7fb9c737",
        "part": "whole"
       },
       "id": "1fa88d51-c72e-4b7f-8af9-c6d934e9870f"
      }
     }
    }
   },
   "themes": {}
  },
  "toc": {
   "base_numbering": 1,
   "nav_menu": {},
   "number_sections": false,
   "sideBar": true,
   "skip_h1_title": true,
   "title_cell": "Table of Contents",
   "title_sidebar": "Contents",
   "toc_cell": false,
   "toc_position": {
    "height": "calc(100% - 180px)",
    "left": "10px",
    "top": "150px",
    "width": "369px"
   },
   "toc_section_display": true,
   "toc_window_display": false
  },
  "varInspector": {
   "cols": {
    "lenName": 16,
    "lenType": 16,
    "lenVar": 40
   },
   "kernels_config": {
    "python": {
     "delete_cmd_postfix": "",
     "delete_cmd_prefix": "del ",
     "library": "var_list.py",
     "varRefreshCmd": "print(var_dic_list())"
    },
    "r": {
     "delete_cmd_postfix": ") ",
     "delete_cmd_prefix": "rm(",
     "library": "var_list.r",
     "varRefreshCmd": "cat(var_dic_list()) "
    }
   },
   "oldHeight": 610.166666,
   "position": {
    "height": "632px",
    "left": "1176.25px",
    "right": "17px",
    "top": "107px",
    "width": "498px"
   },
   "types_to_exclude": [
    "module",
    "function",
    "builtin_function_or_method",
    "instance",
    "_Feature"
   ],
   "varInspector_section_display": "block",
   "window_display": false
  }
 },
 "nbformat": 4,
 "nbformat_minor": 2
}
