{
 "cells": [
  {
   "cell_type": "markdown",
   "metadata": {},
   "source": [
    "# Pre-processing - Get synchronization times\n",
    "\n",
    "This notebook create a file with times of the stimuli for a particular record."
   ]
  },
  {
   "cell_type": "code",
   "execution_count": 24,
   "metadata": {
    "nbpresent": {
     "id": "df34cfce-4fbb-462a-95b5-9ff4ec5739aa"
    }
   },
   "outputs": [],
   "source": [
    "import sys\n",
    "sys.path.append('../src')\n",
    "from lib.utils import checkDirectory\n",
    "\n",
    "from os import path, mkdir\n",
    "import numpy as np\n",
    "import pandas as pd\n",
    "import matplotlib.pyplot as plt\n",
    "\n",
    "\n",
    "experiment_name = '2018-01-25'\n",
    "# experiment_name = '2018-04-18'\n",
    "# experiment_name = '2016-08-11'\n",
    "# experiment_name = '2016-04-11'\n",
    "# experiment_name = '2016-09-14'\n",
    "# experiment_name = 'nn'\n"
   ]
  },
  {
   "cell_type": "markdown",
   "metadata": {
    "nbpresent": {
     "id": "1cc42797-c7b7-49aa-b339-b598547619c2"
    }
   },
   "source": [
    "# Get synchronization signal\n"
   ]
  },
  {
   "cell_type": "code",
   "execution_count": 6,
   "metadata": {
    "nbpresent": {
     "id": "ac521222-93ea-4a8e-8d4a-c3112ea2feb3"
    }
   },
   "outputs": [
    {
     "name": "stdout",
     "output_type": "stream",
     "text": [
      "\"cd ../src/syncAnalyzer/; syncAnalyzer('../../data/raw_data/2018-01-25/2018-01-25_analog.mcd','2018-01-25','../../data/sync/2018-01-25/',1,20000,59.7694); quit\"\n"
     ]
    }
   ],
   "source": [
    "mcd_file = '../data/raw_data/'+experiment_name+'/'+experiment_name+'_analog.mcd'\n",
    "output_folder = '../data/sync/'+experiment_name+'/'\n",
    "mcd_channel = 1\n",
    "sampling_rate = 20000\n",
    "real_fps = 59.7694\n",
    "checkDirectory(output_folder)\n",
    "\n",
    "command_matlab = \"\\\"cd ../src/syncAnalyzer/; syncAnalyzer('../{}','{}','../{}',{},{},{}); quit\\\"\"\\\n",
    "                .format( mcd_file, experiment_name, output_folder, mcd_channel,\n",
    "                        sampling_rate,real_fps)\n",
    "print(command_matlab)\n",
    "!matlab -nodesktop -nodisplay -nosplash -r $command_matlab"
   ]
  },
  {
   "cell_type": "markdown",
   "metadata": {
    "nbpresent": {
     "id": "5e907554-3b25-498b-b4cd-68af1fd0946c"
    }
   },
   "source": [
    "## Read start-end file and create event list\n",
    "From sync file created above we compute the difference between all frames and we only take the frames with a difference more than one frame to create a event."
   ]
  },
  {
   "cell_type": "code",
   "execution_count": 7,
   "metadata": {
    "nbpresent": {
     "id": "4f617082-09ec-495f-951e-40fc7fb9c737"
    }
   },
   "outputs": [],
   "source": [
    "# load data\n",
    "source_folder = '../data/sync/'+experiment_name+'/'\n",
    "start_end_file = source_folder+'start_end_frames_'+experiment_name+'.txt' \n",
    "total_duration_file = source_folder+'total_duration_'+experiment_name+'.txt' \n",
    "\n",
    "start_end = np.loadtxt( start_end_file , dtype='int32')-1\n",
    "total_duration = np.loadtxt( total_duration_file , dtype='int32')-1\n",
    "\n",
    "start_frame, end_frame = start_end[:,0], start_end[:,1]\n",
    "diff_time = np.diff( np.concatenate(\n",
    "            ( np.array([0]), start_frame, np.array([total_duration]) ) ))\n",
    "\n",
    "dis_frame = np.ceil(sampling_rate/real_fps) #max dist between frames\n",
    "filter_event = diff_time > dis_frame\n",
    "end_event_pos = np.where( filter_event == True )[0]\n",
    "\n",
    "# Select start and end time for each event\n",
    "start_event = start_frame[ end_event_pos[:-1] ]\n",
    "end_event = end_frame[ end_event_pos[1:] - 1 ]\n",
    "n_frames = end_event_pos[1:] - end_event_pos[:-1]\n",
    "\n",
    "# Add bound condition \n",
    "start_event_full = np.concatenate(( np.array([0]), start_event, end_event[-1:] ))\n",
    "end_event_full = np.concatenate(( start_event[:1], end_event, np.array([total_duration]) ))\n",
    "n_frames_full = np.concatenate(( np.array([0]), n_frames, np.array([0]) ))\n",
    "\n",
    "# Create a DataFrame to create a list of event\n",
    "event_schedule = pd.DataFrame({'start_event': start_event_full,'end_event':end_event_full,\n",
    "                               'n_frames':n_frames_full})\n",
    "\n",
    "event_schedule['event_duration'] = (event_schedule['end_event']-\n",
    "                                    event_schedule['start_event'])/sampling_rate\n",
    "\n",
    "inter_event_duration = event_schedule[['start_event','end_event']].values / sampling_rate\n",
    "event_schedule['inter_event_duration'] = pd.Series(inter_event_duration[1:,0] - inter_event_duration[:-1,1])\n",
    "event_schedule.loc[len(event_schedule)-1,'inter_event_duration'] = 0"
   ]
  },
  {
   "cell_type": "markdown",
   "metadata": {
    "nbpresent": {
     "id": "41bda88d-1e91-418a-b06d-01ea4a668f94"
    }
   },
   "source": [
    "### Add repetition frame time  in csv file"
   ]
  },
  {
   "cell_type": "code",
   "execution_count": null,
   "metadata": {
    "nbpresent": {
     "id": "cd2c6f13-558b-48b9-b1ca-62ee584178f3"
    }
   },
   "outputs": [],
   "source": [
    "# Load data\n",
    "repeated_file = source_folder+'repeated_frames_'+experiment_name+'.txt' \n",
    "repeated_frame_time = np.loadtxt(repeated_file, dtype='int32')\n",
    "\n",
    "event_schedule['repeated_frames'] = ''\n",
    "event_schedule['#repeated_frames'] = 0\n",
    "events = event_schedule[['start_event','end_event']].values\n",
    "for kidx, (kstart, kend) in enumerate(events):\n",
    "    filter_rep = (repeated_frame_time >= kstart) * (repeated_frame_time <= kend)\n",
    "    event_schedule.loc[kidx,'repeated_frames'] = str(repeated_frame_time[filter_rep])\n",
    "    event_schedule.loc[kidx,['#repeated_frames']] = len(repeated_frame_time[filter_rep])\n",
    "\n",
    "# sorted columns\n",
    "event_schedule = event_schedule[['n_frames','start_event','end_event',\n",
    "                                 'event_duration','inter_event_duration',\n",
    "\n",
    "                                 '#repeated_frames','repeated_frames']]"
   ]
  },
  {
   "cell_type": "code",
   "execution_count": 23,
   "metadata": {
    "nbpresent": {
     "id": "f7591ae6-bb74-42f6-9ccc-0c050f4716fc"
    }
   },
   "outputs": [
    {
     "data": {
      "text/html": [
       "<div>\n",
       "<style scoped>\n",
       "    .dataframe tbody tr th:only-of-type {\n",
       "        vertical-align: middle;\n",
       "    }\n",
       "\n",
       "    .dataframe tbody tr th {\n",
       "        vertical-align: top;\n",
       "    }\n",
       "\n",
       "    .dataframe thead th {\n",
       "        text-align: right;\n",
       "    }\n",
       "</style>\n",
       "<table border=\"1\" class=\"dataframe\">\n",
       "  <thead>\n",
       "    <tr style=\"text-align: right;\">\n",
       "      <th></th>\n",
       "      <th>n_frames</th>\n",
       "      <th>start_event</th>\n",
       "      <th>end_event</th>\n",
       "      <th>event_duration</th>\n",
       "      <th>inter_event_duration</th>\n",
       "      <th>#repeated_frames</th>\n",
       "      <th>repeated_frames</th>\n",
       "    </tr>\n",
       "  </thead>\n",
       "  <tbody>\n",
       "    <tr>\n",
       "      <th>6</th>\n",
       "      <td>18612</td>\n",
       "      <td>6038432</td>\n",
       "      <td>12268074</td>\n",
       "      <td>311.48210</td>\n",
       "      <td>8.45740</td>\n",
       "      <td>9306</td>\n",
       "      <td>[ 6038433  6039103  6039772 ... 12266068 12266...</td>\n",
       "    </tr>\n",
       "    <tr>\n",
       "      <th>7</th>\n",
       "      <td>2100</td>\n",
       "      <td>12437222</td>\n",
       "      <td>13140115</td>\n",
       "      <td>35.14465</td>\n",
       "      <td>3.99985</td>\n",
       "      <td>0</td>\n",
       "      <td>[]</td>\n",
       "    </tr>\n",
       "    <tr>\n",
       "      <th>8</th>\n",
       "      <td>2100</td>\n",
       "      <td>13220112</td>\n",
       "      <td>13923005</td>\n",
       "      <td>35.14465</td>\n",
       "      <td>3.99980</td>\n",
       "      <td>0</td>\n",
       "      <td>[]</td>\n",
       "    </tr>\n",
       "    <tr>\n",
       "      <th>9</th>\n",
       "      <td>2100</td>\n",
       "      <td>14003001</td>\n",
       "      <td>14705894</td>\n",
       "      <td>35.14465</td>\n",
       "      <td>3.99985</td>\n",
       "      <td>0</td>\n",
       "      <td>[]</td>\n",
       "    </tr>\n",
       "    <tr>\n",
       "      <th>10</th>\n",
       "      <td>2100</td>\n",
       "      <td>14785891</td>\n",
       "      <td>15488783</td>\n",
       "      <td>35.14460</td>\n",
       "      <td>3.99985</td>\n",
       "      <td>0</td>\n",
       "      <td>[]</td>\n",
       "    </tr>\n",
       "    <tr>\n",
       "      <th>11</th>\n",
       "      <td>2100</td>\n",
       "      <td>15568780</td>\n",
       "      <td>16271673</td>\n",
       "      <td>35.14465</td>\n",
       "      <td>3.99980</td>\n",
       "      <td>0</td>\n",
       "      <td>[]</td>\n",
       "    </tr>\n",
       "    <tr>\n",
       "      <th>12</th>\n",
       "      <td>2100</td>\n",
       "      <td>16351669</td>\n",
       "      <td>17054562</td>\n",
       "      <td>35.14465</td>\n",
       "      <td>3.99985</td>\n",
       "      <td>0</td>\n",
       "      <td>[]</td>\n",
       "    </tr>\n",
       "    <tr>\n",
       "      <th>13</th>\n",
       "      <td>2100</td>\n",
       "      <td>17134559</td>\n",
       "      <td>17837452</td>\n",
       "      <td>35.14465</td>\n",
       "      <td>3.99980</td>\n",
       "      <td>0</td>\n",
       "      <td>[]</td>\n",
       "    </tr>\n",
       "    <tr>\n",
       "      <th>14</th>\n",
       "      <td>2100</td>\n",
       "      <td>17917448</td>\n",
       "      <td>18620341</td>\n",
       "      <td>35.14465</td>\n",
       "      <td>3.99985</td>\n",
       "      <td>0</td>\n",
       "      <td>[]</td>\n",
       "    </tr>\n",
       "    <tr>\n",
       "      <th>15</th>\n",
       "      <td>2100</td>\n",
       "      <td>18700338</td>\n",
       "      <td>19403231</td>\n",
       "      <td>35.14465</td>\n",
       "      <td>3.99980</td>\n",
       "      <td>0</td>\n",
       "      <td>[]</td>\n",
       "    </tr>\n",
       "    <tr>\n",
       "      <th>16</th>\n",
       "      <td>2100</td>\n",
       "      <td>19483227</td>\n",
       "      <td>20186120</td>\n",
       "      <td>35.14465</td>\n",
       "      <td>3.99985</td>\n",
       "      <td>0</td>\n",
       "      <td>[]</td>\n",
       "    </tr>\n",
       "    <tr>\n",
       "      <th>17</th>\n",
       "      <td>2100</td>\n",
       "      <td>20266117</td>\n",
       "      <td>20969010</td>\n",
       "      <td>35.14465</td>\n",
       "      <td>3.99980</td>\n",
       "      <td>0</td>\n",
       "      <td>[]</td>\n",
       "    </tr>\n",
       "    <tr>\n",
       "      <th>18</th>\n",
       "      <td>2100</td>\n",
       "      <td>21049006</td>\n",
       "      <td>21751899</td>\n",
       "      <td>35.14465</td>\n",
       "      <td>3.99985</td>\n",
       "      <td>0</td>\n",
       "      <td>[]</td>\n",
       "    </tr>\n",
       "    <tr>\n",
       "      <th>19</th>\n",
       "      <td>2100</td>\n",
       "      <td>21831896</td>\n",
       "      <td>22534789</td>\n",
       "      <td>35.14465</td>\n",
       "      <td>3.99980</td>\n",
       "      <td>0</td>\n",
       "      <td>[]</td>\n",
       "    </tr>\n",
       "    <tr>\n",
       "      <th>20</th>\n",
       "      <td>2103</td>\n",
       "      <td>22614785</td>\n",
       "      <td>23318682</td>\n",
       "      <td>35.19485</td>\n",
       "      <td>3.99985</td>\n",
       "      <td>3</td>\n",
       "      <td>[23115849 23116184 23116518]</td>\n",
       "    </tr>\n",
       "    <tr>\n",
       "      <th>21</th>\n",
       "      <td>2100</td>\n",
       "      <td>23398679</td>\n",
       "      <td>24101572</td>\n",
       "      <td>35.14465</td>\n",
       "      <td>3.99980</td>\n",
       "      <td>0</td>\n",
       "      <td>[]</td>\n",
       "    </tr>\n",
       "    <tr>\n",
       "      <th>22</th>\n",
       "      <td>2100</td>\n",
       "      <td>24181568</td>\n",
       "      <td>24884461</td>\n",
       "      <td>35.14465</td>\n",
       "      <td>3.99985</td>\n",
       "      <td>0</td>\n",
       "      <td>[]</td>\n",
       "    </tr>\n",
       "    <tr>\n",
       "      <th>23</th>\n",
       "      <td>2100</td>\n",
       "      <td>24964458</td>\n",
       "      <td>25667351</td>\n",
       "      <td>35.14465</td>\n",
       "      <td>3.99980</td>\n",
       "      <td>0</td>\n",
       "      <td>[]</td>\n",
       "    </tr>\n",
       "    <tr>\n",
       "      <th>24</th>\n",
       "      <td>2100</td>\n",
       "      <td>25747347</td>\n",
       "      <td>26450240</td>\n",
       "      <td>35.14465</td>\n",
       "      <td>3.99985</td>\n",
       "      <td>0</td>\n",
       "      <td>[]</td>\n",
       "    </tr>\n",
       "    <tr>\n",
       "      <th>25</th>\n",
       "      <td>2100</td>\n",
       "      <td>26530237</td>\n",
       "      <td>27233130</td>\n",
       "      <td>35.14465</td>\n",
       "      <td>3.99980</td>\n",
       "      <td>0</td>\n",
       "      <td>[]</td>\n",
       "    </tr>\n",
       "    <tr>\n",
       "      <th>26</th>\n",
       "      <td>2100</td>\n",
       "      <td>27313126</td>\n",
       "      <td>28016019</td>\n",
       "      <td>35.14465</td>\n",
       "      <td>3.99985</td>\n",
       "      <td>0</td>\n",
       "      <td>[]</td>\n",
       "    </tr>\n",
       "    <tr>\n",
       "      <th>27</th>\n",
       "      <td>2100</td>\n",
       "      <td>28096016</td>\n",
       "      <td>28798908</td>\n",
       "      <td>35.14460</td>\n",
       "      <td>16.99150</td>\n",
       "      <td>0</td>\n",
       "      <td>[]</td>\n",
       "    </tr>\n",
       "    <tr>\n",
       "      <th>28</th>\n",
       "      <td>72001</td>\n",
       "      <td>29138738</td>\n",
       "      <td>53238285</td>\n",
       "      <td>1204.97735</td>\n",
       "      <td>3.98570</td>\n",
       "      <td>1</td>\n",
       "      <td>[32117669]</td>\n",
       "    </tr>\n",
       "    <tr>\n",
       "      <th>30</th>\n",
       "      <td>37802</td>\n",
       "      <td>53396736</td>\n",
       "      <td>66049492</td>\n",
       "      <td>632.63780</td>\n",
       "      <td>7.53265</td>\n",
       "      <td>2</td>\n",
       "      <td>[54428652 54428987]</td>\n",
       "    </tr>\n",
       "    <tr>\n",
       "      <th>31</th>\n",
       "      <td>37802</td>\n",
       "      <td>66200145</td>\n",
       "      <td>78852899</td>\n",
       "      <td>632.63770</td>\n",
       "      <td>7.46735</td>\n",
       "      <td>2</td>\n",
       "      <td>[77843077 77843412]</td>\n",
       "    </tr>\n",
       "    <tr>\n",
       "      <th>32</th>\n",
       "      <td>37802</td>\n",
       "      <td>79002246</td>\n",
       "      <td>91655000</td>\n",
       "      <td>632.63770</td>\n",
       "      <td>3.34995</td>\n",
       "      <td>2</td>\n",
       "      <td>[89420134 89420469]</td>\n",
       "    </tr>\n",
       "    <tr>\n",
       "      <th>34</th>\n",
       "      <td>37805</td>\n",
       "      <td>91761434</td>\n",
       "      <td>104415191</td>\n",
       "      <td>632.68785</td>\n",
       "      <td>8.22535</td>\n",
       "      <td>5</td>\n",
       "      <td>[ 96516008  96516343  96516678 102172628 10226...</td>\n",
       "    </tr>\n",
       "    <tr>\n",
       "      <th>35</th>\n",
       "      <td>37805</td>\n",
       "      <td>104579698</td>\n",
       "      <td>117233433</td>\n",
       "      <td>632.68675</td>\n",
       "      <td>4.03820</td>\n",
       "      <td>5</td>\n",
       "      <td>[105444926 105445261 108101860 108102194 10810...</td>\n",
       "    </tr>\n",
       "    <tr>\n",
       "      <th>36</th>\n",
       "      <td>37803</td>\n",
       "      <td>117314197</td>\n",
       "      <td>129967259</td>\n",
       "      <td>632.65310</td>\n",
       "      <td>0.00000</td>\n",
       "      <td>3</td>\n",
       "      <td>[120927399 129013336 129013671]</td>\n",
       "    </tr>\n",
       "  </tbody>\n",
       "</table>\n",
       "</div>"
      ],
      "text/plain": [
       "    n_frames  start_event  end_event  event_duration  inter_event_duration  \\\n",
       "6      18612      6038432   12268074       311.48210               8.45740   \n",
       "7       2100     12437222   13140115        35.14465               3.99985   \n",
       "8       2100     13220112   13923005        35.14465               3.99980   \n",
       "9       2100     14003001   14705894        35.14465               3.99985   \n",
       "10      2100     14785891   15488783        35.14460               3.99985   \n",
       "11      2100     15568780   16271673        35.14465               3.99980   \n",
       "12      2100     16351669   17054562        35.14465               3.99985   \n",
       "13      2100     17134559   17837452        35.14465               3.99980   \n",
       "14      2100     17917448   18620341        35.14465               3.99985   \n",
       "15      2100     18700338   19403231        35.14465               3.99980   \n",
       "16      2100     19483227   20186120        35.14465               3.99985   \n",
       "17      2100     20266117   20969010        35.14465               3.99980   \n",
       "18      2100     21049006   21751899        35.14465               3.99985   \n",
       "19      2100     21831896   22534789        35.14465               3.99980   \n",
       "20      2103     22614785   23318682        35.19485               3.99985   \n",
       "21      2100     23398679   24101572        35.14465               3.99980   \n",
       "22      2100     24181568   24884461        35.14465               3.99985   \n",
       "23      2100     24964458   25667351        35.14465               3.99980   \n",
       "24      2100     25747347   26450240        35.14465               3.99985   \n",
       "25      2100     26530237   27233130        35.14465               3.99980   \n",
       "26      2100     27313126   28016019        35.14465               3.99985   \n",
       "27      2100     28096016   28798908        35.14460              16.99150   \n",
       "28     72001     29138738   53238285      1204.97735               3.98570   \n",
       "30     37802     53396736   66049492       632.63780               7.53265   \n",
       "31     37802     66200145   78852899       632.63770               7.46735   \n",
       "32     37802     79002246   91655000       632.63770               3.34995   \n",
       "34     37805     91761434  104415191       632.68785               8.22535   \n",
       "35     37805    104579698  117233433       632.68675               4.03820   \n",
       "36     37803    117314197  129967259       632.65310               0.00000   \n",
       "\n",
       "    #repeated_frames                                    repeated_frames  \n",
       "6               9306  [ 6038433  6039103  6039772 ... 12266068 12266...  \n",
       "7                  0                                                 []  \n",
       "8                  0                                                 []  \n",
       "9                  0                                                 []  \n",
       "10                 0                                                 []  \n",
       "11                 0                                                 []  \n",
       "12                 0                                                 []  \n",
       "13                 0                                                 []  \n",
       "14                 0                                                 []  \n",
       "15                 0                                                 []  \n",
       "16                 0                                                 []  \n",
       "17                 0                                                 []  \n",
       "18                 0                                                 []  \n",
       "19                 0                                                 []  \n",
       "20                 3                       [23115849 23116184 23116518]  \n",
       "21                 0                                                 []  \n",
       "22                 0                                                 []  \n",
       "23                 0                                                 []  \n",
       "24                 0                                                 []  \n",
       "25                 0                                                 []  \n",
       "26                 0                                                 []  \n",
       "27                 0                                                 []  \n",
       "28                 1                                         [32117669]  \n",
       "30                 2                                [54428652 54428987]  \n",
       "31                 2                                [77843077 77843412]  \n",
       "32                 2                                [89420134 89420469]  \n",
       "34                 5  [ 96516008  96516343  96516678 102172628 10226...  \n",
       "35                 5  [105444926 105445261 108101860 108102194 10810...  \n",
       "36                 3                    [120927399 129013336 129013671]  "
      ]
     },
     "execution_count": 23,
     "metadata": {},
     "output_type": "execute_result"
    }
   ],
   "source": [
    "filter_frame = event_schedule['n_frames'] > 10\n",
    "event_schedule[filter_frame]"
   ]
  },
  {
   "cell_type": "markdown",
   "metadata": {
    "nbpresent": {
     "id": "905c51ce-b7fc-42a2-815e-67f73a5fcce4"
    }
   },
   "source": [
    "## Save csv file"
   ]
  },
  {
   "cell_type": "code",
   "execution_count": 30,
   "metadata": {
    "nbpresent": {
     "id": "ba993558-2913-411f-9703-a6263efe7453"
    }
   },
   "outputs": [],
   "source": [
    "output_folder = '../data/sync/'+experiment_name+'/schedule_event/'\n",
    "checkDirectory(output_folder)\n",
    "event_schedule.to_csv(output_folder+'schedule_event_'+experiment_name+'_.csv',index=False)"
   ]
  },
  {
   "cell_type": "markdown",
   "metadata": {
    "nbpresent": {
     "id": "388da3c6-1946-4911-b343-1e90f7146663"
    }
   },
   "source": [
    "**Note:** The times in event_duration have small differences with the theoric times, it's because the theorical FPS of the projector is different to the real FPS.   \n",
    "\n",
    "For example, projector show theoricly 60 FPS but the real FPS is 59.7523. Please ckeck it in the log file.\n",
    "* 2100 images to 60 [fps] = 35 [s]\n",
    "* 2100 images to 59.7523 [fps] = 35.145 [s]\n",
    "The differences could be significant!"
   ]
  },
  {
   "cell_type": "markdown",
   "metadata": {
    "nbpresent": {
     "id": "e5ba239a-4260-412c-84c7-f021d8607ac0"
    }
   },
   "source": [
    "## Create separated sync files for each event\n"
   ]
  },
  {
   "cell_type": "code",
   "execution_count": null,
   "metadata": {
    "nbpresent": {
     "id": "db739b01-c18b-4e98-a437-d562b7392b66"
    }
   },
   "outputs": [],
   "source": [
    "source_folder = '../data/sync/'+experiment_name+'/'\n",
    "output_folder = '../data/sync/'+experiment_name+'/schedule_event/times/'\n",
    "checkDirectory(output_folder)\n",
    "\n",
    "event_file = source_folder+'schedule_event/schedule_event_'+experiment_name+'.csv'\n",
    "start_end_file = source_folder+'start_end_frames_'+experiment_name+'.txt' \n",
    "\n",
    "# Load data\n",
    "event_schedule_def = pd.read_csv(event_file)\n",
    "start_end = np.loadtxt( start_end_file , dtype='int32')-1\n",
    "start_frame, end_frame = start_end[:,0], start_end[:,1]\n",
    "\n",
    "pointer = start_end\n",
    "for kidx, (kstart,kend) in enumerate(event_schedule_def[['start_event','end_event']].values):\n",
    "    filter_frame = (pointer[:,0] >= kstart) * (pointer[:,0] < kend) \n",
    "    start_end_event = pointer[filter_frame]\n",
    "    start_end_event[-1,1] = kend\n",
    "    np.savetxt(output_folder+'{:03d}.txt'.format(kidx),start_end_event,fmt='%d')\n",
    "    print(output_folder+'{:03d}.txt'.format(kidx))\n",
    "    pointer = pointer[~filter_frame]\n",
    "    "
   ]
  },
  {
   "cell_type": "code",
   "execution_count": null,
   "metadata": {
    "nbpresent": {
     "id": "bcca384f-c40f-49c8-88e0-20827d897605"
    }
   },
   "outputs": [],
   "source": []
  },
  {
   "cell_type": "code",
   "execution_count": null,
   "metadata": {
    "nbpresent": {
     "id": "5584ee43-56ff-4c51-9b5d-ac885f2db2dc"
    }
   },
   "outputs": [],
   "source": []
  },
  {
   "cell_type": "code",
   "execution_count": null,
   "metadata": {
    "nbpresent": {
     "id": "bc05d0c1-aa6e-4150-b114-c139a2345e69"
    }
   },
   "outputs": [],
   "source": []
  },
  {
   "cell_type": "code",
   "execution_count": null,
   "metadata": {
    "nbpresent": {
     "id": "7f015a80-04dc-4543-804c-f92caf9f9d25"
    }
   },
   "outputs": [],
   "source": []
  },
  {
   "cell_type": "code",
   "execution_count": null,
   "metadata": {
    "nbpresent": {
     "id": "929b0d74-f4b8-4227-a9b4-29daa2adc4d1"
    }
   },
   "outputs": [],
   "source": []
  },
  {
   "cell_type": "code",
   "execution_count": null,
   "metadata": {
    "nbpresent": {
     "id": "10293e9d-a8bc-4ed8-a900-767a4a1fa0d3"
    }
   },
   "outputs": [],
   "source": []
  }
 ],
 "metadata": {
  "kernelspec": {
   "display_name": "Python [conda env:anaconda3]",
   "language": "python",
   "name": "conda-env-anaconda3-py"
  },
  "language_info": {
   "codemirror_mode": {
    "name": "ipython",
    "version": 3
   },
   "file_extension": ".py",
   "mimetype": "text/x-python",
   "name": "python",
   "nbconvert_exporter": "python",
   "pygments_lexer": "ipython3",
   "version": "3.6.4"
  },
  "nbpresent": {
   "slides": {
    "1141a327-2300-4de4-9baf-8970b1afed98": {
     "id": "1141a327-2300-4de4-9baf-8970b1afed98",
     "prev": "b71e4610-2f36-4dd1-86df-7f010908c437",
     "regions": {
      "4e522dd4-f269-4bbd-9a6d-a609ba8ec423": {
       "attrs": {
        "height": 0.8,
        "width": 0.8,
        "x": 0.1,
        "y": 0.1
       },
       "content": {
        "cell": "10293e9d-a8bc-4ed8-a900-767a4a1fa0d3",
        "part": "whole"
       },
       "id": "4e522dd4-f269-4bbd-9a6d-a609ba8ec423"
      }
     }
    },
    "1fffe9fb-914f-4510-ab88-db8ff331bfea": {
     "id": "1fffe9fb-914f-4510-ab88-db8ff331bfea",
     "prev": "b5944355-ed1a-438f-b3e4-a04b5d5c4c6f",
     "regions": {
      "8228da2c-522e-438b-a3b2-147b5294e7eb": {
       "attrs": {
        "height": 0.8,
        "width": 0.8,
        "x": 0.1,
        "y": 0.1
       },
       "content": {
        "cell": "ac521222-93ea-4a8e-8d4a-c3112ea2feb3",
        "part": "whole"
       },
       "id": "8228da2c-522e-438b-a3b2-147b5294e7eb"
      }
     }
    },
    "29ee7641-e306-4246-b16f-3ae6361d9dd6": {
     "id": "29ee7641-e306-4246-b16f-3ae6361d9dd6",
     "prev": "e551858e-8222-4359-bf85-d30423b7987e",
     "regions": {
      "48f91d29-27a9-4043-a2c6-45ce1379877b": {
       "attrs": {
        "height": 0.8,
        "width": 0.8,
        "x": 0.1,
        "y": 0.1
       },
       "content": {
        "cell": "5584ee43-56ff-4c51-9b5d-ac885f2db2dc",
        "part": "whole"
       },
       "id": "48f91d29-27a9-4043-a2c6-45ce1379877b"
      }
     }
    },
    "40242b1e-16a0-4f8e-95f6-e2112a16f2e4": {
     "id": "40242b1e-16a0-4f8e-95f6-e2112a16f2e4",
     "prev": null,
     "regions": {}
    },
    "567052ca-c7b1-46c6-a8b0-41ee5cae0a9c": {
     "id": "567052ca-c7b1-46c6-a8b0-41ee5cae0a9c",
     "prev": "1fffe9fb-914f-4510-ab88-db8ff331bfea",
     "regions": {
      "2aa0e521-86e3-4229-91d7-ede3c759ce30": {
       "attrs": {
        "height": 0.8,
        "width": 0.8,
        "x": 0.1,
        "y": 0.1
       },
       "content": null,
       "id": "2aa0e521-86e3-4229-91d7-ede3c759ce30"
      }
     }
    },
    "705cd611-7e1e-4f4a-b276-919c315e8c66": {
     "id": "705cd611-7e1e-4f4a-b276-919c315e8c66",
     "prev": "aa4c76d4-b69a-4d13-bdab-6227028bbf9b",
     "regions": {
      "4a75d6c4-4d47-49b8-8b43-7da216ed82a2": {
       "attrs": {
        "height": 0.8,
        "width": 0.8,
        "x": 0.1,
        "y": 0.1
       },
       "content": {
        "cell": "e5ba239a-4260-412c-84c7-f021d8607ac0",
        "part": "whole"
       },
       "id": "4a75d6c4-4d47-49b8-8b43-7da216ed82a2"
      }
     }
    },
    "a6cb9c5f-6aee-4a6e-955b-f386abc5629b": {
     "id": "a6cb9c5f-6aee-4a6e-955b-f386abc5629b",
     "prev": "baa1a5e5-8314-44dd-9cfa-5f843ced5ee9",
     "regions": {
      "1747036e-7dea-4dfe-aff6-d77022dba13c": {
       "attrs": {
        "height": 0.8,
        "width": 0.8,
        "x": 0.1,
        "y": 0.1
       },
       "content": {
        "cell": "cd2c6f13-558b-48b9-b1ca-62ee584178f3",
        "part": "whole"
       },
       "id": "1747036e-7dea-4dfe-aff6-d77022dba13c"
      }
     }
    },
    "aa4c76d4-b69a-4d13-bdab-6227028bbf9b": {
     "id": "aa4c76d4-b69a-4d13-bdab-6227028bbf9b",
     "prev": "b81e2039-4afe-44f7-b70b-e47eba34e510",
     "regions": {
      "88d7ef01-01b8-486f-b589-bc4b10ac06f9": {
       "attrs": {
        "height": 0.8,
        "width": 0.8,
        "x": 0.1,
        "y": 0.1
       },
       "content": {
        "cell": "388da3c6-1946-4911-b343-1e90f7146663",
        "part": "whole"
       },
       "id": "88d7ef01-01b8-486f-b589-bc4b10ac06f9"
      }
     }
    },
    "b5944355-ed1a-438f-b3e4-a04b5d5c4c6f": {
     "id": "b5944355-ed1a-438f-b3e4-a04b5d5c4c6f",
     "prev": "40242b1e-16a0-4f8e-95f6-e2112a16f2e4",
     "regions": {
      "127eec25-6152-4f53-8895-274161b965e4": {
       "attrs": {
        "height": 0.8,
        "width": 0.8,
        "x": 0.1,
        "y": 0.1
       },
       "content": {
        "cell": "1cc42797-c7b7-49aa-b339-b598547619c2",
        "part": "whole"
       },
       "id": "127eec25-6152-4f53-8895-274161b965e4"
      }
     }
    },
    "b71e4610-2f36-4dd1-86df-7f010908c437": {
     "id": "b71e4610-2f36-4dd1-86df-7f010908c437",
     "prev": "ca680496-49f9-4d28-a612-53c9ee5d9a82",
     "regions": {
      "960d7449-3647-400c-a606-f1c380a6a814": {
       "attrs": {
        "height": 0.8,
        "width": 0.8,
        "x": 0.1,
        "y": 0.1
       },
       "content": {
        "cell": "929b0d74-f4b8-4227-a9b4-29daa2adc4d1",
        "part": "whole"
       },
       "id": "960d7449-3647-400c-a606-f1c380a6a814"
      }
     }
    },
    "b81e2039-4afe-44f7-b70b-e47eba34e510": {
     "id": "b81e2039-4afe-44f7-b70b-e47eba34e510",
     "prev": "e1ea1c1d-e69a-4a66-89b1-c636c6e55ab3",
     "regions": {
      "273de47b-7a2e-440f-94af-8c40a734ec26": {
       "attrs": {
        "height": 0.8,
        "width": 0.8,
        "x": 0.1,
        "y": 0.1
       },
       "content": {
        "cell": "ba993558-2913-411f-9703-a6263efe7453",
        "part": "whole"
       },
       "id": "273de47b-7a2e-440f-94af-8c40a734ec26"
      }
     }
    },
    "baa1a5e5-8314-44dd-9cfa-5f843ced5ee9": {
     "id": "baa1a5e5-8314-44dd-9cfa-5f843ced5ee9",
     "prev": "f98728cd-4ce4-4ac8-9dbd-5d36a694eb9c",
     "regions": {
      "65909c35-33dc-4e98-85b1-a9b7220cb455": {
       "attrs": {
        "height": 0.8,
        "width": 0.8,
        "x": 0.1,
        "y": 0.1
       },
       "content": {
        "cell": "41bda88d-1e91-418a-b06d-01ea4a668f94",
        "part": "whole"
       },
       "id": "65909c35-33dc-4e98-85b1-a9b7220cb455"
      }
     }
    },
    "bdbdcec2-117a-44e3-a1c0-2b177bac3ea2": {
     "id": "bdbdcec2-117a-44e3-a1c0-2b177bac3ea2",
     "prev": "705cd611-7e1e-4f4a-b276-919c315e8c66",
     "regions": {
      "98e28b1c-4628-4b37-8618-04016f9ab6d9": {
       "attrs": {
        "height": 0.8,
        "width": 0.8,
        "x": 0.1,
        "y": 0.1
       },
       "content": {
        "cell": "db739b01-c18b-4e98-a437-d562b7392b66",
        "part": "whole"
       },
       "id": "98e28b1c-4628-4b37-8618-04016f9ab6d9"
      }
     }
    },
    "bf894d2d-ea40-455b-99bb-2e1b3428f43d": {
     "id": "bf894d2d-ea40-455b-99bb-2e1b3428f43d",
     "prev": "567052ca-c7b1-46c6-a8b0-41ee5cae0a9c",
     "regions": {
      "a4f02053-bca2-4fe4-b990-24d1faa168ef": {
       "attrs": {
        "height": 0.8,
        "width": 0.8,
        "x": 0.1,
        "y": 0.1
       },
       "content": {
        "cell": "5e907554-3b25-498b-b4cd-68af1fd0946c",
        "part": "whole"
       },
       "id": "a4f02053-bca2-4fe4-b990-24d1faa168ef"
      }
     }
    },
    "ca680496-49f9-4d28-a612-53c9ee5d9a82": {
     "id": "ca680496-49f9-4d28-a612-53c9ee5d9a82",
     "prev": "db62692a-8a48-4687-8fb2-456b078ddb42",
     "regions": {
      "cfea3221-62c3-4795-a8d4-14e2f1d20cf9": {
       "attrs": {
        "height": 0.8,
        "width": 0.8,
        "x": 0.1,
        "y": 0.1
       },
       "content": {
        "cell": "7f015a80-04dc-4543-804c-f92caf9f9d25",
        "part": "whole"
       },
       "id": "cfea3221-62c3-4795-a8d4-14e2f1d20cf9"
      }
     }
    },
    "db62692a-8a48-4687-8fb2-456b078ddb42": {
     "id": "db62692a-8a48-4687-8fb2-456b078ddb42",
     "prev": "29ee7641-e306-4246-b16f-3ae6361d9dd6",
     "regions": {
      "e32217be-2bfd-4e16-a506-78a748ad182c": {
       "attrs": {
        "height": 0.8,
        "width": 0.8,
        "x": 0.1,
        "y": 0.1
       },
       "content": {
        "cell": "bc05d0c1-aa6e-4150-b114-c139a2345e69",
        "part": "whole"
       },
       "id": "e32217be-2bfd-4e16-a506-78a748ad182c"
      }
     }
    },
    "e1ea1c1d-e69a-4a66-89b1-c636c6e55ab3": {
     "id": "e1ea1c1d-e69a-4a66-89b1-c636c6e55ab3",
     "prev": "e8fe0cd1-9c38-4977-85e8-0bfce535ddbe",
     "regions": {
      "65246fa1-470d-4d38-b799-53267130a848": {
       "attrs": {
        "height": 0.8,
        "width": 0.8,
        "x": 0.1,
        "y": 0.1
       },
       "content": {
        "cell": "905c51ce-b7fc-42a2-815e-67f73a5fcce4",
        "part": "whole"
       },
       "id": "65246fa1-470d-4d38-b799-53267130a848"
      }
     }
    },
    "e551858e-8222-4359-bf85-d30423b7987e": {
     "id": "e551858e-8222-4359-bf85-d30423b7987e",
     "prev": "bdbdcec2-117a-44e3-a1c0-2b177bac3ea2",
     "regions": {
      "cf26bc08-ccbc-4e35-bda1-2e3c5191dda5": {
       "attrs": {
        "height": 0.8,
        "width": 0.8,
        "x": 0.1,
        "y": 0.1
       },
       "content": {
        "cell": "bcca384f-c40f-49c8-88e0-20827d897605",
        "part": "whole"
       },
       "id": "cf26bc08-ccbc-4e35-bda1-2e3c5191dda5"
      }
     }
    },
    "e8fe0cd1-9c38-4977-85e8-0bfce535ddbe": {
     "id": "e8fe0cd1-9c38-4977-85e8-0bfce535ddbe",
     "prev": "a6cb9c5f-6aee-4a6e-955b-f386abc5629b",
     "regions": {
      "2b1b3394-02dd-4ff0-8af2-7af755580ec0": {
       "attrs": {
        "height": 0.8,
        "width": 0.8,
        "x": 0.1,
        "y": 0.1
       },
       "content": {
        "cell": "f7591ae6-bb74-42f6-9ccc-0c050f4716fc",
        "part": "whole"
       },
       "id": "2b1b3394-02dd-4ff0-8af2-7af755580ec0"
      }
     }
    },
    "f98728cd-4ce4-4ac8-9dbd-5d36a694eb9c": {
     "id": "f98728cd-4ce4-4ac8-9dbd-5d36a694eb9c",
     "prev": "bf894d2d-ea40-455b-99bb-2e1b3428f43d",
     "regions": {
      "1fa88d51-c72e-4b7f-8af9-c6d934e9870f": {
       "attrs": {
        "height": 0.8,
        "width": 0.8,
        "x": 0.1,
        "y": 0.1
       },
       "content": {
        "cell": "4f617082-09ec-495f-951e-40fc7fb9c737",
        "part": "whole"
       },
       "id": "1fa88d51-c72e-4b7f-8af9-c6d934e9870f"
      }
     }
    }
   },
   "themes": {}
  }
 },
 "nbformat": 4,
 "nbformat_minor": 2
}
