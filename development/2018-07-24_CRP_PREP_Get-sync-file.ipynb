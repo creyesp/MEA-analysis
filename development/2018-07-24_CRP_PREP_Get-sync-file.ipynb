{
 "cells": [
  {
   "cell_type": "markdown",
   "metadata": {},
   "source": [
    "# Pre-processing - Get synchronization times\n",
    "\n",
    "This notebook create a file with times of the stimuli for a particular record."
   ]
  },
  {
   "cell_type": "code",
   "execution_count": null,
   "metadata": {},
   "outputs": [],
   "source": [
    "# import sys\n",
    "# sys.path.append('../src')\n",
    "\n",
    "import matplotlib.pyplot as plt\n",
    "import numpy as np\n",
    "import pandas as pd\n",
    "\n",
    "from mealib.utils import check_directory\n",
    "from mealib.preprocessing import Sync\n",
    "\n",
    "%matplotlib notebook "
   ]
  },
  {
   "cell_type": "code",
   "execution_count": 1,
   "metadata": {},
   "outputs": [],
   "source": [
    "experiment_name = 'MR-0242'\n",
    "# experiment_name = '2016-06-17'\n",
    "\n",
    "mcd_file = '../data/raw_data/'+experiment_name+'/'+experiment_name+'_analog.mcd'\n",
    "# mcd_file = '../data/raw_data/chirp_droga/'+experiment_name+'_analog.mcd'\n",
    "output_folder = '../data/sync/'+experiment_name+'/'\n",
    "check_directory(output_folder)\n",
    "\n",
    "real_fps = 59.7694"
   ]
  },
  {
   "cell_type": "markdown",
   "metadata": {
    "nbpresent": {
     "id": "1cc42797-c7b7-49aa-b339-b598547619c2"
    }
   },
   "source": [
    "# Get synchronization signal\n",
    "## Matlab script"
   ]
  },
  {
   "cell_type": "raw",
   "metadata": {},
   "source": [
    "mcd_file = '../data/raw_data/'+experiment_name+'/'+experiment_name+'_analog.mcd'\n",
    "output_folder = '../data/sync/'+experiment_name+'/'\n",
    "mcd_channel = 1\n",
    "sampling_rate = 20000.0\n",
    "real_fps = 59.7694\n",
    "check_directory(output_folder)\n",
    "\n",
    "command_matlab = \"\\\"cd ../src/syncAnalyzer/; syncAnalyzer('../{}','{}','../{}',{},{},{}); quit\\\"\"\\\n",
    "                .format( mcd_file, experiment_name, output_folder, mcd_channel,\n",
    "                        sampling_rate,real_fps)\n",
    "print(command_matlab)\n",
    "!matlab -nodesktop -nodisplay -nosplash -r $command_matlab"
   ]
  },
  {
   "cell_type": "markdown",
   "metadata": {},
   "source": [
    "## python function"
   ]
  },
  {
   "cell_type": "code",
   "execution_count": 2,
   "metadata": {},
   "outputs": [
    {
     "name": "stdout",
     "output_type": "stream",
     "text": [
      "Entities in MCD file.\n",
      "index:  \t label:  \t entity_type: \n",
      "0000: anlg0001 0254 0000       A3 type: 2\n"
     ]
    }
   ],
   "source": [
    "sync_data = Sync(experiment_name,real_fps)\n",
    "\n",
    "sync_data.read_mcd(mcd_file)\n",
    "sync_data.show_entities()"
   ]
  },
  {
   "cell_type": "code",
   "execution_count": 3,
   "metadata": {},
   "outputs": [
    {
     "data": {
      "text/plain": [
       "{'AppName': 'MC_Rack 4.6.2.0',\n",
       " 'EntityCount': 1,\n",
       " 'FileComment': '',\n",
       " 'FileType': 'Conf cont An',\n",
       " 'TimeSpan': 6409.1,\n",
       " 'TimeStampResolution': 5e-05,\n",
       " 'Time_Day': 18,\n",
       " 'Time_Hour': 17,\n",
       " 'Time_MilliSec': 894,\n",
       " 'Time_Min': 0,\n",
       " 'Time_Month': 4,\n",
       " 'Time_Sec': 25,\n",
       " 'Time_Year': 2018}"
      ]
     },
     "execution_count": 3,
     "metadata": {},
     "output_type": "execute_result"
    }
   ],
   "source": [
    "sync_data.data.metadata_raw"
   ]
  },
  {
   "cell_type": "code",
   "execution_count": 4,
   "metadata": {},
   "outputs": [
    {
     "ename": "MemoryError",
     "evalue": "",
     "output_type": "error",
     "traceback": [
      "\u001b[0;31m---------------------------------------------------------------------------\u001b[0m",
      "\u001b[0;31mMemoryError\u001b[0m                               Traceback (most recent call last)",
      "\u001b[0;32m<ipython-input-4-2a4c634a6c11>\u001b[0m in \u001b[0;36m<module>\u001b[0;34m()\u001b[0m\n\u001b[1;32m      1\u001b[0m \u001b[0mmcd_channel\u001b[0m \u001b[0;34m=\u001b[0m \u001b[0;36m0\u001b[0m\u001b[0;34m\u001b[0m\u001b[0m\n\u001b[1;32m      2\u001b[0m \u001b[0;34m\u001b[0m\u001b[0m\n\u001b[0;32m----> 3\u001b[0;31m \u001b[0msync_data\u001b[0m\u001b[0;34m.\u001b[0m\u001b[0manalyzer\u001b[0m\u001b[0;34m(\u001b[0m\u001b[0mmcd_channel\u001b[0m\u001b[0;34m)\u001b[0m\u001b[0;34m\u001b[0m\u001b[0m\n\u001b[0m",
      "\u001b[0;32m/home/cesar/.local/lib/python2.7/site-packages/mealib/decorators.pyc\u001b[0m in \u001b[0;36mwrapper_attr\u001b[0;34m(*args, **kwargs)\u001b[0m\n\u001b[1;32m      9\u001b[0m             \u001b[0;32mfor\u001b[0m \u001b[0mkattr\u001b[0m \u001b[0;32min\u001b[0m \u001b[0mattr\u001b[0m\u001b[0;34m:\u001b[0m\u001b[0;34m\u001b[0m\u001b[0m\n\u001b[1;32m     10\u001b[0m                 \u001b[0;32mif\u001b[0m \u001b[0mhasattr\u001b[0m\u001b[0;34m(\u001b[0m\u001b[0margs\u001b[0m\u001b[0;34m[\u001b[0m\u001b[0;36m0\u001b[0m\u001b[0;34m]\u001b[0m\u001b[0;34m,\u001b[0m \u001b[0mkattr\u001b[0m\u001b[0;34m)\u001b[0m\u001b[0;34m:\u001b[0m\u001b[0;34m\u001b[0m\u001b[0m\n\u001b[0;32m---> 11\u001b[0;31m                     \u001b[0;32mreturn\u001b[0m \u001b[0mfunc\u001b[0m\u001b[0;34m(\u001b[0m\u001b[0;34m*\u001b[0m\u001b[0margs\u001b[0m\u001b[0;34m,\u001b[0m \u001b[0;34m**\u001b[0m\u001b[0mkwargs\u001b[0m\u001b[0;34m)\u001b[0m\u001b[0;34m\u001b[0m\u001b[0m\n\u001b[0m\u001b[1;32m     12\u001b[0m                 \u001b[0;32melse\u001b[0m\u001b[0;34m:\u001b[0m\u001b[0;34m\u001b[0m\u001b[0m\n\u001b[1;32m     13\u001b[0m                     \u001b[0;32mif\u001b[0m \u001b[0mkattr\u001b[0m \u001b[0;34m==\u001b[0m \u001b[0;34m'data'\u001b[0m\u001b[0;34m:\u001b[0m\u001b[0;34m\u001b[0m\u001b[0m\n",
      "\u001b[0;32m/home/cesar/.local/lib/python2.7/site-packages/mealib/preprocessing.py\u001b[0m in \u001b[0;36manalyzer\u001b[0;34m(self, channel)\u001b[0m\n\u001b[1;32m    199\u001b[0m         \u001b[0mfilter_amp\u001b[0m\u001b[0;34m[\u001b[0m\u001b[0;34m:\u001b[0m\u001b[0mwide_pulse\u001b[0m\u001b[0;34m]\u001b[0m \u001b[0;34m=\u001b[0m \u001b[0mFalse\u001b[0m\u001b[0;34m\u001b[0m\u001b[0m\n\u001b[1;32m    200\u001b[0m         \u001b[0mfilter_amp\u001b[0m\u001b[0;34m[\u001b[0m\u001b[0;34m-\u001b[0m\u001b[0;36m2\u001b[0m\u001b[0;34m:\u001b[0m\u001b[0;34m]\u001b[0m \u001b[0;34m=\u001b[0m \u001b[0mFalse\u001b[0m\u001b[0;34m\u001b[0m\u001b[0m\n\u001b[0;32m--> 201\u001b[0;31m         \u001b[0mfilter_amp_pos\u001b[0m \u001b[0;34m=\u001b[0m \u001b[0mnp\u001b[0m\u001b[0;34m.\u001b[0m\u001b[0mwhere\u001b[0m\u001b[0;34m(\u001b[0m\u001b[0mfilter_amp\u001b[0m\u001b[0;34m)\u001b[0m\u001b[0;34m[\u001b[0m\u001b[0;36m0\u001b[0m\u001b[0;34m]\u001b[0m\u001b[0;34m\u001b[0m\u001b[0m\n\u001b[0m\u001b[1;32m    202\u001b[0m         \u001b[0msync_point\u001b[0m \u001b[0;34m=\u001b[0m \u001b[0;34m[\u001b[0m\u001b[0;34m]\u001b[0m\u001b[0;34m\u001b[0m\u001b[0m\n\u001b[1;32m    203\u001b[0m         \u001b[0msync_amp\u001b[0m \u001b[0;34m=\u001b[0m \u001b[0;34m[\u001b[0m\u001b[0;34m]\u001b[0m\u001b[0;34m\u001b[0m\u001b[0m\n",
      "\u001b[0;31mMemoryError\u001b[0m: "
     ]
    }
   ],
   "source": [
    "mcd_channel = 0\n",
    "\n",
    "sync_data.analyzer(mcd_channel)"
   ]
  },
  {
   "cell_type": "markdown",
   "metadata": {
    "nbpresent": {
     "id": "5e907554-3b25-498b-b4cd-68af1fd0946c"
    }
   },
   "source": [
    "## Read start-end file and create event list\n",
    "From sync file created above we compute the difference between all frames and we only take the frames with a difference more than one frame to create a event."
   ]
  },
  {
   "cell_type": "code",
   "execution_count": null,
   "metadata": {
    "nbpresent": {
     "id": "4f617082-09ec-495f-951e-40fc7fb9c737"
    }
   },
   "outputs": [],
   "source": [
    "sync_data.create_events()\n",
    "sync_data.event_list.head()"
   ]
  },
  {
   "cell_type": "markdown",
   "metadata": {
    "nbpresent": {
     "id": "41bda88d-1e91-418a-b06d-01ea4a668f94"
    }
   },
   "source": [
    "### Add repetition frame time  in csv file"
   ]
  },
  {
   "cell_type": "code",
   "execution_count": null,
   "metadata": {
    "nbpresent": {
     "id": "cd2c6f13-558b-48b9-b1ca-62ee584178f3"
    }
   },
   "outputs": [],
   "source": [
    "sync_data.add_repeated()\n",
    "sync_data.event_list.head()"
   ]
  },
  {
   "cell_type": "code",
   "execution_count": null,
   "metadata": {
    "nbpresent": {
     "id": "f7591ae6-bb74-42f6-9ccc-0c050f4716fc"
    }
   },
   "outputs": [],
   "source": [
    "event_list = sync_data.event_list\n",
    "filter_frame = event_list['n_frames'] > -1\n",
    "event_list[filter_frame]"
   ]
  },
  {
   "cell_type": "markdown",
   "metadata": {},
   "source": [
    "### Check repeated\n"
   ]
  },
  {
   "cell_type": "code",
   "execution_count": null,
   "metadata": {},
   "outputs": [],
   "source": [
    "mcd_channel = 0\n",
    "start_point = 34877499-1000\n",
    "window = 3000\n",
    "sync_data.plot_window( mcd_channel, start_point, window )"
   ]
  },
  {
   "cell_type": "markdown",
   "metadata": {
    "nbpresent": {
     "id": "905c51ce-b7fc-42a2-815e-67f73a5fcce4"
    }
   },
   "source": [
    "## Save csv file"
   ]
  },
  {
   "cell_type": "code",
   "execution_count": null,
   "metadata": {},
   "outputs": [],
   "source": [
    "sync_data.save_analyzed(output_folder)"
   ]
  },
  {
   "cell_type": "code",
   "execution_count": null,
   "metadata": {
    "nbpresent": {
     "id": "ba993558-2913-411f-9703-a6263efe7453"
    }
   },
   "outputs": [],
   "source": [
    "sync_data.save_events(output_folder)"
   ]
  },
  {
   "cell_type": "code",
   "execution_count": null,
   "metadata": {},
   "outputs": [],
   "source": [
    "sync_data.close_file()"
   ]
  },
  {
   "cell_type": "markdown",
   "metadata": {
    "nbpresent": {
     "id": "388da3c6-1946-4911-b343-1e90f7146663"
    }
   },
   "source": [
    "**Note:** The times in event_duration have small differences with the theoric times, it's because the theorical FPS of the projector is different to the real FPS.   \n",
    "\n",
    "For example, projector show theoricly 60 FPS but the real FPS is 59.7523. Please ckeck it in the log file.\n",
    "* 2100 images to 60 [fps] = 35 [s]\n",
    "* 2100 images to 59.7523 [fps] = 35.145 [s]\n",
    "The differences could be significant!"
   ]
  },
  {
   "cell_type": "markdown",
   "metadata": {
    "nbpresent": {
     "id": "e5ba239a-4260-412c-84c7-f021d8607ac0"
    }
   },
   "source": [
    "## Create separated sync files for each event\n"
   ]
  },
  {
   "cell_type": "code",
   "execution_count": null,
   "metadata": {
    "nbpresent": {
     "id": "db739b01-c18b-4e98-a437-d562b7392b66"
    }
   },
   "outputs": [],
   "source": [
    "experiment_name = 'MR-0242'\n",
    "\n",
    "source_folder = '../data/sync/'+experiment_name+'/'\n",
    "output_folder = '../data/sync/'+experiment_name+'/event_list/'\n",
    "check_directory(output_folder)\n",
    "\n",
    "sync_reload = Sync(experiment_name)\n",
    "sync_reload.load_analyzed(source_folder)\n",
    "sync_reload.load_events(source_folder + 'event_list_' + sync_reload.exp_name + '_.csv')\n",
    "sync_reload.create_separated_sync(output_folder)\n"
   ]
  },
  {
   "cell_type": "code",
   "execution_count": null,
   "metadata": {},
   "outputs": [],
   "source": []
  },
  {
   "cell_type": "code",
   "execution_count": null,
   "metadata": {},
   "outputs": [],
   "source": []
  },
  {
   "cell_type": "code",
   "execution_count": null,
   "metadata": {},
   "outputs": [],
   "source": []
  },
  {
   "cell_type": "code",
   "execution_count": null,
   "metadata": {
    "nbpresent": {
     "id": "bc05d0c1-aa6e-4150-b114-c139a2345e69"
    }
   },
   "outputs": [],
   "source": [
    "# exp = {'MR-0117' : 0,'MR-0118' : 0,'MR-0119' : 0,'MR-0120' : 0,'MR-0121' : 0,'MR-0122' : 0,'MR-0123' : 0,'MR-0124' : 0,\n",
    "#        'MR-0125' : 0,'MR-0126' : 0,'MR-0127' : 0,'MR-0128' : 0,'MR-0129' : 0,'MR-0130' : 0,'MR-0131' : 0,'MR-0133' : 0,\n",
    "#        'MR-0135' : 0,'MR-0145' : 0,'MR-0146' : 0,'MR-0147' : 0,'MR-0148' : 0,'MR-0149' : 0,'MR-0174' : 0,'MR-0227' : 0,\n",
    "#        'MR-0228':1,'MR-0242':0}\n",
    "exp = {'MR-0261':0,'MR-0261-2':1,'MR-0262':0,'MR-0263':0,\n",
    "        'MR-0263-2':0,'MR-0264':0}\n",
    "\n",
    "for kexp in exp:\n",
    "    source_folder = '../data/sync/'+kexp+'/'\n",
    "    print('\\n'+kexp)\n",
    "    sync_data = Sync(kexp,real_fps)\n",
    "    sync_data.read_mcd('../data/raw_data/'+kexp+'/'+kexp+'_analog.mcd')\n",
    "    sync_data.show_entities()\n",
    "    sync_data.plot_window(2,5*60*20000,20000)"
   ]
  },
  {
   "cell_type": "code",
   "execution_count": null,
   "metadata": {},
   "outputs": [],
   "source": []
  },
  {
   "cell_type": "code",
   "execution_count": null,
   "metadata": {},
   "outputs": [],
   "source": []
  },
  {
   "cell_type": "code",
   "execution_count": null,
   "metadata": {},
   "outputs": [],
   "source": []
  },
  {
   "cell_type": "code",
   "execution_count": null,
   "metadata": {},
   "outputs": [],
   "source": [
    "start_point = 10000360-335\n",
    "duration_points = 335*5\n",
    "# for kchannel in range(252,256):\n",
    "for kchannel in range(2):\n",
    "    sync_data.plot_window(kchannel,start_point,duration_points)"
   ]
  },
  {
   "cell_type": "code",
   "execution_count": null,
   "metadata": {},
   "outputs": [],
   "source": [
    "def getTimes(start_point, duration_points = 335*7):\n",
    "    ss,nada,nada = sync_data.data.entities[254].get_data(start_point,duration_points)\n",
    "    ss = ss/np.amax(ss)\n",
    "    ld,nada,nada = sync_data.data.entities[253].get_data(start_point,duration_points)\n",
    "    ld = ld/np.amax(ld)\n",
    "    plt.plot(ss,alpha=0.9,label='Sync signal',lw=0.3)\n",
    "    plt.plot(ld,alpha=0.9,label='Photodiode',lw=0.3)\n",
    "    plt.xlabel('Time [samples]')\n",
    "    plt.ylabel('Normalized amplituded [V]')\n",
    "    plt.legend()\n",
    "\n",
    "\n",
    "plt.figure(figsize=(10,5))\n",
    "plt.subplot(1,2,1).set_title('Start of a sequence of imgenes')\n",
    "getTimes(start_point = 154360-335*2)\n",
    "plt.subplot(1,2,2).set_title('End of a sequence of imgenes')\n",
    "getTimes(start_point = 857923-335*5)\n",
    "# plt.savefig('../figures/Photodiode_record.png')"
   ]
  },
  {
   "cell_type": "code",
   "execution_count": null,
   "metadata": {},
   "outputs": [],
   "source": [
    "import pyMCStream as mc\n",
    "pd_data = b'/home/cesar/exp/MEA-analysis/data/raw_data/test/test_analog.mcd'\n",
    "data = mc.open_stream(pd_data,b'anlg0001')\n",
    "\n"
   ]
  },
  {
   "cell_type": "code",
   "execution_count": null,
   "metadata": {},
   "outputs": [],
   "source": [
    "data.shape"
   ]
  },
  {
   "cell_type": "code",
   "execution_count": null,
   "metadata": {},
   "outputs": [],
   "source": [
    "data, time, dur = sync_data.get_raw_data(131)"
   ]
  },
  {
   "cell_type": "code",
   "execution_count": null,
   "metadata": {},
   "outputs": [],
   "source": [
    "data.shape\n",
    "plt.figure()\n",
    "plt.plot(data[154360:857923])"
   ]
  }
 ],
 "metadata": {
  "kernelspec": {
   "display_name": "Python [conda env:sync]",
   "language": "python",
   "name": "conda-env-sync-py"
  },
  "language_info": {
   "codemirror_mode": {
    "name": "ipython",
    "version": 2
   },
   "file_extension": ".py",
   "mimetype": "text/x-python",
   "name": "python",
   "nbconvert_exporter": "python",
   "pygments_lexer": "ipython2",
   "version": "2.7.15"
  },
  "nbpresent": {
   "slides": {
    "1141a327-2300-4de4-9baf-8970b1afed98": {
     "id": "1141a327-2300-4de4-9baf-8970b1afed98",
     "prev": "b71e4610-2f36-4dd1-86df-7f010908c437",
     "regions": {
      "4e522dd4-f269-4bbd-9a6d-a609ba8ec423": {
       "attrs": {
        "height": 0.8,
        "width": 0.8,
        "x": 0.1,
        "y": 0.1
       },
       "content": {
        "cell": "10293e9d-a8bc-4ed8-a900-767a4a1fa0d3",
        "part": "whole"
       },
       "id": "4e522dd4-f269-4bbd-9a6d-a609ba8ec423"
      }
     }
    },
    "1fffe9fb-914f-4510-ab88-db8ff331bfea": {
     "id": "1fffe9fb-914f-4510-ab88-db8ff331bfea",
     "prev": "b5944355-ed1a-438f-b3e4-a04b5d5c4c6f",
     "regions": {
      "8228da2c-522e-438b-a3b2-147b5294e7eb": {
       "attrs": {
        "height": 0.8,
        "width": 0.8,
        "x": 0.1,
        "y": 0.1
       },
       "content": {
        "cell": "ac521222-93ea-4a8e-8d4a-c3112ea2feb3",
        "part": "whole"
       },
       "id": "8228da2c-522e-438b-a3b2-147b5294e7eb"
      }
     }
    },
    "29ee7641-e306-4246-b16f-3ae6361d9dd6": {
     "id": "29ee7641-e306-4246-b16f-3ae6361d9dd6",
     "prev": "e551858e-8222-4359-bf85-d30423b7987e",
     "regions": {
      "48f91d29-27a9-4043-a2c6-45ce1379877b": {
       "attrs": {
        "height": 0.8,
        "width": 0.8,
        "x": 0.1,
        "y": 0.1
       },
       "content": {
        "cell": "5584ee43-56ff-4c51-9b5d-ac885f2db2dc",
        "part": "whole"
       },
       "id": "48f91d29-27a9-4043-a2c6-45ce1379877b"
      }
     }
    },
    "40242b1e-16a0-4f8e-95f6-e2112a16f2e4": {
     "id": "40242b1e-16a0-4f8e-95f6-e2112a16f2e4",
     "prev": null,
     "regions": {}
    },
    "567052ca-c7b1-46c6-a8b0-41ee5cae0a9c": {
     "id": "567052ca-c7b1-46c6-a8b0-41ee5cae0a9c",
     "prev": "1fffe9fb-914f-4510-ab88-db8ff331bfea",
     "regions": {
      "2aa0e521-86e3-4229-91d7-ede3c759ce30": {
       "attrs": {
        "height": 0.8,
        "width": 0.8,
        "x": 0.1,
        "y": 0.1
       },
       "content": null,
       "id": "2aa0e521-86e3-4229-91d7-ede3c759ce30"
      }
     }
    },
    "705cd611-7e1e-4f4a-b276-919c315e8c66": {
     "id": "705cd611-7e1e-4f4a-b276-919c315e8c66",
     "prev": "aa4c76d4-b69a-4d13-bdab-6227028bbf9b",
     "regions": {
      "4a75d6c4-4d47-49b8-8b43-7da216ed82a2": {
       "attrs": {
        "height": 0.8,
        "width": 0.8,
        "x": 0.1,
        "y": 0.1
       },
       "content": {
        "cell": "e5ba239a-4260-412c-84c7-f021d8607ac0",
        "part": "whole"
       },
       "id": "4a75d6c4-4d47-49b8-8b43-7da216ed82a2"
      }
     }
    },
    "a6cb9c5f-6aee-4a6e-955b-f386abc5629b": {
     "id": "a6cb9c5f-6aee-4a6e-955b-f386abc5629b",
     "prev": "baa1a5e5-8314-44dd-9cfa-5f843ced5ee9",
     "regions": {
      "1747036e-7dea-4dfe-aff6-d77022dba13c": {
       "attrs": {
        "height": 0.8,
        "width": 0.8,
        "x": 0.1,
        "y": 0.1
       },
       "content": {
        "cell": "cd2c6f13-558b-48b9-b1ca-62ee584178f3",
        "part": "whole"
       },
       "id": "1747036e-7dea-4dfe-aff6-d77022dba13c"
      }
     }
    },
    "aa4c76d4-b69a-4d13-bdab-6227028bbf9b": {
     "id": "aa4c76d4-b69a-4d13-bdab-6227028bbf9b",
     "prev": "b81e2039-4afe-44f7-b70b-e47eba34e510",
     "regions": {
      "88d7ef01-01b8-486f-b589-bc4b10ac06f9": {
       "attrs": {
        "height": 0.8,
        "width": 0.8,
        "x": 0.1,
        "y": 0.1
       },
       "content": {
        "cell": "388da3c6-1946-4911-b343-1e90f7146663",
        "part": "whole"
       },
       "id": "88d7ef01-01b8-486f-b589-bc4b10ac06f9"
      }
     }
    },
    "b5944355-ed1a-438f-b3e4-a04b5d5c4c6f": {
     "id": "b5944355-ed1a-438f-b3e4-a04b5d5c4c6f",
     "prev": "40242b1e-16a0-4f8e-95f6-e2112a16f2e4",
     "regions": {
      "127eec25-6152-4f53-8895-274161b965e4": {
       "attrs": {
        "height": 0.8,
        "width": 0.8,
        "x": 0.1,
        "y": 0.1
       },
       "content": {
        "cell": "1cc42797-c7b7-49aa-b339-b598547619c2",
        "part": "whole"
       },
       "id": "127eec25-6152-4f53-8895-274161b965e4"
      }
     }
    },
    "b71e4610-2f36-4dd1-86df-7f010908c437": {
     "id": "b71e4610-2f36-4dd1-86df-7f010908c437",
     "prev": "ca680496-49f9-4d28-a612-53c9ee5d9a82",
     "regions": {
      "960d7449-3647-400c-a606-f1c380a6a814": {
       "attrs": {
        "height": 0.8,
        "width": 0.8,
        "x": 0.1,
        "y": 0.1
       },
       "content": {
        "cell": "929b0d74-f4b8-4227-a9b4-29daa2adc4d1",
        "part": "whole"
       },
       "id": "960d7449-3647-400c-a606-f1c380a6a814"
      }
     }
    },
    "b81e2039-4afe-44f7-b70b-e47eba34e510": {
     "id": "b81e2039-4afe-44f7-b70b-e47eba34e510",
     "prev": "e1ea1c1d-e69a-4a66-89b1-c636c6e55ab3",
     "regions": {
      "273de47b-7a2e-440f-94af-8c40a734ec26": {
       "attrs": {
        "height": 0.8,
        "width": 0.8,
        "x": 0.1,
        "y": 0.1
       },
       "content": {
        "cell": "ba993558-2913-411f-9703-a6263efe7453",
        "part": "whole"
       },
       "id": "273de47b-7a2e-440f-94af-8c40a734ec26"
      }
     }
    },
    "baa1a5e5-8314-44dd-9cfa-5f843ced5ee9": {
     "id": "baa1a5e5-8314-44dd-9cfa-5f843ced5ee9",
     "prev": "f98728cd-4ce4-4ac8-9dbd-5d36a694eb9c",
     "regions": {
      "65909c35-33dc-4e98-85b1-a9b7220cb455": {
       "attrs": {
        "height": 0.8,
        "width": 0.8,
        "x": 0.1,
        "y": 0.1
       },
       "content": {
        "cell": "41bda88d-1e91-418a-b06d-01ea4a668f94",
        "part": "whole"
       },
       "id": "65909c35-33dc-4e98-85b1-a9b7220cb455"
      }
     }
    },
    "bdbdcec2-117a-44e3-a1c0-2b177bac3ea2": {
     "id": "bdbdcec2-117a-44e3-a1c0-2b177bac3ea2",
     "prev": "705cd611-7e1e-4f4a-b276-919c315e8c66",
     "regions": {
      "98e28b1c-4628-4b37-8618-04016f9ab6d9": {
       "attrs": {
        "height": 0.8,
        "width": 0.8,
        "x": 0.1,
        "y": 0.1
       },
       "content": {
        "cell": "db739b01-c18b-4e98-a437-d562b7392b66",
        "part": "whole"
       },
       "id": "98e28b1c-4628-4b37-8618-04016f9ab6d9"
      }
     }
    },
    "bf894d2d-ea40-455b-99bb-2e1b3428f43d": {
     "id": "bf894d2d-ea40-455b-99bb-2e1b3428f43d",
     "prev": "567052ca-c7b1-46c6-a8b0-41ee5cae0a9c",
     "regions": {
      "a4f02053-bca2-4fe4-b990-24d1faa168ef": {
       "attrs": {
        "height": 0.8,
        "width": 0.8,
        "x": 0.1,
        "y": 0.1
       },
       "content": {
        "cell": "5e907554-3b25-498b-b4cd-68af1fd0946c",
        "part": "whole"
       },
       "id": "a4f02053-bca2-4fe4-b990-24d1faa168ef"
      }
     }
    },
    "ca680496-49f9-4d28-a612-53c9ee5d9a82": {
     "id": "ca680496-49f9-4d28-a612-53c9ee5d9a82",
     "prev": "db62692a-8a48-4687-8fb2-456b078ddb42",
     "regions": {
      "cfea3221-62c3-4795-a8d4-14e2f1d20cf9": {
       "attrs": {
        "height": 0.8,
        "width": 0.8,
        "x": 0.1,
        "y": 0.1
       },
       "content": {
        "cell": "7f015a80-04dc-4543-804c-f92caf9f9d25",
        "part": "whole"
       },
       "id": "cfea3221-62c3-4795-a8d4-14e2f1d20cf9"
      }
     }
    },
    "db62692a-8a48-4687-8fb2-456b078ddb42": {
     "id": "db62692a-8a48-4687-8fb2-456b078ddb42",
     "prev": "29ee7641-e306-4246-b16f-3ae6361d9dd6",
     "regions": {
      "e32217be-2bfd-4e16-a506-78a748ad182c": {
       "attrs": {
        "height": 0.8,
        "width": 0.8,
        "x": 0.1,
        "y": 0.1
       },
       "content": {
        "cell": "bc05d0c1-aa6e-4150-b114-c139a2345e69",
        "part": "whole"
       },
       "id": "e32217be-2bfd-4e16-a506-78a748ad182c"
      }
     }
    },
    "e1ea1c1d-e69a-4a66-89b1-c636c6e55ab3": {
     "id": "e1ea1c1d-e69a-4a66-89b1-c636c6e55ab3",
     "prev": "e8fe0cd1-9c38-4977-85e8-0bfce535ddbe",
     "regions": {
      "65246fa1-470d-4d38-b799-53267130a848": {
       "attrs": {
        "height": 0.8,
        "width": 0.8,
        "x": 0.1,
        "y": 0.1
       },
       "content": {
        "cell": "905c51ce-b7fc-42a2-815e-67f73a5fcce4",
        "part": "whole"
       },
       "id": "65246fa1-470d-4d38-b799-53267130a848"
      }
     }
    },
    "e551858e-8222-4359-bf85-d30423b7987e": {
     "id": "e551858e-8222-4359-bf85-d30423b7987e",
     "prev": "bdbdcec2-117a-44e3-a1c0-2b177bac3ea2",
     "regions": {
      "cf26bc08-ccbc-4e35-bda1-2e3c5191dda5": {
       "attrs": {
        "height": 0.8,
        "width": 0.8,
        "x": 0.1,
        "y": 0.1
       },
       "content": {
        "cell": "bcca384f-c40f-49c8-88e0-20827d897605",
        "part": "whole"
       },
       "id": "cf26bc08-ccbc-4e35-bda1-2e3c5191dda5"
      }
     }
    },
    "e8fe0cd1-9c38-4977-85e8-0bfce535ddbe": {
     "id": "e8fe0cd1-9c38-4977-85e8-0bfce535ddbe",
     "prev": "a6cb9c5f-6aee-4a6e-955b-f386abc5629b",
     "regions": {
      "2b1b3394-02dd-4ff0-8af2-7af755580ec0": {
       "attrs": {
        "height": 0.8,
        "width": 0.8,
        "x": 0.1,
        "y": 0.1
       },
       "content": {
        "cell": "f7591ae6-bb74-42f6-9ccc-0c050f4716fc",
        "part": "whole"
       },
       "id": "2b1b3394-02dd-4ff0-8af2-7af755580ec0"
      }
     }
    },
    "f98728cd-4ce4-4ac8-9dbd-5d36a694eb9c": {
     "id": "f98728cd-4ce4-4ac8-9dbd-5d36a694eb9c",
     "prev": "bf894d2d-ea40-455b-99bb-2e1b3428f43d",
     "regions": {
      "1fa88d51-c72e-4b7f-8af9-c6d934e9870f": {
       "attrs": {
        "height": 0.8,
        "width": 0.8,
        "x": 0.1,
        "y": 0.1
       },
       "content": {
        "cell": "4f617082-09ec-495f-951e-40fc7fb9c737",
        "part": "whole"
       },
       "id": "1fa88d51-c72e-4b7f-8af9-c6d934e9870f"
      }
     }
    }
   },
   "themes": {}
  },
  "toc": {
   "base_numbering": 1,
   "nav_menu": {},
   "number_sections": false,
   "sideBar": true,
   "skip_h1_title": true,
   "title_cell": "Table of Contents",
   "title_sidebar": "Contents",
   "toc_cell": false,
   "toc_position": {
    "height": "calc(100% - 180px)",
    "left": "10px",
    "top": "150px",
    "width": "369px"
   },
   "toc_section_display": true,
   "toc_window_display": false
  },
  "varInspector": {
   "cols": {
    "lenName": 16,
    "lenType": 16,
    "lenVar": 40
   },
   "kernels_config": {
    "python": {
     "delete_cmd_postfix": "",
     "delete_cmd_prefix": "del ",
     "library": "var_list.py",
     "varRefreshCmd": "print(var_dic_list())"
    },
    "r": {
     "delete_cmd_postfix": ") ",
     "delete_cmd_prefix": "rm(",
     "library": "var_list.r",
     "varRefreshCmd": "cat(var_dic_list()) "
    }
   },
   "oldHeight": 610.166666,
   "position": {
    "height": "632px",
    "left": "1176.25px",
    "right": "17px",
    "top": "107px",
    "width": "498px"
   },
   "types_to_exclude": [
    "module",
    "function",
    "builtin_function_or_method",
    "instance",
    "_Feature"
   ],
   "varInspector_section_display": "block",
   "window_display": false
  }
 },
 "nbformat": 4,
 "nbformat_minor": 2
}
