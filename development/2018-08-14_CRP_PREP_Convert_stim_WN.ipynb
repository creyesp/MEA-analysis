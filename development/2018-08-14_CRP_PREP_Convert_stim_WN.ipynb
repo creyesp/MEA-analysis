{
 "cells": [
  {
   "cell_type": "markdown",
   "metadata": {},
   "source": [
    "# Convert .mat file to hdf5 python format\n",
    "\n",
    "HDF5 describes data set dimensions in **row-major order**; MATLAB stores data in **column-major order**.For example, if Matlab (Fortran) writes a 4x6 two-dimensional dataset to the file, a Python (C) program will read it as a 6x4 two-dimensional dataset into memory.\n",
    "\n",
    "\"The first dimension stored in the list of dimensions is the slowest changing dimension and the last dimension stored is the fastest changing dimension.\"\n",
    "\n",
    "scipy.io.loadmat only soppourt version less than 7.3. To read version 7.3 we need hdf5.   \n",
    "\n",
    "In Matlab you can put the flag '-v7.3' to save as hdh5 file.   \n",
    "save('filename', '-v7.3', 'var1');\n",
    "\n",
    "More about matlab version [here](https://www.mathworks.com/help/matlab/import_export/mat-file-versions.html)"
   ]
  },
  {
   "cell_type": "code",
   "execution_count": 1,
   "metadata": {},
   "outputs": [
    {
     "name": "stderr",
     "output_type": "stream",
     "text": [
      "/home/cesar/Software/anaconda3/lib/python3.6/site-packages/h5py/__init__.py:36: FutureWarning: Conversion of the second argument of issubdtype from `float` to `np.floating` is deprecated. In future, it will be treated as `np.float64 == np.dtype(float).type`.\n",
      "  from ._conv import register_converters as _register_converters\n"
     ]
    }
   ],
   "source": [
    "import sys\n",
    "sys.path.append('../src')\n",
    "from mealib.utils import checkDirectory\n",
    "from mealib.preprocessing import correct_checkerboard\n",
    "\n",
    "import numpy as np\n",
    "import h5py\n",
    "import matplotlib.pyplot as plt\n",
    "from scipy.io import loadmat\n",
    "\n",
    "%matplotlib notebook\n"
   ]
  },
  {
   "cell_type": "markdown",
   "metadata": {},
   "source": [
    "\n",
    "inputs:   \n",
    "* **exp_name** : name of experiment\n",
    "* **checkerboar_file**: file with only checkerboar syncronization time. To generate this file use Get-sync notebook\n",
    "* **mat_version** : if .mat file has more than 100.000.000 element, Matlab automaticly save in 'v7.3'\n",
    "* **stim_file** : stim im .mat format\n",
    "* **sync_file** : full path to checkerboar_file\n",
    "* **repeated_file** : txt file with repeated frame\n",
    "* **outputfile** : full path to save converted stimulus\n"
   ]
  },
  {
   "cell_type": "code",
   "execution_count": 2,
   "metadata": {},
   "outputs": [],
   "source": [
    "exp_name = 'MR-0227'\n",
    "checkerboar_file = '028.txt'\n",
    "mat_version = 'v7.3'                    \n",
    "\n",
    "stim_file = '../data/stim/checkerboard/stim_mini_' + exp_name + '.mat'    \n",
    "sync_file = '../data/sync/' + exp_name + '/event_list/' + checkerboar_file\n",
    "repeated_file  =  '../data/sync/' + exp_name + '/repeated_frames_' + exp_name + '.txt'\n",
    "outputfolder = '../data/stim/checkerboard/'\n",
    "checkDirectory(outputfolder)\n",
    "outputfile = outputfolder+'stim_mini_' + exp_name + '_.hdf5'\n"
   ]
  },
  {
   "cell_type": "code",
   "execution_count": 2,
   "metadata": {},
   "outputs": [],
   "source": [
    "correct_checkerboard(sync_file, repeated_file, outputfile, stim_file)"
   ]
  },
  {
   "cell_type": "markdown",
   "metadata": {},
   "source": [
    "# Check the correct convertion "
   ]
  },
  {
   "cell_type": "code",
   "execution_count": 3,
   "metadata": {},
   "outputs": [
    {
     "name": "stdout",
     "output_type": "stream",
     "text": [
      "uint8 (420, 420, 3, 3)\n",
      "uint8 (72001, 3, 35, 35)\n"
     ]
    }
   ],
   "source": [
    "first_img_file = '../data/raw_data/MR-0227/log/Exp__2018_01_25-11.21.37-Whitenoise_35x35_20min/FirstImages_1.mat'\n",
    "first_img = loadmat(first_img_file)['fi']\n",
    "print(first_img.dtype,first_img.shape)\n",
    "\n",
    "#load hdf5\n",
    "stim = h5py.File(outputfile,'r')\n",
    "print(stim['checkerboard'].dtype, stim['checkerboard'].shape)"
   ]
  },
  {
   "cell_type": "code",
   "execution_count": 12,
   "metadata": {},
   "outputs": [
    {
     "data": {
      "text/plain": [
       "<matplotlib.image.AxesImage at 0x7fba3a92cda0>"
      ]
     },
     "execution_count": 12,
     "metadata": {},
     "output_type": "execute_result"
    },
    {
     "data": {
      "image/png": "[encoded data removed]",
      "text/plain": [
       "<matplotlib.figure.Figure at 0x7fba3aaadb38>"
      ]
     },
     "metadata": {},
     "output_type": "display_data"
    }
   ],
   "source": [
    "idx_img = 0\n",
    "plt.figure()\n",
    "plt.subplot(1,2,1).set_title('Matlab first image')\n",
    "plt.imshow(first_img[...,idx_img])\n",
    "plt.subplot(1,2,2).set_title('hdf5 first image')\n",
    "plt.imshow(stim['checkerboard'][idx_img,1,...])\n",
    "# plt.savefig('../figures/first_image_checkerboar.png')"
   ]
  },
  {
   "cell_type": "code",
   "execution_count": null,
   "metadata": {},
   "outputs": [],
   "source": []
  }
 ],
 "metadata": {
  "kernelspec": {
   "display_name": "Python [conda env:anaconda3]",
   "language": "python",
   "name": "conda-env-anaconda3-py"
  },
  "language_info": {
   "codemirror_mode": {
    "name": "ipython",
    "version": 3
   },
   "file_extension": ".py",
   "mimetype": "text/x-python",
   "name": "python",
   "nbconvert_exporter": "python",
   "pygments_lexer": "ipython3",
   "version": "3.6.4"
  },
  "toc": {
   "base_numbering": 1,
   "nav_menu": {},
   "number_sections": true,
   "sideBar": true,
   "skip_h1_title": false,
   "title_cell": "Table of Contents",
   "title_sidebar": "Contents",
   "toc_cell": false,
   "toc_position": {},
   "toc_section_display": true,
   "toc_window_display": false
  },
  "varInspector": {
   "cols": {
    "lenName": 16,
    "lenType": 16,
    "lenVar": 40
   },
   "kernels_config": {
    "python": {
     "delete_cmd_postfix": "",
     "delete_cmd_prefix": "del ",
     "library": "var_list.py",
     "varRefreshCmd": "print(var_dic_list())"
    },
    "r": {
     "delete_cmd_postfix": ") ",
     "delete_cmd_prefix": "rm(",
     "library": "var_list.r",
     "varRefreshCmd": "cat(var_dic_list()) "
    }
   },
   "position": {
    "height": "145px",
    "left": "1198.25px",
    "right": "143px",
    "top": "126px",
    "width": "350px"
   },
   "types_to_exclude": [
    "module",
    "function",
    "builtin_function_or_method",
    "instance",
    "_Feature"
   ],
   "window_display": false
  }
 },
 "nbformat": 4,
 "nbformat_minor": 2
}
