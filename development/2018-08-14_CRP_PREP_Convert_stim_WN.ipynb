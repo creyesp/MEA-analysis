{
 "cells": [
  {
   "cell_type": "markdown",
   "metadata": {},
   "source": [
    "# Convert .mat file to hdf5 python format\n",
    "\n",
    "HDF5 describes data set dimensions in **row-major order**; MATLAB stores data in **column-major order**.For example, if Matlab (Fortran) writes a 4x6 two-dimensional dataset to the file, a Python (C) program will read it as a 6x4 two-dimensional dataset into memory.\n",
    "\n",
    "\"The first dimension stored in the list of dimensions is the slowest changing dimension and the last dimension stored is the fastest changing dimension.\"\n",
    "\n",
    "scipy.io.loadmat only soppourt version less than 7.3. To read version 7.3 we need hdf5.   \n",
    "\n",
    "In Matlab you can put the flag '-v7.3' to save as hdh5 file.   \n",
    "save('filename', '-v7.3', 'var1');\n",
    "\n",
    "More about matlab version [here](https://www.mathworks.com/help/matlab/import_export/mat-file-versions.html)"
   ]
  },
  {
   "cell_type": "code",
   "execution_count": 1,
   "metadata": {},
   "outputs": [],
   "source": [
    "import sys\n",
    "\n",
    "import h5py\n",
    "import matplotlib.pyplot as plt\n",
    "from scipy.io import loadmat\n",
    "\n",
    "# sys.path.append('../src')\n",
    "from mealib.stimulus import correct_checkerboard\n",
    "from mealib.utils import check_directory\n",
    "\n",
    "%matplotlib notebook"
   ]
  },
  {
   "cell_type": "markdown",
   "metadata": {},
   "source": [
    "\n",
    "inputs:   \n",
    "* **exp_name** : name of experiment\n",
    "* **checkerboar_file**: file with only checkerboar syncronization time. To generate this file use Get-sync notebook\n",
    "* **stim_file** : stim im .mat format\n",
    "* **sync_file** : full path to checkerboar_file\n",
    "* **repeated_file** : txt file with repeated frame\n",
    "* **outputfile** : full path to save converted stimulus\n"
   ]
  },
  {
   "cell_type": "code",
   "execution_count": 22,
   "metadata": {},
   "outputs": [],
   "source": [
    "exp_name = 'MR-0181'\n",
    "checkerboar_file = '247.txt'\n",
    "\n",
    "stim_file = '../data/stim/checkerboard/' + exp_name + '_255.mat'    \n",
    "# stim_file = '../data/stim/checkerboard/MR-0227.mat'    \n",
    "sync_file = '../data/sync/' + exp_name + '/event_list/' + checkerboar_file\n",
    "repeated_file  =  '../data/sync/' + exp_name + '/repeated_frames_' + exp_name + '.txt'\n",
    "outputfolder = '../data/stim/checkerboard/'\n",
    "check_directory(outputfolder)\n",
    "outputfile = outputfolder+'stim_mini_' + exp_name + '_255_.hdf5'"
   ]
  },
  {
   "cell_type": "code",
   "execution_count": 23,
   "metadata": {},
   "outputs": [
    {
     "name": "stdout",
     "output_type": "stream",
     "text": [
      "Shape for checkerboar file: (72000, 35, 35, 3)\n",
      "Repeated frame []\n"
     ]
    }
   ],
   "source": [
    "correct_checkerboard(sync_file, repeated_file, outputfile, stim_file)"
   ]
  },
  {
   "cell_type": "markdown",
   "metadata": {},
   "source": [
    "# Check the correct convertion "
   ]
  },
  {
   "cell_type": "code",
   "execution_count": 25,
   "metadata": {},
   "outputs": [
    {
     "name": "stdout",
     "output_type": "stream",
     "text": [
      "(dtype('uint8'), (420, 420, 3, 3))\n"
     ]
    }
   ],
   "source": [
    "# Load First image from log file\n",
    "first_img_file = '../data/raw_data/MR-0181/log/Exp__2016_09_01-13.48.39/FirstImages_2.mat'\n",
    "first_img = loadmat(first_img_file)['fi']\n",
    "print(first_img.dtype,first_img.shape)"
   ]
  },
  {
   "cell_type": "code",
   "execution_count": 26,
   "metadata": {},
   "outputs": [
    {
     "name": "stdout",
     "output_type": "stream",
     "text": [
      "(dtype('uint8'), (72000, 35, 35, 3))\n"
     ]
    }
   ],
   "source": [
    "# Load corrected stim file\n",
    "stim = h5py.File(outputfile,'r')\n",
    "print(stim['checkerboard'].dtype, stim['checkerboard'].shape)"
   ]
  },
  {
   "cell_type": "code",
   "execution_count": 27,
   "metadata": {},
   "outputs": [
    {
     "name": "stdout",
     "output_type": "stream",
     "text": [
      "255\n"
     ]
    },
    {
     "data": {
      "text/plain": [
       "<matplotlib.image.AxesImage at 0x7fb8b1e77190>"
      ]
     },
     "execution_count": 27,
     "metadata": {},
     "output_type": "execute_result"
    },
    {
     "data": {
      "image/png": "[encoded data removed]",
      "text/plain": [
       "<Figure size 432x288 with 2 Axes>"
      ]
     },
     "metadata": {
      "needs_background": "light"
     },
     "output_type": "display_data"
    }
   ],
   "source": [
    "idx_img = 2\n",
    "\n",
    "plt.figure()\n",
    "plt.subplot(1,2,1).set_title('Matlab first image (pixels)')\n",
    "plt.imshow(first_img[...,idx_img])\n",
    "print(first_img[...,idx_img].max())\n",
    "plt.subplot(1,2,2).set_title('hdf5 first image (blocks)')\n",
    "plt.imshow(stim['checkerboard'][idx_img,...])\n",
    "# plt.savefig('../figures/first_image_checkerboar.png')"
   ]
  },
  {
   "cell_type": "code",
   "execution_count": 23,
   "metadata": {},
   "outputs": [
    {
     "data": {
      "text/plain": [
       "<matplotlib.image.AxesImage at 0x7f68399e8a50>"
      ]
     },
     "execution_count": 23,
     "metadata": {},
     "output_type": "execute_result"
    },
    {
     "data": {
      "image/png": "[encoded data removed]",
      "text/plain": [
       "<Figure size 432x288 with 2 Axes>"
      ]
     },
     "metadata": {
      "needs_background": "light"
     },
     "output_type": "display_data"
    }
   ],
   "source": [
    "idx_repeated = 10238\n",
    "plt.figure()\n",
    "plt.subplot(1,2,1).set_title('normal image')\n",
    "plt.imshow(stim['checkerboard'][idx_repeated,...])\n",
    "plt.subplot(1,2,2).set_title('repeated image')\n",
    "plt.imshow(stim['checkerboard'][idx_repeated+1,...])\n",
    "# plt.savefig('../figures/first_imag28232e_checkerboar.png')"
   ]
  },
  {
   "cell_type": "code",
   "execution_count": 31,
   "metadata": {},
   "outputs": [],
   "source": [
    "stim.close()"
   ]
  }
 ],
 "metadata": {
  "kernelspec": {
   "display_name": "Python [conda env:sync]",
   "language": "python",
   "name": "conda-env-sync-py"
  },
  "language_info": {
   "codemirror_mode": {
    "name": "ipython",
    "version": 2
   },
   "file_extension": ".py",
   "mimetype": "text/x-python",
   "name": "python",
   "nbconvert_exporter": "python",
   "pygments_lexer": "ipython2",
   "version": "2.7.15"
  },
  "toc": {
   "base_numbering": 1,
   "nav_menu": {},
   "number_sections": true,
   "sideBar": true,
   "skip_h1_title": false,
   "title_cell": "Table of Contents",
   "title_sidebar": "Contents",
   "toc_cell": false,
   "toc_position": {},
   "toc_section_display": true,
   "toc_window_display": false
  },
  "varInspector": {
   "cols": {
    "lenName": 16,
    "lenType": 16,
    "lenVar": 40
   },
   "kernels_config": {
    "python": {
     "delete_cmd_postfix": "",
     "delete_cmd_prefix": "del ",
     "library": "var_list.py",
     "varRefreshCmd": "print(var_dic_list())"
    },
    "r": {
     "delete_cmd_postfix": ") ",
     "delete_cmd_prefix": "rm(",
     "library": "var_list.r",
     "varRefreshCmd": "cat(var_dic_list()) "
    }
   },
   "position": {
    "height": "145px",
    "left": "1198.25px",
    "right": "143px",
    "top": "126px",
    "width": "350px"
   },
   "types_to_exclude": [
    "module",
    "function",
    "builtin_function_or_method",
    "instance",
    "_Feature"
   ],
   "window_display": false
  }
 },
 "nbformat": 4,
 "nbformat_minor": 2
}
