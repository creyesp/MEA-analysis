{
 "cells": [
  {
   "cell_type": "code",
   "execution_count": 1,
   "metadata": {},
   "outputs": [
    {
     "data": {
      "text/plain": [
       "['../../config.ini']"
      ]
     },
     "execution_count": 1,
     "metadata": {},
     "output_type": "execute_result"
    }
   ],
   "source": [
    "# Use python 3\n",
    "from configparser import ConfigParser, ExtendedInterpolation\n",
    "\n",
    "import h5py\n",
    "import numpy as np\n",
    "import matplotlib.pyplot as plt\n",
    "import pandas as pd\n",
    "\n",
    "from spikelib import spiketools as spkt \n",
    "from spikelib.utils import check_directory\n",
    "from spikelib import visualizations as vis\n",
    "\n",
    "%matplotlib notebook\n",
    "\n",
    "config = ConfigParser(interpolation=ExtendedInterpolation())\n",
    "config.read('../../config.ini')"
   ]
  },
  {
   "cell_type": "code",
   "execution_count": 2,
   "metadata": {},
   "outputs": [],
   "source": [
    "exp_name = config['EXP']['name']\n",
    "sorting_file = config['FILES']['sorting']\n",
    "sync_file = config['SYNC']['events']"
   ]
  },
  {
   "cell_type": "code",
   "execution_count": 3,
   "metadata": {},
   "outputs": [],
   "source": [
    "# Read protocols time directly from fevent file\n",
    "df = pd.read_csv(sync_file)\n",
    "protocol_name = 'flash'\n",
    "nd_filter = 'nd4'\n",
    "intensities = [50, 100, 150, 200, 255]\n",
    "intensity = intensities[-2]\n",
    "extra_info = 'cyan'\n",
    "\n",
    "# General parameters\n",
    "samplerate = 20000.0\n",
    "\n",
    "# Temporal resolution of flash response\n",
    "psth_bin = 0.01  # In sec\n",
    "bandwidth_fit = psth_bin\n",
    "fit_resolution = 0.001  # In sec"
   ]
  },
  {
   "cell_type": "markdown",
   "metadata": {},
   "source": [
    "# General parameters"
   ]
  },
  {
   "cell_type": "code",
   "execution_count": 4,
   "metadata": {},
   "outputs": [],
   "source": [
    "# Get time from DataFrame for a especific nd_filter and intensity\n",
    "\n",
    "fiels_df = ['start_event', 'end_event', 'start_next_event']\n",
    "mask = ((df['protocol_name'] == protocol_name) \n",
    "        & (df['intensity'] == intensity) \n",
    "        & (df['extra_desciption'] == extra_info))\n",
    "bound_time = np.array(df[mask][fiels_df])/samplerate\n",
    "\n",
    "# Stimulius time\n",
    "(on_dur, off_dur) = np.median(np.diff(bound_time,axis=1), axis=0) # Seconds\n",
    "offset_time = 0\n",
    "start_on = offset_time\n",
    "end_on = offset_time + on_dur\n",
    "start_off = offset_time + on_dur\n",
    "end_off = offset_time + off_dur + on_dur\n",
    "bounds = (start_on, end_on, start_off, end_off)\n",
    "total_dur = off_dur + on_dur\n",
    "(start_trials, end_trials) = bound_time[:,[0,2]].T\n",
    "ntrails = len(start_trials)\n",
    "\n",
    "bins_fit = np.linspace(start_on, end_off, int(np.ceil(total_dur/fit_resolution)),)\n",
    "bins_psth = np.linspace(start_on, end_off, int(np.ceil(total_dur/psth_bin)))"
   ]
  },
  {
   "cell_type": "code",
   "execution_count": 5,
   "metadata": {},
   "outputs": [],
   "source": [
    "# Threshold to select valid unit based on number of trials\n",
    "resp_thr = 1.0/3 \n",
    "\n",
    "# Threshold to classify into on, off, onoff\n",
    "bias_thr = 0.65  \n",
    "\n",
    "# Threshold for Response Index (RI)\n",
    "ri_thr = 0.3  \n",
    "ri_span = 0.1  # Windows time to compute RI in sec\n",
    "\n",
    "\n",
    "# Paramiters to find the peak response and decay time\n",
    "fpeak_thr = 0.5  # % of peak response \n",
    "fpeak_min_time = 0.01  # min time between peaks in sec\n",
    "fpeak_min_dist_fit = int(fpeak_min_time/fit_resolution)  # Samples\n",
    "decrease_factor = np.e \n",
    "\n",
    "# Parameters for Sustained Index (SI)\n",
    "sust_span = 0.4  # Windows time to compute SI in seg\n",
    "\n",
    "#keywords for spkt.get_features_flash()\n",
    "kwargs_fit = {'resp_thr': resp_thr,\n",
    "              'bias_thr': bias_thr,\n",
    "              'ri_thr': ri_thr,\n",
    "              'fpeak_thr': fpeak_thr,\n",
    "              'fpeak_min_dist': fpeak_min_dist_fit,\n",
    "              'ri_span': ri_span,\n",
    "              'sust_time': sust_span,\n",
    "              'decrease_factor': decrease_factor,\n",
    "             } "
   ]
  },
  {
   "cell_type": "markdown",
   "metadata": {},
   "source": [
    "# Load spike times for a unit"
   ]
  },
  {
   "cell_type": "code",
   "execution_count": 6,
   "metadata": {},
   "outputs": [],
   "source": [
    "key = 'temp_100'\n",
    "with h5py.File(sorting_file, 'r') as spks:  \n",
    "    spikes = spks['/spiketimes/'+key][...].flatten()/samplerate\n",
    "trials_flash = spkt.get_trials(spikes, start_trials, end_trials,\n",
    "                               offset=offset_time)\n",
    "spks_flash = spkt.flatten_trials(trials_flash)"
   ]
  },
  {
   "cell_type": "markdown",
   "metadata": {},
   "source": [
    "## plot psth and raster"
   ]
  },
  {
   "cell_type": "code",
   "execution_count": 7,
   "metadata": {},
   "outputs": [
    {
     "data": {
      "text/plain": [
       "(<Figure size 576x288 with 2 Axes>,\n",
       " <matplotlib.axes._subplots.AxesSubplot at 0x7fa4c58a2ed0>)"
      ]
     },
     "execution_count": 7,
     "metadata": {},
     "output_type": "execute_result"
    },
    {
     "data": {
      "image/png": "[encoded data removed]",
      "text/plain": [
       "<Figure size 576x288 with 2 Axes>"
      ]
     },
     "metadata": {
      "needs_background": "light"
     },
     "output_type": "display_data"
    }
   ],
   "source": [
    "fig, (ax1, ax2) = plt.subplots(2, 1, figsize=(8, 4), sharex=True)\n",
    "fig.suptitle(key)\n",
    "vis.psth(spks_flash,ax1, bins=int((end_off-start_on)*100), range=(start_on, end_off))\n",
    "vis.raster(trials_flash,ax2)"
   ]
  },
  {
   "cell_type": "markdown",
   "metadata": {},
   "source": [
    "# Get flash features\n",
    "## Using only PSTH to get characteristics of flash response"
   ]
  },
  {
   "cell_type": "code",
   "execution_count": 8,
   "metadata": {},
   "outputs": [
    {
     "name": "stdout",
     "output_type": "stream",
     "text": [
      "Result using PSTH with bin=0.01\n",
      "Flash type = 1\n",
      "Parameters = [0.11036438 0.         1.         0.01003313 0.         0.86153846\n",
      " 0.         0.74036511 0.         1.06451613 0.        ]\n",
      "\n"
     ]
    }
   ],
   "source": [
    "# Response\n",
    "(psth, _) = np.histogram(spks_flash, bins=bins_psth)\n",
    "psth = psth/float(ntrails)\n",
    "\n",
    "kws_psth = kwargs_fit.copy()\n",
    "kws_psth['fpeak_min_dist'] = 2\n",
    "\n",
    "type_psth, char_psth = spkt.get_features_flash(psth, bins_psth[1:], bounds, **kws_psth)\n",
    "\n",
    "print('Result using PSTH with bin={}'.format(psth_bin))\n",
    "print('Flash type = {}\\nParameters = {}\\n'.format(type_psth, char_psth))\n"
   ]
  },
  {
   "cell_type": "markdown",
   "metadata": {},
   "source": [
    "## Using only fit_response to get characteristics of flash response"
   ]
  },
  {
   "cell_type": "code",
   "execution_count": 9,
   "metadata": {},
   "outputs": [
    {
     "name": "stdout",
     "output_type": "stream",
     "text": [
      "Result using PDF with bin=0.01\n",
      "Flash type = 1\n",
      "Parameters = [0.10208267 0.         1.         0.01501216 0.         0.81600007\n",
      " 0.         0.73622293 0.         1.06451613 0.        ]\n",
      "\n"
     ]
    }
   ],
   "source": [
    "# Response\n",
    "(psth, _) = np.histogram(spks_flash, bins=bins_psth)\n",
    "psth = psth/float(ntrails)\n",
    "est_resp = spkt.est_pdf(trials_flash, bins_fit, bandwidth=bandwidth_fit,\n",
    "                         norm_factor=psth.max())\n",
    "\n",
    "type_fit, char_fit = spkt.get_features_flash(est_resp, bins_fit, bounds, **kwargs_fit)\n",
    "\n",
    "print('Result using PDF with bin={}'.format(psth_bin))\n",
    "print('Flash type = {}\\nParameters = {}\\n'.format(type_fit, char_fit))"
   ]
  },
  {
   "cell_type": "markdown",
   "metadata": {},
   "source": [
    "## Plot features from psth and est_psth"
   ]
  },
  {
   "cell_type": "code",
   "execution_count": 10,
   "metadata": {},
   "outputs": [],
   "source": [
    "def plot_flash(type_fit, char_fit):\n",
    "    ccolor = {0: 'k', 1: 'r', 2: 'b', 3: 'g'}\n",
    "\n",
    "    latency_on = char_fit[0]\n",
    "    latency_off = char_fit[1]\n",
    "    dacay_on = char_fit[3]\n",
    "    decay_off = char_fit[4]\n",
    "    start_on, end_on, start_off, end_off = bounds\n",
    "    max_amp = est_resp.max()\n",
    "\n",
    "    fig, (ax1, ax2) = plt.subplots(2, 1, figsize=(8, 8), sharex=True)\n",
    "    fig.suptitle(key)\n",
    "    ax1.plot(bins_fit, est_resp, c=ccolor[type_fit])\n",
    "    ax1.step(bins_psth[1:], psth)\n",
    "    ax1.vlines(start_on+latency_on, 0, max_amp, alpha=0.5)\n",
    "    ax1.vlines(start_on+latency_on+dacay_on, 0, max_amp, alpha=0.5)\n",
    "    ax1.vlines(start_off+latency_off, 0, max_amp, alpha=0.5)\n",
    "    ax1.vlines(start_off+latency_off+decay_off, 0, max_amp, alpha=0.5)\n",
    "    ax1.set_xlim([start_on, end_off])\n",
    "\n",
    "    nrep = len(trials_flash)\n",
    "    for krep, ktrial in enumerate(trials_flash):\n",
    "        ax2.scatter(ktrial, krep*np.ones_like(ktrial),\n",
    "                    marker='|', c='k', alpha=0.5)\n",
    "    ax2.vlines(start_on+latency_on, 0, nrep, alpha=0.5, color='r')\n",
    "    ax2.vlines(start_on+latency_on+dacay_on, 0, nrep, alpha=0.5, color='r')\n",
    "    ax2.vlines(start_off+latency_off, 0, nrep, alpha=0.5, color='r')\n",
    "    ax2.vlines(start_off+latency_off+decay_off, 0, nrep, alpha=0.5, color='r')\n",
    "    ax2.set_xlim([start_on, end_off])\n",
    "    plt.show()"
   ]
  },
  {
   "cell_type": "code",
   "execution_count": 11,
   "metadata": {},
   "outputs": [
    {
     "data": {
      "image/png": "[encoded data removed]",
      "text/plain": [
       "<Figure size 576x576 with 2 Axes>"
      ]
     },
     "metadata": {
      "needs_background": "light"
     },
     "output_type": "display_data"
    }
   ],
   "source": [
    "plot_flash(type_fit, char_fit)"
   ]
  },
  {
   "cell_type": "code",
   "execution_count": null,
   "metadata": {},
   "outputs": [],
   "source": []
  }
 ],
 "metadata": {
  "hide_input": false,
  "kernelspec": {
   "display_name": "Python 3",
   "language": "python",
   "name": "python3"
  },
  "language_info": {
   "codemirror_mode": {
    "name": "ipython",
    "version": 3
   },
   "file_extension": ".py",
   "mimetype": "text/x-python",
   "name": "python",
   "nbconvert_exporter": "python",
   "pygments_lexer": "ipython3",
   "version": "3.7.4"
  },
  "toc": {
   "base_numbering": 1,
   "nav_menu": {},
   "number_sections": true,
   "sideBar": true,
   "skip_h1_title": false,
   "title_cell": "Table of Contents",
   "title_sidebar": "Contents",
   "toc_cell": false,
   "toc_position": {},
   "toc_section_display": true,
   "toc_window_display": false
  },
  "varInspector": {
   "cols": {
    "lenName": 16,
    "lenType": 16,
    "lenVar": 40
   },
   "kernels_config": {
    "python": {
     "delete_cmd_postfix": "",
     "delete_cmd_prefix": "del ",
     "library": "var_list.py",
     "varRefreshCmd": "print(var_dic_list())"
    },
    "r": {
     "delete_cmd_postfix": ") ",
     "delete_cmd_prefix": "rm(",
     "library": "var_list.r",
     "varRefreshCmd": "cat(var_dic_list()) "
    }
   },
   "types_to_exclude": [
    "module",
    "function",
    "builtin_function_or_method",
    "instance",
    "_Feature"
   ],
   "window_display": false
  }
 },
 "nbformat": 4,
 "nbformat_minor": 2
}
