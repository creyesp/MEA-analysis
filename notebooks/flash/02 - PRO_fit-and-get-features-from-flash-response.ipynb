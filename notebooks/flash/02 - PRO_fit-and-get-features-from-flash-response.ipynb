{
 "cells": [
  {
   "cell_type": "markdown",
   "metadata": {},
   "source": [
    "# Processing - Fit and get features from flash response\n",
    "Fit flash responde to probability distribution function and create a PSTH of response for each unit in spiketime file. Classificate the light response in **null, on, off and onoff** response and get the following features:\n",
    "- latency (on and off)\n",
    "- decay time (on and off)\n",
    "- bias index\n",
    "- max response (on and off)\n",
    "- response index (on and off)\n",
    "- sustained index (on and off)\n",
    "\n",
    "Some reference https://www.ncbi.nlm.nih.gov/pubmed/12966177"
   ]
  },
  {
   "cell_type": "code",
   "execution_count": 1,
   "metadata": {},
   "outputs": [
    {
     "data": {
      "text/plain": [
       "['../../config.ini']"
      ]
     },
     "execution_count": 1,
     "metadata": {},
     "output_type": "execute_result"
    }
   ],
   "source": [
    "from configparser import ConfigParser, ExtendedInterpolation\n",
    "\n",
    "import h5py\n",
    "import numpy as np\n",
    "import pandas as pd\n",
    "\n",
    "from spikelib.utils import check_directory\n",
    "\n",
    "from flash import get_flash_features, get_flash_response\n",
    "%matplotlib inline\n",
    "\n",
    "config = ConfigParser(interpolation=ExtendedInterpolation())\n",
    "config.read('../../config.ini')"
   ]
  },
  {
   "cell_type": "markdown",
   "metadata": {},
   "source": [
    "# Processing - Flash features\n"
   ]
  },
  {
   "cell_type": "markdown",
   "metadata": {},
   "source": [
    "## General parameters"
   ]
  },
  {
   "cell_type": "code",
   "execution_count": 2,
   "metadata": {},
   "outputs": [
    {
     "name": "stdout",
     "output_type": "stream",
     "text": [
      "OUTPUT FILE: /home/vnc/Downloads/MEA-analysis-master/data/processed_protocols/MR-0061__analysis_of_protocols.hdf5\n"
     ]
    }
   ],
   "source": [
    "exp_name = config['EXP']['name']\n",
    "sync_file = config['SYNC']['events']\n",
    "sorting_file = config['FILES']['sorting']\n",
    "output_file = config['FILES']['processed']\n",
    "print('OUTPUT FILE: ' + output_file)\n",
    "\n",
    "# Details about flash parameter\n",
    "protocol_name = 'flash'\n",
    "# nframes = 24 # Number of frame for ON stimulus. If fps=60, 24 frames = 0.4s\n",
    "\n",
    "# Temporal resolution\n",
    "sample_rate = 20000.0\n",
    "psth_bin = 0.01  # In sec\n",
    "bandwidth_fit = psth_bin\n",
    "fit_resolution = 0.001  # In sec"
   ]
  },
  {
   "cell_type": "code",
   "execution_count": 3,
   "metadata": {},
   "outputs": [
    {
     "data": {
      "text/plain": [
       "array([['flash', 'nd3', 50.0, 'cyan'],\n",
       "       ['flash', 'nd3', 100.0, 'cyan'],\n",
       "       ['flash', 'nd3', 150.0, 'cyan'],\n",
       "       ['flash', 'nd3', 200.0, 'cyan'],\n",
       "       ['flash', 'nd3', 255.0, 'cyan']], dtype=object)"
      ]
     },
     "execution_count": 3,
     "metadata": {},
     "output_type": "execute_result"
    }
   ],
   "source": [
    "# Read protocols times from sync file\n",
    "protocol_times = pd.read_csv(sync_file, sep=',')\n",
    "protocol_times['extra_desciption'].fillna('', inplace=True)\n",
    "\n",
    "flashe_times = protocol_times[protocol_times['protocol_name'] == protocol_name]\n",
    "protocol_flashes = flashe_times[['protocol_name', 'nd', 'intensity', 'extra_desciption']].drop_duplicates().values\n",
    "protocol_flashes"
   ]
  },
  {
   "cell_type": "markdown",
   "metadata": {},
   "source": [
    "## Get PSTH and estimated firing rate"
   ]
  },
  {
   "cell_type": "code",
   "execution_count": 4,
   "metadata": {
    "scrolled": true
   },
   "outputs": [],
   "source": [
    "for (protocol_name, nd, intensity, extra) in protocol_flashes:\n",
    "    with h5py.File(sorting_file, 'r') as spks,\\\n",
    "         h5py.File(output_file, 'a') as panalysis:\n",
    "        get_flash_response(\n",
    "            spks=spks,\n",
    "            panalysis=panalysis,\n",
    "            protocol_name=protocol_name,\n",
    "            nd=nd,\n",
    "            intensity=intensity,\n",
    "            extra=extra,\n",
    "            event_list=protocol_times,\n",
    "            psth_bin=psth_bin,\n",
    "            bandwidth_fit=bandwidth_fit,\n",
    "            fit_resolution=fit_resolution,\n",
    "            sr=20000.0\n",
    "        )\n"
   ]
  },
  {
   "cell_type": "markdown",
   "metadata": {},
   "source": [
    "## Compute flash features"
   ]
  },
  {
   "cell_type": "code",
   "execution_count": 5,
   "metadata": {},
   "outputs": [],
   "source": [
    "#keywords for spkt.get_features_flash()\n",
    "fpeak_min_time = 0.01  # min time between peaks in sec\n",
    "kwargs_fit = {\n",
    "    'resp_thr': 1.0/3,  # Threshold to select valid unit based on number of trials\n",
    "    'bias_thr': 0.65,  # Threshold to classify into on, off, onoff\n",
    "    'ri_thr': 0.3,  # Threshold for Response Index (RI)\n",
    "    'ri_span': 0.1,  # Span for Response Index (RI)\n",
    "    'fpeak_thr': 0.5,  # threshold of max response to find the first peak of response\n",
    "    'fpeak_min_dist': int(fpeak_min_time/fit_resolution),\n",
    "    'sust_time': 0.4,  # Windows time to compute Sustained index in seg\n",
    "    'decrease_factor': np.e,\n",
    "}\n",
    "\n",
    "for (protocol_name, nd, intensity, extra) in protocol_flashes:\n",
    "    with h5py.File(output_file, 'a') as panalysis:\n",
    "        get_flash_features(\n",
    "            panalysis=panalysis,\n",
    "            protocol_name=protocol_name,\n",
    "            nd=nd, \n",
    "            intensity=intensity, \n",
    "            extra=extra,\n",
    "            kwargs_fit=kwargs_fit\n",
    "        )"
   ]
  },
  {
   "cell_type": "code",
   "execution_count": 6,
   "metadata": {},
   "outputs": [
    {
     "name": "stdout",
     "output_type": "stream",
     "text": [
      "<KeysViewHDF5 ['050_cyan', '100_cyan', '150_cyan', '200_cyan', '255_cyan']>\n"
     ]
    }
   ],
   "source": [
    "with h5py.File(output_file, 'r') as panalysis:\n",
    "    print(panalysis['flash/nd3/'].keys())"
   ]
  },
  {
   "cell_type": "code",
   "execution_count": null,
   "metadata": {},
   "outputs": [],
   "source": []
  },
  {
   "cell_type": "code",
   "execution_count": null,
   "metadata": {},
   "outputs": [],
   "source": []
  }
 ],
 "metadata": {
  "hide_input": false,
  "kernelspec": {
   "display_name": "Python 3",
   "language": "python",
   "name": "python3"
  },
  "language_info": {
   "codemirror_mode": {
    "name": "ipython",
    "version": 3
   },
   "file_extension": ".py",
   "mimetype": "text/x-python",
   "name": "python",
   "nbconvert_exporter": "python",
   "pygments_lexer": "ipython3",
   "version": "3.7.4"
  },
  "toc": {
   "base_numbering": 1,
   "nav_menu": {},
   "number_sections": true,
   "sideBar": true,
   "skip_h1_title": false,
   "title_cell": "Table of Contents",
   "title_sidebar": "Contents",
   "toc_cell": false,
   "toc_position": {},
   "toc_section_display": true,
   "toc_window_display": true
  },
  "varInspector": {
   "cols": {
    "lenName": 16,
    "lenType": 16,
    "lenVar": 40
   },
   "kernels_config": {
    "python": {
     "delete_cmd_postfix": "",
     "delete_cmd_prefix": "del ",
     "library": "var_list.py",
     "varRefreshCmd": "print(var_dic_list())"
    },
    "r": {
     "delete_cmd_postfix": ") ",
     "delete_cmd_prefix": "rm(",
     "library": "var_list.r",
     "varRefreshCmd": "cat(var_dic_list()) "
    }
   },
   "position": {
    "height": "794px",
    "left": "1478px",
    "right": "1px",
    "top": "127px",
    "width": "362px"
   },
   "types_to_exclude": [
    "module",
    "function",
    "builtin_function_or_method",
    "instance",
    "_Feature"
   ],
   "window_display": false
  }
 },
 "nbformat": 4,
 "nbformat_minor": 2
}
