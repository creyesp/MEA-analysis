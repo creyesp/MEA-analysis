{
 "cells": [
  {
   "cell_type": "markdown",
   "metadata": {},
   "source": [
    "# Visualization of flash response\n",
    "This notebook allow to explore flash response and its features.\n",
    "Data must be created using [PRO_get_features_of_flash_response](PRO_get_features_of_flash_response.ipynb)"
   ]
  },
  {
   "cell_type": "code",
   "execution_count": 1,
   "metadata": {},
   "outputs": [],
   "source": [
    "import h5py\n",
    "from ipywidgets import IntSlider, interact, Dropdown\n",
    "import numpy as np\n",
    "import matplotlib.pyplot as plt\n",
    "# %matplotlib notebook "
   ]
  },
  {
   "cell_type": "code",
   "execution_count": 2,
   "metadata": {},
   "outputs": [],
   "source": [
    "# source_file = '../data/processed_protocols/MR-0092t2_analysis_of_protocols_150um_merge.hdf5'\n",
    "source_file = '../data/processed_protocols/MR-0092t2_modified_analysis_of_protocols_150um_merge.hdf5'\n",
    "output_file = '../fig/flash/'"
   ]
  },
  {
   "cell_type": "code",
   "execution_count": 3,
   "metadata": {},
   "outputs": [
    {
     "name": "stdout",
     "output_type": "stream",
     "text": [
      "Numbers of valid units: 624\n",
      "Number of not valid unit: 130\n"
     ]
    }
   ],
   "source": [
    "intensities = [50, 100, 150, 200, 255]\n",
    "panalysis = h5py.File(source_file, 'r')\n",
    "\n",
    "prefix = 'nd2'\n",
    "type_group = '/flash/{}_255/type/'.format(prefix)\n",
    "\n",
    "no_valid_units = []\n",
    "valid_units = []\n",
    "all_valid_units = []\n",
    "for key in panalysis[type_group]:\n",
    "    all_valid_units.append(key)\n",
    "    if panalysis[type_group+key][...]:\n",
    "        valid_units.append(key)\n",
    "    else:\n",
    "        no_valid_units.append(key)\n",
    "print('Numbers of valid units: {:d}\\nNumber of not valid unit: {:d}'.format(len(valid_units),len(no_valid_units)))"
   ]
  },
  {
   "cell_type": "markdown",
   "metadata": {},
   "source": [
    "# Visualization flash response for one ND=(2,3,4,5) and all intensities together"
   ]
  },
  {
   "cell_type": "code",
   "execution_count": 4,
   "metadata": {},
   "outputs": [],
   "source": [
    "def plot_fit(key):\n",
    "    group = '/flash/{}'.format(prefix) + '_{:03}/est_psth/'\n",
    "    dset = '/flash/{}'.format(prefix) + '_{:03}/est_psth/{}'\n",
    "    \n",
    "    plt.figure(figsize=(10,6))\n",
    "    for kintensity in intensities:\n",
    "        time = panalysis[group.format(kintensity)].attrs['time']\n",
    "        response = panalysis[dset.format(kintensity,key)][...]\n",
    "        s_on, f_on, s_off, f_off = panalysis[group.format(kintensity)].attrs['bounds']\n",
    "        plt.plot(time, response, label=str(kintensity), alpha=0.5)\n",
    "        max_amp = response.max()\n",
    "        plt.vlines(s_off,0,max_amp)\n",
    "    plt.xlabel('time [s]')\n",
    "    plt.ylabel('instantaneous firing rate [spk/bins]')\n",
    "    plt.title('Flash response for {} in different intensities. Filter {}'.format(key, prefix.upper()))\n",
    "    plt.legend()\n",
    "    plt.show()\n",
    "    plt.close()"
   ]
  },
  {
   "cell_type": "code",
   "execution_count": 5,
   "metadata": {},
   "outputs": [
    {
     "data": {
      "application/vnd.jupyter.widget-view+json": {
       "model_id": "fa0a3ce64f344d9ca51accdbe1a21e06",
       "version_major": 2,
       "version_minor": 0
      },
      "text/plain": [
       "aW50ZXJhY3RpdmUoY2hpbGRyZW49KERyb3Bkb3duKGRlc2NyaXB0aW9uPXUna2V5Jywgb3B0aW9ucz0odSd0ZW1wXzAnLCB1J3RlbXBfMScsIHUndGVtcF8xMCcsIHUndGVtcF8xMDAnLCB1J3TigKY=\n"
      ]
     },
     "metadata": {},
     "output_type": "display_data"
    }
   ],
   "source": [
    "prefix = 'nd5'\n",
    "# interact(plot_fit, kidx=IntSlider(min=0, max=len(temporal_sta)-1, step=1, value=172));\n",
    "interact(plot_fit, key=Dropdown(options=all_valid_units));"
   ]
  },
  {
   "cell_type": "code",
   "execution_count": null,
   "metadata": {},
   "outputs": [],
   "source": []
  },
  {
   "cell_type": "markdown",
   "metadata": {},
   "source": [
    "# Visualization flash response for ND(2,3,4,5) and all intensities together"
   ]
  },
  {
   "cell_type": "code",
   "execution_count": 6,
   "metadata": {},
   "outputs": [],
   "source": [
    "def plot_nd(key):\n",
    "    fig, ax = plt.subplots(4,1,figsize=(10,15), sharex=True, sharey=True)\n",
    "    for kfilter, kax in zip(['nd2', 'nd3', 'nd4', 'nd5'], ax.flatten()):\n",
    "        group = '/flash/{}'.format(kfilter) + '_{:03}/est_psth/'\n",
    "        dset = '/flash/{}'.format(kfilter) + '_{:03}/est_psth/{}'\n",
    "        for kintensity in intensities:\n",
    "            time = panalysis[group.format(kintensity)].attrs['time']\n",
    "            response = panalysis[dset.format(kintensity,key)][...]\n",
    "            s_on, f_on, s_off, f_off = panalysis[group.format(kintensity)].attrs['bounds']\n",
    "            kax.plot(time, response, label=str(kintensity), alpha=0.5)\n",
    "            max_amp = response.max()\n",
    "            kax.vlines(s_off,0,max_amp)\n",
    "        kax.set(xlabel='time [s]', ylabel='instantaneous firing rate [spk/bins]',\n",
    "               title='Filter {}'.format(kfilter.upper()))\n",
    "        kax.legend()\n",
    "        kax.grid(b=True, which='both', ls=':', alpha=0.3)\n",
    "#         kax.grid(which='major', ls=':', alpha=0.3)\n",
    "    fig.suptitle('Flash response for {} in different intensities.'.format(key))\n",
    "#     plt.tight_layout()\n",
    "    plt.show()\n",
    "    plt.close()"
   ]
  },
  {
   "cell_type": "code",
   "execution_count": 7,
   "metadata": {},
   "outputs": [
    {
     "data": {
      "application/vnd.jupyter.widget-view+json": {
       "model_id": "e8a3b2edb2d840b19481e107e7b5e956",
       "version_major": 2,
       "version_minor": 0
      },
      "text/plain": [
       "aW50ZXJhY3RpdmUoY2hpbGRyZW49KERyb3Bkb3duKGRlc2NyaXB0aW9uPXUna2V5Jywgb3B0aW9ucz0odSd0ZW1wXzAnLCB1J3RlbXBfMScsIHUndGVtcF8xMCcsIHUndGVtcF8xMDAnLCB1J3TigKY=\n"
      ]
     },
     "metadata": {},
     "output_type": "display_data"
    }
   ],
   "source": [
    "# interact(plot_fit, kidx=IntSlider(min=0, max=len(temporal_sta)-1, step=1, value=172));\n",
    "interact(plot_nd, key=Dropdown(options=all_valid_units));"
   ]
  },
  {
   "cell_type": "markdown",
   "metadata": {},
   "source": [
    "# Visualization all intensities for an ND(2,3,4,5)"
   ]
  },
  {
   "cell_type": "code",
   "execution_count": 8,
   "metadata": {},
   "outputs": [],
   "source": [
    "prefix = 'nd2'"
   ]
  },
  {
   "cell_type": "code",
   "execution_count": 6,
   "metadata": {},
   "outputs": [],
   "source": [
    "def plot_intensities(key):\n",
    "    pre_name = '/flash/{}'.format(prefix)\n",
    "    group = pre_name + '_{:03}/est_psth/'\n",
    "    dset = pre_name + '_{:03}/est_psth/{}'\n",
    "    flash_type = pre_name + '_{:03}/type/{}'\n",
    "    flash_char = pre_name + '_{:03}/char/{}'\n",
    "    fig, ax = plt.subplots(3, 2, figsize=(15,12), sharex=True, sharey=True)\n",
    "    fig.suptitle('Flash response for {} in different intensities. Filter {}'.format(key, prefix.upper()))\n",
    "    for kintensity, kax in zip(intensities, ax.flatten()):\n",
    "        time = panalysis[group.format(kintensity)].attrs['time']\n",
    "        response = panalysis[dset.format(kintensity,key)][...]\n",
    "        s_on, f_on, s_off, f_off = panalysis[group.format(kintensity)].attrs['bounds']\n",
    "        chars = panalysis[flash_char.format(kintensity, key)][...]\n",
    "        kax.plot(time, response, label=str(kintensity), alpha=0.5)\n",
    "        max_amp = response.max()\n",
    "        kax.vlines(s_off,0,max_amp)\n",
    "        kax.vlines(chars[0]+s_on, 0, max_amp, alpha=0.5, color='r', linestyle='--')\n",
    "        kax.vlines(chars[1]+s_off, 0, max_amp, alpha=0.5, color='b', linestyle='--')\n",
    "        flash_t = panalysis[flash_type.format(kintensity,key)][...]\n",
    "        kax.set(xlabel='time [s]', ylabel='inst fr [spk/bins]', \n",
    "               title='Type {}'.format(kintensity),\n",
    "               )\n",
    "        kax.legend()\n",
    "    plt.show()\n",
    "    plt.close()"
   ]
  },
  {
   "cell_type": "code",
   "execution_count": 7,
   "metadata": {},
   "outputs": [
    {
     "data": {
      "application/vnd.jupyter.widget-view+json": {
       "model_id": "45549b434d81440391e2de04c4a5fd3d",
       "version_major": 2,
       "version_minor": 0
      },
      "text/plain": [
       "aW50ZXJhY3RpdmUoY2hpbGRyZW49KERyb3Bkb3duKGRlc2NyaXB0aW9uPXUna2V5Jywgb3B0aW9ucz0odSd0ZW1wXzAnLCB1J3RlbXBfMScsIHUndGVtcF8xMCcsIHUndGVtcF8xMDAnLCB1J3TigKY=\n"
      ]
     },
     "metadata": {},
     "output_type": "display_data"
    }
   ],
   "source": [
    "# interact(plot_fit, kidx=IntSlider(min=0, max=len(temporal_sta)-1, step=1, value=172));\n",
    "interact(plot_intensities, key=Dropdown(options=valid_units));"
   ]
  },
  {
   "cell_type": "markdown",
   "metadata": {},
   "source": [
    "# Close HDF5 file"
   ]
  },
  {
   "cell_type": "code",
   "execution_count": 9,
   "metadata": {},
   "outputs": [],
   "source": [
    "panalysis.close()"
   ]
  }
 ],
 "metadata": {
  "kernelspec": {
   "display_name": "Python [conda env:spk2]",
   "language": "python",
   "name": "conda-env-spk2-py"
  },
  "language_info": {
   "codemirror_mode": {
    "name": "ipython",
    "version": 2
   },
   "file_extension": ".py",
   "mimetype": "text/x-python",
   "name": "python",
   "nbconvert_exporter": "python",
   "pygments_lexer": "ipython2",
   "version": "2.7.15"
  },
  "toc": {
   "base_numbering": 1,
   "nav_menu": {},
   "number_sections": true,
   "sideBar": true,
   "skip_h1_title": false,
   "title_cell": "Table of Contents",
   "title_sidebar": "Contents",
   "toc_cell": false,
   "toc_position": {},
   "toc_section_display": true,
   "toc_window_display": false
  },
  "varInspector": {
   "cols": {
    "lenName": 16,
    "lenType": 16,
    "lenVar": 40
   },
   "kernels_config": {
    "python": {
     "delete_cmd_postfix": "",
     "delete_cmd_prefix": "del ",
     "library": "var_list.py",
     "varRefreshCmd": "print(var_dic_list())"
    },
    "r": {
     "delete_cmd_postfix": ") ",
     "delete_cmd_prefix": "rm(",
     "library": "var_list.r",
     "varRefreshCmd": "cat(var_dic_list()) "
    }
   },
   "types_to_exclude": [
    "module",
    "function",
    "builtin_function_or_method",
    "instance",
    "_Feature"
   ],
   "window_display": false
  }
 },
 "nbformat": 4,
 "nbformat_minor": 2
}
