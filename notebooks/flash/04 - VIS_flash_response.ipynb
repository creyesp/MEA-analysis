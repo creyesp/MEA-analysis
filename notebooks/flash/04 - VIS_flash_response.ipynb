{
 "cells": [
  {
   "cell_type": "markdown",
   "metadata": {},
   "source": [
    "# Visualization of flash response\n",
    "This notebook allow to explore flash response and its features.\n",
    "Data must be created using [PRO_get_features_of_flash_response](PRO_get_features_of_flash_response.ipynb)"
   ]
  },
  {
   "cell_type": "code",
   "execution_count": 1,
   "metadata": {},
   "outputs": [
    {
     "data": {
      "text/plain": [
       "['../../config.ini']"
      ]
     },
     "execution_count": 1,
     "metadata": {},
     "output_type": "execute_result"
    }
   ],
   "source": [
    "from configparser import ConfigParser, ExtendedInterpolation\n",
    "\n",
    "import h5py\n",
    "from ipywidgets import IntSlider, interact, Dropdown\n",
    "import numpy as np\n",
    "import matplotlib.pyplot as plt\n",
    "\n",
    "# %matplotlib notebook \n",
    "config = ConfigParser(interpolation=ExtendedInterpolation())\n",
    "config.read('../../config.ini')"
   ]
  },
  {
   "cell_type": "code",
   "execution_count": 2,
   "metadata": {},
   "outputs": [
    {
     "name": "stdout",
     "output_type": "stream",
     "text": [
      "SOURCE FILE: /home/vnc/Documents/Alzheimer/Degus/MR-0061/data/processed_protocols/MR-0061_oldcircus_analysis_of_protocols.hdf5\n"
     ]
    }
   ],
   "source": [
    "exp_name = config['EXP']['name']\n",
    "sync_file = config['FILES']['sync']\n",
    "source_file = config['FILES']['processed']\n",
    "suffix= '_' + config['PROCESSED']['suffix']\n",
    "print('SOURCE FILE: ' + source_file)\n",
    "\n",
    "protocol = 'flash'\n",
    "intensities = [50, 100, 150, 200, 255]\n",
    "nd_filters = ['nd3',]\n",
    "extra = ['cyan']"
   ]
  },
  {
   "cell_type": "code",
   "execution_count": 3,
   "metadata": {},
   "outputs": [
    {
     "name": "stdout",
     "output_type": "stream",
     "text": [
      "Numbers of valid units: 246\n",
      "Number of not valid unit: 104\n"
     ]
    }
   ],
   "source": [
    "panalysis = h5py.File(source_file, 'r')\n",
    "\n",
    "prefix = 'nd3'\n",
    "type_group = '/flash/{}/255_cyan/type/'.format(prefix)\n",
    "\n",
    "no_valid_units = []\n",
    "valid_units = []\n",
    "all_valid_units = []\n",
    "for key in panalysis[type_group]:\n",
    "    all_valid_units.append(key)\n",
    "    if panalysis[type_group+key][...]:\n",
    "        valid_units.append(key)\n",
    "    else:\n",
    "        no_valid_units.append(key)\n",
    "print('Numbers of valid units: {:d}\\nNumber of not valid unit: {:d}'.format(len(valid_units),len(no_valid_units)))"
   ]
  },
  {
   "cell_type": "code",
   "execution_count": null,
   "metadata": {},
   "outputs": [],
   "source": []
  },
  {
   "cell_type": "markdown",
   "metadata": {},
   "source": [
    "# Visualization flash response for one ND={2,3,4,5} and all intensities together"
   ]
  },
  {
   "cell_type": "code",
   "execution_count": 4,
   "metadata": {},
   "outputs": [],
   "source": [
    "def plot_fit(protocol, nd, extra, key):\n",
    "    fields = dict(protocol=protocol, nd=nd, extra=extra)\n",
    "    base_group = '/{protocol}/{nd}/{intensity:03d}_{extra}/'\n",
    "    group = base_group + 'est_psth/'\n",
    "    dset = base_group + 'est_psth/{template}'\n",
    "    \n",
    "    plt.figure(figsize=(10,6))\n",
    "    for kintensity in intensities:\n",
    "        fields['intensity'] = kintensity\n",
    "        fields['template'] = key\n",
    "        time = panalysis[group.format(**fields)].attrs['time']\n",
    "        response = panalysis[dset.format(**fields)][...]\n",
    "        s_on, f_on, s_off, f_off = panalysis[group.format(**fields)].attrs['bounds']\n",
    "        plt.plot(time, response, label=str(kintensity), alpha=0.5)\n",
    "        max_amp = response.max()\n",
    "        plt.vlines(s_off,0,max_amp)\n",
    "    plt.xlabel('time [s]')\n",
    "    plt.ylabel('instantaneous firing rate [spk/bins]')\n",
    "    plt.title('Flash response for {} in different intensities. Filter {}'.format(key, prefix.upper()))\n",
    "    plt.legend()\n",
    "    plt.show()\n",
    "    plt.close()"
   ]
  },
  {
   "cell_type": "code",
   "execution_count": 5,
   "metadata": {},
   "outputs": [
    {
     "data": {
      "application/vnd.jupyter.widget-view+json": {
       "model_id": "22324b2928df4e72a0a70c03eaa57ea1",
       "version_major": 2,
       "version_minor": 0
      },
      "text/plain": [
       "interactive(children=(Text(value='flash', description='protocol'), Dropdown(description='nd', options=('nd3',)…"
      ]
     },
     "metadata": {},
     "output_type": "display_data"
    }
   ],
   "source": [
    "# interact(plot_fit, kidx=IntSlider(min=0, max=len(temporal_sta)-1, step=1, value=172));\n",
    "interact(plot_fit,\n",
    "         protocol=protocol,\n",
    "         nd=Dropdown(options=nd_filters),\n",
    "         extra=Dropdown(options=extra),\n",
    "         key=Dropdown(options=valid_units));"
   ]
  },
  {
   "cell_type": "code",
   "execution_count": null,
   "metadata": {},
   "outputs": [],
   "source": []
  },
  {
   "cell_type": "markdown",
   "metadata": {},
   "source": [
    "# Visualization flash response for ND(2,3,4,5) and all intensities together"
   ]
  },
  {
   "cell_type": "code",
   "execution_count": 6,
   "metadata": {},
   "outputs": [],
   "source": [
    "def plot_nd(protocol, extra, key):\n",
    "    nd = nd_filters\n",
    "    fields = dict(protocol=protocol, extra=extra, template=key)\n",
    "    base_group = '/{protocol}/{nd}/{intensity:03d}_{extra}/'\n",
    "    group = base_group + 'est_psth/'\n",
    "    dset = base_group + 'est_psth/{template}'\n",
    "    fig, ax = plt.subplots(len(nd),1,figsize=(10,15), sharex=True, sharey=True)\n",
    "    ax = ax.flatten() if len(nd) > 1 else [ax]\n",
    "    for kfilter, kax in zip(nd, ax):\n",
    "        fields['nd'] = kfilter\n",
    "        for kintensity in intensities:\n",
    "            fields['intensity'] = kintensity\n",
    "            print(group.format(**fields))\n",
    "            time = panalysis[group.format(**fields)].attrs['time']\n",
    "            response = panalysis[dset.format(**fields)][...]\n",
    "            s_on, f_on, s_off, f_off = panalysis[group.format(**fields)].attrs['bounds']\n",
    "            kax.plot(time, response, label=str(kintensity), alpha=0.5)\n",
    "            max_amp = response.max()\n",
    "            kax.vlines(s_off,0,max_amp)\n",
    "        kax.set(xlabel='time [s]', ylabel='instantaneous firing rate [spk/bins]',\n",
    "               title='Filter {}'.format(kfilter.upper()))\n",
    "        kax.legend()\n",
    "        kax.grid(b=True, which='both', ls=':', alpha=0.3)\n",
    "#         kax.grid(which='major', ls=':', alpha=0.3)\n",
    "    fig.suptitle('Flash response for {} in different intensities.'.format(key))\n",
    "#     plt.tight_layout()\n",
    "    plt.show()\n",
    "    plt.close()"
   ]
  },
  {
   "cell_type": "code",
   "execution_count": 7,
   "metadata": {},
   "outputs": [
    {
     "data": {
      "application/vnd.jupyter.widget-view+json": {
       "model_id": "c653d3dd9fe440f79c7840d0291bca08",
       "version_major": 2,
       "version_minor": 0
      },
      "text/plain": [
       "interactive(children=(Text(value='flash', description='protocol'), Dropdown(description='extra', options=('cya…"
      ]
     },
     "metadata": {},
     "output_type": "display_data"
    }
   ],
   "source": [
    "# interact(plot_fit, kidx=IntSlider(min=0, max=len(temporal_sta)-1, step=1, value=172));\n",
    "interact(plot_nd,\n",
    "         protocol=protocol,\n",
    "         extra=Dropdown(options=extra),\n",
    "         key=Dropdown(options=all_valid_units));"
   ]
  },
  {
   "cell_type": "markdown",
   "metadata": {},
   "source": [
    "# Visualization all intensities for an ND(2,3,4,5)"
   ]
  },
  {
   "cell_type": "code",
   "execution_count": 14,
   "metadata": {},
   "outputs": [],
   "source": [
    "def plot_intensities(protocol, nd, extra, key):\n",
    "    fields = dict(protocol=protocol, extra=extra, template=key, nd=nd)\n",
    "    base_group = '/{protocol}/{nd}/{intensity:03d}_{extra}/'\n",
    "    group = base_group + 'est_psth/'\n",
    "    dset = base_group + 'est_psth/{template}'\n",
    "    flash_type = base_group + 'type/{template}'\n",
    "    flash_char = base_group + 'char/{template}'\n",
    "    \n",
    "    fig, ax = plt.subplots(3, 3, figsize=(15,12), sharex=True, sharey=True)\n",
    "    fig.suptitle('Flash response for {} in different intensities. Filter {}'.format(key, nd.upper()))\n",
    "    for kintensity, kax in zip(intensities, ax.flatten()):\n",
    "        fields['intensity'] = kintensity\n",
    "        time = panalysis[group.format(**fields)].attrs['time']\n",
    "        response = panalysis[dset.format(**fields)][...]\n",
    "        s_on, f_on, s_off, f_off = panalysis[group.format(**fields)].attrs['bounds']\n",
    "        chars = panalysis[flash_char.format(**fields)][...]\n",
    "        kax.plot(time, response, label=str(kintensity), alpha=0.5)\n",
    "        max_amp = response.max()\n",
    "        kax.vlines(s_off,0,max_amp)\n",
    "        kax.vlines(chars[0]+s_on, 0, max_amp, alpha=0.5, color='r', linestyle='--')\n",
    "        kax.vlines(chars[1]+s_off, 0, max_amp, alpha=0.5, color='b', linestyle='--')\n",
    "        flash_t = panalysis[flash_type.format(**fields)][...]\n",
    "        kax.set(xlabel='time [s]', ylabel='inst fr [spk/bins]', \n",
    "               title='Type {}'.format(kintensity),\n",
    "               )\n",
    "        kax.legend()\n",
    "    plt.show()\n",
    "    plt.close()"
   ]
  },
  {
   "cell_type": "code",
   "execution_count": 15,
   "metadata": {},
   "outputs": [
    {
     "data": {
      "application/vnd.jupyter.widget-view+json": {
       "model_id": "cad4f8de61864535bba4b20605a8f86c",
       "version_major": 2,
       "version_minor": 0
      },
      "text/plain": [
       "interactive(children=(Text(value='flash', description='protocol'), Dropdown(description='nd', options=('nd3',)…"
      ]
     },
     "metadata": {},
     "output_type": "display_data"
    }
   ],
   "source": [
    "# interact(plot_fit, kidx=IntSlider(min=0, max=len(temporal_sta)-1, step=1, value=172));\n",
    "interact(plot_intensities, \n",
    "         protocol=protocol,\n",
    "         nd=nd_filters,\n",
    "         extra=extra,\n",
    "         key=Dropdown(options=valid_units));"
   ]
  },
  {
   "cell_type": "markdown",
   "metadata": {},
   "source": [
    "# Close HDF5 file"
   ]
  },
  {
   "cell_type": "code",
   "execution_count": 8,
   "metadata": {},
   "outputs": [],
   "source": [
    "panalysis.close()"
   ]
  },
  {
   "cell_type": "code",
   "execution_count": null,
   "metadata": {},
   "outputs": [],
   "source": []
  },
  {
   "cell_type": "code",
   "execution_count": null,
   "metadata": {},
   "outputs": [],
   "source": []
  }
 ],
 "metadata": {
  "hide_input": false,
  "kernelspec": {
   "display_name": "Python 3",
   "language": "python",
   "name": "python3"
  },
  "language_info": {
   "codemirror_mode": {
    "name": "ipython",
    "version": 3
   },
   "file_extension": ".py",
   "mimetype": "text/x-python",
   "name": "python",
   "nbconvert_exporter": "python",
   "pygments_lexer": "ipython3",
   "version": "3.7.4"
  },
  "toc": {
   "base_numbering": 1,
   "nav_menu": {},
   "number_sections": true,
   "sideBar": true,
   "skip_h1_title": false,
   "title_cell": "Table of Contents",
   "title_sidebar": "Contents",
   "toc_cell": false,
   "toc_position": {},
   "toc_section_display": true,
   "toc_window_display": false
  },
  "varInspector": {
   "cols": {
    "lenName": 16,
    "lenType": 16,
    "lenVar": 40
   },
   "kernels_config": {
    "python": {
     "delete_cmd_postfix": "",
     "delete_cmd_prefix": "del ",
     "library": "var_list.py",
     "varRefreshCmd": "print(var_dic_list())"
    },
    "r": {
     "delete_cmd_postfix": ") ",
     "delete_cmd_prefix": "rm(",
     "library": "var_list.r",
     "varRefreshCmd": "cat(var_dic_list()) "
    }
   },
   "types_to_exclude": [
    "module",
    "function",
    "builtin_function_or_method",
    "instance",
    "_Feature"
   ],
   "window_display": false
  }
 },
 "nbformat": 4,
 "nbformat_minor": 2
}
