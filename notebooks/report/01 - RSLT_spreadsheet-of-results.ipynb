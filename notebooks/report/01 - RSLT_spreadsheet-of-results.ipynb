{
 "cells": [
  {
   "cell_type": "markdown",
   "metadata": {},
   "source": [
    "# Create a spreadsheet with the results\n",
    "\n",
    "En este notebook se genera una hoja de calculo con los datos generados por los notebooks \n",
    "* \n",
    "* \n",
    "* "
   ]
  },
  {
   "cell_type": "code",
   "execution_count": 43,
   "metadata": {},
   "outputs": [],
   "source": [
    "from os.path import isfile\n",
    "\n",
    "import numpy as np\n",
    "import pandas as pd\n",
    "import h5py\n",
    "\n",
    "from spikelib.utils import datasets_to_array"
   ]
  },
  {
   "cell_type": "code",
   "execution_count": 44,
   "metadata": {},
   "outputs": [
    {
     "name": "stdout",
     "output_type": "stream",
     "text": [
      "To export MR-0092t2 experiment to csv file\n"
     ]
    }
   ],
   "source": [
    "nd_filter = 'nd2'\n",
    "intensity_sta = nd_filter+'-255'\n",
    "intensities_flash = ['{}_{:03d}'.format(nd_filter, intensity) for intensity in [50, 100, 150, 200, 255]]\n",
    "experiment = 'MR-0092t2'\n",
    "fanalysis = '../../data/processed_protocols/MR-0092t2_modified_analysis_of_protocols_150um_merge.hdf5'\n",
    "fspikes = '../../data/sorting/MR-0092t2.result-1.hdf5'\n",
    "outút_folder = '../../reports/spreadsheets/'\n",
    "\n",
    "print('To export {} experiment to csv file'.format(experiment))\n",
    "\n",
    "results = pd.DataFrame({})\n",
    "    "
   ]
  },
  {
   "cell_type": "code",
   "execution_count": null,
   "metadata": {},
   "outputs": [],
   "source": []
  },
  {
   "cell_type": "markdown",
   "metadata": {},
   "source": [
    "## Scotopic"
   ]
  },
  {
   "cell_type": "code",
   "execution_count": 45,
   "metadata": {},
   "outputs": [
    {
     "name": "stderr",
     "output_type": "stream",
     "text": [
      "/home/cesar/Software/anaconda3/envs/spklib3/lib/python3.6/site-packages/ipykernel/__main__.py:16: FutureWarning: Sorting because non-concatenation axis is not aligned. A future version\n",
      "of pandas will change to not sort by default.\n",
      "\n",
      "To accept the future behavior, pass 'sort=False'.\n",
      "\n",
      "To retain the current behavior and silence the warning, pass 'sort=True'.\n",
      "\n"
     ]
    }
   ],
   "source": [
    "df = pd.read_csv('../../data/sync/MR-0092t2/event_list_MR-0092t2.csv')\n",
    "\n",
    "protocol_names = ['scotopic_initial', 'scotopic_final']\n",
    "\n",
    "for protocol_name in protocol_names:\n",
    "    start_scotopic = df[df['protocol_name'].isin([protocol_name])]['start_event'].values[0]\n",
    "    end_scotopic = (df[df['protocol_name'].isin([protocol_name])]['end_event']).values[0]\n",
    "    scotopic_rate = {}\n",
    "    with h5py.File(fspikes) as fscotopic: \n",
    "        for key, spikes in fscotopic['spiketimes'].items():\n",
    "            spk = spikes[...]\n",
    "            filter_spikes = spk < end_scotopic\n",
    "            scotopic_rate[key] = spk[filter_spikes].size/(end_scotopic/20000.)\n",
    "\n",
    "    scotopic_char = pd.Series(scotopic_rate, name='fr_'+protocol_name)\n",
    "    results = pd.concat([results, scotopic_char],axis=1)"
   ]
  },
  {
   "cell_type": "markdown",
   "metadata": {},
   "source": [
    "## Photopic"
   ]
  },
  {
   "cell_type": "raw",
   "metadata": {},
   "source": [
    "photopic_file = sourceFolder+'photopic.npy'\n",
    "photopic_rate    = np.load(photopic_file).item() if isfile(photopic_file) else {}\n",
    "\n",
    "photopic_char = pd.Series(photopic_rate,name='Photopic_rate')\n",
    "results = pd.concat([results, photopic_char],axis=1)"
   ]
  },
  {
   "cell_type": "markdown",
   "metadata": {},
   "source": [
    "## Temporal properties from the White Noise stimulus"
   ]
  },
  {
   "cell_type": "code",
   "execution_count": 46,
   "metadata": {},
   "outputs": [],
   "source": [
    "# Source file\n",
    "temp_char_group = '/sta/{}/temporal/char/'.format(intensity_sta)\n",
    "valid_group = '/sta/{}/valid/'.format(intensity_sta)\n",
    "with h5py.File(fanalysis, 'r') as panalysis:\n",
    "    col_name = panalysis[temp_char_group].attrs['col_name'].split(',')\n",
    "    \n",
    "    data_char = {}\n",
    "    valid = {}\n",
    "    for key in panalysis[temp_char_group]:\n",
    "        data_char[key] = panalysis[temp_char_group+key][...]\n",
    "        valid[key] = panalysis[valid_group+key][...]\n",
    "    \n",
    "    wn_temp_char = pd.DataFrame(data_char, index=col_name).transpose()\n",
    "    wn_temp_char['validsta'] = pd.Series(valid)\n",
    "\n",
    "\n",
    "wn_temp_char['statype'].replace({1:'ON',0:'OFF'},inplace=True)\n",
    "\n",
    "# Partial result\n",
    "wn_col_name = {'peakamplitud': 'RF_PeakFrame_Amp',\n",
    "               'peaktime': 'RF_PeakFrame',\n",
    "               'peaktime2': 'RF_PeakFrame2',\n",
    "               'biphasicindex': 'RF_BiphasicIndex',\n",
    "               'zerocrossing': 'RF_ZeroCrossing',\n",
    "               'statype': 'RF_STAtype',\n",
    "               'validsta': 'RF_valid',\n",
    "              }\n",
    "\n",
    "wn_temp_char.rename(columns=wn_col_name,inplace=True)\n",
    "results = pd.concat([results, wn_temp_char],axis=1)"
   ]
  },
  {
   "cell_type": "markdown",
   "metadata": {},
   "source": [
    "## Temporal fit for WN"
   ]
  },
  {
   "cell_type": "code",
   "execution_count": 47,
   "metadata": {},
   "outputs": [
    {
     "name": "stdout",
     "output_type": "stream",
     "text": [
      "          RF_Fit_amp1  RF_Fit_amp2  RF_Fit_tau1  RF_Fit_tau2   RF_Fit_n\n",
      "temp_0       0.000000     0.000000    -0.000000    -0.000000   0.000000\n",
      "temp_1       0.345390     0.154075    -0.089396    -0.204000  10.238035\n",
      "temp_10      0.258726     0.147207    -0.106037    -0.163156  13.030626\n",
      "temp_100     0.024028     0.153281    -0.270798    -0.059177   9.486058\n",
      "temp_101     0.000000     0.000000    -0.000000    -0.000000   0.000000\n"
     ]
    }
   ],
   "source": [
    "# Source file\n",
    "temp_fit_pars_group = '/sta/{}/temporal/fit_params/'.format(intensity_sta)\n",
    "\n",
    "with h5py.File(fanalysis, 'r') as panalysis:\n",
    "    col_name = panalysis[temp_fit_pars_group].attrs['col_name'].split(',')\n",
    "    \n",
    "    fit_pars = {}\n",
    "    for key in panalysis[temp_fit_pars_group]:\n",
    "        fit_pars[key] = panalysis[temp_fit_pars_group+key][...]\n",
    "    \n",
    "    wn_temp_fit = pd.DataFrame(fit_pars, index=col_name).transpose()\n",
    "    rename = ['RF_Fit_amp1', 'RF_Fit_amp2', 'RF_Fit_tau1', 'RF_Fit_tau2', 'RF_Fit_n']\n",
    "    rename = {col_name[k]: rename[k] for k in range(len(col_name))}\n",
    "    wn_temp_fit.rename(columns=rename,inplace=True)\n",
    "\n",
    "print(wn_temp_fit.head())\n",
    "results = pd.concat([results, wn_temp_fit],axis=1)"
   ]
  },
  {
   "cell_type": "markdown",
   "metadata": {},
   "source": [
    "## Spatial properties from the White Noise stimulus"
   ]
  },
  {
   "cell_type": "code",
   "execution_count": 48,
   "metadata": {},
   "outputs": [],
   "source": [
    "block_to_um = 50  # 12 pixel x 1 block x  4.1666 micrometers\n",
    "spatial_char_group = '/sta/{}/spatial/char/'.format(intensity_sta)\n",
    "\n",
    "with h5py.File(fanalysis, 'r') as panalysis:\n",
    "    col_name = panalysis[spatial_char_group].attrs['col_name'].split(',')\n",
    "    array, key = datasets_to_array(panalysis[spatial_char_group])\n",
    "#     spatial_char = {key: panalysis[spatial_char_group+key][...] for key in panalysis[spatial_char_group]}\n",
    "\n",
    "wn_spatial = pd.DataFrame(data=array, index=key, columns=col_name)\n",
    "wn_spatial.columns\n",
    "\n",
    "rename_columns = {\n",
    "    'angle': 'RF_rotation',\n",
    "    'semia': 'RF_semia',\n",
    "    'semib': 'RF_semib',\n",
    "    'x0': 'RF_x',\n",
    "    'y0': 'RF_y',\n",
    "    'snr': 'RF_snr',\n",
    "    'frame_max': 'RF_frame_maxr'\n",
    "}\n",
    "wn_spatial.rename(columns=rename_columns, inplace=True)\n",
    "wn_spatial['RF_semia'].iloc[:] = wn_spatial['RF_semia']*block_to_um\n",
    "wn_spatial['RF_semib'].iloc[:] = wn_spatial['RF_semib']*block_to_um\n",
    "wn_spatial['RF_x'].iloc[:] = wn_spatial['RF_x']*block_to_um\n",
    "wn_spatial['RF_y'].iloc[:] = wn_spatial['RF_y']*block_to_um\n",
    "wn_spatial['RF_area'] = wn_spatial['RF_semia'] * wn_spatial['RF_semib'] * np.pi\n",
    "wn_spatial['RF_radmax'] = wn_spatial[['RF_semia','RF_semib']].max(axis=1)\n",
    "\n",
    "results = pd.concat([results, wn_spatial],axis=1)   \n",
    "\n",
    "# {'snr': 'RF_snr',\n",
    "# 'exp': 'RF_exp',\n",
    "# 'var_signal': 'RF_var_signal',\n",
    "# 'var_noise': 'RF_var_noise',\n",
    "# 'max_amp_raw': 'RF_max_amp_raw',\n",
    "# 'min_amp_raw': 'RF_min_amp_raw',\n",
    "# 'peak_amp1_norm': 'RF_PeakFrame_Amp_norm'}"
   ]
  },
  {
   "cell_type": "markdown",
   "metadata": {},
   "source": [
    "## Linearity for the white noise stimulus"
   ]
  },
  {
   "cell_type": "raw",
   "metadata": {},
   "source": [
    "wn_linearity_file = '/home/cesar/Dropbox/Experimentos/Clustering/Results/sta/nl_parameters.npy'\n",
    "wn_linearity = np.load(wn_linearity_file)\n",
    "\n",
    "wn_ln = pd.DataFrame(wn_linearity)\n",
    "wn_ln['Linearity'] = wn_ln['NL_Index']\n",
    "wn_ln = wn_ln.iloc[:,2:]\n",
    "\n",
    "results = pd.concat([results, wn_ln],axis=1)"
   ]
  },
  {
   "cell_type": "markdown",
   "metadata": {},
   "source": [
    "## Temporal propierties of the Flash stimulus"
   ]
  },
  {
   "cell_type": "code",
   "execution_count": 49,
   "metadata": {},
   "outputs": [],
   "source": [
    "with h5py.File(fanalysis, 'r') as panalysis:\n",
    "    for intensity in intensities_flash:\n",
    "        nd = intensity.split('_')[1]\n",
    "        flash_char_group = '/flash/{}/char/'.format(intensity)\n",
    "        flash_type_group = '/flash/{}/type/'.format(intensity)\n",
    "        col_name = panalysis[flash_char_group].attrs['col_name'].split(',')\n",
    "        col_name = ['FL_{}_{}'.format(nd, k.strip()) for k in col_name]\n",
    "        array, key = datasets_to_array(panalysis[flash_char_group])\n",
    "        flash_char = pd.DataFrame(data=array, index=key, columns=col_name, )\n",
    "        \n",
    "        type_, key_type = datasets_to_array(panalysis[flash_type_group])\n",
    "        flash_char['FL_{}_type'.format(nd)] = pd.Series(type_, index=key_type)\n",
    "        flash_char['FL_{}_type'.format(nd)] = \\\n",
    "            flash_char['FL_{}_type'.format(nd)].map(\n",
    "            {np.nan: 'Null', 0: 'Null', 1: 'On', 2: 'Off', 3: 'OnOff'},\n",
    "        )\n",
    "        results = pd.concat([results, flash_char],axis=1)   "
   ]
  },
  {
   "cell_type": "markdown",
   "metadata": {},
   "source": [
    "## Sorting class"
   ]
  },
  {
   "cell_type": "code",
   "execution_count": 50,
   "metadata": {},
   "outputs": [
    {
     "name": "stderr",
     "output_type": "stream",
     "text": [
      "/home/cesar/Software/anaconda3/envs/spklib3/lib/python3.6/site-packages/ipykernel/__main__.py:12: FutureWarning: Sorting because non-concatenation axis is not aligned. A future version\n",
      "of pandas will change to not sort by default.\n",
      "\n",
      "To accept the future behavior, pass 'sort=False'.\n",
      "\n",
      "To retain the current behavior and silence the warning, pass 'sort=True'.\n",
      "\n"
     ]
    }
   ],
   "source": [
    "target_path = '../../data/sorting/target_units_MR-0092t2.result-1.json'\n",
    "with open(target_path, 'r') as f:\n",
    "    targets = json.loads(f.read())\n",
    "\n",
    "target_units = []\n",
    "for key in targets:\n",
    "    target_units.extend(\n",
    "        [*map(lambda k: ('temp_{}'.format(k), key), targets[key])]\n",
    "    )\n",
    "class_type = pd.DataFrame(target_units, columns=['name', 'class_type'])\n",
    "class_type.set_index('name', inplace=True)\n",
    "results = pd.concat([results, class_type],axis=1)   "
   ]
  },
  {
   "cell_type": "markdown",
   "metadata": {},
   "source": [
    "## Save results to CSV file"
   ]
  },
  {
   "cell_type": "code",
   "execution_count": 51,
   "metadata": {},
   "outputs": [
    {
     "name": "stdout",
     "output_type": "stream",
     "text": [
      "Saved in ../../reports/spreadsheets/MR-0092t2_nd2.csv\n"
     ]
    },
    {
     "data": {
      "text/html": [
       "<div>\n",
       "<style scoped>\n",
       "    .dataframe tbody tr th:only-of-type {\n",
       "        vertical-align: middle;\n",
       "    }\n",
       "\n",
       "    .dataframe tbody tr th {\n",
       "        vertical-align: top;\n",
       "    }\n",
       "\n",
       "    .dataframe thead th {\n",
       "        text-align: right;\n",
       "    }\n",
       "</style>\n",
       "<table border=\"1\" class=\"dataframe\">\n",
       "  <thead>\n",
       "    <tr style=\"text-align: right;\">\n",
       "      <th></th>\n",
       "      <th>fr_scotopic_initial</th>\n",
       "      <th>fr_scotopic_final</th>\n",
       "      <th>RF_PeakFrame</th>\n",
       "      <th>RF_PeakFrame2</th>\n",
       "      <th>RF_PeakFrame_Amp</th>\n",
       "      <th>RF_BiphasicIndex</th>\n",
       "      <th>RF_ZeroCrossing</th>\n",
       "      <th>RF_STAtype</th>\n",
       "      <th>RF_valid</th>\n",
       "      <th>RF_Fit_amp1</th>\n",
       "      <th>...</th>\n",
       "      <th>FL_255_decay_on</th>\n",
       "      <th>FL_255_decay_off</th>\n",
       "      <th>FL_255_resp_index_on</th>\n",
       "      <th>FL_255_resp_index_off</th>\n",
       "      <th>FL_255_sust_index_on</th>\n",
       "      <th>FL_255_sust_index_off</th>\n",
       "      <th>FL_255_peakresp_on</th>\n",
       "      <th>FL_255_peakresp_off</th>\n",
       "      <th>FL_255_type</th>\n",
       "      <th>class_type</th>\n",
       "    </tr>\n",
       "  </thead>\n",
       "  <tbody>\n",
       "    <tr>\n",
       "      <th>temp_0</th>\n",
       "      <td>0.745888</td>\n",
       "      <td>2.897858</td>\n",
       "      <td>NaN</td>\n",
       "      <td>NaN</td>\n",
       "      <td>NaN</td>\n",
       "      <td>NaN</td>\n",
       "      <td>NaN</td>\n",
       "      <td>NaN</td>\n",
       "      <td>False</td>\n",
       "      <td>0.000000</td>\n",
       "      <td>...</td>\n",
       "      <td>0.000000</td>\n",
       "      <td>0.153084</td>\n",
       "      <td>0.000000</td>\n",
       "      <td>0.832359</td>\n",
       "      <td>0.000000</td>\n",
       "      <td>0.492399</td>\n",
       "      <td>0.000000</td>\n",
       "      <td>0.540638</td>\n",
       "      <td>Off</td>\n",
       "      <td>valid</td>\n",
       "    </tr>\n",
       "    <tr>\n",
       "      <th>temp_1</th>\n",
       "      <td>0.004929</td>\n",
       "      <td>2.445631</td>\n",
       "      <td>-0.087989</td>\n",
       "      <td>-0.208367</td>\n",
       "      <td>0.335456</td>\n",
       "      <td>0.451029</td>\n",
       "      <td>-0.143050</td>\n",
       "      <td>ON</td>\n",
       "      <td>True</td>\n",
       "      <td>0.345390</td>\n",
       "      <td>...</td>\n",
       "      <td>0.010006</td>\n",
       "      <td>0.000000</td>\n",
       "      <td>0.751642</td>\n",
       "      <td>0.000000</td>\n",
       "      <td>0.735465</td>\n",
       "      <td>0.000000</td>\n",
       "      <td>0.988772</td>\n",
       "      <td>0.000000</td>\n",
       "      <td>On</td>\n",
       "      <td>valid</td>\n",
       "    </tr>\n",
       "    <tr>\n",
       "      <th>temp_10</th>\n",
       "      <td>0.029573</td>\n",
       "      <td>0.859552</td>\n",
       "      <td>-0.099865</td>\n",
       "      <td>-0.184075</td>\n",
       "      <td>0.214373</td>\n",
       "      <td>0.512931</td>\n",
       "      <td>-0.143050</td>\n",
       "      <td>ON</td>\n",
       "      <td>True</td>\n",
       "      <td>0.258726</td>\n",
       "      <td>...</td>\n",
       "      <td>0.010006</td>\n",
       "      <td>0.000000</td>\n",
       "      <td>0.809126</td>\n",
       "      <td>0.000000</td>\n",
       "      <td>0.826974</td>\n",
       "      <td>0.000000</td>\n",
       "      <td>0.864268</td>\n",
       "      <td>0.000000</td>\n",
       "      <td>On</td>\n",
       "      <td>valid</td>\n",
       "    </tr>\n",
       "    <tr>\n",
       "      <th>temp_100</th>\n",
       "      <td>1.258480</td>\n",
       "      <td>3.456995</td>\n",
       "      <td>-0.059379</td>\n",
       "      <td>-0.270985</td>\n",
       "      <td>-0.153251</td>\n",
       "      <td>0.156789</td>\n",
       "      <td>-0.126316</td>\n",
       "      <td>OFF</td>\n",
       "      <td>True</td>\n",
       "      <td>0.024028</td>\n",
       "      <td>...</td>\n",
       "      <td>0.011006</td>\n",
       "      <td>0.069038</td>\n",
       "      <td>0.812106</td>\n",
       "      <td>0.760366</td>\n",
       "      <td>0.788744</td>\n",
       "      <td>0.666615</td>\n",
       "      <td>1.633333</td>\n",
       "      <td>1.062532</td>\n",
       "      <td>OnOff</td>\n",
       "      <td>valid</td>\n",
       "    </tr>\n",
       "    <tr>\n",
       "      <th>temp_101</th>\n",
       "      <td>0.023001</td>\n",
       "      <td>1.140419</td>\n",
       "      <td>-0.485289</td>\n",
       "      <td>-0.485289</td>\n",
       "      <td>NaN</td>\n",
       "      <td>NaN</td>\n",
       "      <td>-0.485289</td>\n",
       "      <td>OFF</td>\n",
       "      <td>True</td>\n",
       "      <td>0.000000</td>\n",
       "      <td>...</td>\n",
       "      <td>0.013007</td>\n",
       "      <td>0.000000</td>\n",
       "      <td>0.714843</td>\n",
       "      <td>0.000000</td>\n",
       "      <td>0.693601</td>\n",
       "      <td>0.000000</td>\n",
       "      <td>0.570679</td>\n",
       "      <td>0.000000</td>\n",
       "      <td>On</td>\n",
       "      <td>valid</td>\n",
       "    </tr>\n",
       "  </tbody>\n",
       "</table>\n",
       "<p>5 rows × 84 columns</p>\n",
       "</div>"
      ],
      "text/plain": [
       "          fr_scotopic_initial  fr_scotopic_final  RF_PeakFrame  RF_PeakFrame2  \\\n",
       "temp_0               0.745888           2.897858           NaN            NaN   \n",
       "temp_1               0.004929           2.445631     -0.087989      -0.208367   \n",
       "temp_10              0.029573           0.859552     -0.099865      -0.184075   \n",
       "temp_100             1.258480           3.456995     -0.059379      -0.270985   \n",
       "temp_101             0.023001           1.140419     -0.485289      -0.485289   \n",
       "\n",
       "          RF_PeakFrame_Amp  RF_BiphasicIndex  RF_ZeroCrossing RF_STAtype  \\\n",
       "temp_0                 NaN               NaN              NaN        NaN   \n",
       "temp_1            0.335456          0.451029        -0.143050         ON   \n",
       "temp_10           0.214373          0.512931        -0.143050         ON   \n",
       "temp_100         -0.153251          0.156789        -0.126316        OFF   \n",
       "temp_101               NaN               NaN        -0.485289        OFF   \n",
       "\n",
       "         RF_valid  RF_Fit_amp1  ...  FL_255_decay_on  FL_255_decay_off  \\\n",
       "temp_0      False     0.000000  ...         0.000000          0.153084   \n",
       "temp_1       True     0.345390  ...         0.010006          0.000000   \n",
       "temp_10      True     0.258726  ...         0.010006          0.000000   \n",
       "temp_100     True     0.024028  ...         0.011006          0.069038   \n",
       "temp_101     True     0.000000  ...         0.013007          0.000000   \n",
       "\n",
       "          FL_255_resp_index_on  FL_255_resp_index_off  FL_255_sust_index_on  \\\n",
       "temp_0                0.000000               0.832359              0.000000   \n",
       "temp_1                0.751642               0.000000              0.735465   \n",
       "temp_10               0.809126               0.000000              0.826974   \n",
       "temp_100              0.812106               0.760366              0.788744   \n",
       "temp_101              0.714843               0.000000              0.693601   \n",
       "\n",
       "          FL_255_sust_index_off  FL_255_peakresp_on  FL_255_peakresp_off  \\\n",
       "temp_0                 0.492399            0.000000             0.540638   \n",
       "temp_1                 0.000000            0.988772             0.000000   \n",
       "temp_10                0.000000            0.864268             0.000000   \n",
       "temp_100               0.666615            1.633333             1.062532   \n",
       "temp_101               0.000000            0.570679             0.000000   \n",
       "\n",
       "          FL_255_type  class_type  \n",
       "temp_0            Off       valid  \n",
       "temp_1             On       valid  \n",
       "temp_10            On       valid  \n",
       "temp_100        OnOff       valid  \n",
       "temp_101           On       valid  \n",
       "\n",
       "[5 rows x 84 columns]"
      ]
     },
     "execution_count": 51,
     "metadata": {},
     "output_type": "execute_result"
    }
   ],
   "source": [
    "# resultFolder = '/home/cesar/exp/Chirp_data/results/'+experiment+'/'\n",
    "file_name = outút_folder+experiment+'_'+nd_filter+'.csv'\n",
    "\n",
    "results.to_csv(file_name, float_format='%.10f')\n",
    "print('Saved in {}'.format(file_name))\n",
    "\n",
    "results.head()"
   ]
  },
  {
   "cell_type": "raw",
   "metadata": {},
   "source": [
    "columns = [\n",
    "    'RF_semia',\n",
    "    'RF_semib',\n",
    "    'RF_radmax',\n",
    "    'RF_area',\n",
    "    'RF_rotation',\n",
    "    'RF_x',\n",
    "    'RF_y',\n",
    "    'RF_PeakFrame',\n",
    "    'RF_PeakFrame2',\n",
    "    'RF_PeakFrame_Amp',\n",
    "    'RF_PeakFrame_Amp_norm',\n",
    "    'RF_ZeroCrossing',\n",
    "    'RF_BiphasicIndex',\n",
    "    'RF_Fit_amp1',\n",
    "    'RF_Fit_amp2',\n",
    "    'RF_Fit_tau1',\n",
    "    'RF_Fit_tau2',\n",
    "    'RF_Fit_n',\n",
    "    'RF_STAtype',\n",
    "    'RF_snr',\n",
    "    'RF_max_amp_raw',\n",
    "    'RF_min_amp_raw',\n",
    "    'Linearity',\n",
    "    'NL_Index',\n",
    "    'NL_slopeMin',\n",
    "    'NL_slopeMax',\n",
    "    'NL_frMin',\n",
    "    'NL_frMax',\n",
    "    'NL_fr(0)',\n",
    "    'NL_gsMin',\n",
    "    'NL_gsMax',\n",
    "]\n",
    "ne_col = {\n",
    "'RF_semia': 'Radio A',\n",
    "'RF_semib': 'Radio B',\n",
    "'RF_radmax': 'Radio Max',\n",
    "'RF_area': 'Area',\n",
    "'RF_rotation': 'Angulo',\n",
    "'RF_x': 'X',\n",
    "'RF_y': 'Y',\n",
    "'RF_PeakFrame': 'PeakFrame',\n",
    "'RF_PeakFrame2': 'PeakFrame2',\n",
    "'RF_PeakFrame_Amp': 'PeakFrame_Amp_raw',\n",
    "'RF_PeakFrame_Amp_norm': 'PeakFrame_Amp',\n",
    "'RF_ZeroCrossing': 'ZeroCrossing',\n",
    "'RF_BiphasicIndex': 'BiphasicIndex',\n",
    "'RF_Fit_amp1': 'Fit_amp1',\n",
    "'RF_Fit_amp2': 'Fit_amp2',\n",
    "'RF_Fit_tau1': 'Fit_tau1',\n",
    "'RF_Fit_tau2': 'Fit_tau2',\n",
    "'RF_Fit_n': 'Fit_n',\n",
    "'RF_STAtype': 'STAtype',\n",
    "'RF_snr': 'std_STA',\n",
    "'RF_max_amp_raw': 'PeakFrame_Amp_raw_max',\n",
    "'RF_min_amp_raw': 'PeakFrame_Amp_raw_min',\n",
    "'Linearity' : 'Linearity',\n",
    "'NL_Index' : 'NL_Index',\n",
    "'NL_slopeMin' : 'NL_slopeMin',\n",
    "'NL_slopeMax' : 'NL_slopeMax',\n",
    "'NL_frMin' : 'NL_frMin',\n",
    "'NL_frMax' : 'NL_frMax',\n",
    "'NL_fr(0)' : 'NL_fr(0)',\n",
    "'NL_gsMin' : 'NL_gsMin',\n",
    "'NL_gsMax' : 'NL_gsMax',\n",
    "}\n",
    "ll = ['Radio A',\n",
    "      'Radio B',\n",
    "      'Radio Max',\n",
    "      'Area',\n",
    "      'Angulo',\n",
    "      'X',\n",
    "      'Y',\n",
    "      'PeakFrame',\n",
    "      'PeakFrame2',\n",
    "      'PeakFrame_Amp',\n",
    "      'PeakFrame_Amp_raw',\n",
    "      'ZeroCrossing',\n",
    "      'BiphasicIndex',\n",
    "      'Fit_amp1',\n",
    "      'Fit_amp2',\n",
    "      'Fit_tau1',\n",
    "      'Fit_tau2',\n",
    "      'Fit_n',\n",
    "      'STAtype',\n",
    "      'std_STA',\n",
    "      'PeakFrame_Amp_raw_max',\n",
    "      'PeakFrame_Amp_raw_min',\n",
    "      'Linearity',\n",
    "      'NL_Index',\n",
    "      'NL_slopeMin',\n",
    "      'NL_slopeMax',\n",
    "      'NL_frMin',\n",
    "      'NL_frMax',\n",
    "      'NL_fr(0)',\n",
    "      'NL_gsMin',\n",
    "      'NL_gsMax',\n",
    "     ]\n",
    "\n",
    "for kexp in ['2016-04-11', '2016-04-18', '2016-06-06', '2016-06-17', '2018-01-25','2015-11-17']:\n",
    "    filter_exp = (results['RF_exp'] == kexp)&(results['RF_valid'])\n",
    "    export_exp = pd.DataFrame(results[filter_exp][columns],columns=ne_col)\n",
    "    export_exp.rename(columns=ne_col, inplace=True)\n",
    "    export_exp[ll].to_csv(resultFolder+kexp+'.csv',float_format='%.10f',index=False)\n"
   ]
  },
  {
   "cell_type": "code",
   "execution_count": 52,
   "metadata": {},
   "outputs": [
    {
     "name": "stdout",
     "output_type": "stream",
     "text": [
      "MR-0092t2_nd2.csv\n",
      "MR-0092t2_nd3.csv\n",
      "MR-0092t2_nd4.csv\n",
      "MR-0092t2_nd5.csv\n"
     ]
    }
   ],
   "source": [
    "import os\n",
    "\n",
    "path_file = '../../reports/spreadsheets/'\n",
    "files = [\n",
    "    x for x in os.listdir(path_file) if x.startswith('MR-0092t2_nd')\n",
    "]\n",
    "\n",
    "df_list = []\n",
    "for k in sorted(files):\n",
    "    print(k)\n",
    "    data = pd.read_csv(path_file+k)\n",
    "    data['nd_filter'] = k.split('_')[1][:3]\n",
    "    df_list.append(data)\n",
    "df = pd.concat(df_list)\n",
    "\n",
    "df_valid = df[df['class_type']=='valid']\n",
    "df.to_csv(path_file+'MR-0092t2_allnd.csv')\n",
    "df[df['class_type']=='valid'].to_csv(path_file+'MR-0092t2_allnd_valid.csv')"
   ]
  }
 ],
 "metadata": {
  "kernelspec": {
   "display_name": "Python [conda env:spklib3]",
   "language": "python",
   "name": "conda-env-spklib3-py"
  },
  "language_info": {
   "codemirror_mode": {
    "name": "ipython",
    "version": 3
   },
   "file_extension": ".py",
   "mimetype": "text/x-python",
   "name": "python",
   "nbconvert_exporter": "python",
   "pygments_lexer": "ipython3",
   "version": "3.6.8"
  },
  "toc": {
   "base_numbering": 1,
   "nav_menu": {},
   "number_sections": true,
   "sideBar": true,
   "skip_h1_title": false,
   "title_cell": "Table of Contents",
   "title_sidebar": "Contents",
   "toc_cell": false,
   "toc_position": {},
   "toc_section_display": true,
   "toc_window_display": true
  },
  "varInspector": {
   "cols": {
    "lenName": 16,
    "lenType": 16,
    "lenVar": 40
   },
   "kernels_config": {
    "python": {
     "delete_cmd_postfix": "",
     "delete_cmd_prefix": "del ",
     "library": "var_list.py",
     "varRefreshCmd": "print(var_dic_list())"
    },
    "r": {
     "delete_cmd_postfix": ") ",
     "delete_cmd_prefix": "rm(",
     "library": "var_list.r",
     "varRefreshCmd": "cat(var_dic_list()) "
    }
   },
   "types_to_exclude": [
    "module",
    "function",
    "builtin_function_or_method",
    "instance",
    "_Feature"
   ],
   "window_display": false
  }
 },
 "nbformat": 4,
 "nbformat_minor": 2
}
