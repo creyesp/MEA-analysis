{
 "cells": [
  {
   "cell_type": "code",
   "execution_count": 11,
   "metadata": {},
   "outputs": [],
   "source": [
    "from configparser import ConfigParser, ExtendedInterpolation\n",
    "from functools import reduce\n",
    "from itertools import product\n",
    "\n",
    "import h5py\n",
    "import pandas as pd\n",
    "\n",
    "from spikelib.utils import check_directory, datasets_to_array\n",
    "\n",
    "config = ConfigParser(interpolation=ExtendedInterpolation())\n",
    "config.read('../../config.ini')\n",
    "\n",
    "idx =  pd.IndexSlice"
   ]
  },
  {
   "cell_type": "code",
   "execution_count": 7,
   "metadata": {},
   "outputs": [
    {
     "name": "stdout",
     "output_type": "stream",
     "text": [
      "PROCESSED FILE: /home/vnc/Downloads/MR-0061/data/processed_protocols/MR-0061__analysis_of_protocols.hdf5\n"
     ]
    }
   ],
   "source": [
    "exp_name = config['EXP']['name']\n",
    "processed_file = config['FILES']['processed']\n",
    "outút_folder = config['REPORT']['spreadsheet']\n",
    "\n",
    "print('PROCESSED FILE: ' + processed_file)"
   ]
  },
  {
   "cell_type": "code",
   "execution_count": 15,
   "metadata": {},
   "outputs": [],
   "source": [
    "df_list = []\n",
    "with h5py.File(processed_file)  as panalysis:\n",
    "    flash_group = '/flash/'\n",
    "    for nd in panalysis[flash_group]:\n",
    "        for intensity in panalysis[flash_group + nd]:\n",
    "            base_group = '{}{}/{}/'.format(flash_group, nd, intensity)\n",
    "            flash_charg = base_group + 'char/'\n",
    "            flash_typeg = base_group + 'type/'\n",
    "            col_name = [k.strip() for k in panalysis[flash_charg].attrs['col_name'].split(',')]\n",
    "            char_array, keys = datasets_to_array(panalysis[flash_charg])\n",
    "            type_array, type_keys = datasets_to_array(panalysis[flash_typeg])\n",
    "            columns = pd.MultiIndex.from_product([[nd], [intensity], col_name], names=['nd', 'intensity', 'char'])\n",
    "            df = pd.DataFrame(data=char_array, index=keys, columns=columns)\n",
    "            df[(nd, intensity, 'type')] = pd.Series(type_array, index=type_keys)\n",
    "            df_list.append(df)\n",
    "char_data = reduce(lambda x, y: x.join(y, how='outer'), df_list)"
   ]
  },
  {
   "cell_type": "code",
   "execution_count": 25,
   "metadata": {},
   "outputs": [],
   "source": [
    "char_data.to_csv('{}{}_flash_char.csv'.format(outút_folder, exp_name))"
   ]
  }
 ],
 "metadata": {
  "kernelspec": {
   "display_name": "Python 3",
   "language": "python",
   "name": "python3"
  },
  "language_info": {
   "codemirror_mode": {
    "name": "ipython",
    "version": 3
   },
   "file_extension": ".py",
   "mimetype": "text/x-python",
   "name": "python",
   "nbconvert_exporter": "python",
   "pygments_lexer": "ipython3",
   "version": "3.7.4"
  },
  "toc": {
   "base_numbering": 1,
   "nav_menu": {},
   "number_sections": true,
   "sideBar": true,
   "skip_h1_title": false,
   "title_cell": "Table of Contents",
   "title_sidebar": "Contents",
   "toc_cell": false,
   "toc_position": {},
   "toc_section_display": true,
   "toc_window_display": false
  },
  "varInspector": {
   "cols": {
    "lenName": 16,
    "lenType": 16,
    "lenVar": 40
   },
   "kernels_config": {
    "python": {
     "delete_cmd_postfix": "",
     "delete_cmd_prefix": "del ",
     "library": "var_list.py",
     "varRefreshCmd": "print(var_dic_list())"
    },
    "r": {
     "delete_cmd_postfix": ") ",
     "delete_cmd_prefix": "rm(",
     "library": "var_list.r",
     "varRefreshCmd": "cat(var_dic_list()) "
    }
   },
   "types_to_exclude": [
    "module",
    "function",
    "builtin_function_or_method",
    "instance",
    "_Feature"
   ],
   "window_display": false
  }
 },
 "nbformat": 4,
 "nbformat_minor": 2
}
