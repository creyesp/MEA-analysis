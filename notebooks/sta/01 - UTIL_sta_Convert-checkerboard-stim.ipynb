{
 "cells": [
  {
   "cell_type": "markdown",
   "metadata": {},
   "source": [
    "# Convert .mat file to hdf5 python format\n",
    "\n",
    "This notebook take original stim file of the checkerboard, add repeated frame for a particular experiment and create a hdf5 file. The output axis are (frame, y, x, channel).\n",
    "\n",
    "Note:\n",
    "\n",
    " * HDF5 describes data set dimensions in **row-major order**; MATLAB stores data in **column-major order**.For example, if Matlab (Fortran) writes a 35x31x3x100 four-dimensional dataset to the file, a Python (wrote in C) program will read it as a 100x3x31x35 four-dimensional dataset from memory. \n",
    " * Scipy.io.loadmat only soppourt version of mat file less than 7.3. To read version 7.3 we need to read as hdf5 file.   \n",
    " * Scipy.io.loadmat transfor data to **row-major order** but keep the same axis orden that MATLAB\n"
   ]
  },
  {
   "cell_type": "code",
   "execution_count": 1,
   "metadata": {},
   "outputs": [
    {
     "data": {
      "text/plain": [
       "['../../config.ini']"
      ]
     },
     "execution_count": 1,
     "metadata": {},
     "output_type": "execute_result"
    }
   ],
   "source": [
    "from configparser import ConfigParser, ExtendedInterpolation\n",
    "\n",
    "import h5py\n",
    "import numpy as np\n",
    "import matplotlib.pyplot as plt\n",
    "import pandas as pd\n",
    "from scipy.io import loadmat\n",
    "from spikelib.stimtools import correct_checkerboard\n",
    "from spikelib.utils import check_directory\n",
    "\n",
    "%matplotlib notebook\n",
    "\n",
    "config = ConfigParser(interpolation=ExtendedInterpolation())\n",
    "config.read('../../config.ini')"
   ]
  },
  {
   "cell_type": "code",
   "execution_count": 2,
   "metadata": {},
   "outputs": [],
   "source": [
    "stim_file_raw = config['FILES']['wn_stim_raw']\n",
    "events_file = config['SYNC']['events']\n",
    "frametime_file = config['SYNC']['frametime']\n",
    "repeated_file = config['SYNC']['repeated']\n",
    "output_sync_file = config['FILES']['wn_stim']\n",
    "protocol_name = config['CHECKERBOARD']['protocol_name']\n",
    "checkerboard_output_file = config['SYNC']['folder'] + 'checkerboard.txt'"
   ]
  },
  {
   "cell_type": "code",
   "execution_count": 3,
   "metadata": {},
   "outputs": [],
   "source": [
    "frametimes = np.loadtxt(frametime_file)\n",
    "df = pd.read_csv(events_file)\n",
    "checkerboard_times = df[df['protocol_name'] == protocol_name]"
   ]
  },
  {
   "cell_type": "code",
   "execution_count": 4,
   "metadata": {},
   "outputs": [
    {
     "data": {
      "text/html": [
       "<div>\n",
       "<style scoped>\n",
       "    .dataframe tbody tr th:only-of-type {\n",
       "        vertical-align: middle;\n",
       "    }\n",
       "\n",
       "    .dataframe tbody tr th {\n",
       "        vertical-align: top;\n",
       "    }\n",
       "\n",
       "    .dataframe thead th {\n",
       "        text-align: right;\n",
       "    }\n",
       "</style>\n",
       "<table border=\"1\" class=\"dataframe\">\n",
       "  <thead>\n",
       "    <tr style=\"text-align: right;\">\n",
       "      <th></th>\n",
       "      <th>n_frames</th>\n",
       "      <th>start_event</th>\n",
       "      <th>end_event</th>\n",
       "      <th>start_next_event</th>\n",
       "      <th>event_duration</th>\n",
       "      <th>event_duration_seg</th>\n",
       "      <th>inter_event_duration</th>\n",
       "      <th>inter_event_duration_seg</th>\n",
       "      <th>protocol_name</th>\n",
       "      <th>nd</th>\n",
       "      <th>intensity</th>\n",
       "      <th>extra_desciption</th>\n",
       "      <th>repetition_name</th>\n",
       "      <th>repeated_frames</th>\n",
       "      <th>#repeated_frames</th>\n",
       "    </tr>\n",
       "  </thead>\n",
       "  <tbody>\n",
       "    <tr>\n",
       "      <td>1</td>\n",
       "      <td>108000</td>\n",
       "      <td>12091205</td>\n",
       "      <td>48211517</td>\n",
       "      <td>48275752</td>\n",
       "      <td>36120312</td>\n",
       "      <td>1806.0156</td>\n",
       "      <td>64235</td>\n",
       "      <td>3.21175</td>\n",
       "      <td>checkerboard</td>\n",
       "      <td>nd3</td>\n",
       "      <td>255.0</td>\n",
       "      <td>cyan</td>\n",
       "      <td>rep_000</td>\n",
       "      <td>[]</td>\n",
       "      <td>0</td>\n",
       "    </tr>\n",
       "  </tbody>\n",
       "</table>\n",
       "</div>"
      ],
      "text/plain": [
       "   n_frames  start_event  end_event  start_next_event  event_duration  \\\n",
       "1    108000     12091205   48211517          48275752        36120312   \n",
       "\n",
       "   event_duration_seg  inter_event_duration  inter_event_duration_seg  \\\n",
       "1           1806.0156                 64235                   3.21175   \n",
       "\n",
       "  protocol_name   nd  intensity extra_desciption repetition_name  \\\n",
       "1  checkerboard  nd3      255.0             cyan         rep_000   \n",
       "\n",
       "  repeated_frames  #repeated_frames  \n",
       "1              []                 0  "
      ]
     },
     "execution_count": 4,
     "metadata": {},
     "output_type": "execute_result"
    }
   ],
   "source": [
    "checkerboard_times"
   ]
  },
  {
   "cell_type": "code",
   "execution_count": 5,
   "metadata": {},
   "outputs": [],
   "source": [
    "event = checkerboard_times.iloc[0]\n",
    "sync_file = frametimes[np.logical_and(frametimes[:, 0] >= event.start_event,\n",
    "                                         frametimes[:, 0] < event.end_event), :]\n",
    "np.savetxt(checkerboard_output_file, sync_file)"
   ]
  },
  {
   "cell_type": "markdown",
   "metadata": {},
   "source": [
    "\n",
    "inputs:   \n",
    "* **stim_file** : stim in .mat format\n",
    "* **sync_file** : txt file to checkerboar_file with start and end time. To generate this file use [Get-sync notebook](../utils/UTIL_sync_get-sync-file.ipynb)\n",
    "* **repeated_file** : txt file with all repeated frame To generate this file use [Get-sync notebook](../utils/UTIL_sync_get-sync-file.ipynb)\n",
    "* **outputfile** : full path to save converted stimulus\n"
   ]
  },
  {
   "cell_type": "code",
   "execution_count": 6,
   "metadata": {},
   "outputs": [
    {
     "name": "stdout",
     "output_type": "stream",
     "text": [
      "Shape for checkerboar file: (108000, 31, 31, 3)\n",
      "Repeated frame []\n"
     ]
    }
   ],
   "source": [
    "correct_checkerboard(stim_file_raw, checkerboard_output_file, repeated_file, output_sync_file)"
   ]
  },
  {
   "cell_type": "markdown",
   "metadata": {},
   "source": [
    "# Check the correct convertion "
   ]
  },
  {
   "cell_type": "markdown",
   "metadata": {},
   "source": [
    "## Load Data from log file and new stim file"
   ]
  },
  {
   "cell_type": "code",
   "execution_count": 7,
   "metadata": {},
   "outputs": [
    {
     "name": "stdout",
     "output_type": "stream",
     "text": [
      "First Image:  uint8 (372, 372, 3, 3)\n",
      "Stim Image:  uint8 (108000, 31, 31, 3)\n"
     ]
    }
   ],
   "source": [
    "# Load First image from log file\n",
    "first_img_file = '../../data/logs/Exp__2014_08_20-14.55.17/FirstImages_2.mat'\n",
    "corrected_file = output_sync_file\n",
    "\n",
    "first_img = loadmat(first_img_file)['fi']\n",
    "print('First Image: ',first_img.dtype,first_img.shape)\n",
    "\n",
    "# Load corrected stim file\n",
    "with h5py.File(corrected_file,'r') as stim:\n",
    "    print('Stim Image: ',stim['checkerboard'].dtype, stim['checkerboard'].shape)\n",
    "    corrected_stim = stim['checkerboard'][:3]"
   ]
  },
  {
   "cell_type": "markdown",
   "metadata": {},
   "source": [
    "## Plot first images"
   ]
  },
  {
   "cell_type": "code",
   "execution_count": 8,
   "metadata": {},
   "outputs": [
    {
     "data": {
      "image/png": "[encoded data removed]",
      "text/plain": [
       "<Figure size 432x288 with 2 Axes>"
      ]
     },
     "metadata": {
      "needs_background": "light"
     },
     "output_type": "display_data"
    }
   ],
   "source": [
    "idx_img = 0\n",
    "plt.figure()\n",
    "plt.subplot(1,2,1).set_title('Matlab image {}'.format(idx_img))\n",
    "plt.imshow(first_img[...,idx_img])\n",
    "plt.xlabel('pixels')\n",
    "plt.ylabel('pixels')\n",
    "plt.subplot(1,2,2).set_title('HDF5 image {}'.format(idx_img))\n",
    "plt.imshow(corrected_stim[idx_img])\n",
    "plt.xlabel('blocks')\n",
    "plt.ylabel('blocks')\n",
    "plt.tight_layout()\n",
    "# plt.savefig('../figures/first_image_checkerboar.png')"
   ]
  },
  {
   "cell_type": "code",
   "execution_count": 9,
   "metadata": {},
   "outputs": [
    {
     "name": "stdout",
     "output_type": "stream",
     "text": [
      "\n"
     ]
    },
    {
     "data": {
      "image/png": "[encoded data removed]",
      "text/plain": [
       "<Figure size 432x288 with 2 Axes>"
      ]
     },
     "metadata": {
      "needs_background": "light"
     },
     "output_type": "display_data"
    }
   ],
   "source": [
    "idx_repeated = 54803\n",
    "# Load corrected stim file\n",
    "\n",
    "plt.figure()\n",
    "with h5py.File(corrected_file,'r') as stim:\n",
    "    print(stim.attrs['repeated'])\n",
    "    plt.subplot(1,2,1).set_title('normal image')\n",
    "    plt.imshow(stim['checkerboard'][idx_repeated,...])\n",
    "    plt.subplot(1,2,2).set_title('repeated image')\n",
    "    plt.imshow(stim['checkerboard'][idx_repeated+1,...])\n",
    "# plt.savefig('../figures/first_imag28232e_checkerboar.png')"
   ]
  }
 ],
 "metadata": {
  "kernelspec": {
   "display_name": "Python 3",
   "language": "python",
   "name": "python3"
  },
  "language_info": {
   "codemirror_mode": {
    "name": "ipython",
    "version": 3
   },
   "file_extension": ".py",
   "mimetype": "text/x-python",
   "name": "python",
   "nbconvert_exporter": "python",
   "pygments_lexer": "ipython3",
   "version": "3.7.4"
  },
  "toc": {
   "base_numbering": 1,
   "nav_menu": {},
   "number_sections": true,
   "sideBar": true,
   "skip_h1_title": false,
   "title_cell": "Table of Contents",
   "title_sidebar": "Contents",
   "toc_cell": false,
   "toc_position": {},
   "toc_section_display": true,
   "toc_window_display": false
  },
  "varInspector": {
   "cols": {
    "lenName": 16,
    "lenType": 16,
    "lenVar": 40
   },
   "kernels_config": {
    "python": {
     "delete_cmd_postfix": "",
     "delete_cmd_prefix": "del ",
     "library": "var_list.py",
     "varRefreshCmd": "print(var_dic_list())"
    },
    "r": {
     "delete_cmd_postfix": ") ",
     "delete_cmd_prefix": "rm(",
     "library": "var_list.r",
     "varRefreshCmd": "cat(var_dic_list()) "
    }
   },
   "position": {
    "height": "145px",
    "left": "1198.25px",
    "right": "143px",
    "top": "126px",
    "width": "350px"
   },
   "types_to_exclude": [
    "module",
    "function",
    "builtin_function_or_method",
    "instance",
    "_Feature"
   ],
   "window_display": false
  }
 },
 "nbformat": 4,
 "nbformat_minor": 2
}
