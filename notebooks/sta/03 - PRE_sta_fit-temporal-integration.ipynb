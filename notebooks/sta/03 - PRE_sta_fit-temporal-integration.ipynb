{
 "cells": [
  {
   "cell_type": "markdown",
   "metadata": {},
   "source": []
  },
  {
   "cell_type": "code",
   "execution_count": 1,
   "metadata": {},
   "outputs": [],
   "source": [
    "import h5py\n",
    "from ipywidgets import IntSlider, interact, Dropdown\n",
    "import numpy as np\n",
    "import matplotlib.pylab as plt\n",
    "\n",
    "from spikelib.fitting import fit_temp_sta\n",
    "from spikelib.utils import check_groups\n",
    "%matplotlib inline"
   ]
  },
  {
   "cell_type": "markdown",
   "metadata": {},
   "source": [
    "# General information about input output"
   ]
  },
  {
   "cell_type": "code",
   "execution_count": 2,
   "metadata": {},
   "outputs": [
    {
     "name": "stdout",
     "output_type": "stream",
     "text": [
      "nd5-255\n"
     ]
    }
   ],
   "source": [
    "# Data files\n",
    "intensities = ['nd2-255', 'nd3-255', 'nd4-255', 'nd5-255']\n",
    "intensity = intensities[3] \n",
    "print(intensity)\n",
    "input_file = '../data/processed_protocols/MR-0092t2_modified_analysis_of_protocols_150um_merge.hdf5'\n",
    "output_file = '../data/processed_protocols/MR-0092t2_modified_analysis_of_protocols_150um_merge.hdf5'\n",
    "\n",
    "# Groups for raw data in hdf5 file\n",
    "temp_group = '/sta/{}/temporal/raw/'.format(intensity)\n",
    "spatial_group = '/sta/{}/spatial/char/'.format(intensity)\n",
    "valid = '/sta/{}/valid/'.format(intensity)\n",
    "\n",
    "# Groups for fit data in hdf5 file\n",
    "temp_fit_group = '/sta/{}/temporal/fit/'.format(intensity)\n",
    "temp_pars_group = '/sta/{}/temporal/fit_params/'.format(intensity)"
   ]
  },
  {
   "cell_type": "markdown",
   "metadata": {},
   "source": [
    "# Load Data"
   ]
  },
  {
   "cell_type": "code",
   "execution_count": 3,
   "metadata": {},
   "outputs": [
    {
     "name": "stdout",
     "output_type": "stream",
     "text": [
      "angle,semia,semib,x0,y0,snr,frame_max\n"
     ]
    }
   ],
   "source": [
    "# Load data\n",
    "raw_dtype = np.dtype([('id', 'U18'), ('temp_raw', 'f8',(30,)), ('snr', 'f8')])\n",
    "upsampling = 30\n",
    "\n",
    "with h5py.File(input_file, 'r') as stafile:\n",
    "    print(stafile[spatial_group].attrs['col_name'])\n",
    "    temporal_sta = np.zeros(len(stafile[temp_group]), dtype=raw_dtype)\n",
    "    for kidx, kkey in enumerate(stafile[temp_group]):\n",
    "        temporal_sta[kidx]['id'] = kkey\n",
    "        temporal_sta[kidx]['temp_raw'] = stafile[temp_group][kkey][...]\n",
    "        temporal_sta[kidx]['snr'] = stafile[spatial_group][kkey][-2]\n",
    "    fps = stafile[temp_group].attrs['fps'][...]\n",
    "    time_raw = stafile[temp_group].attrs['time']\n",
    "\n",
    "nsample = time_raw.size\n",
    "time_fit = np.linspace(time_raw[0], time_raw[-1], nsample*upsampling, endpoint=True)  "
   ]
  },
  {
   "cell_type": "markdown",
   "metadata": {},
   "source": [
    "# Fitting for all units"
   ]
  },
  {
   "cell_type": "code",
   "execution_count": 4,
   "metadata": {},
   "outputs": [],
   "source": [
    "fit_dtype = np.dtype([('id', 'U18'),\n",
    "                     ('parameters', 'f8',(5,)),\n",
    "                     ('temp_fit', 'f8', (nsample*upsampling,)),\n",
    "                    ])"
   ]
  },
  {
   "cell_type": "code",
   "execution_count": 5,
   "metadata": {},
   "outputs": [
    {
     "name": "stderr",
     "output_type": "stream",
     "text": [
      "/home/cesar/Software/anaconda3/envs/piptest/lib/python2.7/site-packages/spikelib/fitting.py:37: RuntimeWarning: divide by zero encountered in power\n",
      "  gauss1 = amp1 * (time/tau1)**order * np.exp(-order * (time/tau1-1))\n",
      "/home/cesar/Software/anaconda3/envs/piptest/lib/python2.7/site-packages/spikelib/fitting.py:38: RuntimeWarning: divide by zero encountered in power\n",
      "  gauss2 = amp2 * (time/tau2)**order * np.exp(-order * (time/tau2-1))\n",
      "/home/cesar/Software/anaconda3/envs/piptest/lib/python2.7/site-packages/spikelib/fitting.py:39: RuntimeWarning: invalid value encountered in subtract\n",
      "  model = gauss1 - gauss2\n"
     ]
    }
   ],
   "source": [
    "temp_fit = np.zeros((len(temporal_sta)), dtype=fit_dtype)\n",
    "no_ajustados = []\n",
    "\n",
    "for kidx, kcell in enumerate(temporal_sta):\n",
    "    temp_to_fit = kcell['temp_raw']\n",
    "    params, tmp_fit = fit_temp_sta(temp_to_fit, time_raw, time_fit)\n",
    "    \n",
    "    temp_fit[kidx]['id'] = kcell['id']\n",
    "    parameters = [params[key] for key in ['amp1', 'amp2', 'tau1', 'tau2', 'n']]\n",
    "    temp_fit[kidx]['parameters'] = np.asarray(parameters)\n",
    "    temp_fit[kidx]['temp_fit'] = tmp_fit"
   ]
  },
  {
   "cell_type": "markdown",
   "metadata": {},
   "source": [
    "## Save to hdf5"
   ]
  },
  {
   "cell_type": "code",
   "execution_count": 33,
   "metadata": {},
   "outputs": [],
   "source": [
    "with h5py.File(output_file, 'r+') as fanalysis:\n",
    "    check_groups(fanalysis, [temp_fit_group, temp_pars_group])      \n",
    "    for kunit in temp_fit:\n",
    "        key = kunit['id']\n",
    "        if key in fanalysis[temp_fit_group]:\n",
    "            fanalysis[temp_fit_group+key][...] = kunit['temp_fit']\n",
    "        else:\n",
    "            fanalysis[temp_fit_group].create_dataset(key, data=kunit['temp_fit'], \n",
    "                                                     dtype=np.float, compression=\"gzip\")\n",
    "        if key in fanalysis[temp_pars_group]:\n",
    "            fanalysis[temp_pars_group+key][...] = kunit['parameters']\n",
    "        else:\n",
    "            fanalysis[temp_pars_group].create_dataset(key, data=kunit['parameters'],\n",
    "                                                      dtype=np.float, compression=\"gzip\")            \n",
    "    \n",
    "    fanalysis[temp_fit_group].attrs['time'] = time_fit\n",
    "    fanalysis[temp_pars_group].attrs['col_name'] = u'amp1,amp2,tau1,tau2,n'\n",
    "    fanalysis[temp_pars_group].attrs['info'] = u'parameters are for a two cascade filter described by Chichilnisky2001'\n"
   ]
  }
 ],
 "metadata": {
  "kernelspec": {
   "display_name": "Python [conda env:piptest]",
   "language": "python",
   "name": "conda-env-piptest-py"
  },
  "language_info": {
   "codemirror_mode": {
    "name": "ipython",
    "version": 2
   },
   "file_extension": ".py",
   "mimetype": "text/x-python",
   "name": "python",
   "nbconvert_exporter": "python",
   "pygments_lexer": "ipython2",
   "version": "2.7.15"
  },
  "toc": {
   "base_numbering": 1,
   "nav_menu": {},
   "number_sections": true,
   "sideBar": true,
   "skip_h1_title": false,
   "title_cell": "Table of Contents",
   "title_sidebar": "Contents",
   "toc_cell": false,
   "toc_position": {},
   "toc_section_display": true,
   "toc_window_display": false
  },
  "varInspector": {
   "cols": {
    "lenName": 16,
    "lenType": 16,
    "lenVar": 40
   },
   "kernels_config": {
    "python": {
     "delete_cmd_postfix": "",
     "delete_cmd_prefix": "del ",
     "library": "var_list.py",
     "varRefreshCmd": "print(var_dic_list())"
    },
    "r": {
     "delete_cmd_postfix": ") ",
     "delete_cmd_prefix": "rm(",
     "library": "var_list.r",
     "varRefreshCmd": "cat(var_dic_list()) "
    }
   },
   "types_to_exclude": [
    "module",
    "function",
    "builtin_function_or_method",
    "instance",
    "_Feature"
   ],
   "window_display": false
  }
 },
 "nbformat": 4,
 "nbformat_minor": 2
}
