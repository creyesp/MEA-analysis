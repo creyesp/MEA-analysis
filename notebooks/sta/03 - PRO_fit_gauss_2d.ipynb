{
 "cells": [
  {
   "cell_type": "code",
   "execution_count": 1,
   "metadata": {},
   "outputs": [
    {
     "data": {
      "text/plain": [
       "['../../config.ini']"
      ]
     },
     "execution_count": 1,
     "metadata": {},
     "output_type": "execute_result"
    }
   ],
   "source": [
    "from configparser import ConfigParser, ExtendedInterpolation\n",
    "\n",
    "import h5py\n",
    "import numpy as np\n",
    "import matplotlib.pyplot as plt\n",
    "import pandas as pd\n",
    "import scipy.optimize as opt\n",
    "from spikelib.fitting import gaussian2d\n",
    "from spikelib.utils import check_groups\n",
    "\n",
    "%matplotlib notebook\n",
    "config = ConfigParser(interpolation=ExtendedInterpolation())\n",
    "config.read('../../config.ini')"
   ]
  },
  {
   "cell_type": "code",
   "execution_count": 2,
   "metadata": {},
   "outputs": [],
   "source": [
    "def fit_sta_2d(data_raw):\n",
    "    (_, y_shape, x_shape) = data_raw.shape\n",
    "    (frame, y0, x0) = np.unravel_index(np.abs(data_raw).argmax(), data_raw.shape)\n",
    "    z0 = data_raw[frame, y0, x0]\n",
    "    data = data_raw[frame]\n",
    "\n",
    "    x = np.linspace(0, x_shape - 1, x_shape)\n",
    "    y = np.linspace(0, y_shape - 1, y_shape)\n",
    "    x, y = np.meshgrid(x, y)\n",
    "    # (xy, amp, x0, y0, sigma_x, sigma_y, theta, offset, revel=True):\n",
    "    initial_guess = (z0, x0, y0, 1, 1, 1.5, 0)\n",
    "    popt, pcov = opt.curve_fit(gaussian2d, (x.ravel(), y.ravel()), np.sign(z0)*data.ravel(), p0=initial_guess)\n",
    "    \n",
    "    return popt, pcov, frame\n",
    "\n",
    "\n",
    "def truncate_center(number, constrains):\n",
    "    \"\"\"Set a min and max value for a number.\n",
    "    \n",
    "    Parameters\n",
    "    ----------\n",
    "    number: float\n",
    "        any number to truncate\n",
    "    constrains: list\n",
    "        min and max value\n",
    "    \n",
    "    Return\n",
    "    ------\n",
    "    value: flaot\n",
    "    \n",
    "    \"\"\"\n",
    "    min_value, max_value = constrains\n",
    "    if number < min_value:\n",
    "        new_number = min_value \n",
    "    elif number > max_value:\n",
    "        new_number = max_value - 1\n",
    "    else:\n",
    "        new_number = number\n",
    "    \n",
    "    return new_number\n",
    "\n",
    "def sta_fitting_2d(file_name, intensity):\n",
    "    with h5py.File(file_name, 'r+') as h5file:\n",
    "        unit_names = list(h5file[f'/sta/{intensity}/raw/'].keys())\n",
    "        (frames, y_shape, x_shape) = h5file[f'/sta/{intensity}/raw/' + unit_names[0]].shape\n",
    "\n",
    "        x = np.linspace(0, x_shape - 1, x_shape)\n",
    "        y = np.linspace(0, y_shape - 1, y_shape)\n",
    "        xy = np.meshgrid(x,y)\n",
    "\n",
    "        rawsta_group = f'/sta/{intensity}/raw/'\n",
    "        temp_raw_group = f'/sta/{intensity}/temporal/raw/'\n",
    "        spacial_group = f'/sta/{intensity}/spatial/char/'\n",
    "\n",
    "\n",
    "        check_groups(h5file, [temp_raw_group, spacial_group])      \n",
    "\n",
    "        for kunit in unit_names:\n",
    "            raw_sta = h5file[f'/sta/{intensity}/raw/' + kunit][:]\n",
    "            try:\n",
    "                popt, pcov, frame = fit_sta_2d(raw_sta)\n",
    "            except RuntimeError:\n",
    "                popt = (0 for _ in range(7))\n",
    "                frame = 0\n",
    "                print('Couldn\\'t fit {}' )\n",
    "            (amp, x0, y0, sigma_x, sigma_y, theta, offset) = popt\n",
    "            theta = np.rad2deg(np.unwrap(np.array([0, theta]))[1])\n",
    "\n",
    "            data = raw_sta[frame]\n",
    "            y_0 = int(np.floor(truncate_center(y0, [0, y_shape])))\n",
    "            x_0 = int(np.floor(truncate_center(x0, [0, x_shape])))\n",
    "            raw_temp = raw_sta[:, y_0, x_0]        \n",
    "            snr = (raw_sta[:, y_0, x_0].var() / raw_sta.var(axis=0).mean())\n",
    "            spatial_params = (theta, sigma_x, sigma_y, x0, y0, snr , frame)\n",
    "\n",
    "            if kunit in h5file[temp_raw_group]:\n",
    "                h5file[temp_raw_group + kunit][...] = raw_temp\n",
    "            else:\n",
    "                h5file[temp_raw_group].create_dataset(kunit, data=raw_temp, dtype=np.float)\n",
    "\n",
    "            if kunit in h5file[spacial_group]:\n",
    "                h5file[spacial_group + kunit][...] = spatial_params\n",
    "            else:\n",
    "                h5file[spacial_group].create_dataset(kunit, data=spatial_params, dtype=np.float)            \n",
    "\n",
    "        h5file[temp_raw_group].attrs['time'] = h5file[rawsta_group].attrs['time']\n",
    "        h5file[temp_raw_group].attrs['nsamples_before'] = h5file[rawsta_group].attrs['nsamples_before']\n",
    "        h5file[temp_raw_group].attrs['nsamples_after'] = h5file[rawsta_group].attrs['nsamples_after']\n",
    "        h5file[temp_raw_group].attrs['fps'] = h5file[rawsta_group].attrs['fps']\n",
    "        h5file[temp_raw_group].attrs['nsamples'] = h5file[rawsta_group].attrs['nsamples']\n",
    "        h5file[spacial_group].attrs['col_name'] = 'angle,a,b,x,y,snr,frame'\n"
   ]
  },
  {
   "cell_type": "code",
   "execution_count": 3,
   "metadata": {},
   "outputs": [],
   "source": [
    "# Parameters\n",
    "events_file = config['SYNC']['events']\n",
    "processed_file = config['FILES']['processed']\n",
    "protocol_name = config['CHECKERBOARD']['protocol_name']\n",
    "\n",
    "df = pd.read_csv(events_file)\n",
    "checkerboard_times = df[df['protocol_name'] == protocol_name]"
   ]
  },
  {
   "cell_type": "code",
   "execution_count": 4,
   "metadata": {},
   "outputs": [
    {
     "name": "stdout",
     "output_type": "stream",
     "text": [
      "Computing fitting to nd3-255\n"
     ]
    },
    {
     "ename": "RuntimeError",
     "evalue": "Optimal parameters not found: Number of calls to function has reached maxfev = 1600.",
     "output_type": "error",
     "traceback": [
      "\u001b[0;31m---------------------------------------------------------------------------\u001b[0m",
      "\u001b[0;31mRuntimeError\u001b[0m                              Traceback (most recent call last)",
      "\u001b[0;32m<ipython-input-4-951f7db23609>\u001b[0m in \u001b[0;36m<module>\u001b[0;34m\u001b[0m\n\u001b[1;32m      4\u001b[0m     \u001b[0mprint\u001b[0m\u001b[0;34m(\u001b[0m\u001b[0;34m'Computing fitting to {}'\u001b[0m\u001b[0;34m.\u001b[0m\u001b[0mformat\u001b[0m\u001b[0;34m(\u001b[0m\u001b[0mintensity\u001b[0m\u001b[0;34m)\u001b[0m\u001b[0;34m)\u001b[0m\u001b[0;34m\u001b[0m\u001b[0;34m\u001b[0m\u001b[0m\n\u001b[1;32m      5\u001b[0m \u001b[0;34m\u001b[0m\u001b[0m\n\u001b[0;32m----> 6\u001b[0;31m     \u001b[0msta_fitting_2d\u001b[0m\u001b[0;34m(\u001b[0m\u001b[0mprocessed_file\u001b[0m\u001b[0;34m,\u001b[0m \u001b[0mintensity\u001b[0m\u001b[0;34m)\u001b[0m\u001b[0;34m\u001b[0m\u001b[0;34m\u001b[0m\u001b[0m\n\u001b[0m",
      "\u001b[0;32m<ipython-input-2-b518e69cfe83>\u001b[0m in \u001b[0;36msta_fitting_2d\u001b[0;34m(file_name, intensity)\u001b[0m\n\u001b[1;32m     58\u001b[0m         \u001b[0;32mfor\u001b[0m \u001b[0mkunit\u001b[0m \u001b[0;32min\u001b[0m \u001b[0munit_names\u001b[0m\u001b[0;34m:\u001b[0m\u001b[0;34m\u001b[0m\u001b[0;34m\u001b[0m\u001b[0m\n\u001b[1;32m     59\u001b[0m             \u001b[0mraw_sta\u001b[0m \u001b[0;34m=\u001b[0m \u001b[0mh5file\u001b[0m\u001b[0;34m[\u001b[0m\u001b[0;34mf'/sta/{intensity}/raw/'\u001b[0m \u001b[0;34m+\u001b[0m \u001b[0mkunit\u001b[0m\u001b[0;34m]\u001b[0m\u001b[0;34m[\u001b[0m\u001b[0;34m:\u001b[0m\u001b[0;34m]\u001b[0m\u001b[0;34m\u001b[0m\u001b[0;34m\u001b[0m\u001b[0m\n\u001b[0;32m---> 60\u001b[0;31m             \u001b[0mpopt\u001b[0m\u001b[0;34m,\u001b[0m \u001b[0mpcov\u001b[0m\u001b[0;34m,\u001b[0m \u001b[0mframe\u001b[0m \u001b[0;34m=\u001b[0m \u001b[0mfit_sta_2d\u001b[0m\u001b[0;34m(\u001b[0m\u001b[0mraw_sta\u001b[0m\u001b[0;34m)\u001b[0m\u001b[0;34m\u001b[0m\u001b[0;34m\u001b[0m\u001b[0m\n\u001b[0m\u001b[1;32m     61\u001b[0m             \u001b[0;34m(\u001b[0m\u001b[0mamp\u001b[0m\u001b[0;34m,\u001b[0m \u001b[0mx0\u001b[0m\u001b[0;34m,\u001b[0m \u001b[0my0\u001b[0m\u001b[0;34m,\u001b[0m \u001b[0msigma_x\u001b[0m\u001b[0;34m,\u001b[0m \u001b[0msigma_y\u001b[0m\u001b[0;34m,\u001b[0m \u001b[0mtheta\u001b[0m\u001b[0;34m,\u001b[0m \u001b[0moffset\u001b[0m\u001b[0;34m)\u001b[0m \u001b[0;34m=\u001b[0m \u001b[0mpopt\u001b[0m\u001b[0;34m\u001b[0m\u001b[0;34m\u001b[0m\u001b[0m\n\u001b[1;32m     62\u001b[0m             \u001b[0mtheta\u001b[0m \u001b[0;34m=\u001b[0m \u001b[0mnp\u001b[0m\u001b[0;34m.\u001b[0m\u001b[0mrad2deg\u001b[0m\u001b[0;34m(\u001b[0m\u001b[0mnp\u001b[0m\u001b[0;34m.\u001b[0m\u001b[0munwrap\u001b[0m\u001b[0;34m(\u001b[0m\u001b[0mnp\u001b[0m\u001b[0;34m.\u001b[0m\u001b[0marray\u001b[0m\u001b[0;34m(\u001b[0m\u001b[0;34m[\u001b[0m\u001b[0;36m0\u001b[0m\u001b[0;34m,\u001b[0m \u001b[0mtheta\u001b[0m\u001b[0;34m]\u001b[0m\u001b[0;34m)\u001b[0m\u001b[0;34m)\u001b[0m\u001b[0;34m[\u001b[0m\u001b[0;36m1\u001b[0m\u001b[0;34m]\u001b[0m\u001b[0;34m)\u001b[0m\u001b[0;34m\u001b[0m\u001b[0;34m\u001b[0m\u001b[0m\n",
      "\u001b[0;32m<ipython-input-2-b518e69cfe83>\u001b[0m in \u001b[0;36mfit_sta_2d\u001b[0;34m(data_raw)\u001b[0m\n\u001b[1;32m     10\u001b[0m     \u001b[0;31m# (xy, amp, x0, y0, sigma_x, sigma_y, theta, offset, revel=True):\u001b[0m\u001b[0;34m\u001b[0m\u001b[0;34m\u001b[0m\u001b[0;34m\u001b[0m\u001b[0m\n\u001b[1;32m     11\u001b[0m     \u001b[0minitial_guess\u001b[0m \u001b[0;34m=\u001b[0m \u001b[0;34m(\u001b[0m\u001b[0mz0\u001b[0m\u001b[0;34m,\u001b[0m \u001b[0mx0\u001b[0m\u001b[0;34m,\u001b[0m \u001b[0my0\u001b[0m\u001b[0;34m,\u001b[0m \u001b[0;36m1\u001b[0m\u001b[0;34m,\u001b[0m \u001b[0;36m1\u001b[0m\u001b[0;34m,\u001b[0m \u001b[0;36m1.5\u001b[0m\u001b[0;34m,\u001b[0m \u001b[0;36m0\u001b[0m\u001b[0;34m)\u001b[0m\u001b[0;34m\u001b[0m\u001b[0;34m\u001b[0m\u001b[0m\n\u001b[0;32m---> 12\u001b[0;31m     \u001b[0mpopt\u001b[0m\u001b[0;34m,\u001b[0m \u001b[0mpcov\u001b[0m \u001b[0;34m=\u001b[0m \u001b[0mopt\u001b[0m\u001b[0;34m.\u001b[0m\u001b[0mcurve_fit\u001b[0m\u001b[0;34m(\u001b[0m\u001b[0mgaussian2d\u001b[0m\u001b[0;34m,\u001b[0m \u001b[0;34m(\u001b[0m\u001b[0mx\u001b[0m\u001b[0;34m.\u001b[0m\u001b[0mravel\u001b[0m\u001b[0;34m(\u001b[0m\u001b[0;34m)\u001b[0m\u001b[0;34m,\u001b[0m \u001b[0my\u001b[0m\u001b[0;34m.\u001b[0m\u001b[0mravel\u001b[0m\u001b[0;34m(\u001b[0m\u001b[0;34m)\u001b[0m\u001b[0;34m)\u001b[0m\u001b[0;34m,\u001b[0m \u001b[0mnp\u001b[0m\u001b[0;34m.\u001b[0m\u001b[0msign\u001b[0m\u001b[0;34m(\u001b[0m\u001b[0mz0\u001b[0m\u001b[0;34m)\u001b[0m\u001b[0;34m*\u001b[0m\u001b[0mdata\u001b[0m\u001b[0;34m.\u001b[0m\u001b[0mravel\u001b[0m\u001b[0;34m(\u001b[0m\u001b[0;34m)\u001b[0m\u001b[0;34m,\u001b[0m \u001b[0mp0\u001b[0m\u001b[0;34m=\u001b[0m\u001b[0minitial_guess\u001b[0m\u001b[0;34m)\u001b[0m\u001b[0;34m\u001b[0m\u001b[0;34m\u001b[0m\u001b[0m\n\u001b[0m\u001b[1;32m     13\u001b[0m \u001b[0;34m\u001b[0m\u001b[0m\n\u001b[1;32m     14\u001b[0m     \u001b[0;32mreturn\u001b[0m \u001b[0mpopt\u001b[0m\u001b[0;34m,\u001b[0m \u001b[0mpcov\u001b[0m\u001b[0;34m,\u001b[0m \u001b[0mframe\u001b[0m\u001b[0;34m\u001b[0m\u001b[0;34m\u001b[0m\u001b[0m\n",
      "\u001b[0;32m~/anaconda3/envs/spkdev/lib/python3.7/site-packages/scipy/optimize/minpack.py\u001b[0m in \u001b[0;36mcurve_fit\u001b[0;34m(f, xdata, ydata, p0, sigma, absolute_sigma, check_finite, bounds, method, jac, **kwargs)\u001b[0m\n\u001b[1;32m    754\u001b[0m         \u001b[0mcost\u001b[0m \u001b[0;34m=\u001b[0m \u001b[0mnp\u001b[0m\u001b[0;34m.\u001b[0m\u001b[0msum\u001b[0m\u001b[0;34m(\u001b[0m\u001b[0minfodict\u001b[0m\u001b[0;34m[\u001b[0m\u001b[0;34m'fvec'\u001b[0m\u001b[0;34m]\u001b[0m \u001b[0;34m**\u001b[0m \u001b[0;36m2\u001b[0m\u001b[0;34m)\u001b[0m\u001b[0;34m\u001b[0m\u001b[0;34m\u001b[0m\u001b[0m\n\u001b[1;32m    755\u001b[0m         \u001b[0;32mif\u001b[0m \u001b[0mier\u001b[0m \u001b[0;32mnot\u001b[0m \u001b[0;32min\u001b[0m \u001b[0;34m[\u001b[0m\u001b[0;36m1\u001b[0m\u001b[0;34m,\u001b[0m \u001b[0;36m2\u001b[0m\u001b[0;34m,\u001b[0m \u001b[0;36m3\u001b[0m\u001b[0;34m,\u001b[0m \u001b[0;36m4\u001b[0m\u001b[0;34m]\u001b[0m\u001b[0;34m:\u001b[0m\u001b[0;34m\u001b[0m\u001b[0;34m\u001b[0m\u001b[0m\n\u001b[0;32m--> 756\u001b[0;31m             \u001b[0;32mraise\u001b[0m \u001b[0mRuntimeError\u001b[0m\u001b[0;34m(\u001b[0m\u001b[0;34m\"Optimal parameters not found: \"\u001b[0m \u001b[0;34m+\u001b[0m \u001b[0merrmsg\u001b[0m\u001b[0;34m)\u001b[0m\u001b[0;34m\u001b[0m\u001b[0;34m\u001b[0m\u001b[0m\n\u001b[0m\u001b[1;32m    757\u001b[0m     \u001b[0;32melse\u001b[0m\u001b[0;34m:\u001b[0m\u001b[0;34m\u001b[0m\u001b[0;34m\u001b[0m\u001b[0m\n\u001b[1;32m    758\u001b[0m         \u001b[0;31m# Rename maxfev (leastsq) to max_nfev (least_squares), if specified.\u001b[0m\u001b[0;34m\u001b[0m\u001b[0;34m\u001b[0m\u001b[0;34m\u001b[0m\u001b[0m\n",
      "\u001b[0;31mRuntimeError\u001b[0m: Optimal parameters not found: Number of calls to function has reached maxfev = 1600."
     ]
    }
   ],
   "source": [
    "for event in checkerboard_times.itertuples():\n",
    "    # Sync\n",
    "    intensity = '{}-{}'.format(event.nd, int(event.intensity))\n",
    "    print('Computing fitting to {}'.format(intensity))\n",
    "    \n",
    "    sta_fitting_2d(processed_file, intensity)"
   ]
  }
 ],
 "metadata": {
  "kernelspec": {
   "display_name": "Python 3",
   "language": "python",
   "name": "python3"
  },
  "language_info": {
   "codemirror_mode": {
    "name": "ipython",
    "version": 3
   },
   "file_extension": ".py",
   "mimetype": "text/x-python",
   "name": "python",
   "nbconvert_exporter": "python",
   "pygments_lexer": "ipython3",
   "version": "3.7.4"
  },
  "toc": {
   "base_numbering": 1,
   "nav_menu": {},
   "number_sections": true,
   "sideBar": true,
   "skip_h1_title": false,
   "title_cell": "Table of Contents",
   "title_sidebar": "Contents",
   "toc_cell": false,
   "toc_position": {},
   "toc_section_display": true,
   "toc_window_display": false
  }
 },
 "nbformat": 4,
 "nbformat_minor": 2
}
