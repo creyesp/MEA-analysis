{
 "cells": [
  {
   "cell_type": "markdown",
   "metadata": {},
   "source": []
  },
  {
   "cell_type": "code",
   "execution_count": 1,
   "metadata": {},
   "outputs": [],
   "source": [
    "import h5py\n",
    "from ipywidgets import IntSlider, interact, Dropdown\n",
    "import numpy as np\n",
    "import matplotlib.pylab as plt\n",
    "\n",
    "from spikelib.fitting import fit_temp_sta\n",
    "from spikelib.utils import check_groups, datasets_to_array\n",
    "%matplotlib inline"
   ]
  },
  {
   "cell_type": "markdown",
   "metadata": {},
   "source": [
    "# General information about input output"
   ]
  },
  {
   "cell_type": "code",
   "execution_count": 60,
   "metadata": {},
   "outputs": [
    {
     "name": "stdout",
     "output_type": "stream",
     "text": [
      "nd3-255\n"
     ]
    }
   ],
   "source": [
    "# Data files\n",
    "intensities = ['nd2-255', 'nd3-255', 'nd4-255', 'nd5-255']\n",
    "intensity = 'nd3-255'\n",
    "print(intensity)\n",
    "path_file = '../../data/processed_protocols/MR-0092t2_modified_analysis_of_protocols_150um_merge.hdf5'\n",
    "\n",
    "# Groups for raw data in hdf5 file\n",
    "temp_group = '/sta/{}/temporal/raw/'.format(intensity)\n",
    "spatial_group = '/sta/{}/spatial/char/'.format(intensity)\n",
    "valid = '/sta/{}/valid/'.format(intensity)\n",
    "\n",
    "# Groups for fit data in hdf5 file\n",
    "temp_fit_group = '/sta/{}/temporal/fit/'.format(intensity)\n",
    "temp_pars_group = '/sta/{}/temporal/fit_params/'.format(intensity)"
   ]
  },
  {
   "cell_type": "markdown",
   "metadata": {},
   "source": [
    "# Load Data"
   ]
  },
  {
   "cell_type": "code",
   "execution_count": 61,
   "metadata": {},
   "outputs": [
    {
     "name": "stdout",
     "output_type": "stream",
     "text": [
      "[(u'col_name', u'angle,semia,semib,x0,y0,snr,frame_max')]\n"
     ]
    }
   ],
   "source": [
    "# Load data\n",
    "\n",
    "with h5py.File(path_file, 'r') as stafile:\n",
    "    print(stafile[spatial_group].attrs.items())\n",
    "    time_raw = stafile[temp_group].attrs['time']\n",
    "    time_fit = stafile[temp_fit_group].attrs['time']\n",
    "    nraw_samples = time_raw.size\n",
    "    nfit_samples = time_fit.size\n",
    "    raw_dtype = np.dtype([\n",
    "        ('id', 'U18'),\n",
    "        ('temp_raw', 'f8',(nraw_samples,)),\n",
    "        ('snr', 'f8')\n",
    "    ])\n",
    "    fit_dtype = np.dtype([\n",
    "        ('id', 'U18'),\n",
    "        ('parameters', 'f8',(5,)),\n",
    "        ('temp_fit', 'f8', (nfit_samples,)),\n",
    "    ])\n",
    "    temporal_sta = np.zeros(len(stafile[temp_group]), dtype=raw_dtype)\n",
    "    temp_fit = np.zeros((len(temporal_sta)), dtype=fit_dtype)\n",
    "\n",
    "    for kidx, kkey in enumerate(stafile[temp_group]):\n",
    "        temporal_sta[kidx]['id'] = kkey\n",
    "        temporal_sta[kidx]['temp_raw'] = stafile[temp_group][kkey][...]\n",
    "        temporal_sta[kidx]['snr'] = stafile[spatial_group][kkey][-2]\n",
    "        temp_fit[kidx]['id'] = kkey\n",
    "        temp_fit[kidx]['parameters'] = stafile[temp_pars_group][kkey][...]\n",
    "        temp_fit[kidx]['temp_fit'] = stafile[temp_fit_group][kkey][...]"
   ]
  },
  {
   "cell_type": "markdown",
   "metadata": {},
   "source": [
    "# Visualization of fitting"
   ]
  },
  {
   "cell_type": "code",
   "execution_count": 62,
   "metadata": {},
   "outputs": [],
   "source": [
    "thr_snr = 4\n",
    "no_valid_by_snr = np.where(temporal_sta['snr']>thr_snr)[0]"
   ]
  },
  {
   "cell_type": "code",
   "execution_count": 63,
   "metadata": {},
   "outputs": [],
   "source": [
    "def plot_fit(kidx):\n",
    "    temp_sta = temporal_sta[kidx]['temp_raw']\n",
    "    temp_sta_fit = temp_fit[kidx]['temp_fit']\n",
    "    plt.figure(figsize=(8,6))\n",
    "    plt.plot(time_raw,temp_sta, 'k+')\n",
    "    plt.plot(time_raw,temp_sta, 'k')\n",
    "    plt.plot(time_fit, temp_sta_fit, 'r')\n",
    "    plt.ylim([-1,1])\n",
    "    plt.xlabel(temporal_sta[kidx]['id'] + '  ({:2.2f})'.format(temporal_sta[kidx]['snr']))\n",
    "    plt.grid(b=True, which='major', color='k', linestyle='-',alpha=0.2) \n",
    "    plt.grid(b=True, which='minor', color='k', linestyle='-',alpha=0.1)\n",
    "    plt.minorticks_on()\n",
    "    plt.show()\n",
    "    plt.close()"
   ]
  },
  {
   "cell_type": "code",
   "execution_count": 64,
   "metadata": {},
   "outputs": [
    {
     "data": {
      "application/vnd.jupyter.widget-view+json": {
       "model_id": "b66c87e600eb4bfb81044d7049499844",
       "version_major": 2,
       "version_minor": 0
      },
      "text/plain": [
       "aW50ZXJhY3RpdmUoY2hpbGRyZW49KERyb3Bkb3duKGRlc2NyaXB0aW9uPXUna2lkeCcsIG9wdGlvbnM9KDAsIDEsIDIsIDMsIDQsIDUsIDYsIDcsIDgsIDksIDEwLCAxMSwgMTIsIDEzLCAxNCzigKY=\n"
      ]
     },
     "metadata": {},
     "output_type": "display_data"
    }
   ],
   "source": [
    "# interact(plot_fit, kidx=IntSlider(min=0, max=len(temporal_sta)-1, step=1, value=443));\n",
    "# interact(plot_fit, kidx=Dropdown(options=no_valid_by_snr));\n",
    "interact(plot_fit, kidx=Dropdown(options=range(len(temporal_sta)-1)));"
   ]
  },
  {
   "cell_type": "code",
   "execution_count": 70,
   "metadata": {},
   "outputs": [
    {
     "data": {
      "text/plain": [
       "335"
      ]
     },
     "execution_count": 70,
     "metadata": {},
     "output_type": "execute_result"
    }
   ],
   "source": [
    "np.where(temporal_sta[:]['id'] == 'temp_40')[0][0]"
   ]
  },
  {
   "cell_type": "markdown",
   "metadata": {},
   "source": [
    "# Fitting for specific unit\n"
   ]
  },
  {
   "cell_type": "code",
   "execution_count": 71,
   "metadata": {},
   "outputs": [
    {
     "data": {
      "text/plain": [
       "Parameters([('amp1', <Parameter 'amp1', 0.011562347270259732, bounds=[-1:1]>),\n",
       "            ('amp2', <Parameter 'amp2', 0.2032449083210508, bounds=[-1:1]>),\n",
       "            ('tau1',\n",
       "             <Parameter 'tau1', -0.16842976642617924, bounds=[-0.4685550999043143:-0.016734110710868368]>),\n",
       "            ('tau2',\n",
       "             <Parameter 'tau2', -0.05970604654206568, bounds=[-0.4685550999043143:-0.016734110710868368]>),\n",
       "            ('n', <Parameter 'n', 19.25172178278, bounds=[-inf:20]>)])"
      ]
     },
     "execution_count": 71,
     "metadata": {},
     "output_type": "execute_result"
    }
   ],
   "source": [
    "kidx = 335\n",
    "kcell = temporal_sta[kidx]\n",
    "temp_to_fit = kcell['temp_raw']\n",
    "\n",
    "params, tmp_fit = fit_temp_sta(temp_to_fit, time_raw, time_fit, \n",
    "                               tau1=-0.15, tau2=-0.06, amp1=0.01, amp2=0.2, min_time=None,\n",
    "                               max_time=None)\n",
    "\n",
    "temp_fit[kidx]['parameters'] = np.asarray(params)\n",
    "temp_fit[kidx]['temp_fit'] = tmp_fit\n",
    "params"
   ]
  },
  {
   "cell_type": "code",
   "execution_count": 69,
   "metadata": {},
   "outputs": [],
   "source": [
    "kidx = 160\n",
    "temp_fit[kidx]['parameters'] *= 0.\n",
    "temp_fit[kidx]['temp_fit'] *= 0."
   ]
  },
  {
   "cell_type": "code",
   "execution_count": null,
   "metadata": {},
   "outputs": [],
   "source": [
    "no_valid = []"
   ]
  },
  {
   "cell_type": "code",
   "execution_count": null,
   "metadata": {},
   "outputs": [],
   "source": [
    "for kidx in no_valid:\n",
    "    temp_fit[kidx]['parameters'] *= 0.\n",
    "    temp_fit[kidx]['temp_fit'] *= 0."
   ]
  },
  {
   "cell_type": "markdown",
   "metadata": {},
   "source": [
    "## Save to hdf5"
   ]
  },
  {
   "cell_type": "code",
   "execution_count": 72,
   "metadata": {},
   "outputs": [],
   "source": [
    "with h5py.File(path_file, 'r+') as fanalysis:\n",
    "    check_groups(fanalysis, [temp_fit_group, temp_pars_group])      \n",
    "    for kunit in temp_fit:\n",
    "        key = kunit['id']\n",
    "        fanalysis[temp_fit_group+key][...] = kunit['temp_fit']\n",
    "        fanalysis[temp_pars_group+key][...] = kunit['parameters']"
   ]
  }
 ],
 "metadata": {
  "kernelspec": {
   "display_name": "Python [conda env:piptest]",
   "language": "python",
   "name": "conda-env-piptest-py"
  },
  "language_info": {
   "codemirror_mode": {
    "name": "ipython",
    "version": 2
   },
   "file_extension": ".py",
   "mimetype": "text/x-python",
   "name": "python",
   "nbconvert_exporter": "python",
   "pygments_lexer": "ipython2",
   "version": "2.7.15"
  },
  "toc": {
   "base_numbering": 1,
   "nav_menu": {},
   "number_sections": true,
   "sideBar": true,
   "skip_h1_title": false,
   "title_cell": "Table of Contents",
   "title_sidebar": "Contents",
   "toc_cell": false,
   "toc_position": {},
   "toc_section_display": true,
   "toc_window_display": false
  },
  "varInspector": {
   "cols": {
    "lenName": 16,
    "lenType": 16,
    "lenVar": 40
   },
   "kernels_config": {
    "python": {
     "delete_cmd_postfix": "",
     "delete_cmd_prefix": "del ",
     "library": "var_list.py",
     "varRefreshCmd": "print(var_dic_list())"
    },
    "r": {
     "delete_cmd_postfix": ") ",
     "delete_cmd_prefix": "rm(",
     "library": "var_list.r",
     "varRefreshCmd": "cat(var_dic_list()) "
    }
   },
   "position": {
    "height": "668px",
    "left": "1302.58px",
    "right": "23px",
    "top": "123px",
    "width": "362px"
   },
   "types_to_exclude": [
    "module",
    "function",
    "builtin_function_or_method",
    "instance",
    "_Feature"
   ],
   "window_display": false
  }
 },
 "nbformat": 4,
 "nbformat_minor": 2
}
