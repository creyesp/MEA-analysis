{
 "cells": [
  {
   "cell_type": "code",
   "execution_count": 26,
   "metadata": {},
   "outputs": [
    {
     "data": {
      "text/plain": [
       "['../../config.ini']"
      ]
     },
     "execution_count": 26,
     "metadata": {},
     "output_type": "execute_result"
    }
   ],
   "source": [
    "from configparser import ConfigParser, ExtendedInterpolation\n",
    "\n",
    "import h5py\n",
    "import numpy as np\n",
    "import matplotlib.pylab as plt\n",
    "\n",
    "from spikelib.fitting import fit_temp_sta\n",
    "from spikelib.utils import check_groups\n",
    "\n",
    "%matplotlib notebook\n",
    "\n",
    "config = ConfigParser(interpolation=ExtendedInterpolation())\n",
    "config.read('../../config.ini')"
   ]
  },
  {
   "cell_type": "markdown",
   "metadata": {},
   "source": [
    "# General information about input output"
   ]
  },
  {
   "cell_type": "code",
   "execution_count": 27,
   "metadata": {},
   "outputs": [
    {
     "name": "stdout",
     "output_type": "stream",
     "text": [
      "intensities: ['nd3-255']\n"
     ]
    }
   ],
   "source": [
    "# Data files\n",
    "processed_file = config['FILES']['processed']\n",
    "\n",
    "# intensities = ['nd2-255', 'nd3-255', 'nd4-255', 'nd5-255']\n",
    "with h5py.File(processed_file, 'r') as f:\n",
    "    intensities = list(f['/sta'].keys())\n",
    "print(f'intensities: {intensities}')"
   ]
  },
  {
   "cell_type": "code",
   "execution_count": 7,
   "metadata": {},
   "outputs": [],
   "source": [
    "temp_group = '/sta/{}/temporal/raw/'\n",
    "spatial_group = '/sta/{}/spatial/char/'\n",
    "valid = '/sta/{}/valid/'\n",
    "\n"
   ]
  },
  {
   "cell_type": "markdown",
   "metadata": {},
   "source": [
    "# Load Data"
   ]
  },
  {
   "cell_type": "code",
   "execution_count": 8,
   "metadata": {},
   "outputs": [],
   "source": [
    "# Load data\n",
    "\n",
    "def load_data(processed_file, intensity):\n",
    "    raw_dtype = np.dtype([('id', 'U18'), ('temp_raw', 'f8',(30,)), ('snr', 'f8')])\n",
    "    # Groups for raw data in hdf5 file\n",
    "    temp_group = '/sta/{}/temporal/raw/'.format(intensity)\n",
    "    spatial_group = '/sta/{}/spatial/char/'.format(intensity)\n",
    "    valid = '/sta/{}/valid/'.format(intensity)\n",
    "\n",
    "\n",
    "    with h5py.File(processed_file, 'r') as pfile:\n",
    "        print(pfile[spatial_group].attrs['col_name'])\n",
    "        temporal_sta = np.zeros(len(pfile[temp_group]), dtype=raw_dtype)\n",
    "        for kidx, kkey in enumerate(pfile[temp_group]):\n",
    "            temporal_sta[kidx]['id'] = kkey\n",
    "            temporal_sta[kidx]['temp_raw'] = pfile[temp_group][kkey][...]\n",
    "            temporal_sta[kidx]['snr'] = pfile[spatial_group][kkey][-2]\n",
    "        fps = pfile[temp_group].attrs['fps'][...]\n",
    "        time_raw = pfile[temp_group].attrs['time']\n",
    "    return temporal_sta, time_raw"
   ]
  },
  {
   "cell_type": "code",
   "execution_count": 12,
   "metadata": {},
   "outputs": [
    {
     "name": "stdout",
     "output_type": "stream",
     "text": [
      "angle,a,b,x,y,snr,frame\n"
     ]
    }
   ],
   "source": [
    "temporal_sta, time_raw = load_data(processed_file, intensities[0])\n",
    "\n",
    "upsampling = 30\n",
    "nsample = time_raw.size\n",
    "time_fit = np.linspace(time_raw[0], time_raw[-1], nsample*upsampling, endpoint=True)  "
   ]
  },
  {
   "cell_type": "markdown",
   "metadata": {},
   "source": [
    "# Fitting for all units"
   ]
  },
  {
   "cell_type": "code",
   "execution_count": 13,
   "metadata": {},
   "outputs": [],
   "source": [
    "fit_dtype = np.dtype([('id', 'U18'),\n",
    "                     ('parameters', 'f8',(5,)),\n",
    "                     ('temp_fit', 'f8', (nsample*upsampling,)),\n",
    "                    ])"
   ]
  },
  {
   "cell_type": "code",
   "execution_count": 14,
   "metadata": {},
   "outputs": [
    {
     "name": "stderr",
     "output_type": "stream",
     "text": [
      "/home/vnc/software/spikelib/spikelib/fitting.py:36: RuntimeWarning: divide by zero encountered in power\n",
      "  gauss1 = amp1 * (time/tau1)**order * np.exp(-order * (time/tau1-1))\n",
      "/home/vnc/software/spikelib/spikelib/fitting.py:37: RuntimeWarning: divide by zero encountered in power\n",
      "  gauss2 = amp2 * (time/tau2)**order * np.exp(-order * (time/tau2-1))\n",
      "/home/vnc/software/spikelib/spikelib/fitting.py:38: RuntimeWarning: invalid value encountered in subtract\n",
      "  model = gauss1 - gauss2\n"
     ]
    }
   ],
   "source": [
    "temp_fit = np.zeros((len(temporal_sta)), dtype=fit_dtype)\n",
    "no_ajustados = []\n",
    "\n",
    "for kidx, kcell in enumerate(temporal_sta):\n",
    "    temp_to_fit = kcell['temp_raw']\n",
    "    params, tmp_fit = fit_temp_sta(temp_to_fit, time_raw, time_fit)\n",
    "    \n",
    "    temp_fit[kidx]['id'] = kcell['id']\n",
    "    parameters = [params[key] for key in ['amp1', 'amp2', 'tau1', 'tau2', 'n']]\n",
    "    temp_fit[kidx]['parameters'] = np.asarray(parameters)\n",
    "    temp_fit[kidx]['temp_fit'] = tmp_fit"
   ]
  },
  {
   "cell_type": "markdown",
   "metadata": {},
   "source": [
    "## Save to hdf5"
   ]
  },
  {
   "cell_type": "code",
   "execution_count": 24,
   "metadata": {},
   "outputs": [],
   "source": [
    "def save_data(processed_file, intensity, temp_fit, time_fit):\n",
    "    # Groups for fit data in hdf5 file\n",
    "    temp_fit_group = '/sta/{}/temporal/fit/'.format(intensity)\n",
    "    temp_pars_group = '/sta/{}/temporal/fit_params/'.format(intensity)\n",
    "\n",
    "    with h5py.File(processed_file, 'r+') as pfile:\n",
    "        check_groups(pfile, [temp_fit_group, temp_pars_group])      \n",
    "        for kunit in temp_fit:\n",
    "            key = kunit['id']\n",
    "            if key in pfile[temp_fit_group]:\n",
    "                pfile[temp_fit_group+key][...] = kunit['temp_fit']\n",
    "            else:\n",
    "                pfile[temp_fit_group].create_dataset(key, data=kunit['temp_fit'], \n",
    "                                                         dtype=np.float, compression=\"gzip\")\n",
    "            if key in pfile[temp_pars_group]:\n",
    "                pfile[temp_pars_group+key][...] = kunit['parameters']\n",
    "            else:\n",
    "                pfile[temp_pars_group].create_dataset(key, data=kunit['parameters'],\n",
    "                                                          dtype=np.float, compression=\"gzip\")            \n",
    "\n",
    "        pfile[temp_fit_group].attrs['time'] = time_fit\n",
    "        pfile[temp_pars_group].attrs['col_name'] = u'amp1,amp2,tau1,tau2,n'\n",
    "        pfile[temp_pars_group].attrs['info'] = \\\n",
    "            u'parameters are for a two cascade filter described by Chichilnisky2001'\n"
   ]
  },
  {
   "cell_type": "code",
   "execution_count": 25,
   "metadata": {},
   "outputs": [],
   "source": [
    "save_data(processed_file, intensities[0], temp_fit, time_fit)"
   ]
  }
 ],
 "metadata": {
  "kernelspec": {
   "display_name": "Python 3",
   "language": "python",
   "name": "python3"
  },
  "language_info": {
   "codemirror_mode": {
    "name": "ipython",
    "version": 3
   },
   "file_extension": ".py",
   "mimetype": "text/x-python",
   "name": "python",
   "nbconvert_exporter": "python",
   "pygments_lexer": "ipython3",
   "version": "3.7.4"
  },
  "toc": {
   "base_numbering": 1,
   "nav_menu": {},
   "number_sections": true,
   "sideBar": true,
   "skip_h1_title": false,
   "title_cell": "Table of Contents",
   "title_sidebar": "Contents",
   "toc_cell": false,
   "toc_position": {},
   "toc_section_display": true,
   "toc_window_display": false
  },
  "varInspector": {
   "cols": {
    "lenName": 16,
    "lenType": 16,
    "lenVar": 40
   },
   "kernels_config": {
    "python": {
     "delete_cmd_postfix": "",
     "delete_cmd_prefix": "del ",
     "library": "var_list.py",
     "varRefreshCmd": "print(var_dic_list())"
    },
    "r": {
     "delete_cmd_postfix": ") ",
     "delete_cmd_prefix": "rm(",
     "library": "var_list.r",
     "varRefreshCmd": "cat(var_dic_list()) "
    }
   },
   "types_to_exclude": [
    "module",
    "function",
    "builtin_function_or_method",
    "instance",
    "_Feature"
   ],
   "window_display": false
  }
 },
 "nbformat": 4,
 "nbformat_minor": 2
}
