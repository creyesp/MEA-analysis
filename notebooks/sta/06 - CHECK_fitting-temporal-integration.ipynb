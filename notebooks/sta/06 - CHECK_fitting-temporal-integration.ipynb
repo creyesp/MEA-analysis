{
 "cells": [
  {
   "cell_type": "markdown",
   "metadata": {},
   "source": []
  },
  {
   "cell_type": "code",
   "execution_count": 1,
   "metadata": {},
   "outputs": [
    {
     "data": {
      "text/plain": [
       "['../../config.ini']"
      ]
     },
     "execution_count": 1,
     "metadata": {},
     "output_type": "execute_result"
    }
   ],
   "source": [
    "from configparser import ConfigParser, ExtendedInterpolation\n",
    "\n",
    "import h5py\n",
    "from ipywidgets import IntSlider, interact, Dropdown\n",
    "import numpy as np\n",
    "import matplotlib.pylab as plt\n",
    "from matplotlib.gridspec import GridSpec\n",
    "\n",
    "from spikelib.fitting import fit_temp_sta\n",
    "from spikelib.utils import check_groups, datasets_to_array\n",
    "\n",
    "%matplotlib inline\n",
    "\n",
    "config = ConfigParser(interpolation=ExtendedInterpolation())\n",
    "config.read('../../config.ini')"
   ]
  },
  {
   "cell_type": "markdown",
   "metadata": {},
   "source": [
    "# General information about input output"
   ]
  },
  {
   "cell_type": "code",
   "execution_count": 2,
   "metadata": {},
   "outputs": [
    {
     "name": "stdout",
     "output_type": "stream",
     "text": [
      "intensities: ['nd3-255']\n"
     ]
    }
   ],
   "source": [
    "# Data files\n",
    "processed_file = config['FILES']['processed']\n",
    "\n",
    "# intensities = ['nd2-255', 'nd3-255', 'nd4-255', 'nd5-255']\n",
    "with h5py.File(processed_file, 'r') as f:\n",
    "    intensities = list(f['/sta'].keys())\n",
    "print(f'intensities: {intensities}')"
   ]
  },
  {
   "cell_type": "code",
   "execution_count": 3,
   "metadata": {},
   "outputs": [],
   "source": [
    "# Data files\n",
    "intensity = intensities[0]\n",
    "# Groups for raw data in hdf5 file\n",
    "temp_group = '/sta/{}/temporal/raw/'.format(intensity)\n",
    "spatial_group = '/sta/{}/spatial/char/'.format(intensity)\n",
    "sta_group = '/sta/{}/raw/'.format(intensity)\n",
    "valid = '/sta/{}/valid/'.format(intensity)\n",
    "\n",
    "# Groups for fit data in hdf5 file\n",
    "temp_fit_group = '/sta/{}/temporal/fit/'.format(intensity)\n",
    "temp_pars_group = '/sta/{}/temporal/fit_params/'.format(intensity)"
   ]
  },
  {
   "cell_type": "markdown",
   "metadata": {},
   "source": [
    "# Load Data"
   ]
  },
  {
   "cell_type": "code",
   "execution_count": 21,
   "metadata": {},
   "outputs": [],
   "source": [
    "# Load data\n",
    "\n",
    "with h5py.File(processed_file, 'r') as stafile:\n",
    "    time_raw = stafile[temp_group].attrs['time']\n",
    "    time_fit = stafile[temp_fit_group].attrs['time']\n",
    "    n_frame, y_size, x_size = stafile[sta_group + list(stafile[sta_group].keys())[0]].shape\n",
    "    nraw_samples = time_raw.size\n",
    "    nfit_samples = time_fit.size\n",
    "    raw_dtype = np.dtype([\n",
    "        ('id', 'U18'),\n",
    "        ('temp_raw', 'f8',(nraw_samples,)),\n",
    "        ('snr', 'f8')\n",
    "    ])\n",
    "    fit_dtype = np.dtype([\n",
    "        ('id', 'U18'),\n",
    "        ('parameters', 'f8',(5,)),\n",
    "        ('temp_fit', 'f8', (nfit_samples,)),\n",
    "    ])\n",
    "    temporal_sta = np.zeros(len(stafile[temp_group]), dtype=raw_dtype)\n",
    "    temp_fit = np.zeros((len(temporal_sta)), dtype=fit_dtype)\n",
    "    sta_frame_max = np.zeros((len(temporal_sta), 4, y_size, x_size))\n",
    "\n",
    "    for kidx, kkey in enumerate(stafile[temp_group]):\n",
    "        temporal_sta[kidx]['id'] = kkey\n",
    "        temporal_sta[kidx]['temp_raw'] = stafile[temp_group][kkey][...]\n",
    "        temporal_sta[kidx]['snr'] = stafile[spatial_group][kkey][-2]\n",
    "        temp_fit[kidx]['id'] = kkey\n",
    "        temp_fit[kidx]['parameters'] = stafile[temp_pars_group][kkey][...]\n",
    "        temp_fit[kidx]['temp_fit'] = stafile[temp_fit_group][kkey][...]\n",
    "        frame_max = stafile[spatial_group][kkey][-1][...]\n",
    "        frame_max = int(0 if frame_max <= 1 else frame_max - 1 )\n",
    "        frame_max = int(frame_max if frame_max <= n_frame - 4 else n_frame - 4 )\n",
    "        sta_frame_max[kidx] = stafile[sta_group + kkey][frame_max:frame_max+4, :][...]"
   ]
  },
  {
   "cell_type": "markdown",
   "metadata": {},
   "source": [
    "# Visualization of fitting"
   ]
  },
  {
   "cell_type": "code",
   "execution_count": 5,
   "metadata": {},
   "outputs": [],
   "source": [
    "thr_snr = 2\n",
    "no_valid_by_snr = np.where(temporal_sta['snr'] < thr_snr)[0]\n",
    "valid_by_snr = np.where(temporal_sta['snr'] >= thr_snr)[0]"
   ]
  },
  {
   "cell_type": "code",
   "execution_count": 34,
   "metadata": {},
   "outputs": [],
   "source": [
    "def plot_fit(kidx):\n",
    "    temp_sta = temporal_sta[kidx]['temp_raw']\n",
    "    temp_sta_fit = temp_fit[kidx]['temp_fit']\n",
    "    fig = plt.figure(constrained_layout=True, figsize=(10,4))\n",
    "\n",
    "    gs = GridSpec(2, 5, figure=fig)\n",
    "    ax_temp = fig.add_subplot(gs[:, :3])\n",
    "    ax_spatial = [fig.add_subplot(gs[0, 3]),\n",
    "                  fig.add_subplot(gs[0, 4]),\n",
    "                  fig.add_subplot(gs[1, 3]),\n",
    "                  fig.add_subplot(gs[1, 4])]\n",
    "    ax_temp.plot(time_raw,temp_sta, 'k+')\n",
    "    ax_temp.plot(time_raw,temp_sta, 'k')\n",
    "    ax_temp.plot(time_fit, temp_sta_fit, 'r')\n",
    "    ax_temp.set(ylim=[-1,1], xlabel=temporal_sta[kidx]['id'] + '  ({:2.2f})'.format(temporal_sta[kidx]['snr']))\n",
    "    ax_temp.grid(b=True, which='major', color='k', linestyle='-',alpha=0.2) \n",
    "    ax_temp.grid(b=True, which='minor', color='k', linestyle='-',alpha=0.1)\n",
    "    ax_temp.minorticks_on()\n",
    "    vmax=np.abs(sta_frame_max[kidx]).max()\n",
    "    ax_spatial[0].pcolor(sta_frame_max[kidx][0], vmin=-vmax, vmax=vmax, cmap='RdBu_r')\n",
    "    ax_spatial[1].pcolor(sta_frame_max[kidx][1], vmin=-vmax, vmax=vmax, cmap='RdBu_r')\n",
    "    ax_spatial[2].pcolor(sta_frame_max[kidx][2], vmin=-vmax, vmax=vmax, cmap='RdBu_r')\n",
    "    ax_spatial[3].pcolor(sta_frame_max[kidx][3], vmin=-vmax, vmax=vmax, cmap='RdBu_r')\n",
    "    [k.set(title=f'relative {idx}') for idx, k in enumerate(ax_spatial)]\n",
    "    plt.show()\n",
    "    plt.close()"
   ]
  },
  {
   "cell_type": "markdown",
   "metadata": {},
   "source": [
    "## no valid unit filtered for snr"
   ]
  },
  {
   "cell_type": "code",
   "execution_count": 35,
   "metadata": {},
   "outputs": [
    {
     "data": {
      "application/vnd.jupyter.widget-view+json": {
       "model_id": "f370e1c3850a4617b427017c8215532d",
       "version_major": 2,
       "version_minor": 0
      },
      "text/plain": [
       "interactive(children=(Dropdown(description='kidx', options=(0, 3, 5, 7, 9, 10, 11, 16, 18, 19, 20, 21, 22, 23,…"
      ]
     },
     "metadata": {},
     "output_type": "display_data"
    }
   ],
   "source": [
    "interact(plot_fit, kidx=Dropdown(options=no_valid_by_snr));"
   ]
  },
  {
   "cell_type": "markdown",
   "metadata": {},
   "source": [
    "## valid unit filtered for snr"
   ]
  },
  {
   "cell_type": "code",
   "execution_count": 36,
   "metadata": {},
   "outputs": [
    {
     "data": {
      "application/vnd.jupyter.widget-view+json": {
       "model_id": "10eb9c182d884b81a8d63357f324b832",
       "version_major": 2,
       "version_minor": 0
      },
      "text/plain": [
       "interactive(children=(Dropdown(description='kidx', options=(1, 2, 4, 6, 8, 12, 13, 14, 15, 17, 24, 27, 32, 35,…"
      ]
     },
     "metadata": {},
     "output_type": "display_data"
    }
   ],
   "source": [
    "interact(plot_fit, kidx=Dropdown(options=valid_by_snr));"
   ]
  },
  {
   "cell_type": "markdown",
   "metadata": {},
   "source": [
    "## all units"
   ]
  },
  {
   "cell_type": "code",
   "execution_count": 74,
   "metadata": {},
   "outputs": [
    {
     "data": {
      "application/vnd.jupyter.widget-view+json": {
       "model_id": "59bdac3c851148dd927dfaeda2296d49",
       "version_major": 2,
       "version_minor": 0
      },
      "text/plain": [
       "interactive(children=(Dropdown(description='kidx', options=(2, 3, 4, 5, 6, 8, 9, 10, 11, 15, 16, 17, 18, 20, 2…"
      ]
     },
     "metadata": {},
     "output_type": "display_data"
    }
   ],
   "source": [
    "interact(plot_fit, kidx=Dropdown(options=range(len(temporal_sta)-1)));"
   ]
  },
  {
   "cell_type": "markdown",
   "metadata": {},
   "source": [
    "# Fitting for specific unit\n"
   ]
  },
  {
   "cell_type": "code",
   "execution_count": 95,
   "metadata": {},
   "outputs": [
    {
     "data": {
      "text/plain": [
       "223"
      ]
     },
     "execution_count": 95,
     "metadata": {},
     "output_type": "execute_result"
    }
   ],
   "source": [
    "# Get index from unit name\n",
    "np.where(temp_fit[:]['id'] == 'temp_74')[0][0]"
   ]
  },
  {
   "cell_type": "code",
   "execution_count": 96,
   "metadata": {},
   "outputs": [],
   "source": [
    "# Set kidx to refit this unit\n",
    "kidx = None \n",
    "if kidx:\n",
    "    kcell = temporal_sta[kidx]\n",
    "    temp_to_fit = kcell['temp_raw']\n",
    "\n",
    "    params, tmp_fit = fit_temp_sta(temp_to_fit,\n",
    "                                   time_raw,\n",
    "                                   time_fit, \n",
    "                                   tau1=-0.1,\n",
    "                                   tau2=-0.04,\n",
    "                                   amp1=0.01,\n",
    "                                   amp2=0.1,\n",
    "                                   min_time=None,\n",
    "                                   max_time=None)\n",
    "\n",
    "    temp_fit[kidx]['parameters'] = np.asarray(params)\n",
    "    temp_fit[kidx]['temp_fit'] = tmp_fit\n",
    "    params"
   ]
  },
  {
   "cell_type": "code",
   "execution_count": 97,
   "metadata": {},
   "outputs": [],
   "source": [
    "kidx_invalid = None\n",
    "if kidx_invalid:\n",
    "    temp_fit[kidx_invalid]['parameters'] *= 0.\n",
    "    temp_fit[kidx_invalid]['temp_fit'] *= 0."
   ]
  },
  {
   "cell_type": "markdown",
   "metadata": {},
   "source": [
    "# Set parameter to zero for invalid units"
   ]
  },
  {
   "cell_type": "code",
   "execution_count": 37,
   "metadata": {},
   "outputs": [],
   "source": [
    "no_valid = [k for k in no_valid_by_snr if k not in [0, 18, 26, 38, 72, 89, 106, 112, 117, 186, 224, 226, 235, 250]]\n",
    "valid = [k for k in valid_by_snr if k not in [46, 97, 109, 111, 124, 153, 154, 167, 168, 170, 171, 184, 192, 201, 258, 261, 262, 264]]"
   ]
  },
  {
   "cell_type": "code",
   "execution_count": 38,
   "metadata": {},
   "outputs": [],
   "source": [
    "for kidx in no_valid:\n",
    "    temp_fit[kidx]['parameters'] *= 0.\n",
    "    temp_fit[kidx]['temp_fit'] *= 0."
   ]
  },
  {
   "cell_type": "code",
   "execution_count": 39,
   "metadata": {},
   "outputs": [],
   "source": [
    "for kidx in range(temp_fit.shape[0]):\n",
    "     if not kidx in valid:\n",
    "        temp_fit[kidx]['parameters'] *= 0.\n",
    "        temp_fit[kidx]['temp_fit'] *= 0."
   ]
  },
  {
   "cell_type": "markdown",
   "metadata": {},
   "source": [
    "## Save to hdf5"
   ]
  },
  {
   "cell_type": "code",
   "execution_count": 40,
   "metadata": {},
   "outputs": [],
   "source": [
    "with h5py.File(processed_file, 'r+') as fanalysis:\n",
    "    check_groups(fanalysis, [temp_fit_group, temp_pars_group])      \n",
    "    for kunit in temp_fit:\n",
    "        key = kunit['id']\n",
    "        fanalysis[temp_fit_group+key][...] = kunit['temp_fit']\n",
    "        fanalysis[temp_pars_group+key][...] = kunit['parameters']"
   ]
  }
 ],
 "metadata": {
  "kernelspec": {
   "display_name": "Python 3",
   "language": "python",
   "name": "python3"
  },
  "language_info": {
   "codemirror_mode": {
    "name": "ipython",
    "version": 3
   },
   "file_extension": ".py",
   "mimetype": "text/x-python",
   "name": "python",
   "nbconvert_exporter": "python",
   "pygments_lexer": "ipython3",
   "version": "3.7.4"
  },
  "toc": {
   "base_numbering": 1,
   "nav_menu": {},
   "number_sections": true,
   "sideBar": true,
   "skip_h1_title": false,
   "title_cell": "Table of Contents",
   "title_sidebar": "Contents",
   "toc_cell": false,
   "toc_position": {},
   "toc_section_display": true,
   "toc_window_display": false
  },
  "varInspector": {
   "cols": {
    "lenName": 16,
    "lenType": 16,
    "lenVar": 40
   },
   "kernels_config": {
    "python": {
     "delete_cmd_postfix": "",
     "delete_cmd_prefix": "del ",
     "library": "var_list.py",
     "varRefreshCmd": "print(var_dic_list())"
    },
    "r": {
     "delete_cmd_postfix": ") ",
     "delete_cmd_prefix": "rm(",
     "library": "var_list.r",
     "varRefreshCmd": "cat(var_dic_list()) "
    }
   },
   "position": {
    "height": "668px",
    "left": "1302.58px",
    "right": "23px",
    "top": "123px",
    "width": "362px"
   },
   "types_to_exclude": [
    "module",
    "function",
    "builtin_function_or_method",
    "instance",
    "_Feature"
   ],
   "window_display": false
  }
 },
 "nbformat": 4,
 "nbformat_minor": 2
}
