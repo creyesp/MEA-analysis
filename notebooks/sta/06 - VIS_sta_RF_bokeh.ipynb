{
 "cells": [
  {
   "cell_type": "code",
   "execution_count": 1,
   "metadata": {},
   "outputs": [],
   "source": [
    "# Run this notebook with python3\n",
    "import pandas as pd\n",
    "import h5py\n",
    "import numpy as np\n",
    "from bokeh.plotting import (figure,\n",
    "                            show,\n",
    "                            output_notebook,\n",
    "                            output_file,\n",
    "                           )\n",
    "from bokeh.models import (ColumnDataSource,\n",
    "                          CDSView,\n",
    "                          GroupFilter,\n",
    "                          BooleanFilter,\n",
    "                          LabelSet,\n",
    "                          HoverTool,\n",
    "                         )\n",
    "from bokeh.layouts import column\n",
    "from bokeh.layouts import gridplot\n",
    "\n",
    "from spikelib.utils import datasets_to_array"
   ]
  },
  {
   "cell_type": "code",
   "execution_count": 4,
   "metadata": {},
   "outputs": [],
   "source": [
    "target_path = '../../data/sorting/target_units_MR-0092t2.result-1.json'\n",
    "with open(target_path, 'r') as f:\n",
    "    targets = json.loads(f.read())\n",
    "\n",
    "target_units = []\n",
    "for key in targets:\n",
    "    target_units.extend(\n",
    "        [*map(lambda k: ('temp_{}'.format(k), key), targets[key])]\n",
    "    )\n",
    "class_type = pd.DataFrame(target_units, columns=['name', 'type'])\n",
    "class_type.set_index('name', inplace=True)\n"
   ]
  },
  {
   "cell_type": "markdown",
   "metadata": {},
   "source": [
    "## Plot RF fitting"
   ]
  },
  {
   "cell_type": "code",
   "execution_count": null,
   "metadata": {},
   "outputs": [],
   "source": []
  },
  {
   "cell_type": "code",
   "execution_count": 11,
   "metadata": {},
   "outputs": [],
   "source": [
    "def get_dateset(fanalysis, wn_name, class_=None):\n",
    "    \"\"\"Retrive dataset to plot from hdf5 file.\n",
    "    \n",
    "    Parameter\n",
    "    ---------\n",
    "    fanalysis: str\n",
    "        path to hdf5 file with sta information.\n",
    "    wn_name: str\n",
    "        name of white noise protocol in '/sta/' group in hdf5 file.\n",
    "\n",
    "    \"\"\"\n",
    "    px_um = 50\n",
    "    group_name = '/sta/{}/spatial/char/'.format(wn_name)\n",
    "    with h5py.File(fanalysis) as panalysis: \n",
    "        col_name = panalysis[group_name].attrs['col_name'].split(',')\n",
    "        array, key = datasets_to_array(panalysis[group_name])\n",
    "    data = pd.DataFrame(data=array, index=key, columns=col_name)\n",
    "    data.loc[:,'semia'] = data['semia']*px_um*2\n",
    "    data.loc[:,'semib'] = data['semib']*px_um*2\n",
    "    data.loc[:,'x0'] = data['x0']*px_um\n",
    "    data.loc[:,'y0'] = data['y0']*px_um\n",
    "    data['radius'] = np.sqrt(data['semia']*data['semib'])/2\n",
    "    data['unit_name'] = data.index.values\n",
    "    data['class'] = class_\n",
    "    \n",
    "    return data"
   ]
  },
  {
   "cell_type": "code",
   "execution_count": 9,
   "metadata": {},
   "outputs": [],
   "source": [
    "fanalysis = '../../data/processed_protocols/MR-0092t2_modified_analysis_of_protocols_150um_merge.hdf5'\n",
    "\n",
    "char_cds_nd2 = ColumnDataSource(get_dateset(fanalysis, 'nd2-255', class_type))\n",
    "char_cds_nd3 = ColumnDataSource(get_dateset(fanalysis, 'nd3-255', class_type))\n",
    "char_cds_nd4 = ColumnDataSource(get_dateset(fanalysis, 'nd4-255', class_type))\n",
    "char_cds_nd5 = ColumnDataSource(get_dateset(fanalysis, 'nd5-255', class_type))\n",
    "\n",
    "view_nd2 = CDSView(source=char_cds_nd2, filters=[GroupFilter(column_name='class', group='valid')])\n",
    "view_nd3 = CDSView(source=char_cds_nd3, filters=[GroupFilter(column_name='class', group='valid')])\n",
    "view_nd4 = CDSView(source=char_cds_nd4, filters=[GroupFilter(column_name='class', group='valid')])\n",
    "view_nd5 = CDSView(source=char_cds_nd5, filters=[GroupFilter(column_name='class', group='valid')])"
   ]
  },
  {
   "cell_type": "code",
   "execution_count": 10,
   "metadata": {
    "scrolled": true
   },
   "outputs": [],
   "source": [
    "output_file('rfs.html')\n",
    "\n",
    "tools = 'pan,wheel_zoom,xbox_select,reset'\n",
    "plot_kwargs = dict(\n",
    "    tools=tools, plot_width=500, plot_height=500, x_range=(-4*50, 40*42),\n",
    "    y_range=(-4*50, 40*42), x_axis_label='x axis [um]', y_axis_label='y axis [um]',\n",
    ")\n",
    "ell_kwargs = dict(\n",
    "    x='x0', y='y0', width='semia', height='semib', angle='angle',\n",
    "    alpha=0.2, line_color='blue', angle_units='deg', fill_color='blue', legend='64',\n",
    ")\n",
    "label_kwargs = dict(level='glyph', x_offset=5, y_offset=5,render_mode='canvas',\n",
    "                    text_alpha=0.4, )\n",
    "\n",
    "\n",
    "fig_nd2 = figure(title='RF MR-0092 ND2', **plot_kwargs)\n",
    "fig_nd3 = figure(title='RF MR-0092 ND3', **plot_kwargs)\n",
    "fig_nd4 = figure(title='RF MR-0092 ND4', **plot_kwargs)\n",
    "fig_nd5 = figure(title='RF MR-0092 ND5', **plot_kwargs)\n",
    "fig_nd2.ellipse(**ell_kwargs, source=char_cds_nd2, view=view_nd2)\n",
    "fig_nd3.ellipse(**ell_kwargs, source=char_cds_nd3, view=view_nd3)\n",
    "fig_nd4.ellipse(**ell_kwargs, source=char_cds_nd4, view=view_nd4)\n",
    "fig_nd5.ellipse(**ell_kwargs, source=char_cds_nd5, view=view_nd5)\n",
    "\n",
    "fig_nd2.x_range = fig_nd3.x_range = fig_nd4.x_range = fig_nd5.x_range\n",
    "fig_nd2.y_range = fig_nd3.y_range = fig_nd4.y_range = fig_nd5.y_range\n",
    "\n",
    "# fig_nd2.add_layout(LabelSet(x='x0', y='y0', text='unit_name', source=char_cds_nd2))\n",
    "\n",
    "show(gridplot([[fig_nd2, fig_nd3], [fig_nd4, fig_nd5]]))"
   ]
  },
  {
   "cell_type": "raw",
   "metadata": {
    "scrolled": false
   },
   "source": [
    "### output_notebook()\n",
    "kwargs = dict(x='x0', y='y0', width='semia', height='semib',\n",
    "              angle_units='deg', alpha=0.1, line_color='blue', \n",
    "                 fill_color='blue', legend='64',\n",
    "                )\n",
    "kwargs_circle = dict(x='x0', y='y0', radius='radius', alpha=0.1, line_color='blue', \n",
    "                 fill_color='blue', legend='64',\n",
    "                )\n",
    "select_tools = ['wheel_zoom', 'reset', 'pan', 'save',]\n",
    "hover = HoverTool(tooltips=[('index','@index')])\n",
    "\n",
    "fig = figure(title='RF valid both intensity 64 or 128', plot_width=950, plot_height=600,\n",
    "             x_range=(-4*50, 40*50), y_range=(-4*50, 40*50),\n",
    "             x_axis_label='x axis [um]', y_axis_label='y axis [um]',\n",
    "             tools=[hover]+select_tools, \n",
    "            )\n",
    "\n",
    "ell64 = fig.circle(**kwargs_circle, source=char_cds)\n",
    "\n",
    "\n",
    "fig.legend.click_policy = 'hide'\n",
    "show(fig)"
   ]
  },
  {
   "cell_type": "raw",
   "metadata": {},
   "source": [
    "import shutil\n",
    "\n",
    "src_path = '/home/cesar/Dropbox/Experimentos/Data_analysis/MR-0181/fig/sta/064-128_check/'\n",
    "dst_path = '/home/cesar/Dropbox/Experimentos/Data_analysis/MR-0181/fig/sta/064-128_check/128/'\n",
    "\n",
    "for template in list(data[filter_only_128].index):\n",
    "    shutil.move(src_path+template+'.png', dst_path+template+'.png')"
   ]
  }
 ],
 "metadata": {
  "kernelspec": {
   "display_name": "Python [conda env:spklib3]",
   "language": "python",
   "name": "conda-env-spklib3-py"
  },
  "language_info": {
   "codemirror_mode": {
    "name": "ipython",
    "version": 3
   },
   "file_extension": ".py",
   "mimetype": "text/x-python",
   "name": "python",
   "nbconvert_exporter": "python",
   "pygments_lexer": "ipython3",
   "version": "3.6.8"
  },
  "toc": {
   "base_numbering": 1,
   "nav_menu": {},
   "number_sections": true,
   "sideBar": true,
   "skip_h1_title": false,
   "title_cell": "Table of Contents",
   "title_sidebar": "Contents",
   "toc_cell": false,
   "toc_position": {},
   "toc_section_display": true,
   "toc_window_display": false
  },
  "varInspector": {
   "cols": {
    "lenName": 16,
    "lenType": 16,
    "lenVar": 40
   },
   "kernels_config": {
    "python": {
     "delete_cmd_postfix": "",
     "delete_cmd_prefix": "del ",
     "library": "var_list.py",
     "varRefreshCmd": "print(var_dic_list())"
    },
    "r": {
     "delete_cmd_postfix": ") ",
     "delete_cmd_prefix": "rm(",
     "library": "var_list.r",
     "varRefreshCmd": "cat(var_dic_list()) "
    }
   },
   "types_to_exclude": [
    "module",
    "function",
    "builtin_function_or_method",
    "instance",
    "_Feature"
   ],
   "window_display": false
  }
 },
 "nbformat": 4,
 "nbformat_minor": 2
}
