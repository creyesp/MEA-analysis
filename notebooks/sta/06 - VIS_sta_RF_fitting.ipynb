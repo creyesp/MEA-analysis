{
 "cells": [
  {
   "cell_type": "code",
   "execution_count": 1,
   "metadata": {},
   "outputs": [],
   "source": [
    "from os import path, listdir\n",
    "\n",
    "import h5py\n",
    "from ipywidgets import IntSlider, interact, Dropdown, IntText\n",
    "import numpy as np\n",
    "import matplotlib.pyplot as plt\n",
    "import matplotlib.patches as patches\n",
    "from scipy.io import loadmat\n",
    "# %matplotlib notebook"
   ]
  },
  {
   "cell_type": "markdown",
   "metadata": {},
   "source": [
    "## Plot RF fitting"
   ]
  },
  {
   "cell_type": "code",
   "execution_count": 2,
   "metadata": {},
   "outputs": [],
   "source": [
    "intensity = 'nd2-255'\n",
    "# ffile  = '../data/MR-0092t2_analysis_of_protocols.hdf5'\n",
    "ffile  = '../data/MR-0092t2_modified_analysis_of_protocols_150um_merge.hdf5'\n",
    "spatial_char_group = '/sta/{}/spatial/char/'.format(intensity)\n",
    "raw_group = '/sta/{}/raw/'.format(intensity)\n",
    "valid_group = '/sta/{}/valid/'.format(intensity)\n",
    "\n",
    "with h5py.File(ffile,'r') as protocols:\n",
    "    nunits = len(protocols['/sta/nd2-255/raw'])"
   ]
  },
  {
   "cell_type": "markdown",
   "metadata": {},
   "source": [
    "# plot frame with maximum response for all cells\n",
    "in group of 25 cells"
   ]
  },
  {
   "cell_type": "code",
   "execution_count": 3,
   "metadata": {},
   "outputs": [],
   "source": [
    "def plot_rf_fitting(start_index):\n",
    "    fig, (ax) = plt.subplots(5,5, figsize=(17,17), sharex=True, sharey=True)\n",
    "    fig.suptitle('Checkerboar - intensity {}'.format(intensity))\n",
    "    with h5py.File(ffile,'r') as protocols:\n",
    "        for kidx, kax in zip(range(25), ax.flatten()):\n",
    "            key = 'temp_{}'.format(kidx+start_index)\n",
    "            angle, a, b, x0, y0, snr, frame = protocols[spatial_char_group+key][...]        \n",
    "            frame_maxsta = protocols[raw_group+key][frame]\n",
    "            max_amp = np.abs(frame_maxsta).max()\n",
    "            sta_imshow = kax.imshow(frame_maxsta, vmin=-max_amp, vmax=max_amp, cmap='RdBu_r', origin='bottom')\n",
    "            kax.hlines(y0, 0, 31, alpha=0.2, color='k')\n",
    "            kax.vlines(x0, 0, 31, alpha=0.2, color='k')\n",
    "            kax.set(title='{} f({})'.format(key, frame.astype(int)))\n",
    "            pellipse = patches.Ellipse((x0,y0),a*2,b*2,angle=angle,facecolor='none',alpha=0.9, edgecolor='k', lw=2)\n",
    "            kax.add_patch(pellipse)\n",
    "#             plt.colorbar(sta_imshow, ax=kax)\n",
    "    for kax in ax.flatten():\n",
    "        kax.set(xlim=(0,31), ylim=(0,31))\n",
    "    plt.show()\n",
    "    plt.close()"
   ]
  },
  {
   "cell_type": "code",
   "execution_count": 4,
   "metadata": {},
   "outputs": [
    {
     "data": {
      "application/vnd.jupyter.widget-view+json": {
       "model_id": "149f89bdc27442228aee9d9ed577f206",
       "version_major": 2,
       "version_minor": 0
      },
      "text/plain": [
       "aW50ZXJhY3RpdmUoY2hpbGRyZW49KEludFNsaWRlcih2YWx1ZT0zMjUsIGRlc2NyaXB0aW9uPXUnc3RhcnRfaW5kZXgnLCBtYXg9NzU0LCBzdGVwPTI1KSwgT3V0cHV0KCkpLCBfZG9tX2NsYXPigKY=\n"
      ]
     },
     "metadata": {},
     "output_type": "display_data"
    }
   ],
   "source": [
    "interact(plot_rf_fitting, start_index=IntSlider(value=325, min=0, max=nunits, step=25));"
   ]
  },
  {
   "cell_type": "markdown",
   "metadata": {},
   "source": [
    "# plot last frames for all cells\n",
    "in group of 25 cells"
   ]
  },
  {
   "cell_type": "code",
   "execution_count": 4,
   "metadata": {},
   "outputs": [],
   "source": [
    "intensities = ['nd2-255', 'nd3-255', 'nd4-255', 'nd5-255']\n",
    "\n",
    "def plot_4frames(start_index):\n",
    "    fig, (ax) = plt.subplots(4,6, figsize=(15,10), sharex=True, sharey=True)\n",
    "#     fig.suptitle('Checkerboar - intensity {}'.format(intensity))\n",
    "    with h5py.File(ffile,'r') as protocols:\n",
    "    #     for key in protocols[spatial_group]:\n",
    "        for krow, intensity in zip(ax, intensities):\n",
    "            spatial_char_group = '/sta/{}/spatial/char/'.format(intensity)\n",
    "            raw_group = '/sta/{}/raw/'.format(intensity)\n",
    "            valid_group = '/sta/{}/valid/'.format(intensity)\n",
    "            key = 'temp_{}'.format(start_index)\n",
    "#             angle, a, b, x0, y0, snr, frame = protocols[spatial_char_group+key][...]        \n",
    "            frame=25\n",
    "            frame_maxsta = protocols[raw_group+key][frame]\n",
    "            max_amp = np.abs(frame_maxsta).max()\n",
    "            for kidx_frame, kcol in zip(range(21,27), krow):\n",
    "                frame_show = protocols[raw_group+key][kidx_frame]\n",
    "                sta_imshow = kcol.imshow(frame_show, vmin=-max_amp, vmax=max_amp, cmap='RdBu_r', origin='bottom')\n",
    "#                 kcol.hlines(y0, 0, 31, alpha=0.2, color='k')\n",
    "#                 kcol.vlines(x0, 0, 31, alpha=0.2, color='k')\n",
    "                kcol.set(title='{} f({})'.format(intensity, kidx_frame))\n",
    "#                 pellipse = patches.Ellipse((x0,y0),a*2,b*2,angle=angle,facecolor='none',alpha=0.5, edgecolor='k', lw=2)\n",
    "#                 kcol.add_patch(pellipse)\n",
    "#             plt.colorbar(sta_imshow, ax=kax)\n",
    "    for kax in ax.flatten():\n",
    "        kax.set(xlim=(0,31), ylim=(0,31))\n",
    "    plt.show()\n",
    "    plt.close()"
   ]
  },
  {
   "cell_type": "code",
   "execution_count": 5,
   "metadata": {},
   "outputs": [
    {
     "data": {
      "application/vnd.jupyter.widget-view+json": {
       "model_id": "6fc61db7ae02489e911cb3907827f552",
       "version_major": 2,
       "version_minor": 0
      },
      "text/plain": [
       "aW50ZXJhY3RpdmUoY2hpbGRyZW49KEludFNsaWRlcih2YWx1ZT0zMzEsIGRlc2NyaXB0aW9uPXUnc3RhcnRfaW5kZXgnLCBtYXg9NzU0KSwgT3V0cHV0KCkpLCBfZG9tX2NsYXNzZXM9KHUnd2nigKY=\n"
      ]
     },
     "metadata": {},
     "output_type": "display_data"
    }
   ],
   "source": [
    "interact(plot_4frames, start_index=IntSlider(value=331, min=0, max=nunits, step=1));"
   ]
  },
  {
   "cell_type": "code",
   "execution_count": 53,
   "metadata": {
    "collapsed": true
   },
   "outputs": [
    {
     "data": {
      "application/vnd.jupyter.widget-view+json": {
       "model_id": "701e56870bd34b588d8c0daee32fd277",
       "version_major": 2,
       "version_minor": 0
      },
      "text/plain": [
       "aW50ZXJhY3RpdmUoY2hpbGRyZW49KEludFRleHQodmFsdWU9NDA2LCBkZXNjcmlwdGlvbj11J1RlbXBfOicpLCBPdXRwdXQoKSksIF9kb21fY2xhc3Nlcz0odSd3aWRnZXQtaW50ZXJhY3QnLCnigKY=\n"
      ]
     },
     "metadata": {},
     "output_type": "display_data"
    }
   ],
   "source": [
    "interact(plot_4frames, start_index=IntText(value=406, description='Temp_:', disabled=False));\n"
   ]
  },
  {
   "cell_type": "code",
   "execution_count": null,
   "metadata": {},
   "outputs": [],
   "source": []
  },
  {
   "cell_type": "code",
   "execution_count": null,
   "metadata": {},
   "outputs": [],
   "source": []
  },
  {
   "cell_type": "markdown",
   "metadata": {},
   "source": [
    "# plot frame with maximum response for selected cells\n",
    "in group of 25 cells"
   ]
  },
  {
   "cell_type": "code",
   "execution_count": 10,
   "metadata": {},
   "outputs": [],
   "source": [
    "axon_idx = np.loadtxt('../data/list_remove.txt')\n",
    "temp_idx = [k for k in range(0,nunits) if k not in axon_idx]\n",
    "\n",
    "temp_name = ['temp_{}'.format(kaxon) for kaxon in temp_idx]\n",
    "nindex = len(temp_idx)\n",
    "nfigures = 5*5\n",
    "maxrange = nindex//nfigures*nfigures+nfigures\n",
    "data_ranges = zip(range(0, maxrange, nfigures), range(nfigures, maxrange+1, nfigures))\n",
    "name_range = [temp_name[kstart:kend] for kstart, kend in data_ranges]\n",
    "\n"
   ]
  },
  {
   "cell_type": "code",
   "execution_count": 11,
   "metadata": {},
   "outputs": [],
   "source": [
    "def plot_rf_fitting(start_index):\n",
    "    fig, (ax) = plt.subplots(5,5, figsize=(12,12), sharex=True, sharey=True)\n",
    "    fig.suptitle('Checkerboar - intensity {}'.format(intensity))\n",
    "    with h5py.File(ffile,'r') as protocols:\n",
    "        for key, kax in zip(name_range[start_index], ax.flatten()):\n",
    "            angle, a, b, x0, y0, snr, frame = protocols[spatial_char_group+key][...]        \n",
    "            frame_maxsta = protocols[raw_group+key][frame]\n",
    "            max_amp = np.abs(frame_maxsta).max()\n",
    "            sta_imshow = kax.imshow(frame_maxsta, vmin=-max_amp, vmax=max_amp, cmap='RdBu_r', origin='bottom')\n",
    "            kax.hlines(y0, 0, 31, alpha=0.2, color='k')\n",
    "            kax.vlines(x0, 0, 31, alpha=0.2, color='k')\n",
    "            kax.set(title='{} f({})'.format(key, frame.astype(int)))\n",
    "            pellipse = patches.Ellipse((x0,y0),a*2,b*2,angle=angle,facecolor='none',alpha=0.9, edgecolor='k', lw=2)\n",
    "            kax.add_patch(pellipse)\n",
    "#             plt.colorbar(sta_imshow, ax=kax)\n",
    "    for kax in ax.flatten():\n",
    "        kax.set(xlim=(0,31), ylim=(0,31))\n",
    "    plt.show()\n",
    "    plt.close()"
   ]
  },
  {
   "cell_type": "code",
   "execution_count": 12,
   "metadata": {
    "scrolled": false
   },
   "outputs": [
    {
     "data": {
      "application/vnd.jupyter.widget-view+json": {
       "model_id": "dc738bc0ad134554b0dbc1fa9e4b6c5c",
       "version_major": 2,
       "version_minor": 0
      },
      "text/plain": [
       "aW50ZXJhY3RpdmUoY2hpbGRyZW49KEludFNsaWRlcih2YWx1ZT0wLCBkZXNjcmlwdGlvbj11J3N0YXJ0X2luZGV4JywgbWF4PTExKSwgT3V0cHV0KCkpLCBfZG9tX2NsYXNzZXM9KHUnd2lkZ2XigKY=\n"
      ]
     },
     "metadata": {},
     "output_type": "display_data"
    }
   ],
   "source": [
    "interact(plot_rf_fitting, start_index=IntSlider(value=0, min=0, max=len(name_range)-1, step=1));"
   ]
  },
  {
   "cell_type": "code",
   "execution_count": null,
   "metadata": {},
   "outputs": [],
   "source": []
  },
  {
   "cell_type": "code",
   "execution_count": null,
   "metadata": {},
   "outputs": [],
   "source": []
  },
  {
   "cell_type": "code",
   "execution_count": 20,
   "metadata": {},
   "outputs": [],
   "source": [
    "intensities = ['nd2-255', 'nd3-255', 'nd4-255', 'nd5-255']\n",
    "frame_to_show = (21, 28)\n",
    "nrow = len(intensities)\n",
    "ncol = frame_to_show[1]-frame_to_show[0]\n",
    "figsize = (15,10)\n",
    "\n",
    "def plot_4frames_sel(key):\n",
    "    fig, (ax) = plt.subplots(nrow,ncol, figsize=figsize, sharex=True, sharey=True)\n",
    "    with h5py.File(ffile,'r') as protocols:\n",
    "        for krow, intensity in zip(ax, intensities):\n",
    "            spatial_char_group = '/sta/{}/spatial/char/'.format(intensity)\n",
    "            raw_group = '/sta/{}/raw/'.format(intensity)\n",
    "            valid_group = '/sta/{}/valid/'.format(intensity)\n",
    "            \n",
    "            angle, a, b, x0, y0, snr, frame = protocols[spatial_char_group+key][...]        \n",
    "            frame_maxsta = protocols[raw_group+key][frame]\n",
    "            max_amp = np.abs(frame_maxsta).max()\n",
    "            for kidx_frame, kcol in zip(range(*frame_to_show), krow):\n",
    "                frame_show = protocols[raw_group+key][kidx_frame]\n",
    "                sta_imshow = kcol.imshow(frame_show, vmin=-max_amp, vmax=max_amp, cmap='RdBu_r', origin='bottom')\n",
    "                #kcol.hlines(y0, 0, 31, alpha=0.2, color='k')\n",
    "                #kcol.vlines(x0, 0, 31, alpha=0.2, color='k')\n",
    "                kcol.set(title='{} f({})'.format(intensity, kidx_frame))\n",
    "                #pellipse = patches.Ellipse((x0,y0),a*2,b*2,angle=angle,facecolor='none',alpha=0.5, edgecolor='k', lw=2)\n",
    "                #kcol.add_patch(pellipse)\n",
    "#             plt.colorbar(sta_imshow, ax=kax)\n",
    "    for kax in ax.flatten():\n",
    "        kax.set(xlim=(0,31), ylim=(0,31))\n",
    "    plt.show()\n",
    "    #plt.savefig('../fig/sta/check/'+key+'.png')\n",
    "    #plt.close()"
   ]
  },
  {
   "cell_type": "code",
   "execution_count": 21,
   "metadata": {},
   "outputs": [
    {
     "data": {
      "application/vnd.jupyter.widget-view+json": {
       "model_id": "24db9db402eb45528c4f32b51da7f367",
       "version_major": 2,
       "version_minor": 0
      },
      "text/plain": [
       "aW50ZXJhY3RpdmUoY2hpbGRyZW49KERyb3Bkb3duKGRlc2NyaXB0aW9uPXUna2V5Jywgb3B0aW9ucz0oJ3RlbXBfMCcsICd0ZW1wXzEnLCAndGVtcF8yJywgJ3RlbXBfMycsICd0ZW1wXzknLCDigKY=\n"
      ]
     },
     "metadata": {},
     "output_type": "display_data"
    }
   ],
   "source": [
    "interact(plot_4frames_sel, key=Dropdown(options=temp_name));"
   ]
  },
  {
   "cell_type": "code",
   "execution_count": null,
   "metadata": {},
   "outputs": [],
   "source": [
    "for key in temp_name:\n",
    "    plot_4frames_sel(key)"
   ]
  },
  {
   "cell_type": "code",
   "execution_count": null,
   "metadata": {},
   "outputs": [],
   "source": []
  },
  {
   "cell_type": "code",
   "execution_count": null,
   "metadata": {},
   "outputs": [],
   "source": []
  },
  {
   "cell_type": "code",
   "execution_count": 19,
   "metadata": {},
   "outputs": [],
   "source": [
    "import shutil as sh\n",
    "from os import path\n",
    "for key in temp_name:\n",
    "    src = '../fig/sta/check/valid/{}.png'.format(key)\n",
    "    if path.isfile(src):\n",
    "        dst = '../fig/sta/check/no_valid/{}.png'.format(key)\n",
    "        sh.move(src, dst)"
   ]
  },
  {
   "cell_type": "code",
   "execution_count": 23,
   "metadata": {},
   "outputs": [
    {
     "data": {
      "text/plain": [
       "754"
      ]
     },
     "execution_count": 23,
     "metadata": {},
     "output_type": "execute_result"
    }
   ],
   "source": [
    "with h5py.File(ffile,'r') as protocols:\n",
    "    nunits = len(protocols['/sta/nd2-255/raw'])\n",
    "nunits    "
   ]
  }
 ],
 "metadata": {
  "kernelspec": {
   "display_name": "spk2",
   "language": "python",
   "name": "spk2"
  },
  "language_info": {
   "codemirror_mode": {
    "name": "ipython",
    "version": 2
   },
   "file_extension": ".py",
   "mimetype": "text/x-python",
   "name": "python",
   "nbconvert_exporter": "python",
   "pygments_lexer": "ipython2",
   "version": "2.7.15"
  },
  "toc": {
   "base_numbering": 1,
   "nav_menu": {},
   "number_sections": true,
   "sideBar": true,
   "skip_h1_title": false,
   "title_cell": "Table of Contents",
   "title_sidebar": "Contents",
   "toc_cell": false,
   "toc_position": {},
   "toc_section_display": true,
   "toc_window_display": false
  },
  "varInspector": {
   "cols": {
    "lenName": 16,
    "lenType": 16,
    "lenVar": 40
   },
   "kernels_config": {
    "python": {
     "delete_cmd_postfix": "",
     "delete_cmd_prefix": "del ",
     "library": "var_list.py",
     "varRefreshCmd": "print(var_dic_list())"
    },
    "r": {
     "delete_cmd_postfix": ") ",
     "delete_cmd_prefix": "rm(",
     "library": "var_list.r",
     "varRefreshCmd": "cat(var_dic_list()) "
    }
   },
   "types_to_exclude": [
    "module",
    "function",
    "builtin_function_or_method",
    "instance",
    "_Feature"
   ],
   "window_display": false
  }
 },
 "nbformat": 4,
 "nbformat_minor": 2
}
