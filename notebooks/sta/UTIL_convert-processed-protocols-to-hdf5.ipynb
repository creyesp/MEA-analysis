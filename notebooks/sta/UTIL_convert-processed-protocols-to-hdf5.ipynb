{
 "cells": [
  {
   "cell_type": "code",
   "execution_count": 1,
   "metadata": {},
   "outputs": [],
   "source": [
    "from os import path, listdir\n",
    "\n",
    "import h5py\n",
    "import numpy as np\n",
    "from scipy.io import loadmat\n",
    "\n",
    "from spikelib.utils import check_groups"
   ]
  },
  {
   "cell_type": "markdown",
   "metadata": {},
   "source": [
    "* /sta/intensity/raw/temp*\n",
    "* /sta/intensity/temporal/raw/temp* --> attrs['time'], attrs['nsample_before'], attrs['nsample_adfter'], attrs['fps'], attrs['nsamples']\n",
    "* /sta/intensity/temporal/fit/temp* --> attrs['time']\n",
    "* /sta/intensity/temporal/fit_params/temp* --> attrs['col_name']\n",
    "* /sta/intensity/temporal/char/temp* --> attrs['col_name'] peak1, peak2, amp1, amp2, zeroxross, bi, \n",
    "* /sta/intensity/spatial/char/temp* --> attrs['col_name'] angle, a,b,x,y,snr,frame\n",
    "* /sta/intensity/valid/temp* \n",
    "\n"
   ]
  },
  {
   "cell_type": "code",
   "execution_count": 22,
   "metadata": {},
   "outputs": [],
   "source": [
    "def save_fitres_to_hdf5(source_folder, raw_sta_group, output_group):\n",
    "    units = listdir(source_folder)\n",
    "    units = [kunit for kunit in units if path.isdir(source_folder+kunit)]\n",
    "    file = 'fit_var.mat'\n",
    "\n",
    "    for kunit in units:\n",
    "        kfile = '{}{}/{}'.format(source_folder, kunit, file)\n",
    "        if path.isfile(kfile):\n",
    "            fitres = loadmat(kfile)['fitresult'].flatten()\n",
    "            amp, deg, a, b, x0, y0, z, frame = fitres\n",
    "            x0 = x0-1\n",
    "            y0 = y0-1\n",
    "            frame = frame-1 \n",
    "\n",
    "            sta_data = raw_sta_group[kunit][...]\n",
    "            temp_profile = sta_data[:,int(round(y0)),int(round(x0))]\n",
    "            var_resp = np.var(temp_profile)\n",
    "            var_noise = np.var(sta_data, axis=2).mean()\n",
    "            snr = var_resp/var_noise       \n",
    "        else:\n",
    "            [deg, a, b, x0, y0, snr, frame] = np.zeros(7)  \n",
    "        \n",
    "        if kunit in output_group:           \n",
    "            output_group[kunit][...] = np.array([deg, a, b, x0, y0, snr, frame])\n",
    "            output_group.attrs['col_name'] = u'angle,semia,semib,x0,y0,snr,frame_max'\n",
    "        else:\n",
    "            output_group.create_dataset(kunit, data=np.array([deg, a, b, x0, y0, snr, frame]),\n",
    "                                        dtype=np.float, compression=\"gzip\")\n",
    "            output_group.attrs['col_name'] = u'angle,semia,semib,x0,y0,snr,frame_max'\n",
    "\n",
    "def save_fitrest_mat_to_hdf5(source_file, raw_sta_group, output_group):\n",
    "    \"\"\"Save RF fit result from a .mat to hdf5.\n",
    "    \n",
    "    The .mat file has a cell array with all fitresulta and the keys for each \n",
    "    cell.\n",
    "\n",
    "    \"\"\"\n",
    "    \n",
    "    \n",
    "    fit_rest = loadmat(source_file)\n",
    "\n",
    "    for karr, key in zip(fit_rest['fit_array'][0], fit_rest['keys'][0]):\n",
    "        fit_array = karr[0]\n",
    "        kunit = key[0]\n",
    "        if fit_array.any():\n",
    "            amp, deg, a, b, x0, y0, z, frame = fit_array\n",
    "            x0 = x0-1\n",
    "            y0 = y0-1\n",
    "            frame = frame-1 \n",
    "\n",
    "            sta_data = raw_sta_group[kunit][...]\n",
    "            temp_profile = sta_data[:,int(round(y0)),int(round(x0))]\n",
    "            var_resp = np.var(temp_profile)\n",
    "            var_noise = np.var(sta_data, axis=2).mean()\n",
    "            snr = var_resp/var_noise       \n",
    "        else:\n",
    "            [deg, a, b, x0, y0, snr, frame] = np.zeros(7)  \n",
    "        \n",
    "        if kunit in output_group:           \n",
    "            output_group[kunit][...] = np.array([deg, a, b, x0, y0, snr, frame])\n",
    "        else:\n",
    "            output_group.create_dataset(kunit, data=np.array([deg, a, b, x0, y0, snr, frame]),\n",
    "                                        dtype=np.float, compression=\"gzip\")\n",
    "    output_group.attrs['col_name'] = u'angle,semia,semib,x0,y0,snr,frame_max'\n",
    "    \n",
    "\n",
    "def save_temp_raw_to_hdf5(output_group, spatial_char_group, raw_group):\n",
    "    \n",
    "    for key in spatial_char_group:\n",
    "        (angle, a, b, x0, y0, snr, frame) = spatial_char_group[key][...]\n",
    "        if key in output_group:\n",
    "            output_group[key][...] = raw_group[key][:,y0,x0]\n",
    "        else:\n",
    "            output_group.create_dataset(key, data=raw_group[key][:,y0,x0], dtype=np.float, compression=\"gzip\")\n",
    "\n",
    "    output_group.attrs['fps'] = raw_group.attrs['fps']\n",
    "    output_group.attrs['time'] = raw_group.attrs['time']\n",
    "    output_group.attrs['nsample_before'] = raw_group.attrs['nsamples_before']\n",
    "    output_group.attrs['nsample_after'] = raw_group.attrs['nsamples_after']\n",
    "    output_group.attrs['nsamples'] = raw_group.attrs['nsamples']"
   ]
  },
  {
   "cell_type": "markdown",
   "metadata": {},
   "source": [
    "## Save fitres to hdf5"
   ]
  },
  {
   "cell_type": "code",
   "execution_count": 20,
   "metadata": {},
   "outputs": [],
   "source": [
    "fanalisis = '../data/MR-0092t2_analysis_of_protocols_150um_merge.hdf5'"
   ]
  },
  {
   "cell_type": "code",
   "execution_count": 26,
   "metadata": {
    "collapsed": true
   },
   "outputs": [
    {
     "ename": "OSError",
     "evalue": "[Errno 2] No such file or directory: '/home/cesar/exp/MR-0092t2/nd2-255/'",
     "output_type": "error",
     "traceback": [
      "\u001b[0;31m---------------------------------------------------------------------------\u001b[0m",
      "\u001b[0;31mOSError\u001b[0m                                   Traceback (most recent call last)",
      "\u001b[0;32m<ipython-input-26-528df680b8fd>\u001b[0m in \u001b[0;36m<module>\u001b[0;34m()\u001b[0m\n\u001b[1;32m     10\u001b[0m             save_fitres_to_hdf5(source_folder,\n\u001b[1;32m     11\u001b[0m                                 \u001b[0mpanalisis\u001b[0m\u001b[0;34m[\u001b[0m\u001b[0moutput_group\u001b[0m\u001b[0;34m]\u001b[0m\u001b[0;34m,\u001b[0m\u001b[0;34m\u001b[0m\u001b[0m\n\u001b[0;32m---> 12\u001b[0;31m                                 \u001b[0mpanalisis\u001b[0m\u001b[0;34m[\u001b[0m\u001b[0mraw_sta_group\u001b[0m\u001b[0;34m]\u001b[0m\u001b[0;34m,\u001b[0m\u001b[0;34m\u001b[0m\u001b[0m\n\u001b[0m\u001b[1;32m     13\u001b[0m                                )\n",
      "\u001b[0;32m<ipython-input-22-9fd2d55e0917>\u001b[0m in \u001b[0;36msave_fitres_to_hdf5\u001b[0;34m(source_folder, output_group, raw_sta_group)\u001b[0m\n\u001b[1;32m      1\u001b[0m \u001b[0;32mdef\u001b[0m \u001b[0msave_fitres_to_hdf5\u001b[0m\u001b[0;34m(\u001b[0m\u001b[0msource_folder\u001b[0m\u001b[0;34m,\u001b[0m \u001b[0moutput_group\u001b[0m\u001b[0;34m,\u001b[0m \u001b[0mraw_sta_group\u001b[0m\u001b[0;34m)\u001b[0m\u001b[0;34m:\u001b[0m\u001b[0;34m\u001b[0m\u001b[0m\n\u001b[0;32m----> 2\u001b[0;31m     \u001b[0munits\u001b[0m \u001b[0;34m=\u001b[0m \u001b[0mlistdir\u001b[0m\u001b[0;34m(\u001b[0m\u001b[0msource_folder\u001b[0m\u001b[0;34m)\u001b[0m\u001b[0;34m\u001b[0m\u001b[0m\n\u001b[0m\u001b[1;32m      3\u001b[0m     \u001b[0munits\u001b[0m \u001b[0;34m=\u001b[0m \u001b[0;34m[\u001b[0m\u001b[0mkunit\u001b[0m \u001b[0;32mfor\u001b[0m \u001b[0mkunit\u001b[0m \u001b[0;32min\u001b[0m \u001b[0munits\u001b[0m \u001b[0;32mif\u001b[0m \u001b[0mpath\u001b[0m\u001b[0;34m.\u001b[0m\u001b[0misdir\u001b[0m\u001b[0;34m(\u001b[0m\u001b[0msource_folder\u001b[0m\u001b[0;34m+\u001b[0m\u001b[0mkunit\u001b[0m\u001b[0;34m)\u001b[0m\u001b[0;34m]\u001b[0m\u001b[0;34m\u001b[0m\u001b[0m\n\u001b[1;32m      4\u001b[0m     \u001b[0mfile\u001b[0m \u001b[0;34m=\u001b[0m \u001b[0;34m'fit_var.mat'\u001b[0m\u001b[0;34m\u001b[0m\u001b[0m\n\u001b[1;32m      5\u001b[0m \u001b[0;34m\u001b[0m\u001b[0m\n",
      "\u001b[0;31mOSError\u001b[0m: [Errno 2] No such file or directory: '/home/cesar/exp/MR-0092t2/nd2-255/'"
     ]
    }
   ],
   "source": [
    "intensities = ['nd2-255', 'nd3-255', 'nd4-255', 'nd5-255']\n",
    "for intensity in intensities:\n",
    "    source_folder = '/home/cesar/exp/MR-0092t2/{}/'.format(intensity)\n",
    "\n",
    "    with h5py.File(fanalisis , 'r+') as panalisis:\n",
    "        raw_sta_group = '/sta/{}/raw/'.format(intensity)\n",
    "        output_group = '/sta/{}/spatial/char/'.format(intensity)\n",
    "        if raw_sta_group in panalisis:\n",
    "            check_groups(panalisis, [output_group])\n",
    "            save_fitres_to_hdf5(source_folder,\n",
    "                                panalisis[raw_sta_group],\n",
    "                                panalisis[output_group],\n",
    "                               )"
   ]
  },
  {
   "cell_type": "code",
   "execution_count": 23,
   "metadata": {},
   "outputs": [],
   "source": [
    "intensities = ['nd2-255', 'nd3-255', 'nd4-255', 'nd5-255']\n",
    "for intensity in intensities:\n",
    "    source_file = '/home/cesar/Downloads/sta/ajuste_{}.mat'.format(intensity)\n",
    "\n",
    "    with h5py.File(fanalisis , 'r+') as panalisis:\n",
    "        raw_sta_group = '/sta/{}/raw/'.format(intensity)\n",
    "        output_group = '/sta/{}/spatial/char/'.format(intensity)\n",
    "        if raw_sta_group in panalisis:\n",
    "            check_groups(panalisis, [output_group])\n",
    "            save_fitrest_mat_to_hdf5(source_file,\n",
    "                                     panalisis[raw_sta_group],\n",
    "                                     panalisis[output_group],\n",
    "                                    )"
   ]
  },
  {
   "cell_type": "markdown",
   "metadata": {},
   "source": [
    "## Save raw temporal integration "
   ]
  },
  {
   "cell_type": "code",
   "execution_count": 25,
   "metadata": {},
   "outputs": [
    {
     "name": "stdout",
     "output_type": "stream",
     "text": [
      "[u'fps', u'nsamples_before', u'nsamples_after', u'nsamples', u'time']\n",
      "[u'fps', u'nsamples_before', u'nsamples_after', u'nsamples', u'time']\n",
      "[u'fps', u'nsamples_before', u'nsamples_after', u'nsamples', u'time']\n",
      "[u'fps', u'nsamples_before', u'nsamples_after', u'nsamples', u'time']\n"
     ]
    }
   ],
   "source": [
    "fanalisis = '../data/MR-0092t2_analysis_of_protocols.hdf5'\n",
    "\n",
    "intensities = ['nd2-255', 'nd3-255', 'nd4-255', 'nd5-255']\n",
    "for intensity in intensities:\n",
    "    with h5py.File(fanalisis , 'r+') as panalisis:\n",
    "        raw_sta_group = '/sta/{}/raw/'.format(intensity)\n",
    "        spatial_char_group = '/sta/{}/spatial/char/'.format(intensity)\n",
    "        temp_raw_group = '/sta/{}/temporal/raw/'.format(intensity)\n",
    "\n",
    "        if raw_sta_group in panalisis:\n",
    "            check_groups(panalisis, [temp_raw_group])\n",
    "            save_temp_raw_to_hdf5(panalisis[temp_raw_group],\n",
    "                                  panalisis[spatial_char_group],\n",
    "                                  panalisis[raw_sta_group],\n",
    "                                  )\n",
    "        else:\n",
    "            print('{} doesnt exist in {}'.format(raw_sta_group, panalisis))"
   ]
  },
  {
   "cell_type": "code",
   "execution_count": null,
   "metadata": {},
   "outputs": [],
   "source": []
  },
  {
   "cell_type": "markdown",
   "metadata": {},
   "source": [
    "* /flash/intensity/psth/temp*\n",
    "* /flash/intensity/est_psth/temp* --> attrs[time], attrs[bouns]\n",
    "* /flash/intensity/char/temp* --> attrs[col_name],"
   ]
  }
 ],
 "metadata": {
  "kernelspec": {
   "display_name": "Python 3",
   "language": "python",
   "name": "python3"
  },
  "language_info": {
   "codemirror_mode": {
    "name": "ipython",
    "version": 3
   },
   "file_extension": ".py",
   "mimetype": "text/x-python",
   "name": "python",
   "nbconvert_exporter": "python",
   "pygments_lexer": "ipython3",
   "version": "3.7.4"
  },
  "toc": {
   "base_numbering": 1,
   "nav_menu": {},
   "number_sections": true,
   "sideBar": true,
   "skip_h1_title": false,
   "title_cell": "Table of Contents",
   "title_sidebar": "Contents",
   "toc_cell": false,
   "toc_position": {},
   "toc_section_display": true,
   "toc_window_display": false
  },
  "varInspector": {
   "cols": {
    "lenName": 16,
    "lenType": 16,
    "lenVar": 40
   },
   "kernels_config": {
    "python": {
     "delete_cmd_postfix": "",
     "delete_cmd_prefix": "del ",
     "library": "var_list.py",
     "varRefreshCmd": "print(var_dic_list())"
    },
    "r": {
     "delete_cmd_postfix": ") ",
     "delete_cmd_prefix": "rm(",
     "library": "var_list.r",
     "varRefreshCmd": "cat(var_dic_list()) "
    }
   },
   "position": {
    "height": "677px",
    "left": "1446px",
    "right": "-11px",
    "top": "87px",
    "width": "406px"
   },
   "types_to_exclude": [
    "module",
    "function",
    "builtin_function_or_method",
    "instance",
    "_Feature"
   ],
   "window_display": false
  }
 },
 "nbformat": 4,
 "nbformat_minor": 2
}
