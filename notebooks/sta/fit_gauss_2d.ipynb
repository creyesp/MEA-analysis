{
 "cells": [
  {
   "cell_type": "code",
   "execution_count": 1,
   "metadata": {},
   "outputs": [
    {
     "data": {
      "text/plain": [
       "['../../config.ini']"
      ]
     },
     "execution_count": 1,
     "metadata": {},
     "output_type": "execute_result"
    }
   ],
   "source": [
    "from configparser import ConfigParser, ExtendedInterpolation\n",
    "\n",
    "import h5py\n",
    "import numpy as np\n",
    "import matplotlib.pyplot as plt\n",
    "import pandas as pd\n",
    "import scipy.optimize as opt\n",
    "from spikelib.fitting import gaussian2d\n",
    "from spikelib.utils import check_groups\n",
    "\n",
    "%matplotlib notebook\n",
    "config = ConfigParser(interpolation=ExtendedInterpolation())\n",
    "config.read('../../config.ini')"
   ]
  },
  {
   "cell_type": "code",
   "execution_count": 48,
   "metadata": {},
   "outputs": [],
   "source": [
    "def fit_sta_2d(data_raw):\n",
    "    (_, y_shape, x_shape) = data_raw.shape\n",
    "    (frame, y0, x0) = np.unravel_index(np.abs(data_raw).argmax(), data_raw.shape)\n",
    "    z0 = data_raw[frame, y0, x0]\n",
    "    data = data_raw[frame]\n",
    "\n",
    "    x = np.linspace(0, x_shape - 1, x_shape)\n",
    "    y = np.linspace(0, y_shape - 1, y_shape)\n",
    "    x, y = np.meshgrid(x, y)\n",
    "    # (xy, amp, x0, y0, sigma_x, sigma_y, theta, offset, revel=True):\n",
    "    initial_guess = (z0, x0, y0, 1, 1, 1.5, 0)\n",
    "    popt, pcov = opt.curve_fit(gaussian2d, (x.ravel(), y.ravel()), np.sign(z0)*data.ravel(), p0=initial_guess)\n",
    "    \n",
    "    return popt, pcov, frame\n",
    "\n",
    "\n",
    "def truncate_center(number, constrains):\n",
    "    \"\"\"Set a min and max value for a number.\n",
    "    \n",
    "    Parameters\n",
    "    ----------\n",
    "    number: float\n",
    "        any number to truncate\n",
    "    constrains: list\n",
    "        min and max value\n",
    "    \n",
    "    Return\n",
    "    ------\n",
    "    value: flaot\n",
    "    \n",
    "    \"\"\"\n",
    "    min_value, max_value = constrains\n",
    "    if number < min_value:\n",
    "        new_number = min_value \n",
    "    elif number > max_value:\n",
    "        new_number = max_value - 1\n",
    "    else:\n",
    "        new_number = number\n",
    "    \n",
    "    return new_number\n",
    "\n",
    "def sta_fitting_2d(file_name, intensity):\n",
    "    with h5py.File(file_name, 'r+') as h5file:\n",
    "        unit_names = list(h5file[f'/sta/{intensity}/raw/'].keys())\n",
    "        (frames, y_shape, x_shape) = h5file[f'/sta/{intensity}/raw/' + unit_names[0]].shape\n",
    "\n",
    "        x = np.linspace(0, x_shape - 1, x_shape)\n",
    "        y = np.linspace(0, y_shape - 1, y_shape)\n",
    "        xy = np.meshgrid(x,y)\n",
    "\n",
    "        rawsta_group = f'/sta/{intensity}/raw/'\n",
    "        temp_group = f'/sta/{intensity}/temporal/'\n",
    "        temp_raw_group = temp_group + 'raw/'\n",
    "        spacial_group = f'/sta/{intensity}/spatial/char/'\n",
    "\n",
    "\n",
    "        check_groups(h5file, [temp_raw_group, spacial_group])      \n",
    "\n",
    "        for kunit in unit_names:\n",
    "            raw_sta = h5file[f'/sta/{intensity}/raw/' + kunit][:]\n",
    "            popt, pcov, frame = fit_sta_2d(raw_sta)\n",
    "            (amp, x0, y0, sigma_x, sigma_y, theta, offset) = popt\n",
    "            theta = np.rad2deg(np.unwrap(np.array([0, theta]))[1])\n",
    "\n",
    "            data = raw_sta[frame]\n",
    "            y_0 = int(np.floor(truncate_center(y0, [0, y_shape])))\n",
    "            x_0 = int(np.floor(truncate_center(x0, [0, x_shape])))\n",
    "            raw_temp = raw_sta[:, y_0, x_0]        \n",
    "            snr = (raw_sta[:, y_0, x_0].var() / raw_sta.var(axis=0).mean())\n",
    "            spatial_params = (theta, sigma_x, sigma_y, x0, y0, snr , frame)\n",
    "\n",
    "            if kunit in h5file[temp_raw_group]:\n",
    "                h5file[temp_raw_group + kunit][...] = raw_temp\n",
    "            else:\n",
    "                h5file[temp_raw_group].create_dataset(kunit, data=raw_temp, dtype=np.float)\n",
    "\n",
    "            if kunit in h5file[spacial_group]:\n",
    "                h5file[spacial_group + kunit][...] = spatial_params\n",
    "            else:\n",
    "                h5file[spacial_group].create_dataset(kunit, data=spatial_params, dtype=np.float)            \n",
    "\n",
    "        h5file[temp_raw_group].attrs['time'] = h5file[rawsta_group].attrs['time']\n",
    "        h5file[temp_raw_group].attrs['nsamples_before'] = h5file[rawsta_group].attrs['nsamples_before']\n",
    "        h5file[temp_raw_group].attrs['nsamples_after'] = h5file[rawsta_group].attrs['nsamples_after']\n",
    "        h5file[temp_raw_group].attrs['fps'] = h5file[rawsta_group].attrs['fps']\n",
    "        h5file[temp_raw_group].attrs['nsamples'] = h5file[rawsta_group].attrs['nsamples']\n",
    "        h5file[spacial_group].attrs['col_name'] = 'angle,a,b,x,y,snr,frame'\n"
   ]
  },
  {
   "cell_type": "code",
   "execution_count": 44,
   "metadata": {},
   "outputs": [],
   "source": [
    "# Parameters\n",
    "events_file = config['SYNC']['events']\n",
    "processed_file = config['FILES']['processed']\n",
    "protocol_name = config['CHECKERBOARD']['protocol_name']\n",
    "\n",
    "df = pd.read_csv(events_file)\n",
    "checkerboard_times = df[df['protocol_name'] == protocol_name]"
   ]
  },
  {
   "cell_type": "code",
   "execution_count": 49,
   "metadata": {},
   "outputs": [
    {
     "name": "stdout",
     "output_type": "stream",
     "text": [
      "Computing fitting to nd3-255\n"
     ]
    },
    {
     "name": "stderr",
     "output_type": "stream",
     "text": [
      "/home/vnc/anaconda3/envs/spkdev/lib/python3.7/site-packages/scipy/optimize/minpack.py:795: OptimizeWarning: Covariance of the parameters could not be estimated\n",
      "  category=OptimizeWarning)\n"
     ]
    }
   ],
   "source": [
    "for event in checkerboard_times.itertuples():\n",
    "    # Sync\n",
    "    intensity = '{}-{}'.format(event.nd, int(event.intensity))\n",
    "    print('Computing fitting to {}'.format(intensity))\n",
    "    \n",
    "    sta_fitting_2d(processed_file, intensity)"
   ]
  }
 ],
 "metadata": {
  "kernelspec": {
   "display_name": "Python 3",
   "language": "python",
   "name": "python3"
  },
  "language_info": {
   "codemirror_mode": {
    "name": "ipython",
    "version": 3
   },
   "file_extension": ".py",
   "mimetype": "text/x-python",
   "name": "python",
   "nbconvert_exporter": "python",
   "pygments_lexer": "ipython3",
   "version": "3.7.4"
  },
  "toc": {
   "base_numbering": 1,
   "nav_menu": {},
   "number_sections": true,
   "sideBar": true,
   "skip_h1_title": false,
   "title_cell": "Table of Contents",
   "title_sidebar": "Contents",
   "toc_cell": false,
   "toc_position": {},
   "toc_section_display": true,
   "toc_window_display": false
  }
 },
 "nbformat": 4,
 "nbformat_minor": 2
}
