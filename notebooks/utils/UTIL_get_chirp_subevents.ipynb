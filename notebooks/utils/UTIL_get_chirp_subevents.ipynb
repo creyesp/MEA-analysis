{
 "cells": [
  {
   "cell_type": "code",
   "execution_count": 66,
   "metadata": {},
   "outputs": [],
   "source": [
    "from functools import reduce\n",
    "\n",
    "import pandas as pd\n",
    "import matplotlib.pyplot as plt\n",
    "import numpy as np\n",
    "\n",
    "SAMPLING_RATE = 20000.0\n",
    "%matplotlib notebook"
   ]
  },
  {
   "cell_type": "markdown",
   "metadata": {},
   "source": [
    "# Load sync data"
   ]
  },
  {
   "cell_type": "code",
   "execution_count": 76,
   "metadata": {},
   "outputs": [],
   "source": [
    "sync_path = '../data/sync/event_list_tiempos-MR-0297.csv'\n",
    "start_end_path = '../data/sync/start_end_frames_tiempos-MR-0297.txt'\n",
    "repeated_path = '../data/sync/repeated_frames_tiempos-MR-0297.txt'\n",
    "output_file = '../data/sync/sub_event_list_MR-0297_protocol_name.csv'\n",
    "\n",
    "sync = pd.read_csv(sync_path)\n",
    "start_end = np.loadtxt(start_end_path, dtype=int)\n",
    "start_frame, end_frame = start_end[:, 0], start_end[:, 1]\n",
    "repetead = np.loadtxt(repeated_path, dtype=int)\n"
   ]
  },
  {
   "cell_type": "markdown",
   "metadata": {},
   "source": [
    "# Get event list for a specific protocol\n",
    "Remember complete 'protocol_name' column in event_list_MR-XXX file to get a subset of event for a particular protocol."
   ]
  },
  {
   "cell_type": "code",
   "execution_count": 77,
   "metadata": {},
   "outputs": [
    {
     "data": {
      "text/html": [
       "<div>\n",
       "<style scoped>\n",
       "    .dataframe tbody tr th:only-of-type {\n",
       "        vertical-align: middle;\n",
       "    }\n",
       "\n",
       "    .dataframe tbody tr th {\n",
       "        vertical-align: top;\n",
       "    }\n",
       "\n",
       "    .dataframe thead th {\n",
       "        text-align: right;\n",
       "    }\n",
       "</style>\n",
       "<table border=\"1\" class=\"dataframe\">\n",
       "  <thead>\n",
       "    <tr style=\"text-align: right;\">\n",
       "      <th></th>\n",
       "      <th>n_frames</th>\n",
       "      <th>start_event</th>\n",
       "      <th>end_event</th>\n",
       "      <th>start_next_event</th>\n",
       "      <th>event_duration</th>\n",
       "      <th>event_duration_seg</th>\n",
       "      <th>inter_event_duration</th>\n",
       "      <th>inter_event_duration_seg</th>\n",
       "      <th>protocol_name</th>\n",
       "      <th>repetition_name</th>\n",
       "      <th>repeated_frames</th>\n",
       "      <th>#repeated_frames</th>\n",
       "    </tr>\n",
       "  </thead>\n",
       "  <tbody>\n",
       "    <tr>\n",
       "      <th>1</th>\n",
       "      <td>2100</td>\n",
       "      <td>12278225</td>\n",
       "      <td>12981118</td>\n",
       "      <td>13061114</td>\n",
       "      <td>702893</td>\n",
       "      <td>35.14465</td>\n",
       "      <td>79996</td>\n",
       "      <td>3.99980</td>\n",
       "      <td>chirp</td>\n",
       "      <td>rep_000</td>\n",
       "      <td>[]</td>\n",
       "      <td>0</td>\n",
       "    </tr>\n",
       "    <tr>\n",
       "      <th>2</th>\n",
       "      <td>2100</td>\n",
       "      <td>13061114</td>\n",
       "      <td>13764007</td>\n",
       "      <td>13844003</td>\n",
       "      <td>702893</td>\n",
       "      <td>35.14465</td>\n",
       "      <td>79996</td>\n",
       "      <td>3.99980</td>\n",
       "      <td>chirp</td>\n",
       "      <td>rep_001</td>\n",
       "      <td>[]</td>\n",
       "      <td>0</td>\n",
       "    </tr>\n",
       "    <tr>\n",
       "      <th>3</th>\n",
       "      <td>2100</td>\n",
       "      <td>13844003</td>\n",
       "      <td>14546896</td>\n",
       "      <td>14626892</td>\n",
       "      <td>702893</td>\n",
       "      <td>35.14465</td>\n",
       "      <td>79996</td>\n",
       "      <td>3.99980</td>\n",
       "      <td>chirp</td>\n",
       "      <td>rep_002</td>\n",
       "      <td>[]</td>\n",
       "      <td>0</td>\n",
       "    </tr>\n",
       "    <tr>\n",
       "      <th>4</th>\n",
       "      <td>2100</td>\n",
       "      <td>14626892</td>\n",
       "      <td>15329785</td>\n",
       "      <td>15409782</td>\n",
       "      <td>702893</td>\n",
       "      <td>35.14465</td>\n",
       "      <td>79997</td>\n",
       "      <td>3.99985</td>\n",
       "      <td>chirp</td>\n",
       "      <td>rep_003</td>\n",
       "      <td>[]</td>\n",
       "      <td>0</td>\n",
       "    </tr>\n",
       "    <tr>\n",
       "      <th>5</th>\n",
       "      <td>2100</td>\n",
       "      <td>15409782</td>\n",
       "      <td>16112674</td>\n",
       "      <td>16192671</td>\n",
       "      <td>702892</td>\n",
       "      <td>35.14460</td>\n",
       "      <td>79997</td>\n",
       "      <td>3.99985</td>\n",
       "      <td>chirp</td>\n",
       "      <td>rep_004</td>\n",
       "      <td>[]</td>\n",
       "      <td>0</td>\n",
       "    </tr>\n",
       "  </tbody>\n",
       "</table>\n",
       "</div>"
      ],
      "text/plain": [
       "   n_frames  start_event  end_event  start_next_event  event_duration  \\\n",
       "1      2100     12278225   12981118          13061114          702893   \n",
       "2      2100     13061114   13764007          13844003          702893   \n",
       "3      2100     13844003   14546896          14626892          702893   \n",
       "4      2100     14626892   15329785          15409782          702893   \n",
       "5      2100     15409782   16112674          16192671          702892   \n",
       "\n",
       "   event_duration_seg  inter_event_duration  inter_event_duration_seg  \\\n",
       "1            35.14465                 79996                   3.99980   \n",
       "2            35.14465                 79996                   3.99980   \n",
       "3            35.14465                 79996                   3.99980   \n",
       "4            35.14465                 79997                   3.99985   \n",
       "5            35.14460                 79997                   3.99985   \n",
       "\n",
       "  protocol_name repetition_name repeated_frames  #repeated_frames  \n",
       "1         chirp         rep_000              []                 0  \n",
       "2         chirp         rep_001              []                 0  \n",
       "3         chirp         rep_002              []                 0  \n",
       "4         chirp         rep_003              []                 0  \n",
       "5         chirp         rep_004              []                 0  "
      ]
     },
     "execution_count": 77,
     "metadata": {},
     "output_type": "execute_result"
    }
   ],
   "source": [
    "protocol_name = 'chirp'  # name of protocol in event_list file\n",
    "\n",
    "chirp_filter = sync['protocol_name'] == protocol_name\n",
    "chirp_times = sync[chirp_filter]\n",
    "chirp_times.head()\n"
   ]
  },
  {
   "cell_type": "markdown",
   "metadata": {},
   "source": [
    "## Set protocols time to split event in sub-events\n",
    "For example in a chirp protocol each trial is a set of different protocols together\n",
    "```\n",
    "on pulse >> off pulse >> adaptation time >> frquency modulation >> adaptation time >> amplitude modulation >> adaptation time\n",
    "```\n",
    "then you need to define the order, time and name of these protocols.\n"
   ]
  },
  {
   "cell_type": "code",
   "execution_count": 80,
   "metadata": {},
   "outputs": [],
   "source": [
    "fps = 60\n",
    "names = ['ON', 'OFF', 'adap_0', 'FREQ', 'adap_1', 'AMP', 'adap_2']\n",
    "times = [3, 3, 2, 15, 2, 8, 2]\n"
   ]
  },
  {
   "cell_type": "markdown",
   "metadata": {},
   "source": [
    "# Get sub-events"
   ]
  },
  {
   "cell_type": "code",
   "execution_count": 81,
   "metadata": {},
   "outputs": [],
   "source": [
    "start_trans = np.array([[0] + times[:-1]]).cumsum() * fps\n",
    "end_trans = np.array(times).cumsum() * fps - 1\n",
    "\n",
    "events_chirp = []\n",
    "for kidx, kchirp in enumerate(chirp_times.itertuples()):\n",
    "    rep_trans = np.zeros_like(times)\n",
    "    sub_set = np.where(\n",
    "            np.logical_and(\n",
    "                start_frame >= kchirp.start_event,\n",
    "                end_frame <= kchirp.end_event,)\n",
    "        )[0]\n",
    "    sub_start_frame = start_frame[sub_set]\n",
    "    sub_end_frame = end_frame[sub_set]\n",
    "    \n",
    "    for ktrans, (start, end) in enumerate(zip(start_trans, end_trans)):\n",
    "        rep_trans[ktrans] = np.logical_and(\n",
    "            repetead >= sub_start_frame[start + rep_trans[:ktrans].sum()],\n",
    "            repetead <= sub_end_frame[end + rep_trans[:ktrans].sum()]\n",
    "        ).sum()\n",
    "        \n",
    "    idx = np.where(start_frame == kchirp.start_event)[0][0]\n",
    "    start_event = start_frame[idx + start_trans + rep_trans]\n",
    "    end_event = end_frame[idx + end_trans + rep_trans]\n",
    "    df = pd.DataFrame(\n",
    "        {\n",
    "            'n_frames': end_trans - start_trans + rep_trans + 1,\n",
    "            'start_event': start_event,\n",
    "            'end_event': end_event,\n",
    "            'start_next_event': end_event,\n",
    "            'event_duration': end_event - start_event,\n",
    "            'event_duration_seg': (end_event - start_event) / SAMPLING_RATE,\n",
    "            'inter_event_duration': 0,\n",
    "            'inter_event_duration_seg': 0.0,\n",
    "            'protocol_name': protocol_name,\n",
    "            'extra_desciption': names,\n",
    "            'rep_name': kchirp.repetition_name,\n",
    "            'repetead_frames': '',\n",
    "            '#repetead_frames': rep_trans,\n",
    "        })\n",
    "    events_chirp.append(df)\n",
    "events = reduce(lambda x, y: pd.concat([x, y]), events_chirp)    "
   ]
  },
  {
   "cell_type": "markdown",
   "metadata": {},
   "source": [
    "# Save to csv"
   ]
  },
  {
   "cell_type": "code",
   "execution_count": 82,
   "metadata": {},
   "outputs": [],
   "source": [
    "events.to_csv(output_file, sep=';', index=False)"
   ]
  },
  {
   "cell_type": "code",
   "execution_count": null,
   "metadata": {},
   "outputs": [],
   "source": []
  }
 ],
 "metadata": {
  "hide_input": false,
  "kernelspec": {
   "display_name": "Python [conda env:spklib3]",
   "language": "python",
   "name": "conda-env-spklib3-py"
  },
  "language_info": {
   "codemirror_mode": {
    "name": "ipython",
    "version": 3
   },
   "file_extension": ".py",
   "mimetype": "text/x-python",
   "name": "python",
   "nbconvert_exporter": "python",
   "pygments_lexer": "ipython3",
   "version": "3.6.8"
  },
  "toc": {
   "base_numbering": 1,
   "nav_menu": {},
   "number_sections": true,
   "sideBar": true,
   "skip_h1_title": false,
   "title_cell": "Table of Contents",
   "title_sidebar": "Contents",
   "toc_cell": false,
   "toc_position": {},
   "toc_section_display": true,
   "toc_window_display": false
  },
  "varInspector": {
   "cols": {
    "lenName": 16,
    "lenType": 16,
    "lenVar": 40
   },
   "kernels_config": {
    "python": {
     "delete_cmd_postfix": "",
     "delete_cmd_prefix": "del ",
     "library": "var_list.py",
     "varRefreshCmd": "print(var_dic_list())"
    },
    "r": {
     "delete_cmd_postfix": ") ",
     "delete_cmd_prefix": "rm(",
     "library": "var_list.r",
     "varRefreshCmd": "cat(var_dic_list()) "
    }
   },
   "types_to_exclude": [
    "module",
    "function",
    "builtin_function_or_method",
    "instance",
    "_Feature"
   ],
   "window_display": false
  }
 },
 "nbformat": 4,
 "nbformat_minor": 2
}
