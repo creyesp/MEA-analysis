{
 "cells": [
  {
   "cell_type": "markdown",
   "metadata": {
    "slideshow": {
     "slide_type": "slide"
    }
   },
   "source": [
    "# Synchronization for MEA Recording\n",
    "\n",
    "This notebook takes a MCD file that include the analog signal to recovery the synchronization time of all stimuli. It's very important step to analyze with precision the response of the recording cells.\n",
    "\n",
    "This codes create files with synchronization time for each frame, repeated frame time and a csv file with all relevant information about the stimuli.\n",
    "\n",
    "CSV file has a list of events, a event is a sequence of together images. Each event has a field of start and end time, number of frames, total time of the event, repeated frames and time inter event."
   ]
  },
  {
   "cell_type": "code",
   "execution_count": 1,
   "metadata": {
    "nbpresent": {
     "id": "df34cfce-4fbb-462a-95b5-9ff4ec5739aa"
    },
    "slideshow": {
     "slide_type": "slide"
    }
   },
   "outputs": [
    {
     "data": {
      "text/plain": [
       "['../../config.ini']"
      ]
     },
     "execution_count": 1,
     "metadata": {},
     "output_type": "execute_result"
    }
   ],
   "source": [
    "from configparser import ConfigParser, ExtendedInterpolation\n",
    "\n",
    "import numpy as np\n",
    "import matplotlib.pyplot as plt\n",
    "import pandas as pd\n",
    "\n",
    "from spikelib.preprocessing import Sync\n",
    "from spikelib.utils import check_directory\n",
    "\n",
    "%matplotlib notebook \n",
    "config = ConfigParser(interpolation=ExtendedInterpolation())\n",
    "config.read('../../config.ini')"
   ]
  },
  {
   "cell_type": "code",
   "execution_count": 2,
   "metadata": {
    "nbpresent": {
     "id": "df34cfce-4fbb-462a-95b5-9ff4ec5739aa"
    },
    "slideshow": {
     "slide_type": "subslide"
    }
   },
   "outputs": [
    {
     "data": {
      "text/plain": [
       "'/home/vnc/Downloads/MR-0065/data/sync/MR-0065/'"
      ]
     },
     "execution_count": 2,
     "metadata": {},
     "output_type": "execute_result"
    }
   ],
   "source": [
    "experiment_name = config['EXP']['name']\n",
    "mcd_file = config['FILES']['raw']\n",
    "output_folder = config['SYNC']['folder']\n",
    "output_folder"
   ]
  },
  {
   "cell_type": "markdown",
   "metadata": {
    "nbpresent": {
     "id": "1cc42797-c7b7-49aa-b339-b598547619c2"
    },
    "slideshow": {
     "slide_type": "slide"
    }
   },
   "source": [
    "## Get synchronization signal\n",
    "To analyze synchronization signal we use a specific class in **mealib.preprocessing** called Sync. With this we can real MCD file and processing all information or use analyzed info previously.\n",
    "\n",
    "input:   \n",
    "* **mcd_file**: name of MCD file\n",
    "* **mcd_channel**: number of analog channel in MCD file\n",
    "* **real_fps**: the real number of frame per second on screen (look at log file)\n",
    "\n",
    "output: 3 attributes of the class   \n",
    "* **start_end_frame**: synchronization time for each frame\n",
    "* **repeated_frame**: repeated frame time\n",
    "* **total_duration**: total duration of MCD record\n",
    "\n",
    "Note:\n",
    "Analog signal only register the start of frame, so the end time in a sequence of images is extrapolate to have the correct time in the output file.\n",
    "\n",
    "[example](https://tinyurl.com/ydxlvds9)\n",
    "\n",
    "For more information look at [here](https://github.com/creyesp/SamplingInterface)\n"
   ]
  },
  {
   "cell_type": "code",
   "execution_count": 3,
   "metadata": {},
   "outputs": [
    {
     "name": "stdout",
     "output_type": "stream",
     "text": [
      "Entities in MCD file.\n",
      "index:  \t label:  \t entity_type: \n",
      "0000: anlg0001 0126 0000       A1 type: 2\n",
      "0001: anlg0001 0127 0001       A2 type: 2\n"
     ]
    }
   ],
   "source": [
    "real_fps = 59.7233\n",
    "\n",
    "sync_data = Sync(experiment_name, real_fps)\n",
    "sync_data.read_mcd(mcd_file)\n",
    "#Show electrodes in MCD file\n",
    "sync_data.show_entities()"
   ]
  },
  {
   "cell_type": "markdown",
   "metadata": {},
   "source": [
    "Choose analog channel from index entites"
   ]
  },
  {
   "cell_type": "code",
   "execution_count": 4,
   "metadata": {},
   "outputs": [],
   "source": [
    "mcd_channel = 0\n",
    "sync_data.analyzer(mcd_channel)"
   ]
  },
  {
   "cell_type": "markdown",
   "metadata": {
    "nbpresent": {
     "id": "5e907554-3b25-498b-b4cd-68af1fd0946c"
    },
    "slideshow": {
     "slide_type": "slide"
    }
   },
   "source": [
    "# Event list\n",
    "## Create event list\n",
    "From start_end_frame attribute created above we can compute the difference between all frames and get only frames with a difference more than one frame to create a event.\n",
    "\n",
    "\n",
    "<img src=\"https://raw.githubusercontent.com/creyesp/SamplingInterface/master/Doc/img/img%20examples/analog_signal_sequence_img.png\" alt=\"Events\" width=\"600px\"/>"
   ]
  },
  {
   "cell_type": "code",
   "execution_count": 5,
   "metadata": {
    "nbpresent": {
     "id": "4f617082-09ec-495f-951e-40fc7fb9c737"
    },
    "slideshow": {
     "slide_type": "subslide"
    }
   },
   "outputs": [
    {
     "data": {
      "text/html": [
       "<div>\n",
       "<style scoped>\n",
       "    .dataframe tbody tr th:only-of-type {\n",
       "        vertical-align: middle;\n",
       "    }\n",
       "\n",
       "    .dataframe tbody tr th {\n",
       "        vertical-align: top;\n",
       "    }\n",
       "\n",
       "    .dataframe thead th {\n",
       "        text-align: right;\n",
       "    }\n",
       "</style>\n",
       "<table border=\"1\" class=\"dataframe\">\n",
       "  <thead>\n",
       "    <tr style=\"text-align: right;\">\n",
       "      <th></th>\n",
       "      <th>n_frames</th>\n",
       "      <th>start_event</th>\n",
       "      <th>end_event</th>\n",
       "      <th>start_next_event</th>\n",
       "      <th>event_duration</th>\n",
       "      <th>event_duration_seg</th>\n",
       "      <th>inter_event_duration</th>\n",
       "      <th>inter_event_duration_seg</th>\n",
       "      <th>protocol_name</th>\n",
       "      <th>nd</th>\n",
       "      <th>intensity</th>\n",
       "      <th>extra_desciption</th>\n",
       "      <th>repetition_name</th>\n",
       "    </tr>\n",
       "  </thead>\n",
       "  <tbody>\n",
       "    <tr>\n",
       "      <td>0</td>\n",
       "      <td>0</td>\n",
       "      <td>0</td>\n",
       "      <td>12544087</td>\n",
       "      <td>12544087</td>\n",
       "      <td>12544087</td>\n",
       "      <td>627.20435</td>\n",
       "      <td>0</td>\n",
       "      <td>0.00000</td>\n",
       "      <td></td>\n",
       "      <td></td>\n",
       "      <td></td>\n",
       "      <td></td>\n",
       "      <td></td>\n",
       "    </tr>\n",
       "    <tr>\n",
       "      <td>1</td>\n",
       "      <td>108001</td>\n",
       "      <td>12544087</td>\n",
       "      <td>48664716</td>\n",
       "      <td>48728951</td>\n",
       "      <td>36120629</td>\n",
       "      <td>1806.03145</td>\n",
       "      <td>64235</td>\n",
       "      <td>3.21175</td>\n",
       "      <td></td>\n",
       "      <td></td>\n",
       "      <td></td>\n",
       "      <td></td>\n",
       "      <td></td>\n",
       "    </tr>\n",
       "    <tr>\n",
       "      <td>2</td>\n",
       "      <td>809</td>\n",
       "      <td>48728951</td>\n",
       "      <td>48840328</td>\n",
       "      <td>48898938</td>\n",
       "      <td>111377</td>\n",
       "      <td>5.56885</td>\n",
       "      <td>58610</td>\n",
       "      <td>2.93050</td>\n",
       "      <td></td>\n",
       "      <td></td>\n",
       "      <td></td>\n",
       "      <td></td>\n",
       "      <td></td>\n",
       "    </tr>\n",
       "    <tr>\n",
       "      <td>3</td>\n",
       "      <td>1950</td>\n",
       "      <td>48898938</td>\n",
       "      <td>49551110</td>\n",
       "      <td>49571177</td>\n",
       "      <td>652172</td>\n",
       "      <td>32.60860</td>\n",
       "      <td>20067</td>\n",
       "      <td>1.00335</td>\n",
       "      <td></td>\n",
       "      <td></td>\n",
       "      <td></td>\n",
       "      <td></td>\n",
       "      <td></td>\n",
       "    </tr>\n",
       "    <tr>\n",
       "      <td>4</td>\n",
       "      <td>1950</td>\n",
       "      <td>49571177</td>\n",
       "      <td>50223348</td>\n",
       "      <td>50243416</td>\n",
       "      <td>652171</td>\n",
       "      <td>32.60855</td>\n",
       "      <td>20068</td>\n",
       "      <td>1.00340</td>\n",
       "      <td></td>\n",
       "      <td></td>\n",
       "      <td></td>\n",
       "      <td></td>\n",
       "      <td></td>\n",
       "    </tr>\n",
       "  </tbody>\n",
       "</table>\n",
       "</div>"
      ],
      "text/plain": [
       "   n_frames  start_event  end_event  start_next_event  event_duration  \\\n",
       "0         0            0   12544087          12544087        12544087   \n",
       "1    108001     12544087   48664716          48728951        36120629   \n",
       "2       809     48728951   48840328          48898938          111377   \n",
       "3      1950     48898938   49551110          49571177          652172   \n",
       "4      1950     49571177   50223348          50243416          652171   \n",
       "\n",
       "   event_duration_seg  inter_event_duration  inter_event_duration_seg  \\\n",
       "0           627.20435                     0                   0.00000   \n",
       "1          1806.03145                 64235                   3.21175   \n",
       "2             5.56885                 58610                   2.93050   \n",
       "3            32.60860                 20067                   1.00335   \n",
       "4            32.60855                 20068                   1.00340   \n",
       "\n",
       "  protocol_name nd intensity extra_desciption repetition_name  \n",
       "0                                                              \n",
       "1                                                              \n",
       "2                                                              \n",
       "3                                                              \n",
       "4                                                              "
      ]
     },
     "execution_count": 5,
     "metadata": {},
     "output_type": "execute_result"
    }
   ],
   "source": [
    "sync_data.create_events()\n",
    "sync_data.event_list.head()"
   ]
  },
  {
   "cell_type": "markdown",
   "metadata": {
    "nbpresent": {
     "id": "41bda88d-1e91-418a-b06d-01ea4a668f94"
    },
    "slideshow": {
     "slide_type": "fragment"
    }
   },
   "source": [
    "## Add repeated frame in the event lists\n",
    "Some time the screen repeat one frame because the time to prepare the next frame wasn't reached and the screen show again the last frame. It should be critic in some case because the synchronization is lost in this case. If you know exactly the repeated frame you can correct the stimulus or discard this event.\n",
    "\n",
    "<img src=\"https://raw.githubusercontent.com/creyesp/SamplingInterface/master/Doc/img/img%20examples/repeated_frame.png\" alt=\"drawing\" width=\"400px\"/>"
   ]
  },
  {
   "cell_type": "code",
   "execution_count": 6,
   "metadata": {
    "nbpresent": {
     "id": "cd2c6f13-558b-48b9-b1ca-62ee584178f3"
    },
    "slideshow": {
     "slide_type": "fragment"
    }
   },
   "outputs": [
    {
     "data": {
      "text/html": [
       "<div>\n",
       "<style scoped>\n",
       "    .dataframe tbody tr th:only-of-type {\n",
       "        vertical-align: middle;\n",
       "    }\n",
       "\n",
       "    .dataframe tbody tr th {\n",
       "        vertical-align: top;\n",
       "    }\n",
       "\n",
       "    .dataframe thead th {\n",
       "        text-align: right;\n",
       "    }\n",
       "</style>\n",
       "<table border=\"1\" class=\"dataframe\">\n",
       "  <thead>\n",
       "    <tr style=\"text-align: right;\">\n",
       "      <th></th>\n",
       "      <th>n_frames</th>\n",
       "      <th>start_event</th>\n",
       "      <th>end_event</th>\n",
       "      <th>start_next_event</th>\n",
       "      <th>event_duration</th>\n",
       "      <th>event_duration_seg</th>\n",
       "      <th>inter_event_duration</th>\n",
       "      <th>inter_event_duration_seg</th>\n",
       "      <th>protocol_name</th>\n",
       "      <th>nd</th>\n",
       "      <th>intensity</th>\n",
       "      <th>extra_desciption</th>\n",
       "      <th>repetition_name</th>\n",
       "      <th>repeated_frames</th>\n",
       "      <th>#repeated_frames</th>\n",
       "    </tr>\n",
       "  </thead>\n",
       "  <tbody>\n",
       "    <tr>\n",
       "      <td>0</td>\n",
       "      <td>0</td>\n",
       "      <td>0</td>\n",
       "      <td>12544087</td>\n",
       "      <td>12544087</td>\n",
       "      <td>12544087</td>\n",
       "      <td>627.20435</td>\n",
       "      <td>0</td>\n",
       "      <td>0.00000</td>\n",
       "      <td></td>\n",
       "      <td></td>\n",
       "      <td></td>\n",
       "      <td></td>\n",
       "      <td></td>\n",
       "      <td>[]</td>\n",
       "      <td>0</td>\n",
       "    </tr>\n",
       "    <tr>\n",
       "      <td>1</td>\n",
       "      <td>108001</td>\n",
       "      <td>12544087</td>\n",
       "      <td>48664716</td>\n",
       "      <td>48728951</td>\n",
       "      <td>36120629</td>\n",
       "      <td>1806.03145</td>\n",
       "      <td>64235</td>\n",
       "      <td>3.21175</td>\n",
       "      <td></td>\n",
       "      <td></td>\n",
       "      <td></td>\n",
       "      <td></td>\n",
       "      <td></td>\n",
       "      <td>[13000608]</td>\n",
       "      <td>1</td>\n",
       "    </tr>\n",
       "    <tr>\n",
       "      <td>2</td>\n",
       "      <td>809</td>\n",
       "      <td>48728951</td>\n",
       "      <td>48840328</td>\n",
       "      <td>48898938</td>\n",
       "      <td>111377</td>\n",
       "      <td>5.56885</td>\n",
       "      <td>58610</td>\n",
       "      <td>2.93050</td>\n",
       "      <td></td>\n",
       "      <td></td>\n",
       "      <td></td>\n",
       "      <td></td>\n",
       "      <td></td>\n",
       "      <td>[48728951 48728966 48729285 48730289 48730296 ...</td>\n",
       "      <td>387</td>\n",
       "    </tr>\n",
       "    <tr>\n",
       "      <td>3</td>\n",
       "      <td>1950</td>\n",
       "      <td>48898938</td>\n",
       "      <td>49551110</td>\n",
       "      <td>49571177</td>\n",
       "      <td>652172</td>\n",
       "      <td>32.60860</td>\n",
       "      <td>20067</td>\n",
       "      <td>1.00335</td>\n",
       "      <td></td>\n",
       "      <td></td>\n",
       "      <td></td>\n",
       "      <td></td>\n",
       "      <td></td>\n",
       "      <td>[]</td>\n",
       "      <td>0</td>\n",
       "    </tr>\n",
       "    <tr>\n",
       "      <td>4</td>\n",
       "      <td>1950</td>\n",
       "      <td>49571177</td>\n",
       "      <td>50223348</td>\n",
       "      <td>50243416</td>\n",
       "      <td>652171</td>\n",
       "      <td>32.60855</td>\n",
       "      <td>20068</td>\n",
       "      <td>1.00340</td>\n",
       "      <td></td>\n",
       "      <td></td>\n",
       "      <td></td>\n",
       "      <td></td>\n",
       "      <td></td>\n",
       "      <td>[]</td>\n",
       "      <td>0</td>\n",
       "    </tr>\n",
       "  </tbody>\n",
       "</table>\n",
       "</div>"
      ],
      "text/plain": [
       "   n_frames  start_event  end_event  start_next_event  event_duration  \\\n",
       "0         0            0   12544087          12544087        12544087   \n",
       "1    108001     12544087   48664716          48728951        36120629   \n",
       "2       809     48728951   48840328          48898938          111377   \n",
       "3      1950     48898938   49551110          49571177          652172   \n",
       "4      1950     49571177   50223348          50243416          652171   \n",
       "\n",
       "   event_duration_seg  inter_event_duration  inter_event_duration_seg  \\\n",
       "0           627.20435                     0                   0.00000   \n",
       "1          1806.03145                 64235                   3.21175   \n",
       "2             5.56885                 58610                   2.93050   \n",
       "3            32.60860                 20067                   1.00335   \n",
       "4            32.60855                 20068                   1.00340   \n",
       "\n",
       "  protocol_name nd intensity extra_desciption repetition_name  \\\n",
       "0                                                               \n",
       "1                                                               \n",
       "2                                                               \n",
       "3                                                               \n",
       "4                                                               \n",
       "\n",
       "                                     repeated_frames  #repeated_frames  \n",
       "0                                                 []                 0  \n",
       "1                                         [13000608]                 1  \n",
       "2  [48728951 48728966 48729285 48730289 48730296 ...               387  \n",
       "3                                                 []                 0  \n",
       "4                                                 []                 0  "
      ]
     },
     "execution_count": 6,
     "metadata": {},
     "output_type": "execute_result"
    }
   ],
   "source": [
    "sync_data.add_repeated()\n",
    "sync_data.event_list.head()"
   ]
  },
  {
   "cell_type": "markdown",
   "metadata": {
    "nbpresent": {
     "id": "388da3c6-1946-4911-b343-1e90f7146663"
    }
   },
   "source": [
    "**Note:** The times in event_duration have small differences with the theoretic times, it's because the theatrical FPS of the projector is different to the real FPS.   \n",
    "\n",
    "For example, projector show theoretically 60 FPS but the real FPS is 59.7523. Please check it in the log file. \n",
    "* 2100 images to 60 [fps] = 35 [s]\n",
    "* 2100 images to 59.7523 [fps] = 35.145 [s]\n",
    "The differences could be significant!"
   ]
  },
  {
   "cell_type": "markdown",
   "metadata": {},
   "source": [
    "## Check repeated\n",
    "There is a method to show analog signal in a specific window of time, we can use it to check repeated frame using the above information."
   ]
  },
  {
   "cell_type": "code",
   "execution_count": 7,
   "metadata": {},
   "outputs": [
    {
     "data": {
      "image/png": "[encoded data removed]",
      "text/plain": [
       "<Figure size 432x288 with 1 Axes>"
      ]
     },
     "metadata": {
      "needs_background": "light"
     },
     "output_type": "display_data"
    }
   ],
   "source": [
    "start_point = 48210517-4000\n",
    "window = 4000\n",
    "sync_data.plot_window(mcd_channel, start_point, window)"
   ]
  },
  {
   "cell_type": "markdown",
   "metadata": {
    "nbpresent": {
     "id": "905c51ce-b7fc-42a2-815e-67f73a5fcce4"
    }
   },
   "source": [
    "## Save sync to file"
   ]
  },
  {
   "cell_type": "code",
   "execution_count": 8,
   "metadata": {
    "nbpresent": {
     "id": "ba993558-2913-411f-9703-a6263efe7453"
    }
   },
   "outputs": [],
   "source": [
    "check_directory(output_folder)\n",
    "\n",
    "sync_data.save_analyzed(output_folder)\n",
    "sync_data.save_events(output_folder)"
   ]
  },
  {
   "cell_type": "code",
   "execution_count": 10,
   "metadata": {},
   "outputs": [],
   "source": [
    "sync_data.close_file()"
   ]
  }
 ],
 "metadata": {
  "hide_input": false,
  "kernel_info": {
   "name": "python3"
  },
  "kernelspec": {
   "display_name": "Python 3",
   "language": "python",
   "name": "python3"
  },
  "language_info": {
   "codemirror_mode": {
    "name": "ipython",
    "version": 3
   },
   "file_extension": ".py",
   "mimetype": "text/x-python",
   "name": "python",
   "nbconvert_exporter": "python",
   "pygments_lexer": "ipython3",
   "version": "3.7.4"
  },
  "nbpresent": {
   "slides": {
    "1141a327-2300-4de4-9baf-8970b1afed98": {
     "id": "1141a327-2300-4de4-9baf-8970b1afed98",
     "prev": "b71e4610-2f36-4dd1-86df-7f010908c437",
     "regions": {
      "4e522dd4-f269-4bbd-9a6d-a609ba8ec423": {
       "attrs": {
        "height": 0.8,
        "width": 0.8,
        "x": 0.1,
        "y": 0.1
       },
       "content": {
        "cell": "10293e9d-a8bc-4ed8-a900-767a4a1fa0d3",
        "part": "whole"
       },
       "id": "4e522dd4-f269-4bbd-9a6d-a609ba8ec423"
      }
     }
    },
    "1fffe9fb-914f-4510-ab88-db8ff331bfea": {
     "id": "1fffe9fb-914f-4510-ab88-db8ff331bfea",
     "prev": "b5944355-ed1a-438f-b3e4-a04b5d5c4c6f",
     "regions": {
      "8228da2c-522e-438b-a3b2-147b5294e7eb": {
       "attrs": {
        "height": 0.8,
        "width": 0.8,
        "x": 0.1,
        "y": 0.1
       },
       "content": {
        "cell": "ac521222-93ea-4a8e-8d4a-c3112ea2feb3",
        "part": "whole"
       },
       "id": "8228da2c-522e-438b-a3b2-147b5294e7eb"
      }
     }
    },
    "29ee7641-e306-4246-b16f-3ae6361d9dd6": {
     "id": "29ee7641-e306-4246-b16f-3ae6361d9dd6",
     "prev": "e551858e-8222-4359-bf85-d30423b7987e",
     "regions": {
      "48f91d29-27a9-4043-a2c6-45ce1379877b": {
       "attrs": {
        "height": 0.8,
        "width": 0.8,
        "x": 0.1,
        "y": 0.1
       },
       "content": {
        "cell": "5584ee43-56ff-4c51-9b5d-ac885f2db2dc",
        "part": "whole"
       },
       "id": "48f91d29-27a9-4043-a2c6-45ce1379877b"
      }
     }
    },
    "40242b1e-16a0-4f8e-95f6-e2112a16f2e4": {
     "id": "40242b1e-16a0-4f8e-95f6-e2112a16f2e4",
     "prev": null,
     "regions": {}
    },
    "567052ca-c7b1-46c6-a8b0-41ee5cae0a9c": {
     "id": "567052ca-c7b1-46c6-a8b0-41ee5cae0a9c",
     "prev": "1fffe9fb-914f-4510-ab88-db8ff331bfea",
     "regions": {
      "2aa0e521-86e3-4229-91d7-ede3c759ce30": {
       "attrs": {
        "height": 0.8,
        "width": 0.8,
        "x": 0.1,
        "y": 0.1
       },
       "content": null,
       "id": "2aa0e521-86e3-4229-91d7-ede3c759ce30"
      }
     }
    },
    "705cd611-7e1e-4f4a-b276-919c315e8c66": {
     "id": "705cd611-7e1e-4f4a-b276-919c315e8c66",
     "prev": "aa4c76d4-b69a-4d13-bdab-6227028bbf9b",
     "regions": {
      "4a75d6c4-4d47-49b8-8b43-7da216ed82a2": {
       "attrs": {
        "height": 0.8,
        "width": 0.8,
        "x": 0.1,
        "y": 0.1
       },
       "content": {
        "cell": "e5ba239a-4260-412c-84c7-f021d8607ac0",
        "part": "whole"
       },
       "id": "4a75d6c4-4d47-49b8-8b43-7da216ed82a2"
      }
     }
    },
    "a6cb9c5f-6aee-4a6e-955b-f386abc5629b": {
     "id": "a6cb9c5f-6aee-4a6e-955b-f386abc5629b",
     "prev": "baa1a5e5-8314-44dd-9cfa-5f843ced5ee9",
     "regions": {
      "1747036e-7dea-4dfe-aff6-d77022dba13c": {
       "attrs": {
        "height": 0.8,
        "width": 0.8,
        "x": 0.1,
        "y": 0.1
       },
       "content": {
        "cell": "cd2c6f13-558b-48b9-b1ca-62ee584178f3",
        "part": "whole"
       },
       "id": "1747036e-7dea-4dfe-aff6-d77022dba13c"
      }
     }
    },
    "aa4c76d4-b69a-4d13-bdab-6227028bbf9b": {
     "id": "aa4c76d4-b69a-4d13-bdab-6227028bbf9b",
     "prev": "b81e2039-4afe-44f7-b70b-e47eba34e510",
     "regions": {
      "88d7ef01-01b8-486f-b589-bc4b10ac06f9": {
       "attrs": {
        "height": 0.8,
        "width": 0.8,
        "x": 0.1,
        "y": 0.1
       },
       "content": {
        "cell": "388da3c6-1946-4911-b343-1e90f7146663",
        "part": "whole"
       },
       "id": "88d7ef01-01b8-486f-b589-bc4b10ac06f9"
      }
     }
    },
    "b5944355-ed1a-438f-b3e4-a04b5d5c4c6f": {
     "id": "b5944355-ed1a-438f-b3e4-a04b5d5c4c6f",
     "prev": "40242b1e-16a0-4f8e-95f6-e2112a16f2e4",
     "regions": {
      "127eec25-6152-4f53-8895-274161b965e4": {
       "attrs": {
        "height": 0.8,
        "width": 0.8,
        "x": 0.1,
        "y": 0.1
       },
       "content": {
        "cell": "1cc42797-c7b7-49aa-b339-b598547619c2",
        "part": "whole"
       },
       "id": "127eec25-6152-4f53-8895-274161b965e4"
      }
     }
    },
    "b71e4610-2f36-4dd1-86df-7f010908c437": {
     "id": "b71e4610-2f36-4dd1-86df-7f010908c437",
     "prev": "ca680496-49f9-4d28-a612-53c9ee5d9a82",
     "regions": {
      "960d7449-3647-400c-a606-f1c380a6a814": {
       "attrs": {
        "height": 0.8,
        "width": 0.8,
        "x": 0.1,
        "y": 0.1
       },
       "content": {
        "cell": "929b0d74-f4b8-4227-a9b4-29daa2adc4d1",
        "part": "whole"
       },
       "id": "960d7449-3647-400c-a606-f1c380a6a814"
      }
     }
    },
    "b81e2039-4afe-44f7-b70b-e47eba34e510": {
     "id": "b81e2039-4afe-44f7-b70b-e47eba34e510",
     "prev": "e1ea1c1d-e69a-4a66-89b1-c636c6e55ab3",
     "regions": {
      "273de47b-7a2e-440f-94af-8c40a734ec26": {
       "attrs": {
        "height": 0.8,
        "width": 0.8,
        "x": 0.1,
        "y": 0.1
       },
       "content": {
        "cell": "ba993558-2913-411f-9703-a6263efe7453",
        "part": "whole"
       },
       "id": "273de47b-7a2e-440f-94af-8c40a734ec26"
      }
     }
    },
    "baa1a5e5-8314-44dd-9cfa-5f843ced5ee9": {
     "id": "baa1a5e5-8314-44dd-9cfa-5f843ced5ee9",
     "prev": "f98728cd-4ce4-4ac8-9dbd-5d36a694eb9c",
     "regions": {
      "65909c35-33dc-4e98-85b1-a9b7220cb455": {
       "attrs": {
        "height": 0.8,
        "width": 0.8,
        "x": 0.1,
        "y": 0.1
       },
       "content": {
        "cell": "41bda88d-1e91-418a-b06d-01ea4a668f94",
        "part": "whole"
       },
       "id": "65909c35-33dc-4e98-85b1-a9b7220cb455"
      }
     }
    },
    "bdbdcec2-117a-44e3-a1c0-2b177bac3ea2": {
     "id": "bdbdcec2-117a-44e3-a1c0-2b177bac3ea2",
     "prev": "705cd611-7e1e-4f4a-b276-919c315e8c66",
     "regions": {
      "98e28b1c-4628-4b37-8618-04016f9ab6d9": {
       "attrs": {
        "height": 0.8,
        "width": 0.8,
        "x": 0.1,
        "y": 0.1
       },
       "content": {
        "cell": "db739b01-c18b-4e98-a437-d562b7392b66",
        "part": "whole"
       },
       "id": "98e28b1c-4628-4b37-8618-04016f9ab6d9"
      }
     }
    },
    "bf894d2d-ea40-455b-99bb-2e1b3428f43d": {
     "id": "bf894d2d-ea40-455b-99bb-2e1b3428f43d",
     "prev": "567052ca-c7b1-46c6-a8b0-41ee5cae0a9c",
     "regions": {
      "a4f02053-bca2-4fe4-b990-24d1faa168ef": {
       "attrs": {
        "height": 0.8,
        "width": 0.8,
        "x": 0.1,
        "y": 0.1
       },
       "content": {
        "cell": "5e907554-3b25-498b-b4cd-68af1fd0946c",
        "part": "whole"
       },
       "id": "a4f02053-bca2-4fe4-b990-24d1faa168ef"
      }
     }
    },
    "ca680496-49f9-4d28-a612-53c9ee5d9a82": {
     "id": "ca680496-49f9-4d28-a612-53c9ee5d9a82",
     "prev": "db62692a-8a48-4687-8fb2-456b078ddb42",
     "regions": {
      "cfea3221-62c3-4795-a8d4-14e2f1d20cf9": {
       "attrs": {
        "height": 0.8,
        "width": 0.8,
        "x": 0.1,
        "y": 0.1
       },
       "content": {
        "cell": "7f015a80-04dc-4543-804c-f92caf9f9d25",
        "part": "whole"
       },
       "id": "cfea3221-62c3-4795-a8d4-14e2f1d20cf9"
      }
     }
    },
    "db62692a-8a48-4687-8fb2-456b078ddb42": {
     "id": "db62692a-8a48-4687-8fb2-456b078ddb42",
     "prev": "29ee7641-e306-4246-b16f-3ae6361d9dd6",
     "regions": {
      "e32217be-2bfd-4e16-a506-78a748ad182c": {
       "attrs": {
        "height": 0.8,
        "width": 0.8,
        "x": 0.1,
        "y": 0.1
       },
       "content": {
        "cell": "bc05d0c1-aa6e-4150-b114-c139a2345e69",
        "part": "whole"
       },
       "id": "e32217be-2bfd-4e16-a506-78a748ad182c"
      }
     }
    },
    "e1ea1c1d-e69a-4a66-89b1-c636c6e55ab3": {
     "id": "e1ea1c1d-e69a-4a66-89b1-c636c6e55ab3",
     "prev": "e8fe0cd1-9c38-4977-85e8-0bfce535ddbe",
     "regions": {
      "65246fa1-470d-4d38-b799-53267130a848": {
       "attrs": {
        "height": 0.8,
        "width": 0.8,
        "x": 0.1,
        "y": 0.1
       },
       "content": {
        "cell": "905c51ce-b7fc-42a2-815e-67f73a5fcce4",
        "part": "whole"
       },
       "id": "65246fa1-470d-4d38-b799-53267130a848"
      }
     }
    },
    "e551858e-8222-4359-bf85-d30423b7987e": {
     "id": "e551858e-8222-4359-bf85-d30423b7987e",
     "prev": "bdbdcec2-117a-44e3-a1c0-2b177bac3ea2",
     "regions": {
      "cf26bc08-ccbc-4e35-bda1-2e3c5191dda5": {
       "attrs": {
        "height": 0.8,
        "width": 0.8,
        "x": 0.1,
        "y": 0.1
       },
       "content": {
        "cell": "bcca384f-c40f-49c8-88e0-20827d897605",
        "part": "whole"
       },
       "id": "cf26bc08-ccbc-4e35-bda1-2e3c5191dda5"
      }
     }
    },
    "e8fe0cd1-9c38-4977-85e8-0bfce535ddbe": {
     "id": "e8fe0cd1-9c38-4977-85e8-0bfce535ddbe",
     "prev": "a6cb9c5f-6aee-4a6e-955b-f386abc5629b",
     "regions": {
      "2b1b3394-02dd-4ff0-8af2-7af755580ec0": {
       "attrs": {
        "height": 0.8,
        "width": 0.8,
        "x": 0.1,
        "y": 0.1
       },
       "content": {
        "cell": "f7591ae6-bb74-42f6-9ccc-0c050f4716fc",
        "part": "whole"
       },
       "id": "2b1b3394-02dd-4ff0-8af2-7af755580ec0"
      }
     }
    },
    "f98728cd-4ce4-4ac8-9dbd-5d36a694eb9c": {
     "id": "f98728cd-4ce4-4ac8-9dbd-5d36a694eb9c",
     "prev": "bf894d2d-ea40-455b-99bb-2e1b3428f43d",
     "regions": {
      "1fa88d51-c72e-4b7f-8af9-c6d934e9870f": {
       "attrs": {
        "height": 0.8,
        "width": 0.8,
        "x": 0.1,
        "y": 0.1
       },
       "content": {
        "cell": "4f617082-09ec-495f-951e-40fc7fb9c737",
        "part": "whole"
       },
       "id": "1fa88d51-c72e-4b7f-8af9-c6d934e9870f"
      }
     }
    }
   },
   "themes": {}
  },
  "notify_time": "5",
  "nteract": {
   "version": "0.9.1"
  },
  "toc": {
   "base_numbering": 1,
   "nav_menu": {},
   "number_sections": true,
   "sideBar": true,
   "skip_h1_title": false,
   "title_cell": "Table of Contents",
   "title_sidebar": "Contents",
   "toc_cell": false,
   "toc_position": {
    "height": "calc(100% - 180px)",
    "left": "10px",
    "top": "150px",
    "width": "338px"
   },
   "toc_section_display": true,
   "toc_window_display": false
  },
  "varInspector": {
   "cols": {
    "lenName": 16,
    "lenType": 16,
    "lenVar": 40
   },
   "kernels_config": {
    "python": {
     "delete_cmd_postfix": "",
     "delete_cmd_prefix": "del ",
     "library": "var_list.py",
     "varRefreshCmd": "print(var_dic_list())"
    },
    "r": {
     "delete_cmd_postfix": ") ",
     "delete_cmd_prefix": "rm(",
     "library": "var_list.r",
     "varRefreshCmd": "cat(var_dic_list()) "
    }
   },
   "position": {
    "height": "430px",
    "left": "1265.25px",
    "right": "8px",
    "top": "123px",
    "width": "418px"
   },
   "types_to_exclude": [
    "module",
    "function",
    "builtin_function_or_method",
    "instance",
    "_Feature"
   ],
   "window_display": false
  }
 },
 "nbformat": 4,
 "nbformat_minor": 2
}
